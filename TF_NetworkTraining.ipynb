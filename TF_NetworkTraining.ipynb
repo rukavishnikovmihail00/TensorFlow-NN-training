{
  "nbformat": 4,
  "nbformat_minor": 0,
  "metadata": {
    "colab": {
      "name": "TF_NetworkTraining.ipynb",
      "provenance": [],
      "collapsed_sections": []
    },
    "kernelspec": {
      "name": "python3",
      "display_name": "Python 3"
    },
    "accelerator": "TPU"
  },
  "cells": [
    {
      "cell_type": "code",
      "metadata": {
        "id": "3jjkZ71XnRqD",
        "outputId": "25afb435-c41a-4cdc-843d-3af496e07688",
        "colab": {
          "base_uri": "https://localhost:8080/",
          "height": 292
        }
      },
      "source": [
        "!pip install -U keras-tuner\n",
        "\n",
        "import pandas as pd\n",
        "import numpy as np\n",
        "import random\n",
        "from keras.models import Sequential\n",
        "from keras.layers import Dense\n",
        "from keras.optimizers import SGD\n",
        "from kerastuner.tuners import RandomSearch\n",
        "from kerastuner.engine import hyperparameters\n",
        "from keras.layers import Dropout\n",
        "from sklearn import preprocessing\n",
        "from sklearn.model_selection import train_test_split\n",
        "import time\n",
        "import math\n",
        "import matplotlib.pyplot as plt\n",
        "from keras import utils\n",
        "from sklearn.preprocessing import MinMaxScaler"
      ],
      "execution_count": 20,
      "outputs": [
        {
          "output_type": "stream",
          "text": [
            "Requirement already up-to-date: keras-tuner in /usr/local/lib/python3.6/dist-packages (1.0.1)\n",
            "Requirement already satisfied, skipping upgrade: colorama in /usr/local/lib/python3.6/dist-packages (from keras-tuner) (0.4.4)\n",
            "Requirement already satisfied, skipping upgrade: terminaltables in /usr/local/lib/python3.6/dist-packages (from keras-tuner) (3.1.0)\n",
            "Requirement already satisfied, skipping upgrade: tabulate in /usr/local/lib/python3.6/dist-packages (from keras-tuner) (0.8.7)\n",
            "Requirement already satisfied, skipping upgrade: tqdm in /usr/local/lib/python3.6/dist-packages (from keras-tuner) (4.41.1)\n",
            "Requirement already satisfied, skipping upgrade: requests in /usr/local/lib/python3.6/dist-packages (from keras-tuner) (2.23.0)\n",
            "Requirement already satisfied, skipping upgrade: scikit-learn in /usr/local/lib/python3.6/dist-packages (from keras-tuner) (0.22.2.post1)\n",
            "Requirement already satisfied, skipping upgrade: future in /usr/local/lib/python3.6/dist-packages (from keras-tuner) (0.16.0)\n",
            "Requirement already satisfied, skipping upgrade: numpy in /usr/local/lib/python3.6/dist-packages (from keras-tuner) (1.18.5)\n",
            "Requirement already satisfied, skipping upgrade: scipy in /usr/local/lib/python3.6/dist-packages (from keras-tuner) (1.4.1)\n",
            "Requirement already satisfied, skipping upgrade: chardet<4,>=3.0.2 in /usr/local/lib/python3.6/dist-packages (from requests->keras-tuner) (3.0.4)\n",
            "Requirement already satisfied, skipping upgrade: certifi>=2017.4.17 in /usr/local/lib/python3.6/dist-packages (from requests->keras-tuner) (2020.6.20)\n",
            "Requirement already satisfied, skipping upgrade: urllib3!=1.25.0,!=1.25.1,<1.26,>=1.21.1 in /usr/local/lib/python3.6/dist-packages (from requests->keras-tuner) (1.24.3)\n",
            "Requirement already satisfied, skipping upgrade: idna<3,>=2.5 in /usr/local/lib/python3.6/dist-packages (from requests->keras-tuner) (2.10)\n",
            "Requirement already satisfied, skipping upgrade: joblib>=0.11 in /usr/local/lib/python3.6/dist-packages (from scikit-learn->keras-tuner) (0.16.0)\n"
          ],
          "name": "stdout"
        }
      ]
    },
    {
      "cell_type": "code",
      "metadata": {
        "id": "32lG6_sVnUqH",
        "outputId": "0b9b2834-b495-472e-897c-f0f40c1271e3",
        "colab": {
          "base_uri": "https://localhost:8080/",
          "height": 272
        }
      },
      "source": [
        "TRAIN_FILE_PATH = '/content/drive/My Drive/ИАД/train.csv'\n",
        "\n",
        "# загружаем данные\n",
        "x = pd.read_csv(TRAIN_FILE_PATH) \n",
        "print(\"LOADED DATA\")\n",
        "print(x)"
      ],
      "execution_count": 21,
      "outputs": [
        {
          "output_type": "stream",
          "text": [
            "LOADED DATA\n",
            "        ID       y  X0 X1  X2 X3 X4  ... X378 X379 X380  X382  X383  X384  X385\n",
            "0        0  130.81   k  v  at  a  d  ...    0    0    0     0     0     0     0\n",
            "1        6   88.53   k  t  av  e  d  ...    0    0    0     0     0     0     0\n",
            "2        7   76.26  az  w   n  c  d  ...    0    0    0     1     0     0     0\n",
            "3        9   80.62  az  t   n  f  d  ...    0    0    0     0     0     0     0\n",
            "4       13   78.02  az  v   n  f  d  ...    0    0    0     0     0     0     0\n",
            "...    ...     ...  .. ..  .. .. ..  ...  ...  ...  ...   ...   ...   ...   ...\n",
            "4204  8405  107.39  ak  s  as  c  d  ...    0    0    0     0     0     0     0\n",
            "4205  8406  108.77   j  o   t  d  d  ...    0    0    0     0     0     0     0\n",
            "4206  8412  109.22  ak  v   r  a  d  ...    0    0    0     0     0     0     0\n",
            "4207  8415   87.48  al  r   e  f  d  ...    0    0    0     0     0     0     0\n",
            "4208  8417  110.85   z  r  ae  c  d  ...    0    0    0     0     0     0     0\n",
            "\n",
            "[4209 rows x 378 columns]\n"
          ],
          "name": "stdout"
        }
      ]
    },
    {
      "cell_type": "code",
      "metadata": {
        "id": "T9ywocwwncuL",
        "outputId": "9c3cac16-ebfa-4246-a577-e79497ab6135",
        "colab": {
          "base_uri": "https://localhost:8080/",
          "height": 272
        }
      },
      "source": [
        "y = x.get('y') # TRUE VALUES\n",
        "x.drop('y', axis='columns', inplace=True)\n",
        "x.drop('ID', axis='columns', inplace=True)\n",
        "print(\"DATA without ID and Y:\")\n",
        "print(x)\n"
      ],
      "execution_count": 22,
      "outputs": [
        {
          "output_type": "stream",
          "text": [
            "DATA without ID and Y:\n",
            "      X0 X1  X2 X3 X4  X5 X6 X8  ...  X377  X378  X379  X380  X382  X383  X384  X385\n",
            "0      k  v  at  a  d   u  j  o  ...     1     0     0     0     0     0     0     0\n",
            "1      k  t  av  e  d   y  l  o  ...     0     0     0     0     0     0     0     0\n",
            "2     az  w   n  c  d   x  j  x  ...     0     0     0     0     1     0     0     0\n",
            "3     az  t   n  f  d   x  l  e  ...     0     0     0     0     0     0     0     0\n",
            "4     az  v   n  f  d   h  d  n  ...     0     0     0     0     0     0     0     0\n",
            "...   .. ..  .. .. ..  .. .. ..  ...   ...   ...   ...   ...   ...   ...   ...   ...\n",
            "4204  ak  s  as  c  d  aa  d  q  ...     0     0     0     0     0     0     0     0\n",
            "4205   j  o   t  d  d  aa  h  h  ...     0     0     0     0     0     0     0     0\n",
            "4206  ak  v   r  a  d  aa  g  e  ...     1     0     0     0     0     0     0     0\n",
            "4207  al  r   e  f  d  aa  l  u  ...     0     0     0     0     0     0     0     0\n",
            "4208   z  r  ae  c  d  aa  g  w  ...     0     0     0     0     0     0     0     0\n",
            "\n",
            "[4209 rows x 376 columns]\n"
          ],
          "name": "stdout"
        }
      ]
    },
    {
      "cell_type": "markdown",
      "metadata": {
        "id": "PD9XMj1ms8g9"
      },
      "source": [
        "Эта функция находит столбцы со всеми нулями, кроме первой строчки. Удаляем эти столбцы, чтобы получить данные лучше"
      ]
    },
    {
      "cell_type": "code",
      "metadata": {
        "id": "dBZB3UWOnhsK"
      },
      "source": [
        "suspicious_data = []\n",
        "for col in x:\n",
        "    if len(x[col].unique()) == 1:\n",
        "        suspicious_data.append(col)\n",
        "x[suspicious_data].describe()\n",
        "x.drop(suspicious_data, 1, inplace = True)"
      ],
      "execution_count": 23,
      "outputs": []
    },
    {
      "cell_type": "markdown",
      "metadata": {
        "id": "3yjpYJxxtX_9"
      },
      "source": [
        "Находим ТОЛЬКО те столбцы, где данные хранятся в виде букв.\n",
        "Обрабатываем через Encoder только их"
      ]
    },
    {
      "cell_type": "code",
      "metadata": {
        "id": "YX6Xaa2InnMe",
        "outputId": "fe7db5ec-3e61-49ba-d1ce-421f427b6c29",
        "colab": {
          "base_uri": "https://localhost:8080/",
          "height": 436
        }
      },
      "source": [
        "cat_vars = [var for var in x.columns if x[var].dtypes == 'O']\n",
        "print('Number of categorical variables: ', len(cat_vars))\n",
        "\n",
        "x[cat_vars]"
      ],
      "execution_count": 24,
      "outputs": [
        {
          "output_type": "stream",
          "text": [
            "Number of categorical variables:  8\n"
          ],
          "name": "stdout"
        },
        {
          "output_type": "execute_result",
          "data": {
            "text/html": [
              "<div>\n",
              "<style scoped>\n",
              "    .dataframe tbody tr th:only-of-type {\n",
              "        vertical-align: middle;\n",
              "    }\n",
              "\n",
              "    .dataframe tbody tr th {\n",
              "        vertical-align: top;\n",
              "    }\n",
              "\n",
              "    .dataframe thead th {\n",
              "        text-align: right;\n",
              "    }\n",
              "</style>\n",
              "<table border=\"1\" class=\"dataframe\">\n",
              "  <thead>\n",
              "    <tr style=\"text-align: right;\">\n",
              "      <th></th>\n",
              "      <th>X0</th>\n",
              "      <th>X1</th>\n",
              "      <th>X2</th>\n",
              "      <th>X3</th>\n",
              "      <th>X4</th>\n",
              "      <th>X5</th>\n",
              "      <th>X6</th>\n",
              "      <th>X8</th>\n",
              "    </tr>\n",
              "  </thead>\n",
              "  <tbody>\n",
              "    <tr>\n",
              "      <th>0</th>\n",
              "      <td>k</td>\n",
              "      <td>v</td>\n",
              "      <td>at</td>\n",
              "      <td>a</td>\n",
              "      <td>d</td>\n",
              "      <td>u</td>\n",
              "      <td>j</td>\n",
              "      <td>o</td>\n",
              "    </tr>\n",
              "    <tr>\n",
              "      <th>1</th>\n",
              "      <td>k</td>\n",
              "      <td>t</td>\n",
              "      <td>av</td>\n",
              "      <td>e</td>\n",
              "      <td>d</td>\n",
              "      <td>y</td>\n",
              "      <td>l</td>\n",
              "      <td>o</td>\n",
              "    </tr>\n",
              "    <tr>\n",
              "      <th>2</th>\n",
              "      <td>az</td>\n",
              "      <td>w</td>\n",
              "      <td>n</td>\n",
              "      <td>c</td>\n",
              "      <td>d</td>\n",
              "      <td>x</td>\n",
              "      <td>j</td>\n",
              "      <td>x</td>\n",
              "    </tr>\n",
              "    <tr>\n",
              "      <th>3</th>\n",
              "      <td>az</td>\n",
              "      <td>t</td>\n",
              "      <td>n</td>\n",
              "      <td>f</td>\n",
              "      <td>d</td>\n",
              "      <td>x</td>\n",
              "      <td>l</td>\n",
              "      <td>e</td>\n",
              "    </tr>\n",
              "    <tr>\n",
              "      <th>4</th>\n",
              "      <td>az</td>\n",
              "      <td>v</td>\n",
              "      <td>n</td>\n",
              "      <td>f</td>\n",
              "      <td>d</td>\n",
              "      <td>h</td>\n",
              "      <td>d</td>\n",
              "      <td>n</td>\n",
              "    </tr>\n",
              "    <tr>\n",
              "      <th>...</th>\n",
              "      <td>...</td>\n",
              "      <td>...</td>\n",
              "      <td>...</td>\n",
              "      <td>...</td>\n",
              "      <td>...</td>\n",
              "      <td>...</td>\n",
              "      <td>...</td>\n",
              "      <td>...</td>\n",
              "    </tr>\n",
              "    <tr>\n",
              "      <th>4204</th>\n",
              "      <td>ak</td>\n",
              "      <td>s</td>\n",
              "      <td>as</td>\n",
              "      <td>c</td>\n",
              "      <td>d</td>\n",
              "      <td>aa</td>\n",
              "      <td>d</td>\n",
              "      <td>q</td>\n",
              "    </tr>\n",
              "    <tr>\n",
              "      <th>4205</th>\n",
              "      <td>j</td>\n",
              "      <td>o</td>\n",
              "      <td>t</td>\n",
              "      <td>d</td>\n",
              "      <td>d</td>\n",
              "      <td>aa</td>\n",
              "      <td>h</td>\n",
              "      <td>h</td>\n",
              "    </tr>\n",
              "    <tr>\n",
              "      <th>4206</th>\n",
              "      <td>ak</td>\n",
              "      <td>v</td>\n",
              "      <td>r</td>\n",
              "      <td>a</td>\n",
              "      <td>d</td>\n",
              "      <td>aa</td>\n",
              "      <td>g</td>\n",
              "      <td>e</td>\n",
              "    </tr>\n",
              "    <tr>\n",
              "      <th>4207</th>\n",
              "      <td>al</td>\n",
              "      <td>r</td>\n",
              "      <td>e</td>\n",
              "      <td>f</td>\n",
              "      <td>d</td>\n",
              "      <td>aa</td>\n",
              "      <td>l</td>\n",
              "      <td>u</td>\n",
              "    </tr>\n",
              "    <tr>\n",
              "      <th>4208</th>\n",
              "      <td>z</td>\n",
              "      <td>r</td>\n",
              "      <td>ae</td>\n",
              "      <td>c</td>\n",
              "      <td>d</td>\n",
              "      <td>aa</td>\n",
              "      <td>g</td>\n",
              "      <td>w</td>\n",
              "    </tr>\n",
              "  </tbody>\n",
              "</table>\n",
              "<p>4209 rows × 8 columns</p>\n",
              "</div>"
            ],
            "text/plain": [
              "      X0 X1  X2 X3 X4  X5 X6 X8\n",
              "0      k  v  at  a  d   u  j  o\n",
              "1      k  t  av  e  d   y  l  o\n",
              "2     az  w   n  c  d   x  j  x\n",
              "3     az  t   n  f  d   x  l  e\n",
              "4     az  v   n  f  d   h  d  n\n",
              "...   .. ..  .. .. ..  .. .. ..\n",
              "4204  ak  s  as  c  d  aa  d  q\n",
              "4205   j  o   t  d  d  aa  h  h\n",
              "4206  ak  v   r  a  d  aa  g  e\n",
              "4207  al  r   e  f  d  aa  l  u\n",
              "4208   z  r  ae  c  d  aa  g  w\n",
              "\n",
              "[4209 rows x 8 columns]"
            ]
          },
          "metadata": {
            "tags": []
          },
          "execution_count": 24
        }
      ]
    },
    {
      "cell_type": "markdown",
      "metadata": {
        "id": "8EK_sWD2ussa"
      },
      "source": [
        "Переводим в числа найденные столбцы "
      ]
    },
    {
      "cell_type": "code",
      "metadata": {
        "id": "yqysO_qmnqFQ",
        "outputId": "64eed878-8d9c-4667-a385-48b96fc5225b",
        "colab": {
          "base_uri": "https://localhost:8080/",
          "height": 419
        }
      },
      "source": [
        "df = pd.DataFrame(x[cat_vars])\n",
        "x[cat_vars] = df.apply(preprocessing.LabelEncoder().fit_transform)\n",
        "\n",
        "x[cat_vars]"
      ],
      "execution_count": 25,
      "outputs": [
        {
          "output_type": "execute_result",
          "data": {
            "text/html": [
              "<div>\n",
              "<style scoped>\n",
              "    .dataframe tbody tr th:only-of-type {\n",
              "        vertical-align: middle;\n",
              "    }\n",
              "\n",
              "    .dataframe tbody tr th {\n",
              "        vertical-align: top;\n",
              "    }\n",
              "\n",
              "    .dataframe thead th {\n",
              "        text-align: right;\n",
              "    }\n",
              "</style>\n",
              "<table border=\"1\" class=\"dataframe\">\n",
              "  <thead>\n",
              "    <tr style=\"text-align: right;\">\n",
              "      <th></th>\n",
              "      <th>X0</th>\n",
              "      <th>X1</th>\n",
              "      <th>X2</th>\n",
              "      <th>X3</th>\n",
              "      <th>X4</th>\n",
              "      <th>X5</th>\n",
              "      <th>X6</th>\n",
              "      <th>X8</th>\n",
              "    </tr>\n",
              "  </thead>\n",
              "  <tbody>\n",
              "    <tr>\n",
              "      <th>0</th>\n",
              "      <td>32</td>\n",
              "      <td>23</td>\n",
              "      <td>17</td>\n",
              "      <td>0</td>\n",
              "      <td>3</td>\n",
              "      <td>24</td>\n",
              "      <td>9</td>\n",
              "      <td>14</td>\n",
              "    </tr>\n",
              "    <tr>\n",
              "      <th>1</th>\n",
              "      <td>32</td>\n",
              "      <td>21</td>\n",
              "      <td>19</td>\n",
              "      <td>4</td>\n",
              "      <td>3</td>\n",
              "      <td>28</td>\n",
              "      <td>11</td>\n",
              "      <td>14</td>\n",
              "    </tr>\n",
              "    <tr>\n",
              "      <th>2</th>\n",
              "      <td>20</td>\n",
              "      <td>24</td>\n",
              "      <td>34</td>\n",
              "      <td>2</td>\n",
              "      <td>3</td>\n",
              "      <td>27</td>\n",
              "      <td>9</td>\n",
              "      <td>23</td>\n",
              "    </tr>\n",
              "    <tr>\n",
              "      <th>3</th>\n",
              "      <td>20</td>\n",
              "      <td>21</td>\n",
              "      <td>34</td>\n",
              "      <td>5</td>\n",
              "      <td>3</td>\n",
              "      <td>27</td>\n",
              "      <td>11</td>\n",
              "      <td>4</td>\n",
              "    </tr>\n",
              "    <tr>\n",
              "      <th>4</th>\n",
              "      <td>20</td>\n",
              "      <td>23</td>\n",
              "      <td>34</td>\n",
              "      <td>5</td>\n",
              "      <td>3</td>\n",
              "      <td>12</td>\n",
              "      <td>3</td>\n",
              "      <td>13</td>\n",
              "    </tr>\n",
              "    <tr>\n",
              "      <th>...</th>\n",
              "      <td>...</td>\n",
              "      <td>...</td>\n",
              "      <td>...</td>\n",
              "      <td>...</td>\n",
              "      <td>...</td>\n",
              "      <td>...</td>\n",
              "      <td>...</td>\n",
              "      <td>...</td>\n",
              "    </tr>\n",
              "    <tr>\n",
              "      <th>4204</th>\n",
              "      <td>8</td>\n",
              "      <td>20</td>\n",
              "      <td>16</td>\n",
              "      <td>2</td>\n",
              "      <td>3</td>\n",
              "      <td>0</td>\n",
              "      <td>3</td>\n",
              "      <td>16</td>\n",
              "    </tr>\n",
              "    <tr>\n",
              "      <th>4205</th>\n",
              "      <td>31</td>\n",
              "      <td>16</td>\n",
              "      <td>40</td>\n",
              "      <td>3</td>\n",
              "      <td>3</td>\n",
              "      <td>0</td>\n",
              "      <td>7</td>\n",
              "      <td>7</td>\n",
              "    </tr>\n",
              "    <tr>\n",
              "      <th>4206</th>\n",
              "      <td>8</td>\n",
              "      <td>23</td>\n",
              "      <td>38</td>\n",
              "      <td>0</td>\n",
              "      <td>3</td>\n",
              "      <td>0</td>\n",
              "      <td>6</td>\n",
              "      <td>4</td>\n",
              "    </tr>\n",
              "    <tr>\n",
              "      <th>4207</th>\n",
              "      <td>9</td>\n",
              "      <td>19</td>\n",
              "      <td>25</td>\n",
              "      <td>5</td>\n",
              "      <td>3</td>\n",
              "      <td>0</td>\n",
              "      <td>11</td>\n",
              "      <td>20</td>\n",
              "    </tr>\n",
              "    <tr>\n",
              "      <th>4208</th>\n",
              "      <td>46</td>\n",
              "      <td>19</td>\n",
              "      <td>3</td>\n",
              "      <td>2</td>\n",
              "      <td>3</td>\n",
              "      <td>0</td>\n",
              "      <td>6</td>\n",
              "      <td>22</td>\n",
              "    </tr>\n",
              "  </tbody>\n",
              "</table>\n",
              "<p>4209 rows × 8 columns</p>\n",
              "</div>"
            ],
            "text/plain": [
              "      X0  X1  X2  X3  X4  X5  X6  X8\n",
              "0     32  23  17   0   3  24   9  14\n",
              "1     32  21  19   4   3  28  11  14\n",
              "2     20  24  34   2   3  27   9  23\n",
              "3     20  21  34   5   3  27  11   4\n",
              "4     20  23  34   5   3  12   3  13\n",
              "...   ..  ..  ..  ..  ..  ..  ..  ..\n",
              "4204   8  20  16   2   3   0   3  16\n",
              "4205  31  16  40   3   3   0   7   7\n",
              "4206   8  23  38   0   3   0   6   4\n",
              "4207   9  19  25   5   3   0  11  20\n",
              "4208  46  19   3   2   3   0   6  22\n",
              "\n",
              "[4209 rows x 8 columns]"
            ]
          },
          "metadata": {
            "tags": []
          },
          "execution_count": 25
        }
      ]
    },
    {
      "cell_type": "markdown",
      "metadata": {
        "id": "9K8RnZlcuHfB"
      },
      "source": [
        "Нормализуем данные через MinMaxScaler"
      ]
    },
    {
      "cell_type": "code",
      "metadata": {
        "id": "rGRXavXWnq15",
        "outputId": "2d2b3ae7-717d-41ee-c96f-034f818d9fe2",
        "colab": {
          "base_uri": "https://localhost:8080/",
          "height": 255
        }
      },
      "source": [
        "scaler = MinMaxScaler() # функция нормализации данных (от 0 до 1)\n",
        "x[cat_vars] = scaler.fit_transform(x[cat_vars])\n",
        "\n",
        "print(x)"
      ],
      "execution_count": 26,
      "outputs": [
        {
          "output_type": "stream",
          "text": [
            "            X0        X1        X2        X3   X4  ...  X380  X382  X383  X384  X385\n",
            "0     0.695652  0.884615  0.395349  0.000000  1.0  ...     0     0     0     0     0\n",
            "1     0.695652  0.807692  0.441860  0.666667  1.0  ...     0     0     0     0     0\n",
            "2     0.434783  0.923077  0.790698  0.333333  1.0  ...     0     1     0     0     0\n",
            "3     0.434783  0.807692  0.790698  0.833333  1.0  ...     0     0     0     0     0\n",
            "4     0.434783  0.884615  0.790698  0.833333  1.0  ...     0     0     0     0     0\n",
            "...        ...       ...       ...       ...  ...  ...   ...   ...   ...   ...   ...\n",
            "4204  0.173913  0.769231  0.372093  0.333333  1.0  ...     0     0     0     0     0\n",
            "4205  0.673913  0.615385  0.930233  0.500000  1.0  ...     0     0     0     0     0\n",
            "4206  0.173913  0.884615  0.883721  0.000000  1.0  ...     0     0     0     0     0\n",
            "4207  0.195652  0.730769  0.581395  0.833333  1.0  ...     0     0     0     0     0\n",
            "4208  1.000000  0.730769  0.069767  0.333333  1.0  ...     0     0     0     0     0\n",
            "\n",
            "[4209 rows x 364 columns]\n"
          ],
          "name": "stdout"
        }
      ]
    },
    {
      "cell_type": "markdown",
      "metadata": {
        "id": "a2yxHMsVu4NZ"
      },
      "source": [
        "Делим данные на тренировочные и тестовые"
      ]
    },
    {
      "cell_type": "code",
      "metadata": {
        "id": "vqHtUy5Mnwuz"
      },
      "source": [
        "x_train, x_test, y_train, y_test = train_test_split(x, y, random_state=0, test_size = 0.3)"
      ],
      "execution_count": 27,
      "outputs": []
    },
    {
      "cell_type": "markdown",
      "metadata": {
        "id": "ezkflbVXBFwq"
      },
      "source": [
        "Создаем модель вручную"
      ]
    },
    {
      "cell_type": "code",
      "metadata": {
        "id": "goEzpXDsnzud",
        "outputId": "4fa8d5cd-ff71-4812-d6b3-5dca7d0c9634",
        "colab": {
          "base_uri": "https://localhost:8080/",
          "height": 1000
        }
      },
      "source": [
        "model = Sequential()\n",
        "\n",
        "model.add(Dense(512, activation='relu', input_shape=(x_train.shape[1],)))\n",
        "model.add(Dropout(0.1))\n",
        "model.add(Dense(256, activation='relu'))\n",
        "model.add(Dropout(0.1))\n",
        "model.add(Dense(128, activation='relu'))\n",
        "model.add(Dropout(0.1))\n",
        "model.add(Dense(1))\n",
        "\n",
        "\n",
        "model.compile(loss='mse', optimizer='adam', metrics=['mae'])\n",
        "model.summary()\n",
        "history = model.fit(x_train, y_train, epochs=100, batch_size=128, validation_split=0.2)\n",
        "history = history.history"
      ],
      "execution_count": 28,
      "outputs": [
        {
          "output_type": "stream",
          "text": [
            "Model: \"sequential_1\"\n",
            "_________________________________________________________________\n",
            "Layer (type)                 Output Shape              Param #   \n",
            "=================================================================\n",
            "dense_4 (Dense)              (None, 512)               186880    \n",
            "_________________________________________________________________\n",
            "dropout_1 (Dropout)          (None, 512)               0         \n",
            "_________________________________________________________________\n",
            "dense_5 (Dense)              (None, 256)               131328    \n",
            "_________________________________________________________________\n",
            "dropout_2 (Dropout)          (None, 256)               0         \n",
            "_________________________________________________________________\n",
            "dense_6 (Dense)              (None, 128)               32896     \n",
            "_________________________________________________________________\n",
            "dropout_3 (Dropout)          (None, 128)               0         \n",
            "_________________________________________________________________\n",
            "dense_7 (Dense)              (None, 1)                 129       \n",
            "=================================================================\n",
            "Total params: 351,233\n",
            "Trainable params: 351,233\n",
            "Non-trainable params: 0\n",
            "_________________________________________________________________\n",
            "Epoch 1/100\n",
            "19/19 [==============================] - 0s 24ms/step - loss: 5877.6665 - mae: 69.4034 - val_loss: 1850.6898 - val_mae: 39.6541\n",
            "Epoch 2/100\n",
            "19/19 [==============================] - 0s 14ms/step - loss: 623.6204 - mae: 19.9295 - val_loss: 186.2451 - val_mae: 10.7033\n",
            "Epoch 3/100\n",
            "19/19 [==============================] - 0s 13ms/step - loss: 221.6556 - mae: 11.5150 - val_loss: 125.2202 - val_mae: 7.9104\n",
            "Epoch 4/100\n",
            "19/19 [==============================] - 0s 12ms/step - loss: 156.4299 - mae: 9.5250 - val_loss: 102.3593 - val_mae: 7.1335\n",
            "Epoch 5/100\n",
            "19/19 [==============================] - 0s 12ms/step - loss: 132.2254 - mae: 8.5942 - val_loss: 89.3352 - val_mae: 6.8360\n",
            "Epoch 6/100\n",
            "19/19 [==============================] - 0s 14ms/step - loss: 121.3400 - mae: 8.1794 - val_loss: 82.1870 - val_mae: 5.9029\n",
            "Epoch 7/100\n",
            "19/19 [==============================] - 0s 12ms/step - loss: 119.5759 - mae: 8.0903 - val_loss: 77.1611 - val_mae: 5.5557\n",
            "Epoch 8/100\n",
            "19/19 [==============================] - 0s 12ms/step - loss: 114.2801 - mae: 7.8184 - val_loss: 74.3603 - val_mae: 6.0044\n",
            "Epoch 9/100\n",
            "19/19 [==============================] - 0s 12ms/step - loss: 113.8109 - mae: 7.9447 - val_loss: 75.8148 - val_mae: 5.3493\n",
            "Epoch 10/100\n",
            "19/19 [==============================] - 0s 13ms/step - loss: 106.1207 - mae: 7.5905 - val_loss: 73.1182 - val_mae: 5.4065\n",
            "Epoch 11/100\n",
            "19/19 [==============================] - 0s 13ms/step - loss: 110.1671 - mae: 7.8187 - val_loss: 71.3153 - val_mae: 5.3030\n",
            "Epoch 12/100\n",
            "19/19 [==============================] - 0s 14ms/step - loss: 106.5533 - mae: 7.6262 - val_loss: 70.1087 - val_mae: 5.5472\n",
            "Epoch 13/100\n",
            "19/19 [==============================] - 0s 14ms/step - loss: 100.1768 - mae: 7.4004 - val_loss: 71.8106 - val_mae: 5.9011\n",
            "Epoch 14/100\n",
            "19/19 [==============================] - 0s 12ms/step - loss: 103.1782 - mae: 7.4887 - val_loss: 75.2350 - val_mae: 5.1964\n",
            "Epoch 15/100\n",
            "19/19 [==============================] - 0s 13ms/step - loss: 102.7077 - mae: 7.4378 - val_loss: 72.2251 - val_mae: 5.1827\n",
            "Epoch 16/100\n",
            "19/19 [==============================] - 0s 13ms/step - loss: 99.5594 - mae: 7.3572 - val_loss: 71.4839 - val_mae: 5.9737\n",
            "Epoch 17/100\n",
            "19/19 [==============================] - 0s 14ms/step - loss: 100.9189 - mae: 7.3742 - val_loss: 74.5578 - val_mae: 5.1819\n",
            "Epoch 18/100\n",
            "19/19 [==============================] - 0s 14ms/step - loss: 100.1405 - mae: 7.4506 - val_loss: 69.8784 - val_mae: 5.2258\n",
            "Epoch 19/100\n",
            "19/19 [==============================] - 0s 14ms/step - loss: 101.5445 - mae: 7.3225 - val_loss: 70.8875 - val_mae: 5.8591\n",
            "Epoch 20/100\n",
            "19/19 [==============================] - 0s 13ms/step - loss: 97.6065 - mae: 7.3264 - val_loss: 72.7595 - val_mae: 6.0519\n",
            "Epoch 21/100\n",
            "19/19 [==============================] - 0s 12ms/step - loss: 96.6984 - mae: 7.1880 - val_loss: 68.8767 - val_mae: 5.5354\n",
            "Epoch 22/100\n",
            "19/19 [==============================] - 0s 12ms/step - loss: 91.9506 - mae: 7.0503 - val_loss: 69.9283 - val_mae: 5.6573\n",
            "Epoch 23/100\n",
            "19/19 [==============================] - 0s 13ms/step - loss: 93.2004 - mae: 7.1539 - val_loss: 69.5982 - val_mae: 5.4131\n",
            "Epoch 24/100\n",
            "19/19 [==============================] - 0s 15ms/step - loss: 93.5497 - mae: 7.0691 - val_loss: 69.3770 - val_mae: 5.3127\n",
            "Epoch 25/100\n",
            "19/19 [==============================] - 0s 13ms/step - loss: 92.9425 - mae: 6.9968 - val_loss: 69.0108 - val_mae: 5.2377\n",
            "Epoch 26/100\n",
            "19/19 [==============================] - 0s 13ms/step - loss: 88.6979 - mae: 7.0084 - val_loss: 69.6536 - val_mae: 5.3094\n",
            "Epoch 27/100\n",
            "19/19 [==============================] - 0s 13ms/step - loss: 92.4415 - mae: 7.0951 - val_loss: 86.8632 - val_mae: 5.5976\n",
            "Epoch 28/100\n",
            "19/19 [==============================] - 0s 14ms/step - loss: 96.6185 - mae: 7.4031 - val_loss: 76.6331 - val_mae: 5.1850\n",
            "Epoch 29/100\n",
            "19/19 [==============================] - 0s 13ms/step - loss: 89.4505 - mae: 6.9412 - val_loss: 74.1470 - val_mae: 5.1784\n",
            "Epoch 30/100\n",
            "19/19 [==============================] - 0s 13ms/step - loss: 91.2830 - mae: 7.0220 - val_loss: 71.5010 - val_mae: 5.1658\n",
            "Epoch 31/100\n",
            "19/19 [==============================] - 0s 14ms/step - loss: 85.9912 - mae: 6.7504 - val_loss: 71.7675 - val_mae: 5.9986\n",
            "Epoch 32/100\n",
            "19/19 [==============================] - 0s 12ms/step - loss: 88.1598 - mae: 6.8788 - val_loss: 69.7546 - val_mae: 5.3640\n",
            "Epoch 33/100\n",
            "19/19 [==============================] - 0s 12ms/step - loss: 86.7877 - mae: 6.7840 - val_loss: 70.1489 - val_mae: 5.6773\n",
            "Epoch 34/100\n",
            "19/19 [==============================] - 0s 12ms/step - loss: 84.6635 - mae: 6.7684 - val_loss: 72.1588 - val_mae: 5.1855\n",
            "Epoch 35/100\n",
            "19/19 [==============================] - 0s 14ms/step - loss: 85.0261 - mae: 6.6882 - val_loss: 70.0479 - val_mae: 5.1895\n",
            "Epoch 36/100\n",
            "19/19 [==============================] - 0s 14ms/step - loss: 93.1154 - mae: 7.0855 - val_loss: 75.9420 - val_mae: 6.0909\n",
            "Epoch 37/100\n",
            "19/19 [==============================] - 0s 13ms/step - loss: 85.1483 - mae: 6.8008 - val_loss: 70.8831 - val_mae: 5.2664\n",
            "Epoch 38/100\n",
            "19/19 [==============================] - 0s 14ms/step - loss: 88.4931 - mae: 6.8844 - val_loss: 72.2180 - val_mae: 5.2900\n",
            "Epoch 39/100\n",
            "19/19 [==============================] - 0s 14ms/step - loss: 83.7304 - mae: 6.7264 - val_loss: 71.6512 - val_mae: 5.2357\n",
            "Epoch 40/100\n",
            "19/19 [==============================] - 0s 14ms/step - loss: 85.5383 - mae: 6.7749 - val_loss: 77.0265 - val_mae: 5.4176\n",
            "Epoch 41/100\n",
            "19/19 [==============================] - 0s 13ms/step - loss: 82.5173 - mae: 6.7217 - val_loss: 70.4326 - val_mae: 5.4611\n",
            "Epoch 42/100\n",
            "19/19 [==============================] - 0s 13ms/step - loss: 92.4975 - mae: 7.0676 - val_loss: 75.1497 - val_mae: 6.2159\n",
            "Epoch 43/100\n",
            "19/19 [==============================] - 0s 12ms/step - loss: 86.0818 - mae: 6.7724 - val_loss: 70.4143 - val_mae: 5.4737\n",
            "Epoch 44/100\n",
            "19/19 [==============================] - 0s 14ms/step - loss: 82.9870 - mae: 6.6109 - val_loss: 75.0258 - val_mae: 5.2777\n",
            "Epoch 45/100\n",
            "19/19 [==============================] - 0s 13ms/step - loss: 81.1443 - mae: 6.6536 - val_loss: 77.7489 - val_mae: 5.4819\n",
            "Epoch 46/100\n",
            "19/19 [==============================] - 0s 14ms/step - loss: 81.0990 - mae: 6.5954 - val_loss: 72.6256 - val_mae: 5.2450\n",
            "Epoch 47/100\n",
            "19/19 [==============================] - 0s 13ms/step - loss: 80.8966 - mae: 6.6699 - val_loss: 70.2223 - val_mae: 5.4201\n",
            "Epoch 48/100\n",
            "19/19 [==============================] - 0s 14ms/step - loss: 83.4466 - mae: 6.7232 - val_loss: 78.5374 - val_mae: 5.4070\n",
            "Epoch 49/100\n",
            "19/19 [==============================] - 0s 13ms/step - loss: 90.6990 - mae: 7.1476 - val_loss: 71.6796 - val_mae: 5.4911\n",
            "Epoch 50/100\n",
            "19/19 [==============================] - 0s 15ms/step - loss: 79.9354 - mae: 6.5925 - val_loss: 71.6098 - val_mae: 5.4521\n",
            "Epoch 51/100\n",
            "19/19 [==============================] - 0s 13ms/step - loss: 78.9918 - mae: 6.5217 - val_loss: 72.7394 - val_mae: 5.4469\n",
            "Epoch 52/100\n",
            "19/19 [==============================] - 0s 13ms/step - loss: 81.6808 - mae: 6.7315 - val_loss: 75.8231 - val_mae: 5.4272\n",
            "Epoch 53/100\n",
            "19/19 [==============================] - 0s 14ms/step - loss: 77.4015 - mae: 6.4575 - val_loss: 73.0732 - val_mae: 5.6979\n",
            "Epoch 54/100\n",
            "19/19 [==============================] - 0s 13ms/step - loss: 82.8950 - mae: 6.6645 - val_loss: 82.8206 - val_mae: 5.5401\n",
            "Epoch 55/100\n",
            "19/19 [==============================] - 0s 13ms/step - loss: 82.6403 - mae: 6.5826 - val_loss: 73.8230 - val_mae: 5.4557\n",
            "Epoch 56/100\n",
            "19/19 [==============================] - 0s 13ms/step - loss: 75.9349 - mae: 6.5085 - val_loss: 78.4093 - val_mae: 5.4321\n",
            "Epoch 57/100\n",
            "19/19 [==============================] - 0s 14ms/step - loss: 81.2732 - mae: 6.6369 - val_loss: 76.0313 - val_mae: 6.1538\n",
            "Epoch 58/100\n",
            "19/19 [==============================] - 0s 13ms/step - loss: 76.7305 - mae: 6.4838 - val_loss: 72.7200 - val_mae: 5.4487\n",
            "Epoch 59/100\n",
            "19/19 [==============================] - 0s 13ms/step - loss: 76.9738 - mae: 6.4303 - val_loss: 71.9913 - val_mae: 5.5234\n",
            "Epoch 60/100\n",
            "19/19 [==============================] - 0s 14ms/step - loss: 79.8850 - mae: 6.6811 - val_loss: 73.2765 - val_mae: 5.3976\n",
            "Epoch 61/100\n",
            "19/19 [==============================] - 0s 17ms/step - loss: 75.8289 - mae: 6.5148 - val_loss: 72.9786 - val_mae: 5.2771\n",
            "Epoch 62/100\n",
            "19/19 [==============================] - 0s 13ms/step - loss: 77.7099 - mae: 6.4558 - val_loss: 89.0892 - val_mae: 7.4672\n",
            "Epoch 63/100\n",
            "19/19 [==============================] - 0s 14ms/step - loss: 86.6745 - mae: 6.9074 - val_loss: 73.2889 - val_mae: 5.5595\n",
            "Epoch 64/100\n",
            "19/19 [==============================] - 0s 13ms/step - loss: 76.4562 - mae: 6.3637 - val_loss: 71.3420 - val_mae: 5.4730\n",
            "Epoch 65/100\n",
            "19/19 [==============================] - 0s 14ms/step - loss: 73.6531 - mae: 6.3266 - val_loss: 75.3279 - val_mae: 5.7703\n",
            "Epoch 66/100\n",
            "19/19 [==============================] - 0s 13ms/step - loss: 78.5083 - mae: 6.6858 - val_loss: 75.2251 - val_mae: 5.8969\n",
            "Epoch 67/100\n",
            "19/19 [==============================] - 0s 13ms/step - loss: 76.4651 - mae: 6.4818 - val_loss: 81.0926 - val_mae: 5.6942\n",
            "Epoch 68/100\n",
            "19/19 [==============================] - 0s 14ms/step - loss: 74.2511 - mae: 6.4265 - val_loss: 73.4898 - val_mae: 5.5595\n",
            "Epoch 69/100\n",
            "19/19 [==============================] - 0s 13ms/step - loss: 75.1902 - mae: 6.4663 - val_loss: 76.0673 - val_mae: 6.1383\n",
            "Epoch 70/100\n",
            "19/19 [==============================] - 0s 12ms/step - loss: 81.6873 - mae: 6.7226 - val_loss: 131.1838 - val_mae: 9.9734\n",
            "Epoch 71/100\n",
            "19/19 [==============================] - 0s 14ms/step - loss: 91.7720 - mae: 7.2181 - val_loss: 77.8639 - val_mae: 5.5094\n",
            "Epoch 72/100\n",
            "19/19 [==============================] - 0s 14ms/step - loss: 80.2853 - mae: 6.7413 - val_loss: 82.9544 - val_mae: 5.7303\n",
            "Epoch 73/100\n",
            "19/19 [==============================] - 0s 13ms/step - loss: 82.5998 - mae: 6.7158 - val_loss: 81.5354 - val_mae: 6.5692\n",
            "Epoch 74/100\n",
            "19/19 [==============================] - 0s 12ms/step - loss: 79.8947 - mae: 6.7076 - val_loss: 88.3297 - val_mae: 7.2359\n",
            "Epoch 75/100\n",
            "19/19 [==============================] - 0s 13ms/step - loss: 79.0914 - mae: 6.6048 - val_loss: 76.1479 - val_mae: 6.0144\n",
            "Epoch 76/100\n",
            "19/19 [==============================] - 0s 13ms/step - loss: 74.8227 - mae: 6.4552 - val_loss: 75.0696 - val_mae: 5.5211\n",
            "Epoch 77/100\n",
            "19/19 [==============================] - 0s 13ms/step - loss: 71.3919 - mae: 6.3352 - val_loss: 75.5389 - val_mae: 6.2670\n",
            "Epoch 78/100\n",
            "19/19 [==============================] - 0s 12ms/step - loss: 80.4639 - mae: 6.6990 - val_loss: 74.1647 - val_mae: 5.8022\n",
            "Epoch 79/100\n",
            "19/19 [==============================] - 0s 15ms/step - loss: 79.3416 - mae: 6.5964 - val_loss: 77.5559 - val_mae: 5.5786\n",
            "Epoch 80/100\n",
            "19/19 [==============================] - 0s 13ms/step - loss: 76.4156 - mae: 6.5018 - val_loss: 83.5361 - val_mae: 5.7183\n",
            "Epoch 81/100\n",
            "19/19 [==============================] - 0s 14ms/step - loss: 78.1821 - mae: 6.5838 - val_loss: 78.3238 - val_mae: 6.0119\n",
            "Epoch 82/100\n",
            "19/19 [==============================] - 0s 13ms/step - loss: 73.3143 - mae: 6.3470 - val_loss: 74.3494 - val_mae: 5.7158\n",
            "Epoch 83/100\n",
            "19/19 [==============================] - 0s 12ms/step - loss: 74.5975 - mae: 6.3708 - val_loss: 76.4839 - val_mae: 5.7440\n",
            "Epoch 84/100\n",
            "19/19 [==============================] - 0s 14ms/step - loss: 72.3679 - mae: 6.3087 - val_loss: 73.3053 - val_mae: 5.6866\n",
            "Epoch 85/100\n",
            "19/19 [==============================] - 0s 13ms/step - loss: 72.4330 - mae: 6.3011 - val_loss: 76.4301 - val_mae: 5.8573\n",
            "Epoch 86/100\n",
            "19/19 [==============================] - 0s 14ms/step - loss: 74.9854 - mae: 6.4156 - val_loss: 76.8497 - val_mae: 5.7948\n",
            "Epoch 87/100\n",
            "19/19 [==============================] - 0s 13ms/step - loss: 72.4660 - mae: 6.3581 - val_loss: 75.2372 - val_mae: 5.5816\n",
            "Epoch 88/100\n",
            "19/19 [==============================] - 0s 12ms/step - loss: 71.0109 - mae: 6.3053 - val_loss: 73.3481 - val_mae: 5.4905\n",
            "Epoch 89/100\n",
            "19/19 [==============================] - 0s 13ms/step - loss: 76.2462 - mae: 6.3924 - val_loss: 78.3766 - val_mae: 6.2246\n",
            "Epoch 90/100\n",
            "19/19 [==============================] - 0s 14ms/step - loss: 70.2345 - mae: 6.2675 - val_loss: 75.1393 - val_mae: 5.5886\n",
            "Epoch 91/100\n",
            "19/19 [==============================] - 0s 13ms/step - loss: 69.8748 - mae: 6.2108 - val_loss: 81.7531 - val_mae: 5.7985\n",
            "Epoch 92/100\n",
            "19/19 [==============================] - 0s 13ms/step - loss: 71.0626 - mae: 6.3005 - val_loss: 96.4332 - val_mae: 6.3968\n",
            "Epoch 93/100\n",
            "19/19 [==============================] - 0s 12ms/step - loss: 68.3217 - mae: 6.2035 - val_loss: 77.4018 - val_mae: 5.6937\n",
            "Epoch 94/100\n",
            "19/19 [==============================] - 0s 14ms/step - loss: 69.7716 - mae: 6.1640 - val_loss: 74.8279 - val_mae: 5.7021\n",
            "Epoch 95/100\n",
            "19/19 [==============================] - 0s 13ms/step - loss: 72.9381 - mae: 6.3743 - val_loss: 75.8473 - val_mae: 5.8284\n",
            "Epoch 96/100\n",
            "19/19 [==============================] - 0s 13ms/step - loss: 67.2873 - mae: 6.1331 - val_loss: 80.8920 - val_mae: 6.2106\n",
            "Epoch 97/100\n",
            "19/19 [==============================] - 0s 13ms/step - loss: 74.1091 - mae: 6.4722 - val_loss: 82.5687 - val_mae: 6.6306\n",
            "Epoch 98/100\n",
            "19/19 [==============================] - 0s 13ms/step - loss: 73.4277 - mae: 6.4270 - val_loss: 75.4736 - val_mae: 5.8581\n",
            "Epoch 99/100\n",
            "19/19 [==============================] - 0s 13ms/step - loss: 72.9782 - mae: 6.3933 - val_loss: 91.6492 - val_mae: 6.1622\n",
            "Epoch 100/100\n",
            "19/19 [==============================] - 0s 13ms/step - loss: 69.2908 - mae: 6.2919 - val_loss: 82.4186 - val_mae: 6.6058\n"
          ],
          "name": "stdout"
        }
      ]
    },
    {
      "cell_type": "code",
      "metadata": {
        "id": "sDwpZOukn4ju",
        "outputId": "923c4160-974f-4fe9-db58-88c142aff621",
        "colab": {
          "base_uri": "https://localhost:8080/",
          "height": 295
        }
      },
      "source": [
        "def draw_graph(history):\n",
        "    loss_values = history[\"loss\"]\n",
        "    validation_loss_values = history[\"val_loss\"]\n",
        "\n",
        "    epochs = range(1, len(history['loss']) + 1)\n",
        "\n",
        "    plt.plot(epochs, loss_values, 'b', label='Training loss')\n",
        "    plt.plot(epochs, validation_loss_values, 'r', label='Validation loss')\n",
        "    plt.title('Training and validation loss')\n",
        "    plt.xlabel('Epochs')\n",
        "    plt.ylabel('Value')\n",
        "    plt.legend()\n",
        "    plt.show()\n",
        "\n",
        "draw_graph(history)"
      ],
      "execution_count": 29,
      "outputs": [
        {
          "output_type": "display_data",
          "data": {
            "image/png": "[encoded data removed]",
            "text/plain": [
              "<Figure size 432x288 with 1 Axes>"
            ]
          },
          "metadata": {
            "tags": [],
            "needs_background": "light"
          }
        }
      ]
    },
    {
      "cell_type": "code",
      "metadata": {
        "id": "6jMLpRh6n8nr",
        "outputId": "e6c1e22d-62c6-4c25-d18c-955742cb1753",
        "colab": {
          "base_uri": "https://localhost:8080/",
          "height": 85
        }
      },
      "source": [
        "print(\"[INFO] RUNNING ON TEST DATA: \\n\")\n",
        "mse, mae = model.evaluate(x_test, y_test, verbose=0, batch_size=128)\n",
        "print(f\"[INFO] Mean squared error is {mse}\")\n",
        "print(f\"[INFO] Mean absolute error is {mae}\")"
      ],
      "execution_count": 30,
      "outputs": [
        {
          "output_type": "stream",
          "text": [
            "[INFO] RUNNING ON TEST DATA: \n",
            "\n",
            "[INFO] Mean squared error is 108.32121276855469\n",
            "[INFO] Mean absolute error is 7.137434005737305\n"
          ],
          "name": "stdout"
        }
      ]
    },
    {
      "cell_type": "markdown",
      "metadata": {
        "id": "n7U5rWCVA4QL"
      },
      "source": [
        "Создаем модель для тюнера"
      ]
    },
    {
      "cell_type": "code",
      "metadata": {
        "id": "CT9pMudxn_Bv"
      },
      "source": [
        "def build_model(hp):\n",
        "  hidden_layers = hp.Choice('hidden_layers', values=[1,2,3])\n",
        "  activation_choice = hp.Choice('activation', values=['relu', 'selu', 'elu'])\n",
        "  model = Sequential()\n",
        "  model.add(Dense(units=hp.Int('units',min_value=256,max_value=512,step=32),activation=activation_choice, input_shape=(x_train.shape[1], ), kernel_regularizer=L2(0.001)))\n",
        "  model.add(Dropout(0.3))\n",
        "  for i in range(hidden_layers):\n",
        "    model.add(Dense(units=hp.Int(f'layer_{i}_units_',min_value=32//(i+1), max_value=128//(i+1),step=64//(i+1)),activation=activation_choice, kernel_regularizer=L2(0.001)))\n",
        "  model.add(Dense(1))  \n",
        "  model.compile(optimizer='rmsprop', loss=\"mse\", metrics=[\"mae\"])\n",
        "  return model"
      ],
      "execution_count": 31,
      "outputs": []
    },
    {
      "cell_type": "markdown",
      "metadata": {
        "id": "EOFmLRWzA62E"
      },
      "source": [
        "Запускаем поиск лучшей модели с помощью тюнера"
      ]
    },
    {
      "cell_type": "code",
      "metadata": {
        "id": "yxstE2OToGq_",
        "outputId": "13b97406-b07d-4600-d2f5-4fb308754c46",
        "colab": {
          "base_uri": "https://localhost:8080/",
          "height": 1000
        }
      },
      "source": [
        "def find_best_NN(x_train, y_train):\n",
        "  tuner = RandomSearch(build_model, objective=\"loss\", max_trials=10, executions_per_trial=1)\n",
        "  print(\"\\n\\n\\n\")\n",
        "  print('[INFO] start searching')\n",
        "  tuner.search(x_train, y_train, batch_size=100, epochs=10, validation_split=0.2)\n",
        "  print(\"\\n\\n\\nRESULTS SUMMARY\")\n",
        "  tuner.results_summary()\n",
        "  print(\"\\n\\n\\n\")\n",
        "  print(\"\\n\\n\\nHERE IS THE BEST MODEL\\n\\n\\n\")\n",
        "  best_params = tuner.get_best_hyperparameters()[0]\n",
        "  best_model = tuner.hypermodel.build(best_params)\n",
        "  best_model.summary()\n",
        "  return best_model\n",
        "\n",
        "best_model = find_best_NN(x_train, y_train)"
      ],
      "execution_count": 32,
      "outputs": [
        {
          "output_type": "stream",
          "text": [
            "INFO:tensorflow:Reloading Oracle from existing project ./untitled_project/oracle.json\n",
            "INFO:tensorflow:Reloading Tuner from ./untitled_project/tuner0.json\n",
            "\n",
            "\n",
            "\n",
            "\n",
            "[INFO] start searching\n",
            "INFO:tensorflow:Oracle triggered exit\n",
            "\n",
            "\n",
            "\n",
            "RESULTS SUMMARY\n"
          ],
          "name": "stdout"
        },
        {
          "output_type": "display_data",
          "data": {
            "text/html": [
              "<span style=\"color:#4527A0\"><h1 style=\"font-size:18px\">Results summary</h1></span>"
            ],
            "text/plain": [
              "<IPython.core.display.HTML object>"
            ]
          },
          "metadata": {
            "tags": []
          }
        },
        {
          "output_type": "display_data",
          "data": {
            "text/html": [
              "<span style=\"color:cyan\"> |-Results in ./untitled_project</span>"
            ],
            "text/plain": [
              "<IPython.core.display.HTML object>"
            ]
          },
          "metadata": {
            "tags": []
          }
        },
        {
          "output_type": "display_data",
          "data": {
            "text/html": [
              "<span style=\"color:cyan\"> |-Showing 10 best trials</span>"
            ],
            "text/plain": [
              "<IPython.core.display.HTML object>"
            ]
          },
          "metadata": {
            "tags": []
          }
        },
        {
          "output_type": "display_data",
          "data": {
            "text/html": [
              "<span style=\"color:cyan\"> |-Objective(name='loss', direction='min')</span>"
            ],
            "text/plain": [
              "<IPython.core.display.HTML object>"
            ]
          },
          "metadata": {
            "tags": []
          }
        },
        {
          "output_type": "display_data",
          "data": {
            "text/html": [
              "<span style=\"color:#4527A0\"><h1 style=\"font-size:18px\">Trial summary</h1></span>"
            ],
            "text/plain": [
              "<IPython.core.display.HTML object>"
            ]
          },
          "metadata": {
            "tags": []
          }
        },
        {
          "output_type": "display_data",
          "data": {
            "text/html": [
              "<span style=\"color:cyan\"> |-Trial ID: 5ebc4135c468e5d16b52f03d24aafbcf</span>"
            ],
            "text/plain": [
              "<IPython.core.display.HTML object>"
            ]
          },
          "metadata": {
            "tags": []
          }
        },
        {
          "output_type": "display_data",
          "data": {
            "text/html": [
              "<span style=\"color:cyan\"> |-Score: 81.8963851928711</span>"
            ],
            "text/plain": [
              "<IPython.core.display.HTML object>"
            ]
          },
          "metadata": {
            "tags": []
          }
        },
        {
          "output_type": "display_data",
          "data": {
            "text/html": [
              "<span style=\"color:cyan\"> |-Best step: 0</span>"
            ],
            "text/plain": [
              "<IPython.core.display.HTML object>"
            ]
          },
          "metadata": {
            "tags": []
          }
        },
        {
          "output_type": "display_data",
          "data": {
            "text/html": [
              "<span style=\"color:#7E57C2\"><h2 style=\"font-size:16px\">Hyperparameters:</h2></span>"
            ],
            "text/plain": [
              "<IPython.core.display.HTML object>"
            ]
          },
          "metadata": {
            "tags": []
          }
        },
        {
          "output_type": "display_data",
          "data": {
            "text/html": [
              "<span style=\"color:cyan\"> |-activation: selu</span>"
            ],
            "text/plain": [
              "<IPython.core.display.HTML object>"
            ]
          },
          "metadata": {
            "tags": []
          }
        },
        {
          "output_type": "display_data",
          "data": {
            "text/html": [
              "<span style=\"color:blue\"> |-hidden_layers: 2</span>"
            ],
            "text/plain": [
              "<IPython.core.display.HTML object>"
            ]
          },
          "metadata": {
            "tags": []
          }
        },
        {
          "output_type": "display_data",
          "data": {
            "text/html": [
              "<span style=\"color:cyan\"> |-layer_0_units_: 32</span>"
            ],
            "text/plain": [
              "<IPython.core.display.HTML object>"
            ]
          },
          "metadata": {
            "tags": []
          }
        },
        {
          "output_type": "display_data",
          "data": {
            "text/html": [
              "<span style=\"color:blue\"> |-layer_1_units_: 48</span>"
            ],
            "text/plain": [
              "<IPython.core.display.HTML object>"
            ]
          },
          "metadata": {
            "tags": []
          }
        },
        {
          "output_type": "display_data",
          "data": {
            "text/html": [
              "<span style=\"color:cyan\"> |-units: 416</span>"
            ],
            "text/plain": [
              "<IPython.core.display.HTML object>"
            ]
          },
          "metadata": {
            "tags": []
          }
        },
        {
          "output_type": "display_data",
          "data": {
            "text/html": [
              "<span style=\"color:#4527A0\"><h1 style=\"font-size:18px\">Trial summary</h1></span>"
            ],
            "text/plain": [
              "<IPython.core.display.HTML object>"
            ]
          },
          "metadata": {
            "tags": []
          }
        },
        {
          "output_type": "display_data",
          "data": {
            "text/html": [
              "<span style=\"color:cyan\"> |-Trial ID: cda7ca2090f6489c4c8d33edcc500836</span>"
            ],
            "text/plain": [
              "<IPython.core.display.HTML object>"
            ]
          },
          "metadata": {
            "tags": []
          }
        },
        {
          "output_type": "display_data",
          "data": {
            "text/html": [
              "<span style=\"color:cyan\"> |-Score: 83.27932739257812</span>"
            ],
            "text/plain": [
              "<IPython.core.display.HTML object>"
            ]
          },
          "metadata": {
            "tags": []
          }
        },
        {
          "output_type": "display_data",
          "data": {
            "text/html": [
              "<span style=\"color:cyan\"> |-Best step: 0</span>"
            ],
            "text/plain": [
              "<IPython.core.display.HTML object>"
            ]
          },
          "metadata": {
            "tags": []
          }
        },
        {
          "output_type": "display_data",
          "data": {
            "text/html": [
              "<span style=\"color:#7E57C2\"><h2 style=\"font-size:16px\">Hyperparameters:</h2></span>"
            ],
            "text/plain": [
              "<IPython.core.display.HTML object>"
            ]
          },
          "metadata": {
            "tags": []
          }
        },
        {
          "output_type": "display_data",
          "data": {
            "text/html": [
              "<span style=\"color:cyan\"> |-activation: selu</span>"
            ],
            "text/plain": [
              "<IPython.core.display.HTML object>"
            ]
          },
          "metadata": {
            "tags": []
          }
        },
        {
          "output_type": "display_data",
          "data": {
            "text/html": [
              "<span style=\"color:blue\"> |-hidden_layers: 3</span>"
            ],
            "text/plain": [
              "<IPython.core.display.HTML object>"
            ]
          },
          "metadata": {
            "tags": []
          }
        },
        {
          "output_type": "display_data",
          "data": {
            "text/html": [
              "<span style=\"color:cyan\"> |-layer_0_units_: 32</span>"
            ],
            "text/plain": [
              "<IPython.core.display.HTML object>"
            ]
          },
          "metadata": {
            "tags": []
          }
        },
        {
          "output_type": "display_data",
          "data": {
            "text/html": [
              "<span style=\"color:blue\"> |-layer_1_units_: 48</span>"
            ],
            "text/plain": [
              "<IPython.core.display.HTML object>"
            ]
          },
          "metadata": {
            "tags": []
          }
        },
        {
          "output_type": "display_data",
          "data": {
            "text/html": [
              "<span style=\"color:cyan\"> |-layer_2_units_: 10</span>"
            ],
            "text/plain": [
              "<IPython.core.display.HTML object>"
            ]
          },
          "metadata": {
            "tags": []
          }
        },
        {
          "output_type": "display_data",
          "data": {
            "text/html": [
              "<span style=\"color:blue\"> |-units: 416</span>"
            ],
            "text/plain": [
              "<IPython.core.display.HTML object>"
            ]
          },
          "metadata": {
            "tags": []
          }
        },
        {
          "output_type": "display_data",
          "data": {
            "text/html": [
              "<span style=\"color:#4527A0\"><h1 style=\"font-size:18px\">Trial summary</h1></span>"
            ],
            "text/plain": [
              "<IPython.core.display.HTML object>"
            ]
          },
          "metadata": {
            "tags": []
          }
        },
        {
          "output_type": "display_data",
          "data": {
            "text/html": [
              "<span style=\"color:cyan\"> |-Trial ID: c3969e9f00481db908fc4859edf2a3b5</span>"
            ],
            "text/plain": [
              "<IPython.core.display.HTML object>"
            ]
          },
          "metadata": {
            "tags": []
          }
        },
        {
          "output_type": "display_data",
          "data": {
            "text/html": [
              "<span style=\"color:cyan\"> |-Score: 84.70280456542969</span>"
            ],
            "text/plain": [
              "<IPython.core.display.HTML object>"
            ]
          },
          "metadata": {
            "tags": []
          }
        },
        {
          "output_type": "display_data",
          "data": {
            "text/html": [
              "<span style=\"color:cyan\"> |-Best step: 0</span>"
            ],
            "text/plain": [
              "<IPython.core.display.HTML object>"
            ]
          },
          "metadata": {
            "tags": []
          }
        },
        {
          "output_type": "display_data",
          "data": {
            "text/html": [
              "<span style=\"color:#7E57C2\"><h2 style=\"font-size:16px\">Hyperparameters:</h2></span>"
            ],
            "text/plain": [
              "<IPython.core.display.HTML object>"
            ]
          },
          "metadata": {
            "tags": []
          }
        },
        {
          "output_type": "display_data",
          "data": {
            "text/html": [
              "<span style=\"color:cyan\"> |-activation: elu</span>"
            ],
            "text/plain": [
              "<IPython.core.display.HTML object>"
            ]
          },
          "metadata": {
            "tags": []
          }
        },
        {
          "output_type": "display_data",
          "data": {
            "text/html": [
              "<span style=\"color:blue\"> |-hidden_layers: 2</span>"
            ],
            "text/plain": [
              "<IPython.core.display.HTML object>"
            ]
          },
          "metadata": {
            "tags": []
          }
        },
        {
          "output_type": "display_data",
          "data": {
            "text/html": [
              "<span style=\"color:cyan\"> |-layer_0_units_: 32</span>"
            ],
            "text/plain": [
              "<IPython.core.display.HTML object>"
            ]
          },
          "metadata": {
            "tags": []
          }
        },
        {
          "output_type": "display_data",
          "data": {
            "text/html": [
              "<span style=\"color:blue\"> |-layer_1_units_: 16</span>"
            ],
            "text/plain": [
              "<IPython.core.display.HTML object>"
            ]
          },
          "metadata": {
            "tags": []
          }
        },
        {
          "output_type": "display_data",
          "data": {
            "text/html": [
              "<span style=\"color:cyan\"> |-units: 352</span>"
            ],
            "text/plain": [
              "<IPython.core.display.HTML object>"
            ]
          },
          "metadata": {
            "tags": []
          }
        },
        {
          "output_type": "display_data",
          "data": {
            "text/html": [
              "<span style=\"color:#4527A0\"><h1 style=\"font-size:18px\">Trial summary</h1></span>"
            ],
            "text/plain": [
              "<IPython.core.display.HTML object>"
            ]
          },
          "metadata": {
            "tags": []
          }
        },
        {
          "output_type": "display_data",
          "data": {
            "text/html": [
              "<span style=\"color:cyan\"> |-Trial ID: 6df39d97555dca378284e1635c16fd28</span>"
            ],
            "text/plain": [
              "<IPython.core.display.HTML object>"
            ]
          },
          "metadata": {
            "tags": []
          }
        },
        {
          "output_type": "display_data",
          "data": {
            "text/html": [
              "<span style=\"color:cyan\"> |-Score: 86.80870056152344</span>"
            ],
            "text/plain": [
              "<IPython.core.display.HTML object>"
            ]
          },
          "metadata": {
            "tags": []
          }
        },
        {
          "output_type": "display_data",
          "data": {
            "text/html": [
              "<span style=\"color:cyan\"> |-Best step: 0</span>"
            ],
            "text/plain": [
              "<IPython.core.display.HTML object>"
            ]
          },
          "metadata": {
            "tags": []
          }
        },
        {
          "output_type": "display_data",
          "data": {
            "text/html": [
              "<span style=\"color:#7E57C2\"><h2 style=\"font-size:16px\">Hyperparameters:</h2></span>"
            ],
            "text/plain": [
              "<IPython.core.display.HTML object>"
            ]
          },
          "metadata": {
            "tags": []
          }
        },
        {
          "output_type": "display_data",
          "data": {
            "text/html": [
              "<span style=\"color:cyan\"> |-activation: elu</span>"
            ],
            "text/plain": [
              "<IPython.core.display.HTML object>"
            ]
          },
          "metadata": {
            "tags": []
          }
        },
        {
          "output_type": "display_data",
          "data": {
            "text/html": [
              "<span style=\"color:blue\"> |-hidden_layers: 2</span>"
            ],
            "text/plain": [
              "<IPython.core.display.HTML object>"
            ]
          },
          "metadata": {
            "tags": []
          }
        },
        {
          "output_type": "display_data",
          "data": {
            "text/html": [
              "<span style=\"color:cyan\"> |-layer_0_units_: 32</span>"
            ],
            "text/plain": [
              "<IPython.core.display.HTML object>"
            ]
          },
          "metadata": {
            "tags": []
          }
        },
        {
          "output_type": "display_data",
          "data": {
            "text/html": [
              "<span style=\"color:blue\"> |-layer_1_units_: 16</span>"
            ],
            "text/plain": [
              "<IPython.core.display.HTML object>"
            ]
          },
          "metadata": {
            "tags": []
          }
        },
        {
          "output_type": "display_data",
          "data": {
            "text/html": [
              "<span style=\"color:cyan\"> |-layer_2_units_: 31</span>"
            ],
            "text/plain": [
              "<IPython.core.display.HTML object>"
            ]
          },
          "metadata": {
            "tags": []
          }
        },
        {
          "output_type": "display_data",
          "data": {
            "text/html": [
              "<span style=\"color:blue\"> |-units: 288</span>"
            ],
            "text/plain": [
              "<IPython.core.display.HTML object>"
            ]
          },
          "metadata": {
            "tags": []
          }
        },
        {
          "output_type": "display_data",
          "data": {
            "text/html": [
              "<span style=\"color:#4527A0\"><h1 style=\"font-size:18px\">Trial summary</h1></span>"
            ],
            "text/plain": [
              "<IPython.core.display.HTML object>"
            ]
          },
          "metadata": {
            "tags": []
          }
        },
        {
          "output_type": "display_data",
          "data": {
            "text/html": [
              "<span style=\"color:cyan\"> |-Trial ID: 1e61fc7c829fd7425ef1500cb66b5303</span>"
            ],
            "text/plain": [
              "<IPython.core.display.HTML object>"
            ]
          },
          "metadata": {
            "tags": []
          }
        },
        {
          "output_type": "display_data",
          "data": {
            "text/html": [
              "<span style=\"color:cyan\"> |-Score: 88.7264633178711</span>"
            ],
            "text/plain": [
              "<IPython.core.display.HTML object>"
            ]
          },
          "metadata": {
            "tags": []
          }
        },
        {
          "output_type": "display_data",
          "data": {
            "text/html": [
              "<span style=\"color:cyan\"> |-Best step: 0</span>"
            ],
            "text/plain": [
              "<IPython.core.display.HTML object>"
            ]
          },
          "metadata": {
            "tags": []
          }
        },
        {
          "output_type": "display_data",
          "data": {
            "text/html": [
              "<span style=\"color:#7E57C2\"><h2 style=\"font-size:16px\">Hyperparameters:</h2></span>"
            ],
            "text/plain": [
              "<IPython.core.display.HTML object>"
            ]
          },
          "metadata": {
            "tags": []
          }
        },
        {
          "output_type": "display_data",
          "data": {
            "text/html": [
              "<span style=\"color:cyan\"> |-activation: selu</span>"
            ],
            "text/plain": [
              "<IPython.core.display.HTML object>"
            ]
          },
          "metadata": {
            "tags": []
          }
        },
        {
          "output_type": "display_data",
          "data": {
            "text/html": [
              "<span style=\"color:blue\"> |-hidden_layers: 2</span>"
            ],
            "text/plain": [
              "<IPython.core.display.HTML object>"
            ]
          },
          "metadata": {
            "tags": []
          }
        },
        {
          "output_type": "display_data",
          "data": {
            "text/html": [
              "<span style=\"color:cyan\"> |-layer_0_units_: 96</span>"
            ],
            "text/plain": [
              "<IPython.core.display.HTML object>"
            ]
          },
          "metadata": {
            "tags": []
          }
        },
        {
          "output_type": "display_data",
          "data": {
            "text/html": [
              "<span style=\"color:blue\"> |-layer_1_units_: 16</span>"
            ],
            "text/plain": [
              "<IPython.core.display.HTML object>"
            ]
          },
          "metadata": {
            "tags": []
          }
        },
        {
          "output_type": "display_data",
          "data": {
            "text/html": [
              "<span style=\"color:cyan\"> |-units: 512</span>"
            ],
            "text/plain": [
              "<IPython.core.display.HTML object>"
            ]
          },
          "metadata": {
            "tags": []
          }
        },
        {
          "output_type": "display_data",
          "data": {
            "text/html": [
              "<span style=\"color:#4527A0\"><h1 style=\"font-size:18px\">Trial summary</h1></span>"
            ],
            "text/plain": [
              "<IPython.core.display.HTML object>"
            ]
          },
          "metadata": {
            "tags": []
          }
        },
        {
          "output_type": "display_data",
          "data": {
            "text/html": [
              "<span style=\"color:cyan\"> |-Trial ID: 9c7be0783d7dfcecd9e453ea1bb3c8b4</span>"
            ],
            "text/plain": [
              "<IPython.core.display.HTML object>"
            ]
          },
          "metadata": {
            "tags": []
          }
        },
        {
          "output_type": "display_data",
          "data": {
            "text/html": [
              "<span style=\"color:cyan\"> |-Score: 90.07899475097656</span>"
            ],
            "text/plain": [
              "<IPython.core.display.HTML object>"
            ]
          },
          "metadata": {
            "tags": []
          }
        },
        {
          "output_type": "display_data",
          "data": {
            "text/html": [
              "<span style=\"color:cyan\"> |-Best step: 0</span>"
            ],
            "text/plain": [
              "<IPython.core.display.HTML object>"
            ]
          },
          "metadata": {
            "tags": []
          }
        },
        {
          "output_type": "display_data",
          "data": {
            "text/html": [
              "<span style=\"color:#7E57C2\"><h2 style=\"font-size:16px\">Hyperparameters:</h2></span>"
            ],
            "text/plain": [
              "<IPython.core.display.HTML object>"
            ]
          },
          "metadata": {
            "tags": []
          }
        },
        {
          "output_type": "display_data",
          "data": {
            "text/html": [
              "<span style=\"color:cyan\"> |-activation: elu</span>"
            ],
            "text/plain": [
              "<IPython.core.display.HTML object>"
            ]
          },
          "metadata": {
            "tags": []
          }
        },
        {
          "output_type": "display_data",
          "data": {
            "text/html": [
              "<span style=\"color:blue\"> |-hidden_layers: 3</span>"
            ],
            "text/plain": [
              "<IPython.core.display.HTML object>"
            ]
          },
          "metadata": {
            "tags": []
          }
        },
        {
          "output_type": "display_data",
          "data": {
            "text/html": [
              "<span style=\"color:cyan\"> |-layer_0_units_: 96</span>"
            ],
            "text/plain": [
              "<IPython.core.display.HTML object>"
            ]
          },
          "metadata": {
            "tags": []
          }
        },
        {
          "output_type": "display_data",
          "data": {
            "text/html": [
              "<span style=\"color:blue\"> |-layer_1_units_: 48</span>"
            ],
            "text/plain": [
              "<IPython.core.display.HTML object>"
            ]
          },
          "metadata": {
            "tags": []
          }
        },
        {
          "output_type": "display_data",
          "data": {
            "text/html": [
              "<span style=\"color:cyan\"> |-layer_2_units_: 31</span>"
            ],
            "text/plain": [
              "<IPython.core.display.HTML object>"
            ]
          },
          "metadata": {
            "tags": []
          }
        },
        {
          "output_type": "display_data",
          "data": {
            "text/html": [
              "<span style=\"color:blue\"> |-units: 352</span>"
            ],
            "text/plain": [
              "<IPython.core.display.HTML object>"
            ]
          },
          "metadata": {
            "tags": []
          }
        },
        {
          "output_type": "display_data",
          "data": {
            "text/html": [
              "<span style=\"color:#4527A0\"><h1 style=\"font-size:18px\">Trial summary</h1></span>"
            ],
            "text/plain": [
              "<IPython.core.display.HTML object>"
            ]
          },
          "metadata": {
            "tags": []
          }
        },
        {
          "output_type": "display_data",
          "data": {
            "text/html": [
              "<span style=\"color:cyan\"> |-Trial ID: 932688f502b59c857382793758e1183a</span>"
            ],
            "text/plain": [
              "<IPython.core.display.HTML object>"
            ]
          },
          "metadata": {
            "tags": []
          }
        },
        {
          "output_type": "display_data",
          "data": {
            "text/html": [
              "<span style=\"color:cyan\"> |-Score: 92.65047454833984</span>"
            ],
            "text/plain": [
              "<IPython.core.display.HTML object>"
            ]
          },
          "metadata": {
            "tags": []
          }
        },
        {
          "output_type": "display_data",
          "data": {
            "text/html": [
              "<span style=\"color:cyan\"> |-Best step: 0</span>"
            ],
            "text/plain": [
              "<IPython.core.display.HTML object>"
            ]
          },
          "metadata": {
            "tags": []
          }
        },
        {
          "output_type": "display_data",
          "data": {
            "text/html": [
              "<span style=\"color:#7E57C2\"><h2 style=\"font-size:16px\">Hyperparameters:</h2></span>"
            ],
            "text/plain": [
              "<IPython.core.display.HTML object>"
            ]
          },
          "metadata": {
            "tags": []
          }
        },
        {
          "output_type": "display_data",
          "data": {
            "text/html": [
              "<span style=\"color:cyan\"> |-activation: relu</span>"
            ],
            "text/plain": [
              "<IPython.core.display.HTML object>"
            ]
          },
          "metadata": {
            "tags": []
          }
        },
        {
          "output_type": "display_data",
          "data": {
            "text/html": [
              "<span style=\"color:blue\"> |-hidden_layers: 1</span>"
            ],
            "text/plain": [
              "<IPython.core.display.HTML object>"
            ]
          },
          "metadata": {
            "tags": []
          }
        },
        {
          "output_type": "display_data",
          "data": {
            "text/html": [
              "<span style=\"color:cyan\"> |-layer_0_units_: 32</span>"
            ],
            "text/plain": [
              "<IPython.core.display.HTML object>"
            ]
          },
          "metadata": {
            "tags": []
          }
        },
        {
          "output_type": "display_data",
          "data": {
            "text/html": [
              "<span style=\"color:blue\"> |-layer_1_units_: 16</span>"
            ],
            "text/plain": [
              "<IPython.core.display.HTML object>"
            ]
          },
          "metadata": {
            "tags": []
          }
        },
        {
          "output_type": "display_data",
          "data": {
            "text/html": [
              "<span style=\"color:cyan\"> |-layer_2_units_: 10</span>"
            ],
            "text/plain": [
              "<IPython.core.display.HTML object>"
            ]
          },
          "metadata": {
            "tags": []
          }
        },
        {
          "output_type": "display_data",
          "data": {
            "text/html": [
              "<span style=\"color:blue\"> |-units: 384</span>"
            ],
            "text/plain": [
              "<IPython.core.display.HTML object>"
            ]
          },
          "metadata": {
            "tags": []
          }
        },
        {
          "output_type": "display_data",
          "data": {
            "text/html": [
              "<span style=\"color:#4527A0\"><h1 style=\"font-size:18px\">Trial summary</h1></span>"
            ],
            "text/plain": [
              "<IPython.core.display.HTML object>"
            ]
          },
          "metadata": {
            "tags": []
          }
        },
        {
          "output_type": "display_data",
          "data": {
            "text/html": [
              "<span style=\"color:cyan\"> |-Trial ID: 512111fda8a1dc5dea2e3f385ede6f59</span>"
            ],
            "text/plain": [
              "<IPython.core.display.HTML object>"
            ]
          },
          "metadata": {
            "tags": []
          }
        },
        {
          "output_type": "display_data",
          "data": {
            "text/html": [
              "<span style=\"color:cyan\"> |-Score: 93.507080078125</span>"
            ],
            "text/plain": [
              "<IPython.core.display.HTML object>"
            ]
          },
          "metadata": {
            "tags": []
          }
        },
        {
          "output_type": "display_data",
          "data": {
            "text/html": [
              "<span style=\"color:cyan\"> |-Best step: 0</span>"
            ],
            "text/plain": [
              "<IPython.core.display.HTML object>"
            ]
          },
          "metadata": {
            "tags": []
          }
        },
        {
          "output_type": "display_data",
          "data": {
            "text/html": [
              "<span style=\"color:#7E57C2\"><h2 style=\"font-size:16px\">Hyperparameters:</h2></span>"
            ],
            "text/plain": [
              "<IPython.core.display.HTML object>"
            ]
          },
          "metadata": {
            "tags": []
          }
        },
        {
          "output_type": "display_data",
          "data": {
            "text/html": [
              "<span style=\"color:cyan\"> |-activation: elu</span>"
            ],
            "text/plain": [
              "<IPython.core.display.HTML object>"
            ]
          },
          "metadata": {
            "tags": []
          }
        },
        {
          "output_type": "display_data",
          "data": {
            "text/html": [
              "<span style=\"color:blue\"> |-hidden_layers: 2</span>"
            ],
            "text/plain": [
              "<IPython.core.display.HTML object>"
            ]
          },
          "metadata": {
            "tags": []
          }
        },
        {
          "output_type": "display_data",
          "data": {
            "text/html": [
              "<span style=\"color:cyan\"> |-layer_0_units_: 96</span>"
            ],
            "text/plain": [
              "<IPython.core.display.HTML object>"
            ]
          },
          "metadata": {
            "tags": []
          }
        },
        {
          "output_type": "display_data",
          "data": {
            "text/html": [
              "<span style=\"color:blue\"> |-layer_1_units_: 48</span>"
            ],
            "text/plain": [
              "<IPython.core.display.HTML object>"
            ]
          },
          "metadata": {
            "tags": []
          }
        },
        {
          "output_type": "display_data",
          "data": {
            "text/html": [
              "<span style=\"color:cyan\"> |-layer_2_units_: 10</span>"
            ],
            "text/plain": [
              "<IPython.core.display.HTML object>"
            ]
          },
          "metadata": {
            "tags": []
          }
        },
        {
          "output_type": "display_data",
          "data": {
            "text/html": [
              "<span style=\"color:blue\"> |-units: 416</span>"
            ],
            "text/plain": [
              "<IPython.core.display.HTML object>"
            ]
          },
          "metadata": {
            "tags": []
          }
        },
        {
          "output_type": "display_data",
          "data": {
            "text/html": [
              "<span style=\"color:#4527A0\"><h1 style=\"font-size:18px\">Trial summary</h1></span>"
            ],
            "text/plain": [
              "<IPython.core.display.HTML object>"
            ]
          },
          "metadata": {
            "tags": []
          }
        },
        {
          "output_type": "display_data",
          "data": {
            "text/html": [
              "<span style=\"color:cyan\"> |-Trial ID: 630e7b9dcae9cdef43c4816b2e485b9c</span>"
            ],
            "text/plain": [
              "<IPython.core.display.HTML object>"
            ]
          },
          "metadata": {
            "tags": []
          }
        },
        {
          "output_type": "display_data",
          "data": {
            "text/html": [
              "<span style=\"color:cyan\"> |-Score: 94.91659545898438</span>"
            ],
            "text/plain": [
              "<IPython.core.display.HTML object>"
            ]
          },
          "metadata": {
            "tags": []
          }
        },
        {
          "output_type": "display_data",
          "data": {
            "text/html": [
              "<span style=\"color:cyan\"> |-Best step: 0</span>"
            ],
            "text/plain": [
              "<IPython.core.display.HTML object>"
            ]
          },
          "metadata": {
            "tags": []
          }
        },
        {
          "output_type": "display_data",
          "data": {
            "text/html": [
              "<span style=\"color:#7E57C2\"><h2 style=\"font-size:16px\">Hyperparameters:</h2></span>"
            ],
            "text/plain": [
              "<IPython.core.display.HTML object>"
            ]
          },
          "metadata": {
            "tags": []
          }
        },
        {
          "output_type": "display_data",
          "data": {
            "text/html": [
              "<span style=\"color:cyan\"> |-activation: relu</span>"
            ],
            "text/plain": [
              "<IPython.core.display.HTML object>"
            ]
          },
          "metadata": {
            "tags": []
          }
        },
        {
          "output_type": "display_data",
          "data": {
            "text/html": [
              "<span style=\"color:blue\"> |-hidden_layers: 1</span>"
            ],
            "text/plain": [
              "<IPython.core.display.HTML object>"
            ]
          },
          "metadata": {
            "tags": []
          }
        },
        {
          "output_type": "display_data",
          "data": {
            "text/html": [
              "<span style=\"color:cyan\"> |-layer_0_units_: 96</span>"
            ],
            "text/plain": [
              "<IPython.core.display.HTML object>"
            ]
          },
          "metadata": {
            "tags": []
          }
        },
        {
          "output_type": "display_data",
          "data": {
            "text/html": [
              "<span style=\"color:blue\"> |-layer_1_units_: 16</span>"
            ],
            "text/plain": [
              "<IPython.core.display.HTML object>"
            ]
          },
          "metadata": {
            "tags": []
          }
        },
        {
          "output_type": "display_data",
          "data": {
            "text/html": [
              "<span style=\"color:cyan\"> |-layer_2_units_: 10</span>"
            ],
            "text/plain": [
              "<IPython.core.display.HTML object>"
            ]
          },
          "metadata": {
            "tags": []
          }
        },
        {
          "output_type": "display_data",
          "data": {
            "text/html": [
              "<span style=\"color:blue\"> |-units: 512</span>"
            ],
            "text/plain": [
              "<IPython.core.display.HTML object>"
            ]
          },
          "metadata": {
            "tags": []
          }
        },
        {
          "output_type": "display_data",
          "data": {
            "text/html": [
              "<span style=\"color:#4527A0\"><h1 style=\"font-size:18px\">Trial summary</h1></span>"
            ],
            "text/plain": [
              "<IPython.core.display.HTML object>"
            ]
          },
          "metadata": {
            "tags": []
          }
        },
        {
          "output_type": "display_data",
          "data": {
            "text/html": [
              "<span style=\"color:cyan\"> |-Trial ID: 43e26a4be70d63d17dfc650a83e8475f</span>"
            ],
            "text/plain": [
              "<IPython.core.display.HTML object>"
            ]
          },
          "metadata": {
            "tags": []
          }
        },
        {
          "output_type": "display_data",
          "data": {
            "text/html": [
              "<span style=\"color:cyan\"> |-Score: 95.3829116821289</span>"
            ],
            "text/plain": [
              "<IPython.core.display.HTML object>"
            ]
          },
          "metadata": {
            "tags": []
          }
        },
        {
          "output_type": "display_data",
          "data": {
            "text/html": [
              "<span style=\"color:cyan\"> |-Best step: 0</span>"
            ],
            "text/plain": [
              "<IPython.core.display.HTML object>"
            ]
          },
          "metadata": {
            "tags": []
          }
        },
        {
          "output_type": "display_data",
          "data": {
            "text/html": [
              "<span style=\"color:#7E57C2\"><h2 style=\"font-size:16px\">Hyperparameters:</h2></span>"
            ],
            "text/plain": [
              "<IPython.core.display.HTML object>"
            ]
          },
          "metadata": {
            "tags": []
          }
        },
        {
          "output_type": "display_data",
          "data": {
            "text/html": [
              "<span style=\"color:cyan\"> |-activation: elu</span>"
            ],
            "text/plain": [
              "<IPython.core.display.HTML object>"
            ]
          },
          "metadata": {
            "tags": []
          }
        },
        {
          "output_type": "display_data",
          "data": {
            "text/html": [
              "<span style=\"color:blue\"> |-hidden_layers: 3</span>"
            ],
            "text/plain": [
              "<IPython.core.display.HTML object>"
            ]
          },
          "metadata": {
            "tags": []
          }
        },
        {
          "output_type": "display_data",
          "data": {
            "text/html": [
              "<span style=\"color:cyan\"> |-layer_0_units_: 96</span>"
            ],
            "text/plain": [
              "<IPython.core.display.HTML object>"
            ]
          },
          "metadata": {
            "tags": []
          }
        },
        {
          "output_type": "display_data",
          "data": {
            "text/html": [
              "<span style=\"color:blue\"> |-layer_1_units_: 48</span>"
            ],
            "text/plain": [
              "<IPython.core.display.HTML object>"
            ]
          },
          "metadata": {
            "tags": []
          }
        },
        {
          "output_type": "display_data",
          "data": {
            "text/html": [
              "<span style=\"color:cyan\"> |-layer_2_units_: 10</span>"
            ],
            "text/plain": [
              "<IPython.core.display.HTML object>"
            ]
          },
          "metadata": {
            "tags": []
          }
        },
        {
          "output_type": "display_data",
          "data": {
            "text/html": [
              "<span style=\"color:blue\"> |-units: 384</span>"
            ],
            "text/plain": [
              "<IPython.core.display.HTML object>"
            ]
          },
          "metadata": {
            "tags": []
          }
        },
        {
          "output_type": "stream",
          "text": [
            "\n",
            "\n",
            "\n",
            "\n",
            "\n",
            "\n",
            "\n",
            "HERE IS THE BEST MODEL\n",
            "\n",
            "\n",
            "\n",
            "Model: \"sequential\"\n",
            "_________________________________________________________________\n",
            "Layer (type)                 Output Shape              Param #   \n",
            "=================================================================\n",
            "dense (Dense)                (None, 416)               151840    \n",
            "_________________________________________________________________\n",
            "dropout (Dropout)            (None, 416)               0         \n",
            "_________________________________________________________________\n",
            "dense_1 (Dense)              (None, 32)                13344     \n",
            "_________________________________________________________________\n",
            "dense_2 (Dense)              (None, 48)                1584      \n",
            "_________________________________________________________________\n",
            "dense_3 (Dense)              (None, 1)                 49        \n",
            "=================================================================\n",
            "Total params: 166,817\n",
            "Trainable params: 166,817\n",
            "Non-trainable params: 0\n",
            "_________________________________________________________________\n"
          ],
          "name": "stdout"
        }
      ]
    },
    {
      "cell_type": "markdown",
      "metadata": {
        "id": "S0sTjh65Ap9L"
      },
      "source": [
        "Обучаем лучшую модель, найденную тюнером"
      ]
    },
    {
      "cell_type": "code",
      "metadata": {
        "id": "XaGjC3G8oUtp",
        "outputId": "05bdac92-947a-40a2-b3c3-bc8edafba22c",
        "colab": {
          "base_uri": "https://localhost:8080/",
          "height": 1000
        }
      },
      "source": [
        "best_history = best_model.fit(x_train, y_train, epochs=100, batch_size=128, validation_split=0.2)\n",
        "best_history = best_history.history\n",
        "print(\"[INFO] Training has been finished\")"
      ],
      "execution_count": 33,
      "outputs": [
        {
          "output_type": "stream",
          "text": [
            "Epoch 1/100\n",
            "19/19 [==============================] - 0s 21ms/step - loss: 3799.1091 - mae: 53.0724 - val_loss: 188.3232 - val_mae: 10.3175\n",
            "Epoch 2/100\n",
            "19/19 [==============================] - 0s 9ms/step - loss: 167.1566 - mae: 9.8369 - val_loss: 147.5474 - val_mae: 9.3048\n",
            "Epoch 3/100\n",
            "19/19 [==============================] - 0s 8ms/step - loss: 134.4121 - mae: 8.6713 - val_loss: 120.3172 - val_mae: 7.4567\n",
            "Epoch 4/100\n",
            "19/19 [==============================] - 0s 8ms/step - loss: 119.7718 - mae: 8.0810 - val_loss: 92.6460 - val_mae: 6.8773\n",
            "Epoch 5/100\n",
            "19/19 [==============================] - 0s 9ms/step - loss: 108.2253 - mae: 7.5396 - val_loss: 88.5971 - val_mae: 7.0007\n",
            "Epoch 6/100\n",
            "19/19 [==============================] - 0s 10ms/step - loss: 102.9447 - mae: 7.3219 - val_loss: 88.3809 - val_mae: 5.8894\n",
            "Epoch 7/100\n",
            "19/19 [==============================] - 0s 8ms/step - loss: 97.6505 - mae: 7.0865 - val_loss: 78.3567 - val_mae: 6.2955\n",
            "Epoch 8/100\n",
            "19/19 [==============================] - 0s 9ms/step - loss: 94.6853 - mae: 6.9720 - val_loss: 74.7026 - val_mae: 5.9265\n",
            "Epoch 9/100\n",
            "19/19 [==============================] - 0s 10ms/step - loss: 94.8305 - mae: 6.9231 - val_loss: 114.8819 - val_mae: 7.1320\n",
            "Epoch 10/100\n",
            "19/19 [==============================] - 0s 10ms/step - loss: 93.7169 - mae: 7.0226 - val_loss: 83.1962 - val_mae: 6.9819\n",
            "Epoch 11/100\n",
            "19/19 [==============================] - 0s 10ms/step - loss: 89.7782 - mae: 6.8464 - val_loss: 73.7619 - val_mae: 5.3641\n",
            "Epoch 12/100\n",
            "19/19 [==============================] - 0s 9ms/step - loss: 90.4191 - mae: 6.7685 - val_loss: 71.0935 - val_mae: 5.5886\n",
            "Epoch 13/100\n",
            "19/19 [==============================] - 0s 9ms/step - loss: 90.7878 - mae: 6.8328 - val_loss: 71.7701 - val_mae: 5.8289\n",
            "Epoch 14/100\n",
            "19/19 [==============================] - 0s 9ms/step - loss: 96.3734 - mae: 6.9944 - val_loss: 95.4019 - val_mae: 6.1084\n",
            "Epoch 15/100\n",
            "19/19 [==============================] - 0s 9ms/step - loss: 94.1755 - mae: 6.8425 - val_loss: 74.0811 - val_mae: 6.2030\n",
            "Epoch 16/100\n",
            "19/19 [==============================] - 0s 10ms/step - loss: 89.5287 - mae: 6.7363 - val_loss: 109.7774 - val_mae: 6.8548\n",
            "Epoch 17/100\n",
            "19/19 [==============================] - 0s 9ms/step - loss: 87.3319 - mae: 6.6272 - val_loss: 82.6555 - val_mae: 7.0768\n",
            "Epoch 18/100\n",
            "19/19 [==============================] - 0s 9ms/step - loss: 86.3036 - mae: 6.6778 - val_loss: 80.2561 - val_mae: 6.8732\n",
            "Epoch 19/100\n",
            "19/19 [==============================] - 0s 9ms/step - loss: 93.4100 - mae: 6.8984 - val_loss: 74.3458 - val_mae: 6.2860\n",
            "Epoch 20/100\n",
            "19/19 [==============================] - 0s 9ms/step - loss: 79.5927 - mae: 6.2797 - val_loss: 71.4633 - val_mae: 5.7278\n",
            "Epoch 21/100\n",
            "19/19 [==============================] - 0s 9ms/step - loss: 90.9551 - mae: 6.8609 - val_loss: 82.5777 - val_mae: 7.0714\n",
            "Epoch 22/100\n",
            "19/19 [==============================] - 0s 8ms/step - loss: 88.9200 - mae: 6.7650 - val_loss: 82.1463 - val_mae: 7.0383\n",
            "Epoch 23/100\n",
            "19/19 [==============================] - 0s 9ms/step - loss: 85.2795 - mae: 6.5853 - val_loss: 70.3272 - val_mae: 5.4694\n",
            "Epoch 24/100\n",
            "19/19 [==============================] - 0s 9ms/step - loss: 87.8466 - mae: 6.6622 - val_loss: 106.0978 - val_mae: 6.6708\n",
            "Epoch 25/100\n",
            "19/19 [==============================] - 0s 9ms/step - loss: 88.1101 - mae: 6.6946 - val_loss: 94.2789 - val_mae: 7.9344\n",
            "Epoch 26/100\n",
            "19/19 [==============================] - 0s 9ms/step - loss: 89.1343 - mae: 6.6385 - val_loss: 103.6137 - val_mae: 6.5349\n",
            "Epoch 27/100\n",
            "19/19 [==============================] - 0s 11ms/step - loss: 87.5549 - mae: 6.6731 - val_loss: 70.4038 - val_mae: 5.3866\n",
            "Epoch 28/100\n",
            "19/19 [==============================] - 0s 9ms/step - loss: 87.6607 - mae: 6.5841 - val_loss: 69.8789 - val_mae: 5.4015\n",
            "Epoch 29/100\n",
            "19/19 [==============================] - 0s 10ms/step - loss: 85.0868 - mae: 6.6329 - val_loss: 70.4048 - val_mae: 5.4517\n",
            "Epoch 30/100\n",
            "19/19 [==============================] - 0s 10ms/step - loss: 88.7946 - mae: 6.7923 - val_loss: 69.8978 - val_mae: 5.5327\n",
            "Epoch 31/100\n",
            "19/19 [==============================] - 0s 9ms/step - loss: 86.1364 - mae: 6.4618 - val_loss: 70.7689 - val_mae: 5.8223\n",
            "Epoch 32/100\n",
            "19/19 [==============================] - 0s 10ms/step - loss: 82.6001 - mae: 6.4836 - val_loss: 78.1703 - val_mae: 6.7062\n",
            "Epoch 33/100\n",
            "19/19 [==============================] - 0s 9ms/step - loss: 88.7556 - mae: 6.7344 - val_loss: 85.5050 - val_mae: 5.6056\n",
            "Epoch 34/100\n",
            "19/19 [==============================] - 0s 9ms/step - loss: 77.5535 - mae: 6.0782 - val_loss: 98.0002 - val_mae: 6.2083\n",
            "Epoch 35/100\n",
            "19/19 [==============================] - 0s 10ms/step - loss: 88.3358 - mae: 6.6739 - val_loss: 128.2719 - val_mae: 7.8615\n",
            "Epoch 36/100\n",
            "19/19 [==============================] - 0s 9ms/step - loss: 87.7358 - mae: 6.5640 - val_loss: 70.4244 - val_mae: 5.2722\n",
            "Epoch 37/100\n",
            "19/19 [==============================] - 0s 10ms/step - loss: 86.0291 - mae: 6.6074 - val_loss: 71.0882 - val_mae: 5.8094\n",
            "Epoch 38/100\n",
            "19/19 [==============================] - 0s 9ms/step - loss: 83.0927 - mae: 6.4163 - val_loss: 82.8162 - val_mae: 7.1607\n",
            "Epoch 39/100\n",
            "19/19 [==============================] - 0s 11ms/step - loss: 84.0744 - mae: 6.5617 - val_loss: 87.2263 - val_mae: 7.4808\n",
            "Epoch 40/100\n",
            "19/19 [==============================] - 0s 9ms/step - loss: 76.0641 - mae: 6.0352 - val_loss: 98.4922 - val_mae: 8.2626\n",
            "Epoch 41/100\n",
            "19/19 [==============================] - 0s 9ms/step - loss: 82.2400 - mae: 6.4795 - val_loss: 69.4057 - val_mae: 5.4363\n",
            "Epoch 42/100\n",
            "19/19 [==============================] - 0s 9ms/step - loss: 79.4386 - mae: 6.3205 - val_loss: 70.2865 - val_mae: 5.2702\n",
            "Epoch 43/100\n",
            "19/19 [==============================] - 0s 9ms/step - loss: 85.1651 - mae: 6.6123 - val_loss: 74.2554 - val_mae: 6.3322\n",
            "Epoch 44/100\n",
            "19/19 [==============================] - 0s 9ms/step - loss: 79.8015 - mae: 6.4178 - val_loss: 70.1562 - val_mae: 5.2330\n",
            "Epoch 45/100\n",
            "19/19 [==============================] - 0s 9ms/step - loss: 84.5698 - mae: 6.4970 - val_loss: 71.5488 - val_mae: 5.9340\n",
            "Epoch 46/100\n",
            "19/19 [==============================] - 0s 9ms/step - loss: 80.8480 - mae: 6.3361 - val_loss: 75.9359 - val_mae: 5.2375\n",
            "Epoch 47/100\n",
            "19/19 [==============================] - 0s 10ms/step - loss: 86.3508 - mae: 6.5358 - val_loss: 72.4420 - val_mae: 6.1123\n",
            "Epoch 48/100\n",
            "19/19 [==============================] - 0s 10ms/step - loss: 80.6599 - mae: 6.4174 - val_loss: 78.6361 - val_mae: 5.3279\n",
            "Epoch 49/100\n",
            "19/19 [==============================] - 0s 9ms/step - loss: 77.3384 - mae: 6.1117 - val_loss: 76.1365 - val_mae: 5.2733\n",
            "Epoch 50/100\n",
            "19/19 [==============================] - 0s 9ms/step - loss: 82.9583 - mae: 6.5231 - val_loss: 76.2190 - val_mae: 6.4779\n",
            "Epoch 51/100\n",
            "19/19 [==============================] - 0s 9ms/step - loss: 78.2843 - mae: 6.2183 - val_loss: 128.3025 - val_mae: 9.9758\n",
            "Epoch 52/100\n",
            "19/19 [==============================] - 0s 9ms/step - loss: 85.7824 - mae: 6.5890 - val_loss: 69.9370 - val_mae: 5.5649\n",
            "Epoch 53/100\n",
            "19/19 [==============================] - 0s 9ms/step - loss: 81.5249 - mae: 6.3848 - val_loss: 71.4015 - val_mae: 5.1714\n",
            "Epoch 54/100\n",
            "19/19 [==============================] - 0s 9ms/step - loss: 77.7882 - mae: 6.1918 - val_loss: 69.7114 - val_mae: 5.4993\n",
            "Epoch 55/100\n",
            "19/19 [==============================] - 0s 9ms/step - loss: 81.7270 - mae: 6.4643 - val_loss: 78.1342 - val_mae: 5.2687\n",
            "Epoch 56/100\n",
            "19/19 [==============================] - 0s 9ms/step - loss: 81.8269 - mae: 6.3304 - val_loss: 110.5737 - val_mae: 9.0101\n",
            "Epoch 57/100\n",
            "19/19 [==============================] - 0s 9ms/step - loss: 82.1289 - mae: 6.4368 - val_loss: 81.4111 - val_mae: 5.4250\n",
            "Epoch 58/100\n",
            "19/19 [==============================] - 0s 9ms/step - loss: 76.8568 - mae: 6.1945 - val_loss: 88.2629 - val_mae: 7.5704\n",
            "Epoch 59/100\n",
            "19/19 [==============================] - 0s 9ms/step - loss: 83.5398 - mae: 6.5454 - val_loss: 80.5207 - val_mae: 5.3843\n",
            "Epoch 60/100\n",
            "19/19 [==============================] - 0s 9ms/step - loss: 80.0906 - mae: 6.3703 - val_loss: 76.7872 - val_mae: 6.5924\n",
            "Epoch 61/100\n",
            "19/19 [==============================] - 0s 9ms/step - loss: 76.0006 - mae: 6.1814 - val_loss: 100.4750 - val_mae: 8.3946\n",
            "Epoch 62/100\n",
            "19/19 [==============================] - 0s 9ms/step - loss: 76.8271 - mae: 6.1992 - val_loss: 105.7088 - val_mae: 6.6072\n",
            "Epoch 63/100\n",
            "19/19 [==============================] - 0s 9ms/step - loss: 85.8361 - mae: 6.5846 - val_loss: 102.9972 - val_mae: 6.4498\n",
            "Epoch 64/100\n",
            "19/19 [==============================] - 0s 9ms/step - loss: 76.6842 - mae: 6.1411 - val_loss: 85.3022 - val_mae: 5.5691\n",
            "Epoch 65/100\n",
            "19/19 [==============================] - 0s 9ms/step - loss: 82.6553 - mae: 6.4401 - val_loss: 110.6179 - val_mae: 6.8767\n",
            "Epoch 66/100\n",
            "19/19 [==============================] - 0s 9ms/step - loss: 84.5208 - mae: 6.5659 - val_loss: 69.3739 - val_mae: 5.5597\n",
            "Epoch 67/100\n",
            "19/19 [==============================] - 0s 8ms/step - loss: 76.2736 - mae: 6.0946 - val_loss: 84.4932 - val_mae: 5.5210\n",
            "Epoch 68/100\n",
            "19/19 [==============================] - 0s 9ms/step - loss: 80.8114 - mae: 6.2856 - val_loss: 72.8336 - val_mae: 6.1296\n",
            "Epoch 69/100\n",
            "19/19 [==============================] - 0s 8ms/step - loss: 77.8034 - mae: 6.1577 - val_loss: 74.9653 - val_mae: 6.4184\n",
            "Epoch 70/100\n",
            "19/19 [==============================] - 0s 9ms/step - loss: 79.6730 - mae: 6.2672 - val_loss: 69.2145 - val_mae: 5.3348\n",
            "Epoch 71/100\n",
            "19/19 [==============================] - 0s 9ms/step - loss: 79.9780 - mae: 6.2986 - val_loss: 71.3142 - val_mae: 5.1964\n",
            "Epoch 72/100\n",
            "19/19 [==============================] - 0s 9ms/step - loss: 80.6883 - mae: 6.3386 - val_loss: 83.4812 - val_mae: 5.4978\n",
            "Epoch 73/100\n",
            "19/19 [==============================] - 0s 9ms/step - loss: 77.0048 - mae: 6.1041 - val_loss: 91.6884 - val_mae: 7.8371\n",
            "Epoch 74/100\n",
            "19/19 [==============================] - 0s 9ms/step - loss: 79.8381 - mae: 6.2948 - val_loss: 69.3918 - val_mae: 5.7055\n",
            "Epoch 75/100\n",
            "19/19 [==============================] - 0s 9ms/step - loss: 78.3455 - mae: 6.1965 - val_loss: 92.0918 - val_mae: 7.8790\n",
            "Epoch 76/100\n",
            "19/19 [==============================] - 0s 9ms/step - loss: 80.0968 - mae: 6.3058 - val_loss: 68.8779 - val_mae: 5.4097\n",
            "Epoch 77/100\n",
            "19/19 [==============================] - 0s 9ms/step - loss: 75.0553 - mae: 6.0111 - val_loss: 81.7170 - val_mae: 7.0818\n",
            "Epoch 78/100\n",
            "19/19 [==============================] - 0s 11ms/step - loss: 76.1051 - mae: 6.1444 - val_loss: 70.9823 - val_mae: 5.1885\n",
            "Epoch 79/100\n",
            "19/19 [==============================] - 0s 9ms/step - loss: 77.5118 - mae: 6.1541 - val_loss: 92.4097 - val_mae: 5.9192\n",
            "Epoch 80/100\n",
            "19/19 [==============================] - 0s 9ms/step - loss: 81.0645 - mae: 6.3837 - val_loss: 85.6670 - val_mae: 7.4343\n",
            "Epoch 81/100\n",
            "19/19 [==============================] - 0s 11ms/step - loss: 80.1688 - mae: 6.2885 - val_loss: 69.0557 - val_mae: 5.5786\n",
            "Epoch 82/100\n",
            "19/19 [==============================] - 0s 10ms/step - loss: 76.8069 - mae: 6.1504 - val_loss: 91.7583 - val_mae: 7.8771\n",
            "Epoch 83/100\n",
            "19/19 [==============================] - 0s 10ms/step - loss: 74.1154 - mae: 6.0004 - val_loss: 75.3667 - val_mae: 6.5062\n",
            "Epoch 84/100\n",
            "19/19 [==============================] - 0s 9ms/step - loss: 76.0007 - mae: 6.2135 - val_loss: 85.7638 - val_mae: 7.3832\n",
            "Epoch 85/100\n",
            "19/19 [==============================] - 0s 9ms/step - loss: 79.2424 - mae: 6.3853 - val_loss: 79.4134 - val_mae: 6.8601\n",
            "Epoch 86/100\n",
            "19/19 [==============================] - 0s 9ms/step - loss: 79.4716 - mae: 6.3287 - val_loss: 85.1257 - val_mae: 7.3731\n",
            "Epoch 87/100\n",
            "19/19 [==============================] - 0s 9ms/step - loss: 76.5578 - mae: 6.1749 - val_loss: 69.4347 - val_mae: 5.1978\n",
            "Epoch 88/100\n",
            "19/19 [==============================] - 0s 9ms/step - loss: 76.2048 - mae: 6.1681 - val_loss: 70.4306 - val_mae: 5.9191\n",
            "Epoch 89/100\n",
            "19/19 [==============================] - 0s 9ms/step - loss: 73.7886 - mae: 6.0638 - val_loss: 72.3739 - val_mae: 5.1044\n",
            "Epoch 90/100\n",
            "19/19 [==============================] - 0s 9ms/step - loss: 80.1533 - mae: 6.2923 - val_loss: 90.7008 - val_mae: 5.8386\n",
            "Epoch 91/100\n",
            "19/19 [==============================] - 0s 9ms/step - loss: 73.4940 - mae: 5.9882 - val_loss: 72.3215 - val_mae: 6.1422\n",
            "Epoch 92/100\n",
            "19/19 [==============================] - 0s 10ms/step - loss: 74.4752 - mae: 6.1333 - val_loss: 69.3047 - val_mae: 5.5128\n",
            "Epoch 93/100\n",
            "19/19 [==============================] - 0s 9ms/step - loss: 78.5378 - mae: 6.2444 - val_loss: 89.1237 - val_mae: 7.6848\n",
            "Epoch 94/100\n",
            "19/19 [==============================] - 0s 9ms/step - loss: 76.7644 - mae: 6.1650 - val_loss: 94.1636 - val_mae: 8.0179\n",
            "Epoch 95/100\n",
            "19/19 [==============================] - 0s 9ms/step - loss: 72.7768 - mae: 5.9561 - val_loss: 79.8110 - val_mae: 6.8993\n",
            "Epoch 96/100\n",
            "19/19 [==============================] - 0s 9ms/step - loss: 79.3161 - mae: 6.4051 - val_loss: 69.6686 - val_mae: 5.5903\n",
            "Epoch 97/100\n",
            "19/19 [==============================] - 0s 9ms/step - loss: 75.3326 - mae: 6.0594 - val_loss: 72.3608 - val_mae: 5.1127\n",
            "Epoch 98/100\n",
            "19/19 [==============================] - 0s 9ms/step - loss: 75.0952 - mae: 6.0758 - val_loss: 85.4444 - val_mae: 7.3673\n",
            "Epoch 99/100\n",
            "19/19 [==============================] - 0s 9ms/step - loss: 75.9845 - mae: 6.1055 - val_loss: 102.2449 - val_mae: 6.3880\n",
            "Epoch 100/100\n",
            "19/19 [==============================] - 0s 9ms/step - loss: 76.0372 - mae: 6.1187 - val_loss: 94.4733 - val_mae: 8.0385\n",
            "[INFO] Training has been finished\n"
          ],
          "name": "stdout"
        }
      ]
    },
    {
      "cell_type": "code",
      "metadata": {
        "id": "y8hfQfTKoXKf",
        "outputId": "244abd5a-236c-4d12-cf8b-5558c5f8ebc8",
        "colab": {
          "base_uri": "https://localhost:8080/",
          "height": 295
        }
      },
      "source": [
        "draw_graph(best_history)"
      ],
      "execution_count": 34,
      "outputs": [
        {
          "output_type": "display_data",
          "data": {
            "image/png": "[encoded data removed]",
            "text/plain": [
              "<Figure size 432x288 with 1 Axes>"
            ]
          },
          "metadata": {
            "tags": [],
            "needs_background": "light"
          }
        }
      ]
    },
    {
      "cell_type": "code",
      "metadata": {
        "id": "1ayHMaqboajO",
        "outputId": "15f0fd2c-2421-438a-9b70-14116c0c911e",
        "colab": {
          "base_uri": "https://localhost:8080/",
          "height": 102
        }
      },
      "source": [
        "print(\"[INFO] RUNNING ON TEST DATA: \\n\")\n",
        "mse, mae = best_model.evaluate(x_test, y_test, verbose=1)\n",
        "print(f\"[INFO] Mean squared error is {mse}\")\n",
        "print(f\"[INFO] Mean absolute error is {mae}\")"
      ],
      "execution_count": 35,
      "outputs": [
        {
          "output_type": "stream",
          "text": [
            "[INFO] RUNNING ON TEST DATA: \n",
            "\n",
            "40/40 [==============================] - 0s 2ms/step - loss: 116.7027 - mae: 8.4137\n",
            "[INFO] Mean squared error is 116.70270538330078\n",
            "[INFO] Mean absolute error is 8.413687705993652\n"
          ],
          "name": "stdout"
        }
      ]
    },
    {
      "cell_type": "markdown",
      "metadata": {
        "id": "Am9ZvGDOAh_L"
      },
      "source": [
        "Предсказываем на модели, которую тюнер выбрал лучшей"
      ]
    },
    {
      "cell_type": "code",
      "metadata": {
        "id": "jPSupZ0uoeCh"
      },
      "source": [
        "best_predicted_y = best_model.predict(x_test)"
      ],
      "execution_count": 36,
      "outputs": []
    },
    {
      "cell_type": "markdown",
      "metadata": {
        "id": "DL94ODGCAVVp"
      },
      "source": [
        "Считаем коэффициент корреляции"
      ]
    },
    {
      "cell_type": "code",
      "metadata": {
        "id": "TjdK0VdDogqR",
        "outputId": "45bd70a0-95bc-498d-d7a3-64a8a524fa06",
        "colab": {
          "base_uri": "https://localhost:8080/",
          "height": 34
        }
      },
      "source": [
        "best_predicted_y = np.reshape(best_predicted_y, (best_predicted_y.shape[0]))\n",
        "y_test = np.reshape(y_test, (y_test.shape[0]))\n",
        "best_cc = np.corrcoef(best_predicted_y, y_test)\n",
        "best_cc = best_cc[0][1]\n",
        "print(f'Correlation Coefficient: {best_cc}')"
      ],
      "execution_count": 37,
      "outputs": [
        {
          "output_type": "stream",
          "text": [
            "Correlation Coefficient: 0.7055900652675746\n"
          ],
          "name": "stdout"
        }
      ]
    }
  ]
}