{
  "nbformat": 4,
  "nbformat_minor": 0,
  "metadata": {
    "colab": {
      "name": "TF_NetworkTraining.ipynb",
      "provenance": [],
      "collapsed_sections": []
    },
    "kernelspec": {
      "name": "python3",
      "display_name": "Python 3"
    },
    "accelerator": "TPU"
  },
  "cells": [
    {
      "cell_type": "code",
      "metadata": {
        "id": "xk8AZbgv59Xh",
        "outputId": "04626ff9-5674-4d88-ce5e-8e2e50560476",
        "colab": {
          "base_uri": "https://localhost:8080/",
          "height": 292
        }
      },
      "source": [
        "!pip install -U keras-tuner\n",
        "\n",
        "import pandas as pd\n",
        "import numpy as np\n",
        "from keras.datasets import boston_housing\n",
        "from keras.models import Sequential\n",
        "from keras.layers import Dense\n",
        "from keras.optimizers import SGD\n",
        "from kerastuner.tuners import RandomSearch, Hyperband, BayesianOptimization\n",
        "from kerastuner.engine import hyperparameters\n",
        "from keras.layers import Dropout\n",
        "from sklearn import preprocessing\n",
        "from sklearn.model_selection import train_test_split\n",
        "from sklearn.impute import SimpleImputer\n",
        "import time\n",
        "import math\n",
        "import matplotlib.pyplot as plt\n",
        "from keras import utils\n"
      ],
      "execution_count": 29,
      "outputs": [
        {
          "output_type": "stream",
          "text": [
            "Requirement already up-to-date: keras-tuner in /usr/local/lib/python3.6/dist-packages (1.0.1)\n",
            "Requirement already satisfied, skipping upgrade: numpy in /usr/local/lib/python3.6/dist-packages (from keras-tuner) (1.18.5)\n",
            "Requirement already satisfied, skipping upgrade: terminaltables in /usr/local/lib/python3.6/dist-packages (from keras-tuner) (3.1.0)\n",
            "Requirement already satisfied, skipping upgrade: future in /usr/local/lib/python3.6/dist-packages (from keras-tuner) (0.16.0)\n",
            "Requirement already satisfied, skipping upgrade: tqdm in /usr/local/lib/python3.6/dist-packages (from keras-tuner) (4.41.1)\n",
            "Requirement already satisfied, skipping upgrade: requests in /usr/local/lib/python3.6/dist-packages (from keras-tuner) (2.23.0)\n",
            "Requirement already satisfied, skipping upgrade: colorama in /usr/local/lib/python3.6/dist-packages (from keras-tuner) (0.4.3)\n",
            "Requirement already satisfied, skipping upgrade: scikit-learn in /usr/local/lib/python3.6/dist-packages (from keras-tuner) (0.22.2.post1)\n",
            "Requirement already satisfied, skipping upgrade: scipy in /usr/local/lib/python3.6/dist-packages (from keras-tuner) (1.4.1)\n",
            "Requirement already satisfied, skipping upgrade: tabulate in /usr/local/lib/python3.6/dist-packages (from keras-tuner) (0.8.7)\n",
            "Requirement already satisfied, skipping upgrade: idna<3,>=2.5 in /usr/local/lib/python3.6/dist-packages (from requests->keras-tuner) (2.10)\n",
            "Requirement already satisfied, skipping upgrade: certifi>=2017.4.17 in /usr/local/lib/python3.6/dist-packages (from requests->keras-tuner) (2020.6.20)\n",
            "Requirement already satisfied, skipping upgrade: chardet<4,>=3.0.2 in /usr/local/lib/python3.6/dist-packages (from requests->keras-tuner) (3.0.4)\n",
            "Requirement already satisfied, skipping upgrade: urllib3!=1.25.0,!=1.25.1,<1.26,>=1.21.1 in /usr/local/lib/python3.6/dist-packages (from requests->keras-tuner) (1.24.3)\n",
            "Requirement already satisfied, skipping upgrade: joblib>=0.11 in /usr/local/lib/python3.6/dist-packages (from scikit-learn->keras-tuner) (0.16.0)\n"
          ],
          "name": "stdout"
        }
      ]
    },
    {
      "cell_type": "code",
      "metadata": {
        "id": "odxdENxX6A1J",
        "outputId": "92f4b8dc-dc6b-4496-e965-4175a1973604",
        "colab": {
          "base_uri": "https://localhost:8080/",
          "height": 439
        }
      },
      "source": [
        "TRAIN_FILE_PATH = '/content/drive/My Drive/ИАД/train.csv'\n",
        "\n",
        "# загружаем данные\n",
        "x = pd.read_csv(TRAIN_FILE_PATH) \n",
        "\n",
        "x"
      ],
      "execution_count": 30,
      "outputs": [
        {
          "output_type": "execute_result",
          "data": {
            "text/html": [
              "<div>\n",
              "<style scoped>\n",
              "    .dataframe tbody tr th:only-of-type {\n",
              "        vertical-align: middle;\n",
              "    }\n",
              "\n",
              "    .dataframe tbody tr th {\n",
              "        vertical-align: top;\n",
              "    }\n",
              "\n",
              "    .dataframe thead th {\n",
              "        text-align: right;\n",
              "    }\n",
              "</style>\n",
              "<table border=\"1\" class=\"dataframe\">\n",
              "  <thead>\n",
              "    <tr style=\"text-align: right;\">\n",
              "      <th></th>\n",
              "      <th>ID</th>\n",
              "      <th>y</th>\n",
              "      <th>X0</th>\n",
              "      <th>X1</th>\n",
              "      <th>X2</th>\n",
              "      <th>X3</th>\n",
              "      <th>X4</th>\n",
              "      <th>X5</th>\n",
              "      <th>X6</th>\n",
              "      <th>X8</th>\n",
              "      <th>X10</th>\n",
              "      <th>X11</th>\n",
              "      <th>X12</th>\n",
              "      <th>X13</th>\n",
              "      <th>X14</th>\n",
              "      <th>X15</th>\n",
              "      <th>X16</th>\n",
              "      <th>X17</th>\n",
              "      <th>X18</th>\n",
              "      <th>X19</th>\n",
              "      <th>X20</th>\n",
              "      <th>X21</th>\n",
              "      <th>X22</th>\n",
              "      <th>X23</th>\n",
              "      <th>X24</th>\n",
              "      <th>X26</th>\n",
              "      <th>X27</th>\n",
              "      <th>X28</th>\n",
              "      <th>X29</th>\n",
              "      <th>X30</th>\n",
              "      <th>X31</th>\n",
              "      <th>X32</th>\n",
              "      <th>X33</th>\n",
              "      <th>X34</th>\n",
              "      <th>X35</th>\n",
              "      <th>X36</th>\n",
              "      <th>X37</th>\n",
              "      <th>X38</th>\n",
              "      <th>X39</th>\n",
              "      <th>X40</th>\n",
              "      <th>...</th>\n",
              "      <th>X345</th>\n",
              "      <th>X346</th>\n",
              "      <th>X347</th>\n",
              "      <th>X348</th>\n",
              "      <th>X349</th>\n",
              "      <th>X350</th>\n",
              "      <th>X351</th>\n",
              "      <th>X352</th>\n",
              "      <th>X353</th>\n",
              "      <th>X354</th>\n",
              "      <th>X355</th>\n",
              "      <th>X356</th>\n",
              "      <th>X357</th>\n",
              "      <th>X358</th>\n",
              "      <th>X359</th>\n",
              "      <th>X360</th>\n",
              "      <th>X361</th>\n",
              "      <th>X362</th>\n",
              "      <th>X363</th>\n",
              "      <th>X364</th>\n",
              "      <th>X365</th>\n",
              "      <th>X366</th>\n",
              "      <th>X367</th>\n",
              "      <th>X368</th>\n",
              "      <th>X369</th>\n",
              "      <th>X370</th>\n",
              "      <th>X371</th>\n",
              "      <th>X372</th>\n",
              "      <th>X373</th>\n",
              "      <th>X374</th>\n",
              "      <th>X375</th>\n",
              "      <th>X376</th>\n",
              "      <th>X377</th>\n",
              "      <th>X378</th>\n",
              "      <th>X379</th>\n",
              "      <th>X380</th>\n",
              "      <th>X382</th>\n",
              "      <th>X383</th>\n",
              "      <th>X384</th>\n",
              "      <th>X385</th>\n",
              "    </tr>\n",
              "  </thead>\n",
              "  <tbody>\n",
              "    <tr>\n",
              "      <th>0</th>\n",
              "      <td>0</td>\n",
              "      <td>130.81</td>\n",
              "      <td>k</td>\n",
              "      <td>v</td>\n",
              "      <td>at</td>\n",
              "      <td>a</td>\n",
              "      <td>d</td>\n",
              "      <td>u</td>\n",
              "      <td>j</td>\n",
              "      <td>o</td>\n",
              "      <td>0</td>\n",
              "      <td>0</td>\n",
              "      <td>0</td>\n",
              "      <td>1</td>\n",
              "      <td>0</td>\n",
              "      <td>0</td>\n",
              "      <td>0</td>\n",
              "      <td>0</td>\n",
              "      <td>1</td>\n",
              "      <td>0</td>\n",
              "      <td>0</td>\n",
              "      <td>1</td>\n",
              "      <td>0</td>\n",
              "      <td>0</td>\n",
              "      <td>0</td>\n",
              "      <td>0</td>\n",
              "      <td>0</td>\n",
              "      <td>0</td>\n",
              "      <td>0</td>\n",
              "      <td>0</td>\n",
              "      <td>1</td>\n",
              "      <td>0</td>\n",
              "      <td>0</td>\n",
              "      <td>0</td>\n",
              "      <td>1</td>\n",
              "      <td>0</td>\n",
              "      <td>1</td>\n",
              "      <td>0</td>\n",
              "      <td>0</td>\n",
              "      <td>0</td>\n",
              "      <td>...</td>\n",
              "      <td>0</td>\n",
              "      <td>0</td>\n",
              "      <td>0</td>\n",
              "      <td>0</td>\n",
              "      <td>0</td>\n",
              "      <td>0</td>\n",
              "      <td>0</td>\n",
              "      <td>0</td>\n",
              "      <td>0</td>\n",
              "      <td>1</td>\n",
              "      <td>0</td>\n",
              "      <td>0</td>\n",
              "      <td>0</td>\n",
              "      <td>0</td>\n",
              "      <td>0</td>\n",
              "      <td>0</td>\n",
              "      <td>1</td>\n",
              "      <td>0</td>\n",
              "      <td>0</td>\n",
              "      <td>0</td>\n",
              "      <td>0</td>\n",
              "      <td>0</td>\n",
              "      <td>0</td>\n",
              "      <td>0</td>\n",
              "      <td>0</td>\n",
              "      <td>0</td>\n",
              "      <td>0</td>\n",
              "      <td>0</td>\n",
              "      <td>0</td>\n",
              "      <td>0</td>\n",
              "      <td>0</td>\n",
              "      <td>0</td>\n",
              "      <td>1</td>\n",
              "      <td>0</td>\n",
              "      <td>0</td>\n",
              "      <td>0</td>\n",
              "      <td>0</td>\n",
              "      <td>0</td>\n",
              "      <td>0</td>\n",
              "      <td>0</td>\n",
              "    </tr>\n",
              "    <tr>\n",
              "      <th>1</th>\n",
              "      <td>6</td>\n",
              "      <td>88.53</td>\n",
              "      <td>k</td>\n",
              "      <td>t</td>\n",
              "      <td>av</td>\n",
              "      <td>e</td>\n",
              "      <td>d</td>\n",
              "      <td>y</td>\n",
              "      <td>l</td>\n",
              "      <td>o</td>\n",
              "      <td>0</td>\n",
              "      <td>0</td>\n",
              "      <td>0</td>\n",
              "      <td>0</td>\n",
              "      <td>0</td>\n",
              "      <td>0</td>\n",
              "      <td>0</td>\n",
              "      <td>0</td>\n",
              "      <td>1</td>\n",
              "      <td>0</td>\n",
              "      <td>0</td>\n",
              "      <td>0</td>\n",
              "      <td>0</td>\n",
              "      <td>0</td>\n",
              "      <td>0</td>\n",
              "      <td>0</td>\n",
              "      <td>1</td>\n",
              "      <td>0</td>\n",
              "      <td>0</td>\n",
              "      <td>0</td>\n",
              "      <td>1</td>\n",
              "      <td>0</td>\n",
              "      <td>0</td>\n",
              "      <td>0</td>\n",
              "      <td>1</td>\n",
              "      <td>0</td>\n",
              "      <td>1</td>\n",
              "      <td>0</td>\n",
              "      <td>0</td>\n",
              "      <td>0</td>\n",
              "      <td>...</td>\n",
              "      <td>0</td>\n",
              "      <td>0</td>\n",
              "      <td>0</td>\n",
              "      <td>1</td>\n",
              "      <td>0</td>\n",
              "      <td>0</td>\n",
              "      <td>0</td>\n",
              "      <td>0</td>\n",
              "      <td>0</td>\n",
              "      <td>0</td>\n",
              "      <td>0</td>\n",
              "      <td>0</td>\n",
              "      <td>0</td>\n",
              "      <td>0</td>\n",
              "      <td>0</td>\n",
              "      <td>0</td>\n",
              "      <td>1</td>\n",
              "      <td>0</td>\n",
              "      <td>1</td>\n",
              "      <td>0</td>\n",
              "      <td>0</td>\n",
              "      <td>0</td>\n",
              "      <td>0</td>\n",
              "      <td>0</td>\n",
              "      <td>0</td>\n",
              "      <td>0</td>\n",
              "      <td>0</td>\n",
              "      <td>0</td>\n",
              "      <td>0</td>\n",
              "      <td>0</td>\n",
              "      <td>1</td>\n",
              "      <td>0</td>\n",
              "      <td>0</td>\n",
              "      <td>0</td>\n",
              "      <td>0</td>\n",
              "      <td>0</td>\n",
              "      <td>0</td>\n",
              "      <td>0</td>\n",
              "      <td>0</td>\n",
              "      <td>0</td>\n",
              "    </tr>\n",
              "    <tr>\n",
              "      <th>2</th>\n",
              "      <td>7</td>\n",
              "      <td>76.26</td>\n",
              "      <td>az</td>\n",
              "      <td>w</td>\n",
              "      <td>n</td>\n",
              "      <td>c</td>\n",
              "      <td>d</td>\n",
              "      <td>x</td>\n",
              "      <td>j</td>\n",
              "      <td>x</td>\n",
              "      <td>0</td>\n",
              "      <td>0</td>\n",
              "      <td>0</td>\n",
              "      <td>0</td>\n",
              "      <td>0</td>\n",
              "      <td>0</td>\n",
              "      <td>0</td>\n",
              "      <td>1</td>\n",
              "      <td>0</td>\n",
              "      <td>0</td>\n",
              "      <td>0</td>\n",
              "      <td>0</td>\n",
              "      <td>0</td>\n",
              "      <td>0</td>\n",
              "      <td>0</td>\n",
              "      <td>0</td>\n",
              "      <td>1</td>\n",
              "      <td>1</td>\n",
              "      <td>1</td>\n",
              "      <td>0</td>\n",
              "      <td>1</td>\n",
              "      <td>0</td>\n",
              "      <td>0</td>\n",
              "      <td>0</td>\n",
              "      <td>1</td>\n",
              "      <td>0</td>\n",
              "      <td>1</td>\n",
              "      <td>0</td>\n",
              "      <td>0</td>\n",
              "      <td>0</td>\n",
              "      <td>...</td>\n",
              "      <td>0</td>\n",
              "      <td>0</td>\n",
              "      <td>0</td>\n",
              "      <td>1</td>\n",
              "      <td>0</td>\n",
              "      <td>1</td>\n",
              "      <td>0</td>\n",
              "      <td>0</td>\n",
              "      <td>0</td>\n",
              "      <td>1</td>\n",
              "      <td>0</td>\n",
              "      <td>0</td>\n",
              "      <td>0</td>\n",
              "      <td>1</td>\n",
              "      <td>0</td>\n",
              "      <td>0</td>\n",
              "      <td>1</td>\n",
              "      <td>0</td>\n",
              "      <td>1</td>\n",
              "      <td>0</td>\n",
              "      <td>0</td>\n",
              "      <td>0</td>\n",
              "      <td>0</td>\n",
              "      <td>0</td>\n",
              "      <td>0</td>\n",
              "      <td>0</td>\n",
              "      <td>0</td>\n",
              "      <td>0</td>\n",
              "      <td>0</td>\n",
              "      <td>0</td>\n",
              "      <td>0</td>\n",
              "      <td>0</td>\n",
              "      <td>0</td>\n",
              "      <td>0</td>\n",
              "      <td>0</td>\n",
              "      <td>0</td>\n",
              "      <td>1</td>\n",
              "      <td>0</td>\n",
              "      <td>0</td>\n",
              "      <td>0</td>\n",
              "    </tr>\n",
              "    <tr>\n",
              "      <th>3</th>\n",
              "      <td>9</td>\n",
              "      <td>80.62</td>\n",
              "      <td>az</td>\n",
              "      <td>t</td>\n",
              "      <td>n</td>\n",
              "      <td>f</td>\n",
              "      <td>d</td>\n",
              "      <td>x</td>\n",
              "      <td>l</td>\n",
              "      <td>e</td>\n",
              "      <td>0</td>\n",
              "      <td>0</td>\n",
              "      <td>0</td>\n",
              "      <td>0</td>\n",
              "      <td>0</td>\n",
              "      <td>0</td>\n",
              "      <td>0</td>\n",
              "      <td>0</td>\n",
              "      <td>0</td>\n",
              "      <td>0</td>\n",
              "      <td>0</td>\n",
              "      <td>0</td>\n",
              "      <td>0</td>\n",
              "      <td>0</td>\n",
              "      <td>0</td>\n",
              "      <td>0</td>\n",
              "      <td>1</td>\n",
              "      <td>1</td>\n",
              "      <td>1</td>\n",
              "      <td>0</td>\n",
              "      <td>1</td>\n",
              "      <td>0</td>\n",
              "      <td>0</td>\n",
              "      <td>0</td>\n",
              "      <td>1</td>\n",
              "      <td>0</td>\n",
              "      <td>1</td>\n",
              "      <td>0</td>\n",
              "      <td>0</td>\n",
              "      <td>0</td>\n",
              "      <td>...</td>\n",
              "      <td>0</td>\n",
              "      <td>0</td>\n",
              "      <td>0</td>\n",
              "      <td>1</td>\n",
              "      <td>0</td>\n",
              "      <td>1</td>\n",
              "      <td>0</td>\n",
              "      <td>0</td>\n",
              "      <td>0</td>\n",
              "      <td>0</td>\n",
              "      <td>0</td>\n",
              "      <td>0</td>\n",
              "      <td>0</td>\n",
              "      <td>1</td>\n",
              "      <td>0</td>\n",
              "      <td>0</td>\n",
              "      <td>1</td>\n",
              "      <td>0</td>\n",
              "      <td>1</td>\n",
              "      <td>0</td>\n",
              "      <td>0</td>\n",
              "      <td>0</td>\n",
              "      <td>0</td>\n",
              "      <td>0</td>\n",
              "      <td>0</td>\n",
              "      <td>0</td>\n",
              "      <td>0</td>\n",
              "      <td>1</td>\n",
              "      <td>0</td>\n",
              "      <td>0</td>\n",
              "      <td>0</td>\n",
              "      <td>0</td>\n",
              "      <td>0</td>\n",
              "      <td>0</td>\n",
              "      <td>0</td>\n",
              "      <td>0</td>\n",
              "      <td>0</td>\n",
              "      <td>0</td>\n",
              "      <td>0</td>\n",
              "      <td>0</td>\n",
              "    </tr>\n",
              "    <tr>\n",
              "      <th>4</th>\n",
              "      <td>13</td>\n",
              "      <td>78.02</td>\n",
              "      <td>az</td>\n",
              "      <td>v</td>\n",
              "      <td>n</td>\n",
              "      <td>f</td>\n",
              "      <td>d</td>\n",
              "      <td>h</td>\n",
              "      <td>d</td>\n",
              "      <td>n</td>\n",
              "      <td>0</td>\n",
              "      <td>0</td>\n",
              "      <td>0</td>\n",
              "      <td>0</td>\n",
              "      <td>0</td>\n",
              "      <td>0</td>\n",
              "      <td>0</td>\n",
              "      <td>0</td>\n",
              "      <td>0</td>\n",
              "      <td>0</td>\n",
              "      <td>0</td>\n",
              "      <td>0</td>\n",
              "      <td>0</td>\n",
              "      <td>0</td>\n",
              "      <td>0</td>\n",
              "      <td>0</td>\n",
              "      <td>1</td>\n",
              "      <td>1</td>\n",
              "      <td>1</td>\n",
              "      <td>0</td>\n",
              "      <td>1</td>\n",
              "      <td>0</td>\n",
              "      <td>0</td>\n",
              "      <td>0</td>\n",
              "      <td>1</td>\n",
              "      <td>0</td>\n",
              "      <td>1</td>\n",
              "      <td>0</td>\n",
              "      <td>0</td>\n",
              "      <td>0</td>\n",
              "      <td>...</td>\n",
              "      <td>0</td>\n",
              "      <td>0</td>\n",
              "      <td>0</td>\n",
              "      <td>1</td>\n",
              "      <td>0</td>\n",
              "      <td>1</td>\n",
              "      <td>0</td>\n",
              "      <td>0</td>\n",
              "      <td>0</td>\n",
              "      <td>0</td>\n",
              "      <td>0</td>\n",
              "      <td>0</td>\n",
              "      <td>0</td>\n",
              "      <td>1</td>\n",
              "      <td>0</td>\n",
              "      <td>0</td>\n",
              "      <td>1</td>\n",
              "      <td>0</td>\n",
              "      <td>1</td>\n",
              "      <td>0</td>\n",
              "      <td>0</td>\n",
              "      <td>0</td>\n",
              "      <td>0</td>\n",
              "      <td>0</td>\n",
              "      <td>0</td>\n",
              "      <td>0</td>\n",
              "      <td>1</td>\n",
              "      <td>0</td>\n",
              "      <td>0</td>\n",
              "      <td>0</td>\n",
              "      <td>0</td>\n",
              "      <td>0</td>\n",
              "      <td>0</td>\n",
              "      <td>0</td>\n",
              "      <td>0</td>\n",
              "      <td>0</td>\n",
              "      <td>0</td>\n",
              "      <td>0</td>\n",
              "      <td>0</td>\n",
              "      <td>0</td>\n",
              "    </tr>\n",
              "    <tr>\n",
              "      <th>...</th>\n",
              "      <td>...</td>\n",
              "      <td>...</td>\n",
              "      <td>...</td>\n",
              "      <td>...</td>\n",
              "      <td>...</td>\n",
              "      <td>...</td>\n",
              "      <td>...</td>\n",
              "      <td>...</td>\n",
              "      <td>...</td>\n",
              "      <td>...</td>\n",
              "      <td>...</td>\n",
              "      <td>...</td>\n",
              "      <td>...</td>\n",
              "      <td>...</td>\n",
              "      <td>...</td>\n",
              "      <td>...</td>\n",
              "      <td>...</td>\n",
              "      <td>...</td>\n",
              "      <td>...</td>\n",
              "      <td>...</td>\n",
              "      <td>...</td>\n",
              "      <td>...</td>\n",
              "      <td>...</td>\n",
              "      <td>...</td>\n",
              "      <td>...</td>\n",
              "      <td>...</td>\n",
              "      <td>...</td>\n",
              "      <td>...</td>\n",
              "      <td>...</td>\n",
              "      <td>...</td>\n",
              "      <td>...</td>\n",
              "      <td>...</td>\n",
              "      <td>...</td>\n",
              "      <td>...</td>\n",
              "      <td>...</td>\n",
              "      <td>...</td>\n",
              "      <td>...</td>\n",
              "      <td>...</td>\n",
              "      <td>...</td>\n",
              "      <td>...</td>\n",
              "      <td>...</td>\n",
              "      <td>...</td>\n",
              "      <td>...</td>\n",
              "      <td>...</td>\n",
              "      <td>...</td>\n",
              "      <td>...</td>\n",
              "      <td>...</td>\n",
              "      <td>...</td>\n",
              "      <td>...</td>\n",
              "      <td>...</td>\n",
              "      <td>...</td>\n",
              "      <td>...</td>\n",
              "      <td>...</td>\n",
              "      <td>...</td>\n",
              "      <td>...</td>\n",
              "      <td>...</td>\n",
              "      <td>...</td>\n",
              "      <td>...</td>\n",
              "      <td>...</td>\n",
              "      <td>...</td>\n",
              "      <td>...</td>\n",
              "      <td>...</td>\n",
              "      <td>...</td>\n",
              "      <td>...</td>\n",
              "      <td>...</td>\n",
              "      <td>...</td>\n",
              "      <td>...</td>\n",
              "      <td>...</td>\n",
              "      <td>...</td>\n",
              "      <td>...</td>\n",
              "      <td>...</td>\n",
              "      <td>...</td>\n",
              "      <td>...</td>\n",
              "      <td>...</td>\n",
              "      <td>...</td>\n",
              "      <td>...</td>\n",
              "      <td>...</td>\n",
              "      <td>...</td>\n",
              "      <td>...</td>\n",
              "      <td>...</td>\n",
              "      <td>...</td>\n",
              "    </tr>\n",
              "    <tr>\n",
              "      <th>4204</th>\n",
              "      <td>8405</td>\n",
              "      <td>107.39</td>\n",
              "      <td>ak</td>\n",
              "      <td>s</td>\n",
              "      <td>as</td>\n",
              "      <td>c</td>\n",
              "      <td>d</td>\n",
              "      <td>aa</td>\n",
              "      <td>d</td>\n",
              "      <td>q</td>\n",
              "      <td>0</td>\n",
              "      <td>0</td>\n",
              "      <td>0</td>\n",
              "      <td>0</td>\n",
              "      <td>1</td>\n",
              "      <td>0</td>\n",
              "      <td>0</td>\n",
              "      <td>0</td>\n",
              "      <td>0</td>\n",
              "      <td>0</td>\n",
              "      <td>0</td>\n",
              "      <td>0</td>\n",
              "      <td>0</td>\n",
              "      <td>0</td>\n",
              "      <td>0</td>\n",
              "      <td>0</td>\n",
              "      <td>1</td>\n",
              "      <td>0</td>\n",
              "      <td>0</td>\n",
              "      <td>0</td>\n",
              "      <td>0</td>\n",
              "      <td>0</td>\n",
              "      <td>0</td>\n",
              "      <td>0</td>\n",
              "      <td>0</td>\n",
              "      <td>0</td>\n",
              "      <td>0</td>\n",
              "      <td>1</td>\n",
              "      <td>0</td>\n",
              "      <td>0</td>\n",
              "      <td>...</td>\n",
              "      <td>0</td>\n",
              "      <td>0</td>\n",
              "      <td>0</td>\n",
              "      <td>1</td>\n",
              "      <td>0</td>\n",
              "      <td>0</td>\n",
              "      <td>0</td>\n",
              "      <td>0</td>\n",
              "      <td>0</td>\n",
              "      <td>1</td>\n",
              "      <td>0</td>\n",
              "      <td>0</td>\n",
              "      <td>0</td>\n",
              "      <td>1</td>\n",
              "      <td>0</td>\n",
              "      <td>0</td>\n",
              "      <td>1</td>\n",
              "      <td>0</td>\n",
              "      <td>1</td>\n",
              "      <td>0</td>\n",
              "      <td>0</td>\n",
              "      <td>0</td>\n",
              "      <td>0</td>\n",
              "      <td>0</td>\n",
              "      <td>0</td>\n",
              "      <td>0</td>\n",
              "      <td>0</td>\n",
              "      <td>0</td>\n",
              "      <td>0</td>\n",
              "      <td>0</td>\n",
              "      <td>1</td>\n",
              "      <td>0</td>\n",
              "      <td>0</td>\n",
              "      <td>0</td>\n",
              "      <td>0</td>\n",
              "      <td>0</td>\n",
              "      <td>0</td>\n",
              "      <td>0</td>\n",
              "      <td>0</td>\n",
              "      <td>0</td>\n",
              "    </tr>\n",
              "    <tr>\n",
              "      <th>4205</th>\n",
              "      <td>8406</td>\n",
              "      <td>108.77</td>\n",
              "      <td>j</td>\n",
              "      <td>o</td>\n",
              "      <td>t</td>\n",
              "      <td>d</td>\n",
              "      <td>d</td>\n",
              "      <td>aa</td>\n",
              "      <td>h</td>\n",
              "      <td>h</td>\n",
              "      <td>0</td>\n",
              "      <td>0</td>\n",
              "      <td>0</td>\n",
              "      <td>0</td>\n",
              "      <td>0</td>\n",
              "      <td>0</td>\n",
              "      <td>0</td>\n",
              "      <td>0</td>\n",
              "      <td>0</td>\n",
              "      <td>0</td>\n",
              "      <td>0</td>\n",
              "      <td>0</td>\n",
              "      <td>0</td>\n",
              "      <td>0</td>\n",
              "      <td>0</td>\n",
              "      <td>0</td>\n",
              "      <td>0</td>\n",
              "      <td>0</td>\n",
              "      <td>0</td>\n",
              "      <td>0</td>\n",
              "      <td>0</td>\n",
              "      <td>0</td>\n",
              "      <td>0</td>\n",
              "      <td>0</td>\n",
              "      <td>0</td>\n",
              "      <td>0</td>\n",
              "      <td>0</td>\n",
              "      <td>0</td>\n",
              "      <td>0</td>\n",
              "      <td>0</td>\n",
              "      <td>...</td>\n",
              "      <td>0</td>\n",
              "      <td>0</td>\n",
              "      <td>0</td>\n",
              "      <td>0</td>\n",
              "      <td>0</td>\n",
              "      <td>0</td>\n",
              "      <td>0</td>\n",
              "      <td>0</td>\n",
              "      <td>0</td>\n",
              "      <td>0</td>\n",
              "      <td>0</td>\n",
              "      <td>0</td>\n",
              "      <td>0</td>\n",
              "      <td>0</td>\n",
              "      <td>0</td>\n",
              "      <td>0</td>\n",
              "      <td>1</td>\n",
              "      <td>0</td>\n",
              "      <td>0</td>\n",
              "      <td>0</td>\n",
              "      <td>0</td>\n",
              "      <td>0</td>\n",
              "      <td>0</td>\n",
              "      <td>0</td>\n",
              "      <td>0</td>\n",
              "      <td>1</td>\n",
              "      <td>0</td>\n",
              "      <td>0</td>\n",
              "      <td>0</td>\n",
              "      <td>0</td>\n",
              "      <td>0</td>\n",
              "      <td>1</td>\n",
              "      <td>0</td>\n",
              "      <td>0</td>\n",
              "      <td>0</td>\n",
              "      <td>0</td>\n",
              "      <td>0</td>\n",
              "      <td>0</td>\n",
              "      <td>0</td>\n",
              "      <td>0</td>\n",
              "    </tr>\n",
              "    <tr>\n",
              "      <th>4206</th>\n",
              "      <td>8412</td>\n",
              "      <td>109.22</td>\n",
              "      <td>ak</td>\n",
              "      <td>v</td>\n",
              "      <td>r</td>\n",
              "      <td>a</td>\n",
              "      <td>d</td>\n",
              "      <td>aa</td>\n",
              "      <td>g</td>\n",
              "      <td>e</td>\n",
              "      <td>0</td>\n",
              "      <td>0</td>\n",
              "      <td>1</td>\n",
              "      <td>1</td>\n",
              "      <td>0</td>\n",
              "      <td>0</td>\n",
              "      <td>0</td>\n",
              "      <td>0</td>\n",
              "      <td>0</td>\n",
              "      <td>0</td>\n",
              "      <td>0</td>\n",
              "      <td>0</td>\n",
              "      <td>0</td>\n",
              "      <td>0</td>\n",
              "      <td>0</td>\n",
              "      <td>0</td>\n",
              "      <td>1</td>\n",
              "      <td>0</td>\n",
              "      <td>0</td>\n",
              "      <td>0</td>\n",
              "      <td>0</td>\n",
              "      <td>0</td>\n",
              "      <td>0</td>\n",
              "      <td>0</td>\n",
              "      <td>0</td>\n",
              "      <td>0</td>\n",
              "      <td>0</td>\n",
              "      <td>0</td>\n",
              "      <td>0</td>\n",
              "      <td>0</td>\n",
              "      <td>...</td>\n",
              "      <td>0</td>\n",
              "      <td>0</td>\n",
              "      <td>0</td>\n",
              "      <td>1</td>\n",
              "      <td>0</td>\n",
              "      <td>0</td>\n",
              "      <td>0</td>\n",
              "      <td>0</td>\n",
              "      <td>0</td>\n",
              "      <td>1</td>\n",
              "      <td>0</td>\n",
              "      <td>0</td>\n",
              "      <td>0</td>\n",
              "      <td>1</td>\n",
              "      <td>0</td>\n",
              "      <td>1</td>\n",
              "      <td>1</td>\n",
              "      <td>0</td>\n",
              "      <td>1</td>\n",
              "      <td>0</td>\n",
              "      <td>0</td>\n",
              "      <td>0</td>\n",
              "      <td>0</td>\n",
              "      <td>0</td>\n",
              "      <td>0</td>\n",
              "      <td>0</td>\n",
              "      <td>0</td>\n",
              "      <td>0</td>\n",
              "      <td>0</td>\n",
              "      <td>0</td>\n",
              "      <td>0</td>\n",
              "      <td>0</td>\n",
              "      <td>1</td>\n",
              "      <td>0</td>\n",
              "      <td>0</td>\n",
              "      <td>0</td>\n",
              "      <td>0</td>\n",
              "      <td>0</td>\n",
              "      <td>0</td>\n",
              "      <td>0</td>\n",
              "    </tr>\n",
              "    <tr>\n",
              "      <th>4207</th>\n",
              "      <td>8415</td>\n",
              "      <td>87.48</td>\n",
              "      <td>al</td>\n",
              "      <td>r</td>\n",
              "      <td>e</td>\n",
              "      <td>f</td>\n",
              "      <td>d</td>\n",
              "      <td>aa</td>\n",
              "      <td>l</td>\n",
              "      <td>u</td>\n",
              "      <td>0</td>\n",
              "      <td>0</td>\n",
              "      <td>0</td>\n",
              "      <td>0</td>\n",
              "      <td>1</td>\n",
              "      <td>0</td>\n",
              "      <td>0</td>\n",
              "      <td>0</td>\n",
              "      <td>0</td>\n",
              "      <td>0</td>\n",
              "      <td>0</td>\n",
              "      <td>0</td>\n",
              "      <td>0</td>\n",
              "      <td>0</td>\n",
              "      <td>0</td>\n",
              "      <td>0</td>\n",
              "      <td>0</td>\n",
              "      <td>0</td>\n",
              "      <td>0</td>\n",
              "      <td>0</td>\n",
              "      <td>0</td>\n",
              "      <td>0</td>\n",
              "      <td>0</td>\n",
              "      <td>0</td>\n",
              "      <td>0</td>\n",
              "      <td>0</td>\n",
              "      <td>0</td>\n",
              "      <td>0</td>\n",
              "      <td>0</td>\n",
              "      <td>0</td>\n",
              "      <td>...</td>\n",
              "      <td>0</td>\n",
              "      <td>0</td>\n",
              "      <td>0</td>\n",
              "      <td>1</td>\n",
              "      <td>0</td>\n",
              "      <td>0</td>\n",
              "      <td>0</td>\n",
              "      <td>0</td>\n",
              "      <td>0</td>\n",
              "      <td>0</td>\n",
              "      <td>0</td>\n",
              "      <td>0</td>\n",
              "      <td>0</td>\n",
              "      <td>0</td>\n",
              "      <td>0</td>\n",
              "      <td>0</td>\n",
              "      <td>1</td>\n",
              "      <td>1</td>\n",
              "      <td>0</td>\n",
              "      <td>0</td>\n",
              "      <td>0</td>\n",
              "      <td>0</td>\n",
              "      <td>0</td>\n",
              "      <td>0</td>\n",
              "      <td>0</td>\n",
              "      <td>0</td>\n",
              "      <td>0</td>\n",
              "      <td>0</td>\n",
              "      <td>0</td>\n",
              "      <td>1</td>\n",
              "      <td>0</td>\n",
              "      <td>0</td>\n",
              "      <td>0</td>\n",
              "      <td>0</td>\n",
              "      <td>0</td>\n",
              "      <td>0</td>\n",
              "      <td>0</td>\n",
              "      <td>0</td>\n",
              "      <td>0</td>\n",
              "      <td>0</td>\n",
              "    </tr>\n",
              "    <tr>\n",
              "      <th>4208</th>\n",
              "      <td>8417</td>\n",
              "      <td>110.85</td>\n",
              "      <td>z</td>\n",
              "      <td>r</td>\n",
              "      <td>ae</td>\n",
              "      <td>c</td>\n",
              "      <td>d</td>\n",
              "      <td>aa</td>\n",
              "      <td>g</td>\n",
              "      <td>w</td>\n",
              "      <td>0</td>\n",
              "      <td>0</td>\n",
              "      <td>0</td>\n",
              "      <td>0</td>\n",
              "      <td>0</td>\n",
              "      <td>0</td>\n",
              "      <td>0</td>\n",
              "      <td>0</td>\n",
              "      <td>0</td>\n",
              "      <td>0</td>\n",
              "      <td>1</td>\n",
              "      <td>0</td>\n",
              "      <td>0</td>\n",
              "      <td>0</td>\n",
              "      <td>0</td>\n",
              "      <td>0</td>\n",
              "      <td>0</td>\n",
              "      <td>0</td>\n",
              "      <td>0</td>\n",
              "      <td>0</td>\n",
              "      <td>0</td>\n",
              "      <td>0</td>\n",
              "      <td>0</td>\n",
              "      <td>0</td>\n",
              "      <td>0</td>\n",
              "      <td>0</td>\n",
              "      <td>0</td>\n",
              "      <td>0</td>\n",
              "      <td>0</td>\n",
              "      <td>0</td>\n",
              "      <td>...</td>\n",
              "      <td>0</td>\n",
              "      <td>0</td>\n",
              "      <td>0</td>\n",
              "      <td>1</td>\n",
              "      <td>0</td>\n",
              "      <td>1</td>\n",
              "      <td>0</td>\n",
              "      <td>0</td>\n",
              "      <td>0</td>\n",
              "      <td>0</td>\n",
              "      <td>1</td>\n",
              "      <td>0</td>\n",
              "      <td>0</td>\n",
              "      <td>0</td>\n",
              "      <td>0</td>\n",
              "      <td>0</td>\n",
              "      <td>1</td>\n",
              "      <td>1</td>\n",
              "      <td>1</td>\n",
              "      <td>0</td>\n",
              "      <td>0</td>\n",
              "      <td>0</td>\n",
              "      <td>0</td>\n",
              "      <td>0</td>\n",
              "      <td>0</td>\n",
              "      <td>0</td>\n",
              "      <td>0</td>\n",
              "      <td>0</td>\n",
              "      <td>0</td>\n",
              "      <td>0</td>\n",
              "      <td>1</td>\n",
              "      <td>0</td>\n",
              "      <td>0</td>\n",
              "      <td>0</td>\n",
              "      <td>0</td>\n",
              "      <td>0</td>\n",
              "      <td>0</td>\n",
              "      <td>0</td>\n",
              "      <td>0</td>\n",
              "      <td>0</td>\n",
              "    </tr>\n",
              "  </tbody>\n",
              "</table>\n",
              "<p>4209 rows × 378 columns</p>\n",
              "</div>"
            ],
            "text/plain": [
              "        ID       y  X0 X1  X2 X3 X4  ... X378 X379 X380  X382  X383  X384  X385\n",
              "0        0  130.81   k  v  at  a  d  ...    0    0    0     0     0     0     0\n",
              "1        6   88.53   k  t  av  e  d  ...    0    0    0     0     0     0     0\n",
              "2        7   76.26  az  w   n  c  d  ...    0    0    0     1     0     0     0\n",
              "3        9   80.62  az  t   n  f  d  ...    0    0    0     0     0     0     0\n",
              "4       13   78.02  az  v   n  f  d  ...    0    0    0     0     0     0     0\n",
              "...    ...     ...  .. ..  .. .. ..  ...  ...  ...  ...   ...   ...   ...   ...\n",
              "4204  8405  107.39  ak  s  as  c  d  ...    0    0    0     0     0     0     0\n",
              "4205  8406  108.77   j  o   t  d  d  ...    0    0    0     0     0     0     0\n",
              "4206  8412  109.22  ak  v   r  a  d  ...    0    0    0     0     0     0     0\n",
              "4207  8415   87.48  al  r   e  f  d  ...    0    0    0     0     0     0     0\n",
              "4208  8417  110.85   z  r  ae  c  d  ...    0    0    0     0     0     0     0\n",
              "\n",
              "[4209 rows x 378 columns]"
            ]
          },
          "metadata": {
            "tags": []
          },
          "execution_count": 30
        }
      ]
    },
    {
      "cell_type": "code",
      "metadata": {
        "id": "BFBKhAGO6BsK",
        "outputId": "2c2b77aa-cb55-4ce4-fc63-73905c43b9a9",
        "colab": {
          "base_uri": "https://localhost:8080/",
          "height": 136
        }
      },
      "source": [
        "# функция извлекает правильные значение из тренировочных данных\n",
        "def get_truth(array):\n",
        "  data = []\n",
        "  for col_name, col_info in array.items():\n",
        "    # находится столбец y\n",
        "    if col_name == \"y\":\n",
        "      # все данные из него пререписываются в массив\n",
        "      for line_number, line_info in col_info.items():\n",
        "        temp_array = []\n",
        "        temp_array.append(line_info)\n",
        "        data.append(temp_array)\n",
        "  # массив трансформируется в numpy и меняется его размерность\n",
        "  return np.array(data, dtype=np.float64).reshape(array.shape[0], 1)\n",
        "\n",
        "\n",
        "y = get_truth(x)\n",
        "y"
      ],
      "execution_count": 31,
      "outputs": [
        {
          "output_type": "execute_result",
          "data": {
            "text/plain": [
              "array([[130.81],\n",
              "       [ 88.53],\n",
              "       [ 76.26],\n",
              "       ...,\n",
              "       [109.22],\n",
              "       [ 87.48],\n",
              "       [110.85]])"
            ]
          },
          "metadata": {
            "tags": []
          },
          "execution_count": 31
        }
      ]
    },
    {
      "cell_type": "code",
      "metadata": {
        "id": "dP2lwMwP6FNH",
        "outputId": "694a36ea-ce5f-4085-f73e-1612ba2dd179",
        "colab": {
          "base_uri": "https://localhost:8080/",
          "height": 439
        }
      },
      "source": [
        "# столбцы 'y' и 'ID' не нужны при работе больше\n",
        "x.drop('y', axis='columns', inplace=True)\n",
        "x.drop('ID', axis='columns', inplace=True)\n",
        "x"
      ],
      "execution_count": 32,
      "outputs": [
        {
          "output_type": "execute_result",
          "data": {
            "text/html": [
              "<div>\n",
              "<style scoped>\n",
              "    .dataframe tbody tr th:only-of-type {\n",
              "        vertical-align: middle;\n",
              "    }\n",
              "\n",
              "    .dataframe tbody tr th {\n",
              "        vertical-align: top;\n",
              "    }\n",
              "\n",
              "    .dataframe thead th {\n",
              "        text-align: right;\n",
              "    }\n",
              "</style>\n",
              "<table border=\"1\" class=\"dataframe\">\n",
              "  <thead>\n",
              "    <tr style=\"text-align: right;\">\n",
              "      <th></th>\n",
              "      <th>X0</th>\n",
              "      <th>X1</th>\n",
              "      <th>X2</th>\n",
              "      <th>X3</th>\n",
              "      <th>X4</th>\n",
              "      <th>X5</th>\n",
              "      <th>X6</th>\n",
              "      <th>X8</th>\n",
              "      <th>X10</th>\n",
              "      <th>X11</th>\n",
              "      <th>X12</th>\n",
              "      <th>X13</th>\n",
              "      <th>X14</th>\n",
              "      <th>X15</th>\n",
              "      <th>X16</th>\n",
              "      <th>X17</th>\n",
              "      <th>X18</th>\n",
              "      <th>X19</th>\n",
              "      <th>X20</th>\n",
              "      <th>X21</th>\n",
              "      <th>X22</th>\n",
              "      <th>X23</th>\n",
              "      <th>X24</th>\n",
              "      <th>X26</th>\n",
              "      <th>X27</th>\n",
              "      <th>X28</th>\n",
              "      <th>X29</th>\n",
              "      <th>X30</th>\n",
              "      <th>X31</th>\n",
              "      <th>X32</th>\n",
              "      <th>X33</th>\n",
              "      <th>X34</th>\n",
              "      <th>X35</th>\n",
              "      <th>X36</th>\n",
              "      <th>X37</th>\n",
              "      <th>X38</th>\n",
              "      <th>X39</th>\n",
              "      <th>X40</th>\n",
              "      <th>X41</th>\n",
              "      <th>X42</th>\n",
              "      <th>...</th>\n",
              "      <th>X345</th>\n",
              "      <th>X346</th>\n",
              "      <th>X347</th>\n",
              "      <th>X348</th>\n",
              "      <th>X349</th>\n",
              "      <th>X350</th>\n",
              "      <th>X351</th>\n",
              "      <th>X352</th>\n",
              "      <th>X353</th>\n",
              "      <th>X354</th>\n",
              "      <th>X355</th>\n",
              "      <th>X356</th>\n",
              "      <th>X357</th>\n",
              "      <th>X358</th>\n",
              "      <th>X359</th>\n",
              "      <th>X360</th>\n",
              "      <th>X361</th>\n",
              "      <th>X362</th>\n",
              "      <th>X363</th>\n",
              "      <th>X364</th>\n",
              "      <th>X365</th>\n",
              "      <th>X366</th>\n",
              "      <th>X367</th>\n",
              "      <th>X368</th>\n",
              "      <th>X369</th>\n",
              "      <th>X370</th>\n",
              "      <th>X371</th>\n",
              "      <th>X372</th>\n",
              "      <th>X373</th>\n",
              "      <th>X374</th>\n",
              "      <th>X375</th>\n",
              "      <th>X376</th>\n",
              "      <th>X377</th>\n",
              "      <th>X378</th>\n",
              "      <th>X379</th>\n",
              "      <th>X380</th>\n",
              "      <th>X382</th>\n",
              "      <th>X383</th>\n",
              "      <th>X384</th>\n",
              "      <th>X385</th>\n",
              "    </tr>\n",
              "  </thead>\n",
              "  <tbody>\n",
              "    <tr>\n",
              "      <th>0</th>\n",
              "      <td>k</td>\n",
              "      <td>v</td>\n",
              "      <td>at</td>\n",
              "      <td>a</td>\n",
              "      <td>d</td>\n",
              "      <td>u</td>\n",
              "      <td>j</td>\n",
              "      <td>o</td>\n",
              "      <td>0</td>\n",
              "      <td>0</td>\n",
              "      <td>0</td>\n",
              "      <td>1</td>\n",
              "      <td>0</td>\n",
              "      <td>0</td>\n",
              "      <td>0</td>\n",
              "      <td>0</td>\n",
              "      <td>1</td>\n",
              "      <td>0</td>\n",
              "      <td>0</td>\n",
              "      <td>1</td>\n",
              "      <td>0</td>\n",
              "      <td>0</td>\n",
              "      <td>0</td>\n",
              "      <td>0</td>\n",
              "      <td>0</td>\n",
              "      <td>0</td>\n",
              "      <td>0</td>\n",
              "      <td>0</td>\n",
              "      <td>1</td>\n",
              "      <td>0</td>\n",
              "      <td>0</td>\n",
              "      <td>0</td>\n",
              "      <td>1</td>\n",
              "      <td>0</td>\n",
              "      <td>1</td>\n",
              "      <td>0</td>\n",
              "      <td>0</td>\n",
              "      <td>0</td>\n",
              "      <td>0</td>\n",
              "      <td>0</td>\n",
              "      <td>...</td>\n",
              "      <td>0</td>\n",
              "      <td>0</td>\n",
              "      <td>0</td>\n",
              "      <td>0</td>\n",
              "      <td>0</td>\n",
              "      <td>0</td>\n",
              "      <td>0</td>\n",
              "      <td>0</td>\n",
              "      <td>0</td>\n",
              "      <td>1</td>\n",
              "      <td>0</td>\n",
              "      <td>0</td>\n",
              "      <td>0</td>\n",
              "      <td>0</td>\n",
              "      <td>0</td>\n",
              "      <td>0</td>\n",
              "      <td>1</td>\n",
              "      <td>0</td>\n",
              "      <td>0</td>\n",
              "      <td>0</td>\n",
              "      <td>0</td>\n",
              "      <td>0</td>\n",
              "      <td>0</td>\n",
              "      <td>0</td>\n",
              "      <td>0</td>\n",
              "      <td>0</td>\n",
              "      <td>0</td>\n",
              "      <td>0</td>\n",
              "      <td>0</td>\n",
              "      <td>0</td>\n",
              "      <td>0</td>\n",
              "      <td>0</td>\n",
              "      <td>1</td>\n",
              "      <td>0</td>\n",
              "      <td>0</td>\n",
              "      <td>0</td>\n",
              "      <td>0</td>\n",
              "      <td>0</td>\n",
              "      <td>0</td>\n",
              "      <td>0</td>\n",
              "    </tr>\n",
              "    <tr>\n",
              "      <th>1</th>\n",
              "      <td>k</td>\n",
              "      <td>t</td>\n",
              "      <td>av</td>\n",
              "      <td>e</td>\n",
              "      <td>d</td>\n",
              "      <td>y</td>\n",
              "      <td>l</td>\n",
              "      <td>o</td>\n",
              "      <td>0</td>\n",
              "      <td>0</td>\n",
              "      <td>0</td>\n",
              "      <td>0</td>\n",
              "      <td>0</td>\n",
              "      <td>0</td>\n",
              "      <td>0</td>\n",
              "      <td>0</td>\n",
              "      <td>1</td>\n",
              "      <td>0</td>\n",
              "      <td>0</td>\n",
              "      <td>0</td>\n",
              "      <td>0</td>\n",
              "      <td>0</td>\n",
              "      <td>0</td>\n",
              "      <td>0</td>\n",
              "      <td>1</td>\n",
              "      <td>0</td>\n",
              "      <td>0</td>\n",
              "      <td>0</td>\n",
              "      <td>1</td>\n",
              "      <td>0</td>\n",
              "      <td>0</td>\n",
              "      <td>0</td>\n",
              "      <td>1</td>\n",
              "      <td>0</td>\n",
              "      <td>1</td>\n",
              "      <td>0</td>\n",
              "      <td>0</td>\n",
              "      <td>0</td>\n",
              "      <td>0</td>\n",
              "      <td>0</td>\n",
              "      <td>...</td>\n",
              "      <td>0</td>\n",
              "      <td>0</td>\n",
              "      <td>0</td>\n",
              "      <td>1</td>\n",
              "      <td>0</td>\n",
              "      <td>0</td>\n",
              "      <td>0</td>\n",
              "      <td>0</td>\n",
              "      <td>0</td>\n",
              "      <td>0</td>\n",
              "      <td>0</td>\n",
              "      <td>0</td>\n",
              "      <td>0</td>\n",
              "      <td>0</td>\n",
              "      <td>0</td>\n",
              "      <td>0</td>\n",
              "      <td>1</td>\n",
              "      <td>0</td>\n",
              "      <td>1</td>\n",
              "      <td>0</td>\n",
              "      <td>0</td>\n",
              "      <td>0</td>\n",
              "      <td>0</td>\n",
              "      <td>0</td>\n",
              "      <td>0</td>\n",
              "      <td>0</td>\n",
              "      <td>0</td>\n",
              "      <td>0</td>\n",
              "      <td>0</td>\n",
              "      <td>0</td>\n",
              "      <td>1</td>\n",
              "      <td>0</td>\n",
              "      <td>0</td>\n",
              "      <td>0</td>\n",
              "      <td>0</td>\n",
              "      <td>0</td>\n",
              "      <td>0</td>\n",
              "      <td>0</td>\n",
              "      <td>0</td>\n",
              "      <td>0</td>\n",
              "    </tr>\n",
              "    <tr>\n",
              "      <th>2</th>\n",
              "      <td>az</td>\n",
              "      <td>w</td>\n",
              "      <td>n</td>\n",
              "      <td>c</td>\n",
              "      <td>d</td>\n",
              "      <td>x</td>\n",
              "      <td>j</td>\n",
              "      <td>x</td>\n",
              "      <td>0</td>\n",
              "      <td>0</td>\n",
              "      <td>0</td>\n",
              "      <td>0</td>\n",
              "      <td>0</td>\n",
              "      <td>0</td>\n",
              "      <td>0</td>\n",
              "      <td>1</td>\n",
              "      <td>0</td>\n",
              "      <td>0</td>\n",
              "      <td>0</td>\n",
              "      <td>0</td>\n",
              "      <td>0</td>\n",
              "      <td>0</td>\n",
              "      <td>0</td>\n",
              "      <td>0</td>\n",
              "      <td>1</td>\n",
              "      <td>1</td>\n",
              "      <td>1</td>\n",
              "      <td>0</td>\n",
              "      <td>1</td>\n",
              "      <td>0</td>\n",
              "      <td>0</td>\n",
              "      <td>0</td>\n",
              "      <td>1</td>\n",
              "      <td>0</td>\n",
              "      <td>1</td>\n",
              "      <td>0</td>\n",
              "      <td>0</td>\n",
              "      <td>0</td>\n",
              "      <td>0</td>\n",
              "      <td>0</td>\n",
              "      <td>...</td>\n",
              "      <td>0</td>\n",
              "      <td>0</td>\n",
              "      <td>0</td>\n",
              "      <td>1</td>\n",
              "      <td>0</td>\n",
              "      <td>1</td>\n",
              "      <td>0</td>\n",
              "      <td>0</td>\n",
              "      <td>0</td>\n",
              "      <td>1</td>\n",
              "      <td>0</td>\n",
              "      <td>0</td>\n",
              "      <td>0</td>\n",
              "      <td>1</td>\n",
              "      <td>0</td>\n",
              "      <td>0</td>\n",
              "      <td>1</td>\n",
              "      <td>0</td>\n",
              "      <td>1</td>\n",
              "      <td>0</td>\n",
              "      <td>0</td>\n",
              "      <td>0</td>\n",
              "      <td>0</td>\n",
              "      <td>0</td>\n",
              "      <td>0</td>\n",
              "      <td>0</td>\n",
              "      <td>0</td>\n",
              "      <td>0</td>\n",
              "      <td>0</td>\n",
              "      <td>0</td>\n",
              "      <td>0</td>\n",
              "      <td>0</td>\n",
              "      <td>0</td>\n",
              "      <td>0</td>\n",
              "      <td>0</td>\n",
              "      <td>0</td>\n",
              "      <td>1</td>\n",
              "      <td>0</td>\n",
              "      <td>0</td>\n",
              "      <td>0</td>\n",
              "    </tr>\n",
              "    <tr>\n",
              "      <th>3</th>\n",
              "      <td>az</td>\n",
              "      <td>t</td>\n",
              "      <td>n</td>\n",
              "      <td>f</td>\n",
              "      <td>d</td>\n",
              "      <td>x</td>\n",
              "      <td>l</td>\n",
              "      <td>e</td>\n",
              "      <td>0</td>\n",
              "      <td>0</td>\n",
              "      <td>0</td>\n",
              "      <td>0</td>\n",
              "      <td>0</td>\n",
              "      <td>0</td>\n",
              "      <td>0</td>\n",
              "      <td>0</td>\n",
              "      <td>0</td>\n",
              "      <td>0</td>\n",
              "      <td>0</td>\n",
              "      <td>0</td>\n",
              "      <td>0</td>\n",
              "      <td>0</td>\n",
              "      <td>0</td>\n",
              "      <td>0</td>\n",
              "      <td>1</td>\n",
              "      <td>1</td>\n",
              "      <td>1</td>\n",
              "      <td>0</td>\n",
              "      <td>1</td>\n",
              "      <td>0</td>\n",
              "      <td>0</td>\n",
              "      <td>0</td>\n",
              "      <td>1</td>\n",
              "      <td>0</td>\n",
              "      <td>1</td>\n",
              "      <td>0</td>\n",
              "      <td>0</td>\n",
              "      <td>0</td>\n",
              "      <td>0</td>\n",
              "      <td>0</td>\n",
              "      <td>...</td>\n",
              "      <td>0</td>\n",
              "      <td>0</td>\n",
              "      <td>0</td>\n",
              "      <td>1</td>\n",
              "      <td>0</td>\n",
              "      <td>1</td>\n",
              "      <td>0</td>\n",
              "      <td>0</td>\n",
              "      <td>0</td>\n",
              "      <td>0</td>\n",
              "      <td>0</td>\n",
              "      <td>0</td>\n",
              "      <td>0</td>\n",
              "      <td>1</td>\n",
              "      <td>0</td>\n",
              "      <td>0</td>\n",
              "      <td>1</td>\n",
              "      <td>0</td>\n",
              "      <td>1</td>\n",
              "      <td>0</td>\n",
              "      <td>0</td>\n",
              "      <td>0</td>\n",
              "      <td>0</td>\n",
              "      <td>0</td>\n",
              "      <td>0</td>\n",
              "      <td>0</td>\n",
              "      <td>0</td>\n",
              "      <td>1</td>\n",
              "      <td>0</td>\n",
              "      <td>0</td>\n",
              "      <td>0</td>\n",
              "      <td>0</td>\n",
              "      <td>0</td>\n",
              "      <td>0</td>\n",
              "      <td>0</td>\n",
              "      <td>0</td>\n",
              "      <td>0</td>\n",
              "      <td>0</td>\n",
              "      <td>0</td>\n",
              "      <td>0</td>\n",
              "    </tr>\n",
              "    <tr>\n",
              "      <th>4</th>\n",
              "      <td>az</td>\n",
              "      <td>v</td>\n",
              "      <td>n</td>\n",
              "      <td>f</td>\n",
              "      <td>d</td>\n",
              "      <td>h</td>\n",
              "      <td>d</td>\n",
              "      <td>n</td>\n",
              "      <td>0</td>\n",
              "      <td>0</td>\n",
              "      <td>0</td>\n",
              "      <td>0</td>\n",
              "      <td>0</td>\n",
              "      <td>0</td>\n",
              "      <td>0</td>\n",
              "      <td>0</td>\n",
              "      <td>0</td>\n",
              "      <td>0</td>\n",
              "      <td>0</td>\n",
              "      <td>0</td>\n",
              "      <td>0</td>\n",
              "      <td>0</td>\n",
              "      <td>0</td>\n",
              "      <td>0</td>\n",
              "      <td>1</td>\n",
              "      <td>1</td>\n",
              "      <td>1</td>\n",
              "      <td>0</td>\n",
              "      <td>1</td>\n",
              "      <td>0</td>\n",
              "      <td>0</td>\n",
              "      <td>0</td>\n",
              "      <td>1</td>\n",
              "      <td>0</td>\n",
              "      <td>1</td>\n",
              "      <td>0</td>\n",
              "      <td>0</td>\n",
              "      <td>0</td>\n",
              "      <td>0</td>\n",
              "      <td>0</td>\n",
              "      <td>...</td>\n",
              "      <td>0</td>\n",
              "      <td>0</td>\n",
              "      <td>0</td>\n",
              "      <td>1</td>\n",
              "      <td>0</td>\n",
              "      <td>1</td>\n",
              "      <td>0</td>\n",
              "      <td>0</td>\n",
              "      <td>0</td>\n",
              "      <td>0</td>\n",
              "      <td>0</td>\n",
              "      <td>0</td>\n",
              "      <td>0</td>\n",
              "      <td>1</td>\n",
              "      <td>0</td>\n",
              "      <td>0</td>\n",
              "      <td>1</td>\n",
              "      <td>0</td>\n",
              "      <td>1</td>\n",
              "      <td>0</td>\n",
              "      <td>0</td>\n",
              "      <td>0</td>\n",
              "      <td>0</td>\n",
              "      <td>0</td>\n",
              "      <td>0</td>\n",
              "      <td>0</td>\n",
              "      <td>1</td>\n",
              "      <td>0</td>\n",
              "      <td>0</td>\n",
              "      <td>0</td>\n",
              "      <td>0</td>\n",
              "      <td>0</td>\n",
              "      <td>0</td>\n",
              "      <td>0</td>\n",
              "      <td>0</td>\n",
              "      <td>0</td>\n",
              "      <td>0</td>\n",
              "      <td>0</td>\n",
              "      <td>0</td>\n",
              "      <td>0</td>\n",
              "    </tr>\n",
              "    <tr>\n",
              "      <th>...</th>\n",
              "      <td>...</td>\n",
              "      <td>...</td>\n",
              "      <td>...</td>\n",
              "      <td>...</td>\n",
              "      <td>...</td>\n",
              "      <td>...</td>\n",
              "      <td>...</td>\n",
              "      <td>...</td>\n",
              "      <td>...</td>\n",
              "      <td>...</td>\n",
              "      <td>...</td>\n",
              "      <td>...</td>\n",
              "      <td>...</td>\n",
              "      <td>...</td>\n",
              "      <td>...</td>\n",
              "      <td>...</td>\n",
              "      <td>...</td>\n",
              "      <td>...</td>\n",
              "      <td>...</td>\n",
              "      <td>...</td>\n",
              "      <td>...</td>\n",
              "      <td>...</td>\n",
              "      <td>...</td>\n",
              "      <td>...</td>\n",
              "      <td>...</td>\n",
              "      <td>...</td>\n",
              "      <td>...</td>\n",
              "      <td>...</td>\n",
              "      <td>...</td>\n",
              "      <td>...</td>\n",
              "      <td>...</td>\n",
              "      <td>...</td>\n",
              "      <td>...</td>\n",
              "      <td>...</td>\n",
              "      <td>...</td>\n",
              "      <td>...</td>\n",
              "      <td>...</td>\n",
              "      <td>...</td>\n",
              "      <td>...</td>\n",
              "      <td>...</td>\n",
              "      <td>...</td>\n",
              "      <td>...</td>\n",
              "      <td>...</td>\n",
              "      <td>...</td>\n",
              "      <td>...</td>\n",
              "      <td>...</td>\n",
              "      <td>...</td>\n",
              "      <td>...</td>\n",
              "      <td>...</td>\n",
              "      <td>...</td>\n",
              "      <td>...</td>\n",
              "      <td>...</td>\n",
              "      <td>...</td>\n",
              "      <td>...</td>\n",
              "      <td>...</td>\n",
              "      <td>...</td>\n",
              "      <td>...</td>\n",
              "      <td>...</td>\n",
              "      <td>...</td>\n",
              "      <td>...</td>\n",
              "      <td>...</td>\n",
              "      <td>...</td>\n",
              "      <td>...</td>\n",
              "      <td>...</td>\n",
              "      <td>...</td>\n",
              "      <td>...</td>\n",
              "      <td>...</td>\n",
              "      <td>...</td>\n",
              "      <td>...</td>\n",
              "      <td>...</td>\n",
              "      <td>...</td>\n",
              "      <td>...</td>\n",
              "      <td>...</td>\n",
              "      <td>...</td>\n",
              "      <td>...</td>\n",
              "      <td>...</td>\n",
              "      <td>...</td>\n",
              "      <td>...</td>\n",
              "      <td>...</td>\n",
              "      <td>...</td>\n",
              "      <td>...</td>\n",
              "    </tr>\n",
              "    <tr>\n",
              "      <th>4204</th>\n",
              "      <td>ak</td>\n",
              "      <td>s</td>\n",
              "      <td>as</td>\n",
              "      <td>c</td>\n",
              "      <td>d</td>\n",
              "      <td>aa</td>\n",
              "      <td>d</td>\n",
              "      <td>q</td>\n",
              "      <td>0</td>\n",
              "      <td>0</td>\n",
              "      <td>0</td>\n",
              "      <td>0</td>\n",
              "      <td>1</td>\n",
              "      <td>0</td>\n",
              "      <td>0</td>\n",
              "      <td>0</td>\n",
              "      <td>0</td>\n",
              "      <td>0</td>\n",
              "      <td>0</td>\n",
              "      <td>0</td>\n",
              "      <td>0</td>\n",
              "      <td>0</td>\n",
              "      <td>0</td>\n",
              "      <td>0</td>\n",
              "      <td>1</td>\n",
              "      <td>0</td>\n",
              "      <td>0</td>\n",
              "      <td>0</td>\n",
              "      <td>0</td>\n",
              "      <td>0</td>\n",
              "      <td>0</td>\n",
              "      <td>0</td>\n",
              "      <td>0</td>\n",
              "      <td>0</td>\n",
              "      <td>0</td>\n",
              "      <td>1</td>\n",
              "      <td>0</td>\n",
              "      <td>0</td>\n",
              "      <td>0</td>\n",
              "      <td>0</td>\n",
              "      <td>...</td>\n",
              "      <td>0</td>\n",
              "      <td>0</td>\n",
              "      <td>0</td>\n",
              "      <td>1</td>\n",
              "      <td>0</td>\n",
              "      <td>0</td>\n",
              "      <td>0</td>\n",
              "      <td>0</td>\n",
              "      <td>0</td>\n",
              "      <td>1</td>\n",
              "      <td>0</td>\n",
              "      <td>0</td>\n",
              "      <td>0</td>\n",
              "      <td>1</td>\n",
              "      <td>0</td>\n",
              "      <td>0</td>\n",
              "      <td>1</td>\n",
              "      <td>0</td>\n",
              "      <td>1</td>\n",
              "      <td>0</td>\n",
              "      <td>0</td>\n",
              "      <td>0</td>\n",
              "      <td>0</td>\n",
              "      <td>0</td>\n",
              "      <td>0</td>\n",
              "      <td>0</td>\n",
              "      <td>0</td>\n",
              "      <td>0</td>\n",
              "      <td>0</td>\n",
              "      <td>0</td>\n",
              "      <td>1</td>\n",
              "      <td>0</td>\n",
              "      <td>0</td>\n",
              "      <td>0</td>\n",
              "      <td>0</td>\n",
              "      <td>0</td>\n",
              "      <td>0</td>\n",
              "      <td>0</td>\n",
              "      <td>0</td>\n",
              "      <td>0</td>\n",
              "    </tr>\n",
              "    <tr>\n",
              "      <th>4205</th>\n",
              "      <td>j</td>\n",
              "      <td>o</td>\n",
              "      <td>t</td>\n",
              "      <td>d</td>\n",
              "      <td>d</td>\n",
              "      <td>aa</td>\n",
              "      <td>h</td>\n",
              "      <td>h</td>\n",
              "      <td>0</td>\n",
              "      <td>0</td>\n",
              "      <td>0</td>\n",
              "      <td>0</td>\n",
              "      <td>0</td>\n",
              "      <td>0</td>\n",
              "      <td>0</td>\n",
              "      <td>0</td>\n",
              "      <td>0</td>\n",
              "      <td>0</td>\n",
              "      <td>0</td>\n",
              "      <td>0</td>\n",
              "      <td>0</td>\n",
              "      <td>0</td>\n",
              "      <td>0</td>\n",
              "      <td>0</td>\n",
              "      <td>0</td>\n",
              "      <td>0</td>\n",
              "      <td>0</td>\n",
              "      <td>0</td>\n",
              "      <td>0</td>\n",
              "      <td>0</td>\n",
              "      <td>0</td>\n",
              "      <td>0</td>\n",
              "      <td>0</td>\n",
              "      <td>0</td>\n",
              "      <td>0</td>\n",
              "      <td>0</td>\n",
              "      <td>0</td>\n",
              "      <td>0</td>\n",
              "      <td>0</td>\n",
              "      <td>0</td>\n",
              "      <td>...</td>\n",
              "      <td>0</td>\n",
              "      <td>0</td>\n",
              "      <td>0</td>\n",
              "      <td>0</td>\n",
              "      <td>0</td>\n",
              "      <td>0</td>\n",
              "      <td>0</td>\n",
              "      <td>0</td>\n",
              "      <td>0</td>\n",
              "      <td>0</td>\n",
              "      <td>0</td>\n",
              "      <td>0</td>\n",
              "      <td>0</td>\n",
              "      <td>0</td>\n",
              "      <td>0</td>\n",
              "      <td>0</td>\n",
              "      <td>1</td>\n",
              "      <td>0</td>\n",
              "      <td>0</td>\n",
              "      <td>0</td>\n",
              "      <td>0</td>\n",
              "      <td>0</td>\n",
              "      <td>0</td>\n",
              "      <td>0</td>\n",
              "      <td>0</td>\n",
              "      <td>1</td>\n",
              "      <td>0</td>\n",
              "      <td>0</td>\n",
              "      <td>0</td>\n",
              "      <td>0</td>\n",
              "      <td>0</td>\n",
              "      <td>1</td>\n",
              "      <td>0</td>\n",
              "      <td>0</td>\n",
              "      <td>0</td>\n",
              "      <td>0</td>\n",
              "      <td>0</td>\n",
              "      <td>0</td>\n",
              "      <td>0</td>\n",
              "      <td>0</td>\n",
              "    </tr>\n",
              "    <tr>\n",
              "      <th>4206</th>\n",
              "      <td>ak</td>\n",
              "      <td>v</td>\n",
              "      <td>r</td>\n",
              "      <td>a</td>\n",
              "      <td>d</td>\n",
              "      <td>aa</td>\n",
              "      <td>g</td>\n",
              "      <td>e</td>\n",
              "      <td>0</td>\n",
              "      <td>0</td>\n",
              "      <td>1</td>\n",
              "      <td>1</td>\n",
              "      <td>0</td>\n",
              "      <td>0</td>\n",
              "      <td>0</td>\n",
              "      <td>0</td>\n",
              "      <td>0</td>\n",
              "      <td>0</td>\n",
              "      <td>0</td>\n",
              "      <td>0</td>\n",
              "      <td>0</td>\n",
              "      <td>0</td>\n",
              "      <td>0</td>\n",
              "      <td>0</td>\n",
              "      <td>1</td>\n",
              "      <td>0</td>\n",
              "      <td>0</td>\n",
              "      <td>0</td>\n",
              "      <td>0</td>\n",
              "      <td>0</td>\n",
              "      <td>0</td>\n",
              "      <td>0</td>\n",
              "      <td>0</td>\n",
              "      <td>0</td>\n",
              "      <td>0</td>\n",
              "      <td>0</td>\n",
              "      <td>0</td>\n",
              "      <td>0</td>\n",
              "      <td>0</td>\n",
              "      <td>0</td>\n",
              "      <td>...</td>\n",
              "      <td>0</td>\n",
              "      <td>0</td>\n",
              "      <td>0</td>\n",
              "      <td>1</td>\n",
              "      <td>0</td>\n",
              "      <td>0</td>\n",
              "      <td>0</td>\n",
              "      <td>0</td>\n",
              "      <td>0</td>\n",
              "      <td>1</td>\n",
              "      <td>0</td>\n",
              "      <td>0</td>\n",
              "      <td>0</td>\n",
              "      <td>1</td>\n",
              "      <td>0</td>\n",
              "      <td>1</td>\n",
              "      <td>1</td>\n",
              "      <td>0</td>\n",
              "      <td>1</td>\n",
              "      <td>0</td>\n",
              "      <td>0</td>\n",
              "      <td>0</td>\n",
              "      <td>0</td>\n",
              "      <td>0</td>\n",
              "      <td>0</td>\n",
              "      <td>0</td>\n",
              "      <td>0</td>\n",
              "      <td>0</td>\n",
              "      <td>0</td>\n",
              "      <td>0</td>\n",
              "      <td>0</td>\n",
              "      <td>0</td>\n",
              "      <td>1</td>\n",
              "      <td>0</td>\n",
              "      <td>0</td>\n",
              "      <td>0</td>\n",
              "      <td>0</td>\n",
              "      <td>0</td>\n",
              "      <td>0</td>\n",
              "      <td>0</td>\n",
              "    </tr>\n",
              "    <tr>\n",
              "      <th>4207</th>\n",
              "      <td>al</td>\n",
              "      <td>r</td>\n",
              "      <td>e</td>\n",
              "      <td>f</td>\n",
              "      <td>d</td>\n",
              "      <td>aa</td>\n",
              "      <td>l</td>\n",
              "      <td>u</td>\n",
              "      <td>0</td>\n",
              "      <td>0</td>\n",
              "      <td>0</td>\n",
              "      <td>0</td>\n",
              "      <td>1</td>\n",
              "      <td>0</td>\n",
              "      <td>0</td>\n",
              "      <td>0</td>\n",
              "      <td>0</td>\n",
              "      <td>0</td>\n",
              "      <td>0</td>\n",
              "      <td>0</td>\n",
              "      <td>0</td>\n",
              "      <td>0</td>\n",
              "      <td>0</td>\n",
              "      <td>0</td>\n",
              "      <td>0</td>\n",
              "      <td>0</td>\n",
              "      <td>0</td>\n",
              "      <td>0</td>\n",
              "      <td>0</td>\n",
              "      <td>0</td>\n",
              "      <td>0</td>\n",
              "      <td>0</td>\n",
              "      <td>0</td>\n",
              "      <td>0</td>\n",
              "      <td>0</td>\n",
              "      <td>0</td>\n",
              "      <td>0</td>\n",
              "      <td>0</td>\n",
              "      <td>0</td>\n",
              "      <td>0</td>\n",
              "      <td>...</td>\n",
              "      <td>0</td>\n",
              "      <td>0</td>\n",
              "      <td>0</td>\n",
              "      <td>1</td>\n",
              "      <td>0</td>\n",
              "      <td>0</td>\n",
              "      <td>0</td>\n",
              "      <td>0</td>\n",
              "      <td>0</td>\n",
              "      <td>0</td>\n",
              "      <td>0</td>\n",
              "      <td>0</td>\n",
              "      <td>0</td>\n",
              "      <td>0</td>\n",
              "      <td>0</td>\n",
              "      <td>0</td>\n",
              "      <td>1</td>\n",
              "      <td>1</td>\n",
              "      <td>0</td>\n",
              "      <td>0</td>\n",
              "      <td>0</td>\n",
              "      <td>0</td>\n",
              "      <td>0</td>\n",
              "      <td>0</td>\n",
              "      <td>0</td>\n",
              "      <td>0</td>\n",
              "      <td>0</td>\n",
              "      <td>0</td>\n",
              "      <td>0</td>\n",
              "      <td>1</td>\n",
              "      <td>0</td>\n",
              "      <td>0</td>\n",
              "      <td>0</td>\n",
              "      <td>0</td>\n",
              "      <td>0</td>\n",
              "      <td>0</td>\n",
              "      <td>0</td>\n",
              "      <td>0</td>\n",
              "      <td>0</td>\n",
              "      <td>0</td>\n",
              "    </tr>\n",
              "    <tr>\n",
              "      <th>4208</th>\n",
              "      <td>z</td>\n",
              "      <td>r</td>\n",
              "      <td>ae</td>\n",
              "      <td>c</td>\n",
              "      <td>d</td>\n",
              "      <td>aa</td>\n",
              "      <td>g</td>\n",
              "      <td>w</td>\n",
              "      <td>0</td>\n",
              "      <td>0</td>\n",
              "      <td>0</td>\n",
              "      <td>0</td>\n",
              "      <td>0</td>\n",
              "      <td>0</td>\n",
              "      <td>0</td>\n",
              "      <td>0</td>\n",
              "      <td>0</td>\n",
              "      <td>0</td>\n",
              "      <td>1</td>\n",
              "      <td>0</td>\n",
              "      <td>0</td>\n",
              "      <td>0</td>\n",
              "      <td>0</td>\n",
              "      <td>0</td>\n",
              "      <td>0</td>\n",
              "      <td>0</td>\n",
              "      <td>0</td>\n",
              "      <td>0</td>\n",
              "      <td>0</td>\n",
              "      <td>0</td>\n",
              "      <td>0</td>\n",
              "      <td>0</td>\n",
              "      <td>0</td>\n",
              "      <td>0</td>\n",
              "      <td>0</td>\n",
              "      <td>0</td>\n",
              "      <td>0</td>\n",
              "      <td>0</td>\n",
              "      <td>0</td>\n",
              "      <td>0</td>\n",
              "      <td>...</td>\n",
              "      <td>0</td>\n",
              "      <td>0</td>\n",
              "      <td>0</td>\n",
              "      <td>1</td>\n",
              "      <td>0</td>\n",
              "      <td>1</td>\n",
              "      <td>0</td>\n",
              "      <td>0</td>\n",
              "      <td>0</td>\n",
              "      <td>0</td>\n",
              "      <td>1</td>\n",
              "      <td>0</td>\n",
              "      <td>0</td>\n",
              "      <td>0</td>\n",
              "      <td>0</td>\n",
              "      <td>0</td>\n",
              "      <td>1</td>\n",
              "      <td>1</td>\n",
              "      <td>1</td>\n",
              "      <td>0</td>\n",
              "      <td>0</td>\n",
              "      <td>0</td>\n",
              "      <td>0</td>\n",
              "      <td>0</td>\n",
              "      <td>0</td>\n",
              "      <td>0</td>\n",
              "      <td>0</td>\n",
              "      <td>0</td>\n",
              "      <td>0</td>\n",
              "      <td>0</td>\n",
              "      <td>1</td>\n",
              "      <td>0</td>\n",
              "      <td>0</td>\n",
              "      <td>0</td>\n",
              "      <td>0</td>\n",
              "      <td>0</td>\n",
              "      <td>0</td>\n",
              "      <td>0</td>\n",
              "      <td>0</td>\n",
              "      <td>0</td>\n",
              "    </tr>\n",
              "  </tbody>\n",
              "</table>\n",
              "<p>4209 rows × 376 columns</p>\n",
              "</div>"
            ],
            "text/plain": [
              "      X0 X1  X2 X3 X4  X5 X6 X8  ...  X377  X378  X379  X380  X382  X383  X384  X385\n",
              "0      k  v  at  a  d   u  j  o  ...     1     0     0     0     0     0     0     0\n",
              "1      k  t  av  e  d   y  l  o  ...     0     0     0     0     0     0     0     0\n",
              "2     az  w   n  c  d   x  j  x  ...     0     0     0     0     1     0     0     0\n",
              "3     az  t   n  f  d   x  l  e  ...     0     0     0     0     0     0     0     0\n",
              "4     az  v   n  f  d   h  d  n  ...     0     0     0     0     0     0     0     0\n",
              "...   .. ..  .. .. ..  .. .. ..  ...   ...   ...   ...   ...   ...   ...   ...   ...\n",
              "4204  ak  s  as  c  d  aa  d  q  ...     0     0     0     0     0     0     0     0\n",
              "4205   j  o   t  d  d  aa  h  h  ...     0     0     0     0     0     0     0     0\n",
              "4206  ak  v   r  a  d  aa  g  e  ...     1     0     0     0     0     0     0     0\n",
              "4207  al  r   e  f  d  aa  l  u  ...     0     0     0     0     0     0     0     0\n",
              "4208   z  r  ae  c  d  aa  g  w  ...     0     0     0     0     0     0     0     0\n",
              "\n",
              "[4209 rows x 376 columns]"
            ]
          },
          "metadata": {
            "tags": []
          },
          "execution_count": 32
        }
      ]
    },
    {
      "cell_type": "code",
      "metadata": {
        "id": "UHcoRW3o6IBE",
        "outputId": "544b1458-5e6e-47b2-f2c4-cc168064ef10",
        "colab": {
          "base_uri": "https://localhost:8080/",
          "height": 439
        }
      },
      "source": [
        "# все буквы и цифры шифруются, чтобы остались только числа\n",
        "df = pd.DataFrame(x)\n",
        "x = df.apply(preprocessing.LabelEncoder().fit_transform)\n",
        "\n",
        "x"
      ],
      "execution_count": 33,
      "outputs": [
        {
          "output_type": "execute_result",
          "data": {
            "text/html": [
              "<div>\n",
              "<style scoped>\n",
              "    .dataframe tbody tr th:only-of-type {\n",
              "        vertical-align: middle;\n",
              "    }\n",
              "\n",
              "    .dataframe tbody tr th {\n",
              "        vertical-align: top;\n",
              "    }\n",
              "\n",
              "    .dataframe thead th {\n",
              "        text-align: right;\n",
              "    }\n",
              "</style>\n",
              "<table border=\"1\" class=\"dataframe\">\n",
              "  <thead>\n",
              "    <tr style=\"text-align: right;\">\n",
              "      <th></th>\n",
              "      <th>X0</th>\n",
              "      <th>X1</th>\n",
              "      <th>X2</th>\n",
              "      <th>X3</th>\n",
              "      <th>X4</th>\n",
              "      <th>X5</th>\n",
              "      <th>X6</th>\n",
              "      <th>X8</th>\n",
              "      <th>X10</th>\n",
              "      <th>X11</th>\n",
              "      <th>X12</th>\n",
              "      <th>X13</th>\n",
              "      <th>X14</th>\n",
              "      <th>X15</th>\n",
              "      <th>X16</th>\n",
              "      <th>X17</th>\n",
              "      <th>X18</th>\n",
              "      <th>X19</th>\n",
              "      <th>X20</th>\n",
              "      <th>X21</th>\n",
              "      <th>X22</th>\n",
              "      <th>X23</th>\n",
              "      <th>X24</th>\n",
              "      <th>X26</th>\n",
              "      <th>X27</th>\n",
              "      <th>X28</th>\n",
              "      <th>X29</th>\n",
              "      <th>X30</th>\n",
              "      <th>X31</th>\n",
              "      <th>X32</th>\n",
              "      <th>X33</th>\n",
              "      <th>X34</th>\n",
              "      <th>X35</th>\n",
              "      <th>X36</th>\n",
              "      <th>X37</th>\n",
              "      <th>X38</th>\n",
              "      <th>X39</th>\n",
              "      <th>X40</th>\n",
              "      <th>X41</th>\n",
              "      <th>X42</th>\n",
              "      <th>...</th>\n",
              "      <th>X345</th>\n",
              "      <th>X346</th>\n",
              "      <th>X347</th>\n",
              "      <th>X348</th>\n",
              "      <th>X349</th>\n",
              "      <th>X350</th>\n",
              "      <th>X351</th>\n",
              "      <th>X352</th>\n",
              "      <th>X353</th>\n",
              "      <th>X354</th>\n",
              "      <th>X355</th>\n",
              "      <th>X356</th>\n",
              "      <th>X357</th>\n",
              "      <th>X358</th>\n",
              "      <th>X359</th>\n",
              "      <th>X360</th>\n",
              "      <th>X361</th>\n",
              "      <th>X362</th>\n",
              "      <th>X363</th>\n",
              "      <th>X364</th>\n",
              "      <th>X365</th>\n",
              "      <th>X366</th>\n",
              "      <th>X367</th>\n",
              "      <th>X368</th>\n",
              "      <th>X369</th>\n",
              "      <th>X370</th>\n",
              "      <th>X371</th>\n",
              "      <th>X372</th>\n",
              "      <th>X373</th>\n",
              "      <th>X374</th>\n",
              "      <th>X375</th>\n",
              "      <th>X376</th>\n",
              "      <th>X377</th>\n",
              "      <th>X378</th>\n",
              "      <th>X379</th>\n",
              "      <th>X380</th>\n",
              "      <th>X382</th>\n",
              "      <th>X383</th>\n",
              "      <th>X384</th>\n",
              "      <th>X385</th>\n",
              "    </tr>\n",
              "  </thead>\n",
              "  <tbody>\n",
              "    <tr>\n",
              "      <th>0</th>\n",
              "      <td>32</td>\n",
              "      <td>23</td>\n",
              "      <td>17</td>\n",
              "      <td>0</td>\n",
              "      <td>3</td>\n",
              "      <td>24</td>\n",
              "      <td>9</td>\n",
              "      <td>14</td>\n",
              "      <td>0</td>\n",
              "      <td>0</td>\n",
              "      <td>0</td>\n",
              "      <td>1</td>\n",
              "      <td>0</td>\n",
              "      <td>0</td>\n",
              "      <td>0</td>\n",
              "      <td>0</td>\n",
              "      <td>1</td>\n",
              "      <td>0</td>\n",
              "      <td>0</td>\n",
              "      <td>1</td>\n",
              "      <td>0</td>\n",
              "      <td>0</td>\n",
              "      <td>0</td>\n",
              "      <td>0</td>\n",
              "      <td>0</td>\n",
              "      <td>0</td>\n",
              "      <td>0</td>\n",
              "      <td>0</td>\n",
              "      <td>1</td>\n",
              "      <td>0</td>\n",
              "      <td>0</td>\n",
              "      <td>0</td>\n",
              "      <td>1</td>\n",
              "      <td>0</td>\n",
              "      <td>1</td>\n",
              "      <td>0</td>\n",
              "      <td>0</td>\n",
              "      <td>0</td>\n",
              "      <td>0</td>\n",
              "      <td>0</td>\n",
              "      <td>...</td>\n",
              "      <td>0</td>\n",
              "      <td>0</td>\n",
              "      <td>0</td>\n",
              "      <td>0</td>\n",
              "      <td>0</td>\n",
              "      <td>0</td>\n",
              "      <td>0</td>\n",
              "      <td>0</td>\n",
              "      <td>0</td>\n",
              "      <td>1</td>\n",
              "      <td>0</td>\n",
              "      <td>0</td>\n",
              "      <td>0</td>\n",
              "      <td>0</td>\n",
              "      <td>0</td>\n",
              "      <td>0</td>\n",
              "      <td>1</td>\n",
              "      <td>0</td>\n",
              "      <td>0</td>\n",
              "      <td>0</td>\n",
              "      <td>0</td>\n",
              "      <td>0</td>\n",
              "      <td>0</td>\n",
              "      <td>0</td>\n",
              "      <td>0</td>\n",
              "      <td>0</td>\n",
              "      <td>0</td>\n",
              "      <td>0</td>\n",
              "      <td>0</td>\n",
              "      <td>0</td>\n",
              "      <td>0</td>\n",
              "      <td>0</td>\n",
              "      <td>1</td>\n",
              "      <td>0</td>\n",
              "      <td>0</td>\n",
              "      <td>0</td>\n",
              "      <td>0</td>\n",
              "      <td>0</td>\n",
              "      <td>0</td>\n",
              "      <td>0</td>\n",
              "    </tr>\n",
              "    <tr>\n",
              "      <th>1</th>\n",
              "      <td>32</td>\n",
              "      <td>21</td>\n",
              "      <td>19</td>\n",
              "      <td>4</td>\n",
              "      <td>3</td>\n",
              "      <td>28</td>\n",
              "      <td>11</td>\n",
              "      <td>14</td>\n",
              "      <td>0</td>\n",
              "      <td>0</td>\n",
              "      <td>0</td>\n",
              "      <td>0</td>\n",
              "      <td>0</td>\n",
              "      <td>0</td>\n",
              "      <td>0</td>\n",
              "      <td>0</td>\n",
              "      <td>1</td>\n",
              "      <td>0</td>\n",
              "      <td>0</td>\n",
              "      <td>0</td>\n",
              "      <td>0</td>\n",
              "      <td>0</td>\n",
              "      <td>0</td>\n",
              "      <td>0</td>\n",
              "      <td>1</td>\n",
              "      <td>0</td>\n",
              "      <td>0</td>\n",
              "      <td>0</td>\n",
              "      <td>1</td>\n",
              "      <td>0</td>\n",
              "      <td>0</td>\n",
              "      <td>0</td>\n",
              "      <td>1</td>\n",
              "      <td>0</td>\n",
              "      <td>1</td>\n",
              "      <td>0</td>\n",
              "      <td>0</td>\n",
              "      <td>0</td>\n",
              "      <td>0</td>\n",
              "      <td>0</td>\n",
              "      <td>...</td>\n",
              "      <td>0</td>\n",
              "      <td>0</td>\n",
              "      <td>0</td>\n",
              "      <td>1</td>\n",
              "      <td>0</td>\n",
              "      <td>0</td>\n",
              "      <td>0</td>\n",
              "      <td>0</td>\n",
              "      <td>0</td>\n",
              "      <td>0</td>\n",
              "      <td>0</td>\n",
              "      <td>0</td>\n",
              "      <td>0</td>\n",
              "      <td>0</td>\n",
              "      <td>0</td>\n",
              "      <td>0</td>\n",
              "      <td>1</td>\n",
              "      <td>0</td>\n",
              "      <td>1</td>\n",
              "      <td>0</td>\n",
              "      <td>0</td>\n",
              "      <td>0</td>\n",
              "      <td>0</td>\n",
              "      <td>0</td>\n",
              "      <td>0</td>\n",
              "      <td>0</td>\n",
              "      <td>0</td>\n",
              "      <td>0</td>\n",
              "      <td>0</td>\n",
              "      <td>0</td>\n",
              "      <td>1</td>\n",
              "      <td>0</td>\n",
              "      <td>0</td>\n",
              "      <td>0</td>\n",
              "      <td>0</td>\n",
              "      <td>0</td>\n",
              "      <td>0</td>\n",
              "      <td>0</td>\n",
              "      <td>0</td>\n",
              "      <td>0</td>\n",
              "    </tr>\n",
              "    <tr>\n",
              "      <th>2</th>\n",
              "      <td>20</td>\n",
              "      <td>24</td>\n",
              "      <td>34</td>\n",
              "      <td>2</td>\n",
              "      <td>3</td>\n",
              "      <td>27</td>\n",
              "      <td>9</td>\n",
              "      <td>23</td>\n",
              "      <td>0</td>\n",
              "      <td>0</td>\n",
              "      <td>0</td>\n",
              "      <td>0</td>\n",
              "      <td>0</td>\n",
              "      <td>0</td>\n",
              "      <td>0</td>\n",
              "      <td>1</td>\n",
              "      <td>0</td>\n",
              "      <td>0</td>\n",
              "      <td>0</td>\n",
              "      <td>0</td>\n",
              "      <td>0</td>\n",
              "      <td>0</td>\n",
              "      <td>0</td>\n",
              "      <td>0</td>\n",
              "      <td>1</td>\n",
              "      <td>1</td>\n",
              "      <td>1</td>\n",
              "      <td>0</td>\n",
              "      <td>1</td>\n",
              "      <td>0</td>\n",
              "      <td>0</td>\n",
              "      <td>0</td>\n",
              "      <td>1</td>\n",
              "      <td>0</td>\n",
              "      <td>1</td>\n",
              "      <td>0</td>\n",
              "      <td>0</td>\n",
              "      <td>0</td>\n",
              "      <td>0</td>\n",
              "      <td>0</td>\n",
              "      <td>...</td>\n",
              "      <td>0</td>\n",
              "      <td>0</td>\n",
              "      <td>0</td>\n",
              "      <td>1</td>\n",
              "      <td>0</td>\n",
              "      <td>1</td>\n",
              "      <td>0</td>\n",
              "      <td>0</td>\n",
              "      <td>0</td>\n",
              "      <td>1</td>\n",
              "      <td>0</td>\n",
              "      <td>0</td>\n",
              "      <td>0</td>\n",
              "      <td>1</td>\n",
              "      <td>0</td>\n",
              "      <td>0</td>\n",
              "      <td>1</td>\n",
              "      <td>0</td>\n",
              "      <td>1</td>\n",
              "      <td>0</td>\n",
              "      <td>0</td>\n",
              "      <td>0</td>\n",
              "      <td>0</td>\n",
              "      <td>0</td>\n",
              "      <td>0</td>\n",
              "      <td>0</td>\n",
              "      <td>0</td>\n",
              "      <td>0</td>\n",
              "      <td>0</td>\n",
              "      <td>0</td>\n",
              "      <td>0</td>\n",
              "      <td>0</td>\n",
              "      <td>0</td>\n",
              "      <td>0</td>\n",
              "      <td>0</td>\n",
              "      <td>0</td>\n",
              "      <td>1</td>\n",
              "      <td>0</td>\n",
              "      <td>0</td>\n",
              "      <td>0</td>\n",
              "    </tr>\n",
              "    <tr>\n",
              "      <th>3</th>\n",
              "      <td>20</td>\n",
              "      <td>21</td>\n",
              "      <td>34</td>\n",
              "      <td>5</td>\n",
              "      <td>3</td>\n",
              "      <td>27</td>\n",
              "      <td>11</td>\n",
              "      <td>4</td>\n",
              "      <td>0</td>\n",
              "      <td>0</td>\n",
              "      <td>0</td>\n",
              "      <td>0</td>\n",
              "      <td>0</td>\n",
              "      <td>0</td>\n",
              "      <td>0</td>\n",
              "      <td>0</td>\n",
              "      <td>0</td>\n",
              "      <td>0</td>\n",
              "      <td>0</td>\n",
              "      <td>0</td>\n",
              "      <td>0</td>\n",
              "      <td>0</td>\n",
              "      <td>0</td>\n",
              "      <td>0</td>\n",
              "      <td>1</td>\n",
              "      <td>1</td>\n",
              "      <td>1</td>\n",
              "      <td>0</td>\n",
              "      <td>1</td>\n",
              "      <td>0</td>\n",
              "      <td>0</td>\n",
              "      <td>0</td>\n",
              "      <td>1</td>\n",
              "      <td>0</td>\n",
              "      <td>1</td>\n",
              "      <td>0</td>\n",
              "      <td>0</td>\n",
              "      <td>0</td>\n",
              "      <td>0</td>\n",
              "      <td>0</td>\n",
              "      <td>...</td>\n",
              "      <td>0</td>\n",
              "      <td>0</td>\n",
              "      <td>0</td>\n",
              "      <td>1</td>\n",
              "      <td>0</td>\n",
              "      <td>1</td>\n",
              "      <td>0</td>\n",
              "      <td>0</td>\n",
              "      <td>0</td>\n",
              "      <td>0</td>\n",
              "      <td>0</td>\n",
              "      <td>0</td>\n",
              "      <td>0</td>\n",
              "      <td>1</td>\n",
              "      <td>0</td>\n",
              "      <td>0</td>\n",
              "      <td>1</td>\n",
              "      <td>0</td>\n",
              "      <td>1</td>\n",
              "      <td>0</td>\n",
              "      <td>0</td>\n",
              "      <td>0</td>\n",
              "      <td>0</td>\n",
              "      <td>0</td>\n",
              "      <td>0</td>\n",
              "      <td>0</td>\n",
              "      <td>0</td>\n",
              "      <td>1</td>\n",
              "      <td>0</td>\n",
              "      <td>0</td>\n",
              "      <td>0</td>\n",
              "      <td>0</td>\n",
              "      <td>0</td>\n",
              "      <td>0</td>\n",
              "      <td>0</td>\n",
              "      <td>0</td>\n",
              "      <td>0</td>\n",
              "      <td>0</td>\n",
              "      <td>0</td>\n",
              "      <td>0</td>\n",
              "    </tr>\n",
              "    <tr>\n",
              "      <th>4</th>\n",
              "      <td>20</td>\n",
              "      <td>23</td>\n",
              "      <td>34</td>\n",
              "      <td>5</td>\n",
              "      <td>3</td>\n",
              "      <td>12</td>\n",
              "      <td>3</td>\n",
              "      <td>13</td>\n",
              "      <td>0</td>\n",
              "      <td>0</td>\n",
              "      <td>0</td>\n",
              "      <td>0</td>\n",
              "      <td>0</td>\n",
              "      <td>0</td>\n",
              "      <td>0</td>\n",
              "      <td>0</td>\n",
              "      <td>0</td>\n",
              "      <td>0</td>\n",
              "      <td>0</td>\n",
              "      <td>0</td>\n",
              "      <td>0</td>\n",
              "      <td>0</td>\n",
              "      <td>0</td>\n",
              "      <td>0</td>\n",
              "      <td>1</td>\n",
              "      <td>1</td>\n",
              "      <td>1</td>\n",
              "      <td>0</td>\n",
              "      <td>1</td>\n",
              "      <td>0</td>\n",
              "      <td>0</td>\n",
              "      <td>0</td>\n",
              "      <td>1</td>\n",
              "      <td>0</td>\n",
              "      <td>1</td>\n",
              "      <td>0</td>\n",
              "      <td>0</td>\n",
              "      <td>0</td>\n",
              "      <td>0</td>\n",
              "      <td>0</td>\n",
              "      <td>...</td>\n",
              "      <td>0</td>\n",
              "      <td>0</td>\n",
              "      <td>0</td>\n",
              "      <td>1</td>\n",
              "      <td>0</td>\n",
              "      <td>1</td>\n",
              "      <td>0</td>\n",
              "      <td>0</td>\n",
              "      <td>0</td>\n",
              "      <td>0</td>\n",
              "      <td>0</td>\n",
              "      <td>0</td>\n",
              "      <td>0</td>\n",
              "      <td>1</td>\n",
              "      <td>0</td>\n",
              "      <td>0</td>\n",
              "      <td>1</td>\n",
              "      <td>0</td>\n",
              "      <td>1</td>\n",
              "      <td>0</td>\n",
              "      <td>0</td>\n",
              "      <td>0</td>\n",
              "      <td>0</td>\n",
              "      <td>0</td>\n",
              "      <td>0</td>\n",
              "      <td>0</td>\n",
              "      <td>1</td>\n",
              "      <td>0</td>\n",
              "      <td>0</td>\n",
              "      <td>0</td>\n",
              "      <td>0</td>\n",
              "      <td>0</td>\n",
              "      <td>0</td>\n",
              "      <td>0</td>\n",
              "      <td>0</td>\n",
              "      <td>0</td>\n",
              "      <td>0</td>\n",
              "      <td>0</td>\n",
              "      <td>0</td>\n",
              "      <td>0</td>\n",
              "    </tr>\n",
              "    <tr>\n",
              "      <th>...</th>\n",
              "      <td>...</td>\n",
              "      <td>...</td>\n",
              "      <td>...</td>\n",
              "      <td>...</td>\n",
              "      <td>...</td>\n",
              "      <td>...</td>\n",
              "      <td>...</td>\n",
              "      <td>...</td>\n",
              "      <td>...</td>\n",
              "      <td>...</td>\n",
              "      <td>...</td>\n",
              "      <td>...</td>\n",
              "      <td>...</td>\n",
              "      <td>...</td>\n",
              "      <td>...</td>\n",
              "      <td>...</td>\n",
              "      <td>...</td>\n",
              "      <td>...</td>\n",
              "      <td>...</td>\n",
              "      <td>...</td>\n",
              "      <td>...</td>\n",
              "      <td>...</td>\n",
              "      <td>...</td>\n",
              "      <td>...</td>\n",
              "      <td>...</td>\n",
              "      <td>...</td>\n",
              "      <td>...</td>\n",
              "      <td>...</td>\n",
              "      <td>...</td>\n",
              "      <td>...</td>\n",
              "      <td>...</td>\n",
              "      <td>...</td>\n",
              "      <td>...</td>\n",
              "      <td>...</td>\n",
              "      <td>...</td>\n",
              "      <td>...</td>\n",
              "      <td>...</td>\n",
              "      <td>...</td>\n",
              "      <td>...</td>\n",
              "      <td>...</td>\n",
              "      <td>...</td>\n",
              "      <td>...</td>\n",
              "      <td>...</td>\n",
              "      <td>...</td>\n",
              "      <td>...</td>\n",
              "      <td>...</td>\n",
              "      <td>...</td>\n",
              "      <td>...</td>\n",
              "      <td>...</td>\n",
              "      <td>...</td>\n",
              "      <td>...</td>\n",
              "      <td>...</td>\n",
              "      <td>...</td>\n",
              "      <td>...</td>\n",
              "      <td>...</td>\n",
              "      <td>...</td>\n",
              "      <td>...</td>\n",
              "      <td>...</td>\n",
              "      <td>...</td>\n",
              "      <td>...</td>\n",
              "      <td>...</td>\n",
              "      <td>...</td>\n",
              "      <td>...</td>\n",
              "      <td>...</td>\n",
              "      <td>...</td>\n",
              "      <td>...</td>\n",
              "      <td>...</td>\n",
              "      <td>...</td>\n",
              "      <td>...</td>\n",
              "      <td>...</td>\n",
              "      <td>...</td>\n",
              "      <td>...</td>\n",
              "      <td>...</td>\n",
              "      <td>...</td>\n",
              "      <td>...</td>\n",
              "      <td>...</td>\n",
              "      <td>...</td>\n",
              "      <td>...</td>\n",
              "      <td>...</td>\n",
              "      <td>...</td>\n",
              "      <td>...</td>\n",
              "    </tr>\n",
              "    <tr>\n",
              "      <th>4204</th>\n",
              "      <td>8</td>\n",
              "      <td>20</td>\n",
              "      <td>16</td>\n",
              "      <td>2</td>\n",
              "      <td>3</td>\n",
              "      <td>0</td>\n",
              "      <td>3</td>\n",
              "      <td>16</td>\n",
              "      <td>0</td>\n",
              "      <td>0</td>\n",
              "      <td>0</td>\n",
              "      <td>0</td>\n",
              "      <td>1</td>\n",
              "      <td>0</td>\n",
              "      <td>0</td>\n",
              "      <td>0</td>\n",
              "      <td>0</td>\n",
              "      <td>0</td>\n",
              "      <td>0</td>\n",
              "      <td>0</td>\n",
              "      <td>0</td>\n",
              "      <td>0</td>\n",
              "      <td>0</td>\n",
              "      <td>0</td>\n",
              "      <td>1</td>\n",
              "      <td>0</td>\n",
              "      <td>0</td>\n",
              "      <td>0</td>\n",
              "      <td>0</td>\n",
              "      <td>0</td>\n",
              "      <td>0</td>\n",
              "      <td>0</td>\n",
              "      <td>0</td>\n",
              "      <td>0</td>\n",
              "      <td>0</td>\n",
              "      <td>1</td>\n",
              "      <td>0</td>\n",
              "      <td>0</td>\n",
              "      <td>0</td>\n",
              "      <td>0</td>\n",
              "      <td>...</td>\n",
              "      <td>0</td>\n",
              "      <td>0</td>\n",
              "      <td>0</td>\n",
              "      <td>1</td>\n",
              "      <td>0</td>\n",
              "      <td>0</td>\n",
              "      <td>0</td>\n",
              "      <td>0</td>\n",
              "      <td>0</td>\n",
              "      <td>1</td>\n",
              "      <td>0</td>\n",
              "      <td>0</td>\n",
              "      <td>0</td>\n",
              "      <td>1</td>\n",
              "      <td>0</td>\n",
              "      <td>0</td>\n",
              "      <td>1</td>\n",
              "      <td>0</td>\n",
              "      <td>1</td>\n",
              "      <td>0</td>\n",
              "      <td>0</td>\n",
              "      <td>0</td>\n",
              "      <td>0</td>\n",
              "      <td>0</td>\n",
              "      <td>0</td>\n",
              "      <td>0</td>\n",
              "      <td>0</td>\n",
              "      <td>0</td>\n",
              "      <td>0</td>\n",
              "      <td>0</td>\n",
              "      <td>1</td>\n",
              "      <td>0</td>\n",
              "      <td>0</td>\n",
              "      <td>0</td>\n",
              "      <td>0</td>\n",
              "      <td>0</td>\n",
              "      <td>0</td>\n",
              "      <td>0</td>\n",
              "      <td>0</td>\n",
              "      <td>0</td>\n",
              "    </tr>\n",
              "    <tr>\n",
              "      <th>4205</th>\n",
              "      <td>31</td>\n",
              "      <td>16</td>\n",
              "      <td>40</td>\n",
              "      <td>3</td>\n",
              "      <td>3</td>\n",
              "      <td>0</td>\n",
              "      <td>7</td>\n",
              "      <td>7</td>\n",
              "      <td>0</td>\n",
              "      <td>0</td>\n",
              "      <td>0</td>\n",
              "      <td>0</td>\n",
              "      <td>0</td>\n",
              "      <td>0</td>\n",
              "      <td>0</td>\n",
              "      <td>0</td>\n",
              "      <td>0</td>\n",
              "      <td>0</td>\n",
              "      <td>0</td>\n",
              "      <td>0</td>\n",
              "      <td>0</td>\n",
              "      <td>0</td>\n",
              "      <td>0</td>\n",
              "      <td>0</td>\n",
              "      <td>0</td>\n",
              "      <td>0</td>\n",
              "      <td>0</td>\n",
              "      <td>0</td>\n",
              "      <td>0</td>\n",
              "      <td>0</td>\n",
              "      <td>0</td>\n",
              "      <td>0</td>\n",
              "      <td>0</td>\n",
              "      <td>0</td>\n",
              "      <td>0</td>\n",
              "      <td>0</td>\n",
              "      <td>0</td>\n",
              "      <td>0</td>\n",
              "      <td>0</td>\n",
              "      <td>0</td>\n",
              "      <td>...</td>\n",
              "      <td>0</td>\n",
              "      <td>0</td>\n",
              "      <td>0</td>\n",
              "      <td>0</td>\n",
              "      <td>0</td>\n",
              "      <td>0</td>\n",
              "      <td>0</td>\n",
              "      <td>0</td>\n",
              "      <td>0</td>\n",
              "      <td>0</td>\n",
              "      <td>0</td>\n",
              "      <td>0</td>\n",
              "      <td>0</td>\n",
              "      <td>0</td>\n",
              "      <td>0</td>\n",
              "      <td>0</td>\n",
              "      <td>1</td>\n",
              "      <td>0</td>\n",
              "      <td>0</td>\n",
              "      <td>0</td>\n",
              "      <td>0</td>\n",
              "      <td>0</td>\n",
              "      <td>0</td>\n",
              "      <td>0</td>\n",
              "      <td>0</td>\n",
              "      <td>1</td>\n",
              "      <td>0</td>\n",
              "      <td>0</td>\n",
              "      <td>0</td>\n",
              "      <td>0</td>\n",
              "      <td>0</td>\n",
              "      <td>1</td>\n",
              "      <td>0</td>\n",
              "      <td>0</td>\n",
              "      <td>0</td>\n",
              "      <td>0</td>\n",
              "      <td>0</td>\n",
              "      <td>0</td>\n",
              "      <td>0</td>\n",
              "      <td>0</td>\n",
              "    </tr>\n",
              "    <tr>\n",
              "      <th>4206</th>\n",
              "      <td>8</td>\n",
              "      <td>23</td>\n",
              "      <td>38</td>\n",
              "      <td>0</td>\n",
              "      <td>3</td>\n",
              "      <td>0</td>\n",
              "      <td>6</td>\n",
              "      <td>4</td>\n",
              "      <td>0</td>\n",
              "      <td>0</td>\n",
              "      <td>1</td>\n",
              "      <td>1</td>\n",
              "      <td>0</td>\n",
              "      <td>0</td>\n",
              "      <td>0</td>\n",
              "      <td>0</td>\n",
              "      <td>0</td>\n",
              "      <td>0</td>\n",
              "      <td>0</td>\n",
              "      <td>0</td>\n",
              "      <td>0</td>\n",
              "      <td>0</td>\n",
              "      <td>0</td>\n",
              "      <td>0</td>\n",
              "      <td>1</td>\n",
              "      <td>0</td>\n",
              "      <td>0</td>\n",
              "      <td>0</td>\n",
              "      <td>0</td>\n",
              "      <td>0</td>\n",
              "      <td>0</td>\n",
              "      <td>0</td>\n",
              "      <td>0</td>\n",
              "      <td>0</td>\n",
              "      <td>0</td>\n",
              "      <td>0</td>\n",
              "      <td>0</td>\n",
              "      <td>0</td>\n",
              "      <td>0</td>\n",
              "      <td>0</td>\n",
              "      <td>...</td>\n",
              "      <td>0</td>\n",
              "      <td>0</td>\n",
              "      <td>0</td>\n",
              "      <td>1</td>\n",
              "      <td>0</td>\n",
              "      <td>0</td>\n",
              "      <td>0</td>\n",
              "      <td>0</td>\n",
              "      <td>0</td>\n",
              "      <td>1</td>\n",
              "      <td>0</td>\n",
              "      <td>0</td>\n",
              "      <td>0</td>\n",
              "      <td>1</td>\n",
              "      <td>0</td>\n",
              "      <td>1</td>\n",
              "      <td>1</td>\n",
              "      <td>0</td>\n",
              "      <td>1</td>\n",
              "      <td>0</td>\n",
              "      <td>0</td>\n",
              "      <td>0</td>\n",
              "      <td>0</td>\n",
              "      <td>0</td>\n",
              "      <td>0</td>\n",
              "      <td>0</td>\n",
              "      <td>0</td>\n",
              "      <td>0</td>\n",
              "      <td>0</td>\n",
              "      <td>0</td>\n",
              "      <td>0</td>\n",
              "      <td>0</td>\n",
              "      <td>1</td>\n",
              "      <td>0</td>\n",
              "      <td>0</td>\n",
              "      <td>0</td>\n",
              "      <td>0</td>\n",
              "      <td>0</td>\n",
              "      <td>0</td>\n",
              "      <td>0</td>\n",
              "    </tr>\n",
              "    <tr>\n",
              "      <th>4207</th>\n",
              "      <td>9</td>\n",
              "      <td>19</td>\n",
              "      <td>25</td>\n",
              "      <td>5</td>\n",
              "      <td>3</td>\n",
              "      <td>0</td>\n",
              "      <td>11</td>\n",
              "      <td>20</td>\n",
              "      <td>0</td>\n",
              "      <td>0</td>\n",
              "      <td>0</td>\n",
              "      <td>0</td>\n",
              "      <td>1</td>\n",
              "      <td>0</td>\n",
              "      <td>0</td>\n",
              "      <td>0</td>\n",
              "      <td>0</td>\n",
              "      <td>0</td>\n",
              "      <td>0</td>\n",
              "      <td>0</td>\n",
              "      <td>0</td>\n",
              "      <td>0</td>\n",
              "      <td>0</td>\n",
              "      <td>0</td>\n",
              "      <td>0</td>\n",
              "      <td>0</td>\n",
              "      <td>0</td>\n",
              "      <td>0</td>\n",
              "      <td>0</td>\n",
              "      <td>0</td>\n",
              "      <td>0</td>\n",
              "      <td>0</td>\n",
              "      <td>0</td>\n",
              "      <td>0</td>\n",
              "      <td>0</td>\n",
              "      <td>0</td>\n",
              "      <td>0</td>\n",
              "      <td>0</td>\n",
              "      <td>0</td>\n",
              "      <td>0</td>\n",
              "      <td>...</td>\n",
              "      <td>0</td>\n",
              "      <td>0</td>\n",
              "      <td>0</td>\n",
              "      <td>1</td>\n",
              "      <td>0</td>\n",
              "      <td>0</td>\n",
              "      <td>0</td>\n",
              "      <td>0</td>\n",
              "      <td>0</td>\n",
              "      <td>0</td>\n",
              "      <td>0</td>\n",
              "      <td>0</td>\n",
              "      <td>0</td>\n",
              "      <td>0</td>\n",
              "      <td>0</td>\n",
              "      <td>0</td>\n",
              "      <td>1</td>\n",
              "      <td>1</td>\n",
              "      <td>0</td>\n",
              "      <td>0</td>\n",
              "      <td>0</td>\n",
              "      <td>0</td>\n",
              "      <td>0</td>\n",
              "      <td>0</td>\n",
              "      <td>0</td>\n",
              "      <td>0</td>\n",
              "      <td>0</td>\n",
              "      <td>0</td>\n",
              "      <td>0</td>\n",
              "      <td>1</td>\n",
              "      <td>0</td>\n",
              "      <td>0</td>\n",
              "      <td>0</td>\n",
              "      <td>0</td>\n",
              "      <td>0</td>\n",
              "      <td>0</td>\n",
              "      <td>0</td>\n",
              "      <td>0</td>\n",
              "      <td>0</td>\n",
              "      <td>0</td>\n",
              "    </tr>\n",
              "    <tr>\n",
              "      <th>4208</th>\n",
              "      <td>46</td>\n",
              "      <td>19</td>\n",
              "      <td>3</td>\n",
              "      <td>2</td>\n",
              "      <td>3</td>\n",
              "      <td>0</td>\n",
              "      <td>6</td>\n",
              "      <td>22</td>\n",
              "      <td>0</td>\n",
              "      <td>0</td>\n",
              "      <td>0</td>\n",
              "      <td>0</td>\n",
              "      <td>0</td>\n",
              "      <td>0</td>\n",
              "      <td>0</td>\n",
              "      <td>0</td>\n",
              "      <td>0</td>\n",
              "      <td>0</td>\n",
              "      <td>1</td>\n",
              "      <td>0</td>\n",
              "      <td>0</td>\n",
              "      <td>0</td>\n",
              "      <td>0</td>\n",
              "      <td>0</td>\n",
              "      <td>0</td>\n",
              "      <td>0</td>\n",
              "      <td>0</td>\n",
              "      <td>0</td>\n",
              "      <td>0</td>\n",
              "      <td>0</td>\n",
              "      <td>0</td>\n",
              "      <td>0</td>\n",
              "      <td>0</td>\n",
              "      <td>0</td>\n",
              "      <td>0</td>\n",
              "      <td>0</td>\n",
              "      <td>0</td>\n",
              "      <td>0</td>\n",
              "      <td>0</td>\n",
              "      <td>0</td>\n",
              "      <td>...</td>\n",
              "      <td>0</td>\n",
              "      <td>0</td>\n",
              "      <td>0</td>\n",
              "      <td>1</td>\n",
              "      <td>0</td>\n",
              "      <td>1</td>\n",
              "      <td>0</td>\n",
              "      <td>0</td>\n",
              "      <td>0</td>\n",
              "      <td>0</td>\n",
              "      <td>1</td>\n",
              "      <td>0</td>\n",
              "      <td>0</td>\n",
              "      <td>0</td>\n",
              "      <td>0</td>\n",
              "      <td>0</td>\n",
              "      <td>1</td>\n",
              "      <td>1</td>\n",
              "      <td>1</td>\n",
              "      <td>0</td>\n",
              "      <td>0</td>\n",
              "      <td>0</td>\n",
              "      <td>0</td>\n",
              "      <td>0</td>\n",
              "      <td>0</td>\n",
              "      <td>0</td>\n",
              "      <td>0</td>\n",
              "      <td>0</td>\n",
              "      <td>0</td>\n",
              "      <td>0</td>\n",
              "      <td>1</td>\n",
              "      <td>0</td>\n",
              "      <td>0</td>\n",
              "      <td>0</td>\n",
              "      <td>0</td>\n",
              "      <td>0</td>\n",
              "      <td>0</td>\n",
              "      <td>0</td>\n",
              "      <td>0</td>\n",
              "      <td>0</td>\n",
              "    </tr>\n",
              "  </tbody>\n",
              "</table>\n",
              "<p>4209 rows × 376 columns</p>\n",
              "</div>"
            ],
            "text/plain": [
              "      X0  X1  X2  X3  X4  X5  X6  ...  X378  X379  X380  X382  X383  X384  X385\n",
              "0     32  23  17   0   3  24   9  ...     0     0     0     0     0     0     0\n",
              "1     32  21  19   4   3  28  11  ...     0     0     0     0     0     0     0\n",
              "2     20  24  34   2   3  27   9  ...     0     0     0     1     0     0     0\n",
              "3     20  21  34   5   3  27  11  ...     0     0     0     0     0     0     0\n",
              "4     20  23  34   5   3  12   3  ...     0     0     0     0     0     0     0\n",
              "...   ..  ..  ..  ..  ..  ..  ..  ...   ...   ...   ...   ...   ...   ...   ...\n",
              "4204   8  20  16   2   3   0   3  ...     0     0     0     0     0     0     0\n",
              "4205  31  16  40   3   3   0   7  ...     0     0     0     0     0     0     0\n",
              "4206   8  23  38   0   3   0   6  ...     0     0     0     0     0     0     0\n",
              "4207   9  19  25   5   3   0  11  ...     0     0     0     0     0     0     0\n",
              "4208  46  19   3   2   3   0   6  ...     0     0     0     0     0     0     0\n",
              "\n",
              "[4209 rows x 376 columns]"
            ]
          },
          "metadata": {
            "tags": []
          },
          "execution_count": 33
        }
      ]
    },
    {
      "cell_type": "code",
      "metadata": {
        "id": "CGUxgaKt6M_x",
        "outputId": "3ad37377-d2ee-4245-a635-1181e95f7286",
        "colab": {
          "base_uri": "https://localhost:8080/",
          "height": 439
        }
      },
      "source": [
        "# функция нормализуем данные для работы\n",
        "def normalize_data(data):\n",
        "  mean = data.mean(axis=0)\n",
        "  std = data.std(axis=0)\n",
        "  data -= mean\n",
        "  data /= std\n",
        "  return data\n",
        "\n",
        "  \n",
        "x_norm = normalize_data(x)\n",
        "x_norm"
      ],
      "execution_count": 34,
      "outputs": [
        {
          "output_type": "execute_result",
          "data": {
            "text/html": [
              "<div>\n",
              "<style scoped>\n",
              "    .dataframe tbody tr th:only-of-type {\n",
              "        vertical-align: middle;\n",
              "    }\n",
              "\n",
              "    .dataframe tbody tr th {\n",
              "        vertical-align: top;\n",
              "    }\n",
              "\n",
              "    .dataframe thead th {\n",
              "        text-align: right;\n",
              "    }\n",
              "</style>\n",
              "<table border=\"1\" class=\"dataframe\">\n",
              "  <thead>\n",
              "    <tr style=\"text-align: right;\">\n",
              "      <th></th>\n",
              "      <th>X0</th>\n",
              "      <th>X1</th>\n",
              "      <th>X2</th>\n",
              "      <th>X3</th>\n",
              "      <th>X4</th>\n",
              "      <th>X5</th>\n",
              "      <th>X6</th>\n",
              "      <th>X8</th>\n",
              "      <th>X10</th>\n",
              "      <th>X11</th>\n",
              "      <th>X12</th>\n",
              "      <th>X13</th>\n",
              "      <th>X14</th>\n",
              "      <th>X15</th>\n",
              "      <th>X16</th>\n",
              "      <th>X17</th>\n",
              "      <th>X18</th>\n",
              "      <th>X19</th>\n",
              "      <th>X20</th>\n",
              "      <th>X21</th>\n",
              "      <th>X22</th>\n",
              "      <th>X23</th>\n",
              "      <th>X24</th>\n",
              "      <th>X26</th>\n",
              "      <th>X27</th>\n",
              "      <th>X28</th>\n",
              "      <th>X29</th>\n",
              "      <th>X30</th>\n",
              "      <th>X31</th>\n",
              "      <th>X32</th>\n",
              "      <th>X33</th>\n",
              "      <th>X34</th>\n",
              "      <th>X35</th>\n",
              "      <th>X36</th>\n",
              "      <th>X37</th>\n",
              "      <th>X38</th>\n",
              "      <th>X39</th>\n",
              "      <th>X40</th>\n",
              "      <th>X41</th>\n",
              "      <th>X42</th>\n",
              "      <th>...</th>\n",
              "      <th>X345</th>\n",
              "      <th>X346</th>\n",
              "      <th>X347</th>\n",
              "      <th>X348</th>\n",
              "      <th>X349</th>\n",
              "      <th>X350</th>\n",
              "      <th>X351</th>\n",
              "      <th>X352</th>\n",
              "      <th>X353</th>\n",
              "      <th>X354</th>\n",
              "      <th>X355</th>\n",
              "      <th>X356</th>\n",
              "      <th>X357</th>\n",
              "      <th>X358</th>\n",
              "      <th>X359</th>\n",
              "      <th>X360</th>\n",
              "      <th>X361</th>\n",
              "      <th>X362</th>\n",
              "      <th>X363</th>\n",
              "      <th>X364</th>\n",
              "      <th>X365</th>\n",
              "      <th>X366</th>\n",
              "      <th>X367</th>\n",
              "      <th>X368</th>\n",
              "      <th>X369</th>\n",
              "      <th>X370</th>\n",
              "      <th>X371</th>\n",
              "      <th>X372</th>\n",
              "      <th>X373</th>\n",
              "      <th>X374</th>\n",
              "      <th>X375</th>\n",
              "      <th>X376</th>\n",
              "      <th>X377</th>\n",
              "      <th>X378</th>\n",
              "      <th>X379</th>\n",
              "      <th>X380</th>\n",
              "      <th>X382</th>\n",
              "      <th>X383</th>\n",
              "      <th>X384</th>\n",
              "      <th>X385</th>\n",
              "    </tr>\n",
              "  </thead>\n",
              "  <tbody>\n",
              "    <tr>\n",
              "      <th>0</th>\n",
              "      <td>0.162993</td>\n",
              "      <td>1.393322</td>\n",
              "      <td>-0.028118</td>\n",
              "      <td>-1.678071</td>\n",
              "      <td>0.028935</td>\n",
              "      <td>1.291964</td>\n",
              "      <td>0.751698</td>\n",
              "      <td>0.339405</td>\n",
              "      <td>-0.116108</td>\n",
              "      <td>NaN</td>\n",
              "      <td>-0.284872</td>\n",
              "      <td>4.03065</td>\n",
              "      <td>-0.865143</td>\n",
              "      <td>-0.021801</td>\n",
              "      <td>-0.051183</td>\n",
              "      <td>-0.087517</td>\n",
              "      <td>11.247906</td>\n",
              "      <td>-0.332457</td>\n",
              "      <td>-0.408087</td>\n",
              "      <td>19.533195</td>\n",
              "      <td>-0.30857</td>\n",
              "      <td>-0.145263</td>\n",
              "      <td>-0.043633</td>\n",
              "      <td>-0.070803</td>\n",
              "      <td>-1.466267</td>\n",
              "      <td>-0.183402</td>\n",
              "      <td>-0.211955</td>\n",
              "      <td>-0.067331</td>\n",
              "      <td>1.817387</td>\n",
              "      <td>-0.106254</td>\n",
              "      <td>-0.015414</td>\n",
              "      <td>-0.074116</td>\n",
              "      <td>1.817387</td>\n",
              "      <td>-0.067331</td>\n",
              "      <td>1.817387</td>\n",
              "      <td>-0.185468</td>\n",
              "      <td>-0.015414</td>\n",
              "      <td>-0.026704</td>\n",
              "      <td>-0.107392</td>\n",
              "      <td>-0.015414</td>\n",
              "      <td>...</td>\n",
              "      <td>-0.151122</td>\n",
              "      <td>-0.223329</td>\n",
              "      <td>NaN</td>\n",
              "      <td>-4.237357</td>\n",
              "      <td>-0.216803</td>\n",
              "      <td>-0.715734</td>\n",
              "      <td>-0.650246</td>\n",
              "      <td>-0.239287</td>\n",
              "      <td>-0.046286</td>\n",
              "      <td>1.981827</td>\n",
              "      <td>-0.783412</td>\n",
              "      <td>-0.468232</td>\n",
              "      <td>-0.034483</td>\n",
              "      <td>-0.863046</td>\n",
              "      <td>-0.181316</td>\n",
              "      <td>-0.287786</td>\n",
              "      <td>0.187514</td>\n",
              "      <td>-1.041363</td>\n",
              "      <td>-1.749861</td>\n",
              "      <td>-0.053465</td>\n",
              "      <td>-0.053465</td>\n",
              "      <td>-0.034483</td>\n",
              "      <td>-0.233688</td>\n",
              "      <td>-0.258659</td>\n",
              "      <td>-0.021801</td>\n",
              "      <td>-0.081825</td>\n",
              "      <td>-0.120241</td>\n",
              "      <td>-0.021801</td>\n",
              "      <td>-0.140062</td>\n",
              "      <td>-0.542412</td>\n",
              "      <td>-0.684086</td>\n",
              "      <td>-0.246417</td>\n",
              "      <td>1.475156</td>\n",
              "      <td>-0.145263</td>\n",
              "      <td>-0.097941</td>\n",
              "      <td>-0.090232</td>\n",
              "      <td>-0.087517</td>\n",
              "      <td>-0.04081</td>\n",
              "      <td>-0.021801</td>\n",
              "      <td>-0.037778</td>\n",
              "    </tr>\n",
              "    <tr>\n",
              "      <th>1</th>\n",
              "      <td>0.162993</td>\n",
              "      <td>1.158883</td>\n",
              "      <td>0.155369</td>\n",
              "      <td>0.620896</td>\n",
              "      <td>0.028935</td>\n",
              "      <td>1.776763</td>\n",
              "      <td>1.437340</td>\n",
              "      <td>0.339405</td>\n",
              "      <td>-0.116108</td>\n",
              "      <td>NaN</td>\n",
              "      <td>-0.284872</td>\n",
              "      <td>-0.24804</td>\n",
              "      <td>-0.865143</td>\n",
              "      <td>-0.021801</td>\n",
              "      <td>-0.051183</td>\n",
              "      <td>-0.087517</td>\n",
              "      <td>11.247906</td>\n",
              "      <td>-0.332457</td>\n",
              "      <td>-0.408087</td>\n",
              "      <td>-0.051183</td>\n",
              "      <td>-0.30857</td>\n",
              "      <td>-0.145263</td>\n",
              "      <td>-0.043633</td>\n",
              "      <td>-0.070803</td>\n",
              "      <td>0.681842</td>\n",
              "      <td>-0.183402</td>\n",
              "      <td>-0.211955</td>\n",
              "      <td>-0.067331</td>\n",
              "      <td>1.817387</td>\n",
              "      <td>-0.106254</td>\n",
              "      <td>-0.015414</td>\n",
              "      <td>-0.074116</td>\n",
              "      <td>1.817387</td>\n",
              "      <td>-0.067331</td>\n",
              "      <td>1.817387</td>\n",
              "      <td>-0.185468</td>\n",
              "      <td>-0.015414</td>\n",
              "      <td>-0.026704</td>\n",
              "      <td>-0.107392</td>\n",
              "      <td>-0.015414</td>\n",
              "      <td>...</td>\n",
              "      <td>-0.151122</td>\n",
              "      <td>-0.223329</td>\n",
              "      <td>NaN</td>\n",
              "      <td>0.235940</td>\n",
              "      <td>-0.216803</td>\n",
              "      <td>-0.715734</td>\n",
              "      <td>-0.650246</td>\n",
              "      <td>-0.239287</td>\n",
              "      <td>-0.046286</td>\n",
              "      <td>-0.504465</td>\n",
              "      <td>-0.783412</td>\n",
              "      <td>-0.468232</td>\n",
              "      <td>-0.034483</td>\n",
              "      <td>-0.863046</td>\n",
              "      <td>-0.181316</td>\n",
              "      <td>-0.287786</td>\n",
              "      <td>0.187514</td>\n",
              "      <td>-1.041363</td>\n",
              "      <td>0.571338</td>\n",
              "      <td>-0.053465</td>\n",
              "      <td>-0.053465</td>\n",
              "      <td>-0.034483</td>\n",
              "      <td>-0.233688</td>\n",
              "      <td>-0.258659</td>\n",
              "      <td>-0.021801</td>\n",
              "      <td>-0.081825</td>\n",
              "      <td>-0.120241</td>\n",
              "      <td>-0.021801</td>\n",
              "      <td>-0.140062</td>\n",
              "      <td>-0.542412</td>\n",
              "      <td>1.461457</td>\n",
              "      <td>-0.246417</td>\n",
              "      <td>-0.677733</td>\n",
              "      <td>-0.145263</td>\n",
              "      <td>-0.097941</td>\n",
              "      <td>-0.090232</td>\n",
              "      <td>-0.087517</td>\n",
              "      <td>-0.04081</td>\n",
              "      <td>-0.021801</td>\n",
              "      <td>-0.037778</td>\n",
              "    </tr>\n",
              "    <tr>\n",
              "      <th>2</th>\n",
              "      <td>-0.710475</td>\n",
              "      <td>1.510542</td>\n",
              "      <td>1.531527</td>\n",
              "      <td>-0.528587</td>\n",
              "      <td>0.028935</td>\n",
              "      <td>1.655563</td>\n",
              "      <td>0.751698</td>\n",
              "      <td>1.618197</td>\n",
              "      <td>-0.116108</td>\n",
              "      <td>NaN</td>\n",
              "      <td>-0.284872</td>\n",
              "      <td>-0.24804</td>\n",
              "      <td>-0.865143</td>\n",
              "      <td>-0.021801</td>\n",
              "      <td>-0.051183</td>\n",
              "      <td>11.423670</td>\n",
              "      <td>-0.088884</td>\n",
              "      <td>-0.332457</td>\n",
              "      <td>-0.408087</td>\n",
              "      <td>-0.051183</td>\n",
              "      <td>-0.30857</td>\n",
              "      <td>-0.145263</td>\n",
              "      <td>-0.043633</td>\n",
              "      <td>-0.070803</td>\n",
              "      <td>0.681842</td>\n",
              "      <td>5.451199</td>\n",
              "      <td>4.716869</td>\n",
              "      <td>-0.067331</td>\n",
              "      <td>1.817387</td>\n",
              "      <td>-0.106254</td>\n",
              "      <td>-0.015414</td>\n",
              "      <td>-0.074116</td>\n",
              "      <td>1.817387</td>\n",
              "      <td>-0.067331</td>\n",
              "      <td>1.817387</td>\n",
              "      <td>-0.185468</td>\n",
              "      <td>-0.015414</td>\n",
              "      <td>-0.026704</td>\n",
              "      <td>-0.107392</td>\n",
              "      <td>-0.015414</td>\n",
              "      <td>...</td>\n",
              "      <td>-0.151122</td>\n",
              "      <td>-0.223329</td>\n",
              "      <td>NaN</td>\n",
              "      <td>0.235940</td>\n",
              "      <td>-0.216803</td>\n",
              "      <td>1.396835</td>\n",
              "      <td>-0.650246</td>\n",
              "      <td>-0.239287</td>\n",
              "      <td>-0.046286</td>\n",
              "      <td>1.981827</td>\n",
              "      <td>-0.783412</td>\n",
              "      <td>-0.468232</td>\n",
              "      <td>-0.034483</td>\n",
              "      <td>1.158412</td>\n",
              "      <td>-0.181316</td>\n",
              "      <td>-0.287786</td>\n",
              "      <td>0.187514</td>\n",
              "      <td>-1.041363</td>\n",
              "      <td>0.571338</td>\n",
              "      <td>-0.053465</td>\n",
              "      <td>-0.053465</td>\n",
              "      <td>-0.034483</td>\n",
              "      <td>-0.233688</td>\n",
              "      <td>-0.258659</td>\n",
              "      <td>-0.021801</td>\n",
              "      <td>-0.081825</td>\n",
              "      <td>-0.120241</td>\n",
              "      <td>-0.021801</td>\n",
              "      <td>-0.140062</td>\n",
              "      <td>-0.542412</td>\n",
              "      <td>-0.684086</td>\n",
              "      <td>-0.246417</td>\n",
              "      <td>-0.677733</td>\n",
              "      <td>-0.145263</td>\n",
              "      <td>-0.097941</td>\n",
              "      <td>-0.090232</td>\n",
              "      <td>11.423670</td>\n",
              "      <td>-0.04081</td>\n",
              "      <td>-0.021801</td>\n",
              "      <td>-0.037778</td>\n",
              "    </tr>\n",
              "    <tr>\n",
              "      <th>3</th>\n",
              "      <td>-0.710475</td>\n",
              "      <td>1.158883</td>\n",
              "      <td>1.531527</td>\n",
              "      <td>1.195637</td>\n",
              "      <td>0.028935</td>\n",
              "      <td>1.655563</td>\n",
              "      <td>1.437340</td>\n",
              "      <td>-1.081476</td>\n",
              "      <td>-0.116108</td>\n",
              "      <td>NaN</td>\n",
              "      <td>-0.284872</td>\n",
              "      <td>-0.24804</td>\n",
              "      <td>-0.865143</td>\n",
              "      <td>-0.021801</td>\n",
              "      <td>-0.051183</td>\n",
              "      <td>-0.087517</td>\n",
              "      <td>-0.088884</td>\n",
              "      <td>-0.332457</td>\n",
              "      <td>-0.408087</td>\n",
              "      <td>-0.051183</td>\n",
              "      <td>-0.30857</td>\n",
              "      <td>-0.145263</td>\n",
              "      <td>-0.043633</td>\n",
              "      <td>-0.070803</td>\n",
              "      <td>0.681842</td>\n",
              "      <td>5.451199</td>\n",
              "      <td>4.716869</td>\n",
              "      <td>-0.067331</td>\n",
              "      <td>1.817387</td>\n",
              "      <td>-0.106254</td>\n",
              "      <td>-0.015414</td>\n",
              "      <td>-0.074116</td>\n",
              "      <td>1.817387</td>\n",
              "      <td>-0.067331</td>\n",
              "      <td>1.817387</td>\n",
              "      <td>-0.185468</td>\n",
              "      <td>-0.015414</td>\n",
              "      <td>-0.026704</td>\n",
              "      <td>-0.107392</td>\n",
              "      <td>-0.015414</td>\n",
              "      <td>...</td>\n",
              "      <td>-0.151122</td>\n",
              "      <td>-0.223329</td>\n",
              "      <td>NaN</td>\n",
              "      <td>0.235940</td>\n",
              "      <td>-0.216803</td>\n",
              "      <td>1.396835</td>\n",
              "      <td>-0.650246</td>\n",
              "      <td>-0.239287</td>\n",
              "      <td>-0.046286</td>\n",
              "      <td>-0.504465</td>\n",
              "      <td>-0.783412</td>\n",
              "      <td>-0.468232</td>\n",
              "      <td>-0.034483</td>\n",
              "      <td>1.158412</td>\n",
              "      <td>-0.181316</td>\n",
              "      <td>-0.287786</td>\n",
              "      <td>0.187514</td>\n",
              "      <td>-1.041363</td>\n",
              "      <td>0.571338</td>\n",
              "      <td>-0.053465</td>\n",
              "      <td>-0.053465</td>\n",
              "      <td>-0.034483</td>\n",
              "      <td>-0.233688</td>\n",
              "      <td>-0.258659</td>\n",
              "      <td>-0.021801</td>\n",
              "      <td>-0.081825</td>\n",
              "      <td>-0.120241</td>\n",
              "      <td>45.858481</td>\n",
              "      <td>-0.140062</td>\n",
              "      <td>-0.542412</td>\n",
              "      <td>-0.684086</td>\n",
              "      <td>-0.246417</td>\n",
              "      <td>-0.677733</td>\n",
              "      <td>-0.145263</td>\n",
              "      <td>-0.097941</td>\n",
              "      <td>-0.090232</td>\n",
              "      <td>-0.087517</td>\n",
              "      <td>-0.04081</td>\n",
              "      <td>-0.021801</td>\n",
              "      <td>-0.037778</td>\n",
              "    </tr>\n",
              "    <tr>\n",
              "      <th>4</th>\n",
              "      <td>-0.710475</td>\n",
              "      <td>1.393322</td>\n",
              "      <td>1.531527</td>\n",
              "      <td>1.195637</td>\n",
              "      <td>0.028935</td>\n",
              "      <td>-0.162435</td>\n",
              "      <td>-1.305229</td>\n",
              "      <td>0.197316</td>\n",
              "      <td>-0.116108</td>\n",
              "      <td>NaN</td>\n",
              "      <td>-0.284872</td>\n",
              "      <td>-0.24804</td>\n",
              "      <td>-0.865143</td>\n",
              "      <td>-0.021801</td>\n",
              "      <td>-0.051183</td>\n",
              "      <td>-0.087517</td>\n",
              "      <td>-0.088884</td>\n",
              "      <td>-0.332457</td>\n",
              "      <td>-0.408087</td>\n",
              "      <td>-0.051183</td>\n",
              "      <td>-0.30857</td>\n",
              "      <td>-0.145263</td>\n",
              "      <td>-0.043633</td>\n",
              "      <td>-0.070803</td>\n",
              "      <td>0.681842</td>\n",
              "      <td>5.451199</td>\n",
              "      <td>4.716869</td>\n",
              "      <td>-0.067331</td>\n",
              "      <td>1.817387</td>\n",
              "      <td>-0.106254</td>\n",
              "      <td>-0.015414</td>\n",
              "      <td>-0.074116</td>\n",
              "      <td>1.817387</td>\n",
              "      <td>-0.067331</td>\n",
              "      <td>1.817387</td>\n",
              "      <td>-0.185468</td>\n",
              "      <td>-0.015414</td>\n",
              "      <td>-0.026704</td>\n",
              "      <td>-0.107392</td>\n",
              "      <td>-0.015414</td>\n",
              "      <td>...</td>\n",
              "      <td>-0.151122</td>\n",
              "      <td>-0.223329</td>\n",
              "      <td>NaN</td>\n",
              "      <td>0.235940</td>\n",
              "      <td>-0.216803</td>\n",
              "      <td>1.396835</td>\n",
              "      <td>-0.650246</td>\n",
              "      <td>-0.239287</td>\n",
              "      <td>-0.046286</td>\n",
              "      <td>-0.504465</td>\n",
              "      <td>-0.783412</td>\n",
              "      <td>-0.468232</td>\n",
              "      <td>-0.034483</td>\n",
              "      <td>1.158412</td>\n",
              "      <td>-0.181316</td>\n",
              "      <td>-0.287786</td>\n",
              "      <td>0.187514</td>\n",
              "      <td>-1.041363</td>\n",
              "      <td>0.571338</td>\n",
              "      <td>-0.053465</td>\n",
              "      <td>-0.053465</td>\n",
              "      <td>-0.034483</td>\n",
              "      <td>-0.233688</td>\n",
              "      <td>-0.258659</td>\n",
              "      <td>-0.021801</td>\n",
              "      <td>-0.081825</td>\n",
              "      <td>8.314660</td>\n",
              "      <td>-0.021801</td>\n",
              "      <td>-0.140062</td>\n",
              "      <td>-0.542412</td>\n",
              "      <td>-0.684086</td>\n",
              "      <td>-0.246417</td>\n",
              "      <td>-0.677733</td>\n",
              "      <td>-0.145263</td>\n",
              "      <td>-0.097941</td>\n",
              "      <td>-0.090232</td>\n",
              "      <td>-0.087517</td>\n",
              "      <td>-0.04081</td>\n",
              "      <td>-0.021801</td>\n",
              "      <td>-0.037778</td>\n",
              "    </tr>\n",
              "    <tr>\n",
              "      <th>...</th>\n",
              "      <td>...</td>\n",
              "      <td>...</td>\n",
              "      <td>...</td>\n",
              "      <td>...</td>\n",
              "      <td>...</td>\n",
              "      <td>...</td>\n",
              "      <td>...</td>\n",
              "      <td>...</td>\n",
              "      <td>...</td>\n",
              "      <td>...</td>\n",
              "      <td>...</td>\n",
              "      <td>...</td>\n",
              "      <td>...</td>\n",
              "      <td>...</td>\n",
              "      <td>...</td>\n",
              "      <td>...</td>\n",
              "      <td>...</td>\n",
              "      <td>...</td>\n",
              "      <td>...</td>\n",
              "      <td>...</td>\n",
              "      <td>...</td>\n",
              "      <td>...</td>\n",
              "      <td>...</td>\n",
              "      <td>...</td>\n",
              "      <td>...</td>\n",
              "      <td>...</td>\n",
              "      <td>...</td>\n",
              "      <td>...</td>\n",
              "      <td>...</td>\n",
              "      <td>...</td>\n",
              "      <td>...</td>\n",
              "      <td>...</td>\n",
              "      <td>...</td>\n",
              "      <td>...</td>\n",
              "      <td>...</td>\n",
              "      <td>...</td>\n",
              "      <td>...</td>\n",
              "      <td>...</td>\n",
              "      <td>...</td>\n",
              "      <td>...</td>\n",
              "      <td>...</td>\n",
              "      <td>...</td>\n",
              "      <td>...</td>\n",
              "      <td>...</td>\n",
              "      <td>...</td>\n",
              "      <td>...</td>\n",
              "      <td>...</td>\n",
              "      <td>...</td>\n",
              "      <td>...</td>\n",
              "      <td>...</td>\n",
              "      <td>...</td>\n",
              "      <td>...</td>\n",
              "      <td>...</td>\n",
              "      <td>...</td>\n",
              "      <td>...</td>\n",
              "      <td>...</td>\n",
              "      <td>...</td>\n",
              "      <td>...</td>\n",
              "      <td>...</td>\n",
              "      <td>...</td>\n",
              "      <td>...</td>\n",
              "      <td>...</td>\n",
              "      <td>...</td>\n",
              "      <td>...</td>\n",
              "      <td>...</td>\n",
              "      <td>...</td>\n",
              "      <td>...</td>\n",
              "      <td>...</td>\n",
              "      <td>...</td>\n",
              "      <td>...</td>\n",
              "      <td>...</td>\n",
              "      <td>...</td>\n",
              "      <td>...</td>\n",
              "      <td>...</td>\n",
              "      <td>...</td>\n",
              "      <td>...</td>\n",
              "      <td>...</td>\n",
              "      <td>...</td>\n",
              "      <td>...</td>\n",
              "      <td>...</td>\n",
              "      <td>...</td>\n",
              "    </tr>\n",
              "    <tr>\n",
              "      <th>4204</th>\n",
              "      <td>-1.583943</td>\n",
              "      <td>1.041664</td>\n",
              "      <td>-0.119862</td>\n",
              "      <td>-0.528587</td>\n",
              "      <td>0.028935</td>\n",
              "      <td>-1.616834</td>\n",
              "      <td>-1.305229</td>\n",
              "      <td>0.623581</td>\n",
              "      <td>-0.116108</td>\n",
              "      <td>NaN</td>\n",
              "      <td>-0.284872</td>\n",
              "      <td>-0.24804</td>\n",
              "      <td>1.155604</td>\n",
              "      <td>-0.021801</td>\n",
              "      <td>-0.051183</td>\n",
              "      <td>-0.087517</td>\n",
              "      <td>-0.088884</td>\n",
              "      <td>-0.332457</td>\n",
              "      <td>-0.408087</td>\n",
              "      <td>-0.051183</td>\n",
              "      <td>-0.30857</td>\n",
              "      <td>-0.145263</td>\n",
              "      <td>-0.043633</td>\n",
              "      <td>-0.070803</td>\n",
              "      <td>0.681842</td>\n",
              "      <td>-0.183402</td>\n",
              "      <td>-0.211955</td>\n",
              "      <td>-0.067331</td>\n",
              "      <td>-0.550110</td>\n",
              "      <td>-0.106254</td>\n",
              "      <td>-0.015414</td>\n",
              "      <td>-0.074116</td>\n",
              "      <td>-0.550110</td>\n",
              "      <td>-0.067331</td>\n",
              "      <td>-0.550110</td>\n",
              "      <td>5.390490</td>\n",
              "      <td>-0.015414</td>\n",
              "      <td>-0.026704</td>\n",
              "      <td>-0.107392</td>\n",
              "      <td>-0.015414</td>\n",
              "      <td>...</td>\n",
              "      <td>-0.151122</td>\n",
              "      <td>-0.223329</td>\n",
              "      <td>NaN</td>\n",
              "      <td>0.235940</td>\n",
              "      <td>-0.216803</td>\n",
              "      <td>-0.715734</td>\n",
              "      <td>-0.650246</td>\n",
              "      <td>-0.239287</td>\n",
              "      <td>-0.046286</td>\n",
              "      <td>1.981827</td>\n",
              "      <td>-0.783412</td>\n",
              "      <td>-0.468232</td>\n",
              "      <td>-0.034483</td>\n",
              "      <td>1.158412</td>\n",
              "      <td>-0.181316</td>\n",
              "      <td>-0.287786</td>\n",
              "      <td>0.187514</td>\n",
              "      <td>-1.041363</td>\n",
              "      <td>0.571338</td>\n",
              "      <td>-0.053465</td>\n",
              "      <td>-0.053465</td>\n",
              "      <td>-0.034483</td>\n",
              "      <td>-0.233688</td>\n",
              "      <td>-0.258659</td>\n",
              "      <td>-0.021801</td>\n",
              "      <td>-0.081825</td>\n",
              "      <td>-0.120241</td>\n",
              "      <td>-0.021801</td>\n",
              "      <td>-0.140062</td>\n",
              "      <td>-0.542412</td>\n",
              "      <td>1.461457</td>\n",
              "      <td>-0.246417</td>\n",
              "      <td>-0.677733</td>\n",
              "      <td>-0.145263</td>\n",
              "      <td>-0.097941</td>\n",
              "      <td>-0.090232</td>\n",
              "      <td>-0.087517</td>\n",
              "      <td>-0.04081</td>\n",
              "      <td>-0.021801</td>\n",
              "      <td>-0.037778</td>\n",
              "    </tr>\n",
              "    <tr>\n",
              "      <th>4205</th>\n",
              "      <td>0.090204</td>\n",
              "      <td>0.572786</td>\n",
              "      <td>2.081990</td>\n",
              "      <td>0.046154</td>\n",
              "      <td>0.028935</td>\n",
              "      <td>-1.616834</td>\n",
              "      <td>0.066056</td>\n",
              "      <td>-0.655212</td>\n",
              "      <td>-0.116108</td>\n",
              "      <td>NaN</td>\n",
              "      <td>-0.284872</td>\n",
              "      <td>-0.24804</td>\n",
              "      <td>-0.865143</td>\n",
              "      <td>-0.021801</td>\n",
              "      <td>-0.051183</td>\n",
              "      <td>-0.087517</td>\n",
              "      <td>-0.088884</td>\n",
              "      <td>-0.332457</td>\n",
              "      <td>-0.408087</td>\n",
              "      <td>-0.051183</td>\n",
              "      <td>-0.30857</td>\n",
              "      <td>-0.145263</td>\n",
              "      <td>-0.043633</td>\n",
              "      <td>-0.070803</td>\n",
              "      <td>-1.466267</td>\n",
              "      <td>-0.183402</td>\n",
              "      <td>-0.211955</td>\n",
              "      <td>-0.067331</td>\n",
              "      <td>-0.550110</td>\n",
              "      <td>-0.106254</td>\n",
              "      <td>-0.015414</td>\n",
              "      <td>-0.074116</td>\n",
              "      <td>-0.550110</td>\n",
              "      <td>-0.067331</td>\n",
              "      <td>-0.550110</td>\n",
              "      <td>-0.185468</td>\n",
              "      <td>-0.015414</td>\n",
              "      <td>-0.026704</td>\n",
              "      <td>-0.107392</td>\n",
              "      <td>-0.015414</td>\n",
              "      <td>...</td>\n",
              "      <td>-0.151122</td>\n",
              "      <td>-0.223329</td>\n",
              "      <td>NaN</td>\n",
              "      <td>-4.237357</td>\n",
              "      <td>-0.216803</td>\n",
              "      <td>-0.715734</td>\n",
              "      <td>-0.650246</td>\n",
              "      <td>-0.239287</td>\n",
              "      <td>-0.046286</td>\n",
              "      <td>-0.504465</td>\n",
              "      <td>-0.783412</td>\n",
              "      <td>-0.468232</td>\n",
              "      <td>-0.034483</td>\n",
              "      <td>-0.863046</td>\n",
              "      <td>-0.181316</td>\n",
              "      <td>-0.287786</td>\n",
              "      <td>0.187514</td>\n",
              "      <td>-1.041363</td>\n",
              "      <td>-1.749861</td>\n",
              "      <td>-0.053465</td>\n",
              "      <td>-0.053465</td>\n",
              "      <td>-0.034483</td>\n",
              "      <td>-0.233688</td>\n",
              "      <td>-0.258659</td>\n",
              "      <td>-0.021801</td>\n",
              "      <td>12.218263</td>\n",
              "      <td>-0.120241</td>\n",
              "      <td>-0.021801</td>\n",
              "      <td>-0.140062</td>\n",
              "      <td>-0.542412</td>\n",
              "      <td>-0.684086</td>\n",
              "      <td>4.057193</td>\n",
              "      <td>-0.677733</td>\n",
              "      <td>-0.145263</td>\n",
              "      <td>-0.097941</td>\n",
              "      <td>-0.090232</td>\n",
              "      <td>-0.087517</td>\n",
              "      <td>-0.04081</td>\n",
              "      <td>-0.021801</td>\n",
              "      <td>-0.037778</td>\n",
              "    </tr>\n",
              "    <tr>\n",
              "      <th>4206</th>\n",
              "      <td>-1.583943</td>\n",
              "      <td>1.393322</td>\n",
              "      <td>1.898502</td>\n",
              "      <td>-1.678071</td>\n",
              "      <td>0.028935</td>\n",
              "      <td>-1.616834</td>\n",
              "      <td>-0.276766</td>\n",
              "      <td>-1.081476</td>\n",
              "      <td>-0.116108</td>\n",
              "      <td>NaN</td>\n",
              "      <td>3.509515</td>\n",
              "      <td>4.03065</td>\n",
              "      <td>-0.865143</td>\n",
              "      <td>-0.021801</td>\n",
              "      <td>-0.051183</td>\n",
              "      <td>-0.087517</td>\n",
              "      <td>-0.088884</td>\n",
              "      <td>-0.332457</td>\n",
              "      <td>-0.408087</td>\n",
              "      <td>-0.051183</td>\n",
              "      <td>-0.30857</td>\n",
              "      <td>-0.145263</td>\n",
              "      <td>-0.043633</td>\n",
              "      <td>-0.070803</td>\n",
              "      <td>0.681842</td>\n",
              "      <td>-0.183402</td>\n",
              "      <td>-0.211955</td>\n",
              "      <td>-0.067331</td>\n",
              "      <td>-0.550110</td>\n",
              "      <td>-0.106254</td>\n",
              "      <td>-0.015414</td>\n",
              "      <td>-0.074116</td>\n",
              "      <td>-0.550110</td>\n",
              "      <td>-0.067331</td>\n",
              "      <td>-0.550110</td>\n",
              "      <td>-0.185468</td>\n",
              "      <td>-0.015414</td>\n",
              "      <td>-0.026704</td>\n",
              "      <td>-0.107392</td>\n",
              "      <td>-0.015414</td>\n",
              "      <td>...</td>\n",
              "      <td>-0.151122</td>\n",
              "      <td>-0.223329</td>\n",
              "      <td>NaN</td>\n",
              "      <td>0.235940</td>\n",
              "      <td>-0.216803</td>\n",
              "      <td>-0.715734</td>\n",
              "      <td>-0.650246</td>\n",
              "      <td>-0.239287</td>\n",
              "      <td>-0.046286</td>\n",
              "      <td>1.981827</td>\n",
              "      <td>-0.783412</td>\n",
              "      <td>-0.468232</td>\n",
              "      <td>-0.034483</td>\n",
              "      <td>1.158412</td>\n",
              "      <td>-0.181316</td>\n",
              "      <td>3.473983</td>\n",
              "      <td>0.187514</td>\n",
              "      <td>-1.041363</td>\n",
              "      <td>0.571338</td>\n",
              "      <td>-0.053465</td>\n",
              "      <td>-0.053465</td>\n",
              "      <td>-0.034483</td>\n",
              "      <td>-0.233688</td>\n",
              "      <td>-0.258659</td>\n",
              "      <td>-0.021801</td>\n",
              "      <td>-0.081825</td>\n",
              "      <td>-0.120241</td>\n",
              "      <td>-0.021801</td>\n",
              "      <td>-0.140062</td>\n",
              "      <td>-0.542412</td>\n",
              "      <td>-0.684086</td>\n",
              "      <td>-0.246417</td>\n",
              "      <td>1.475156</td>\n",
              "      <td>-0.145263</td>\n",
              "      <td>-0.097941</td>\n",
              "      <td>-0.090232</td>\n",
              "      <td>-0.087517</td>\n",
              "      <td>-0.04081</td>\n",
              "      <td>-0.021801</td>\n",
              "      <td>-0.037778</td>\n",
              "    </tr>\n",
              "    <tr>\n",
              "      <th>4207</th>\n",
              "      <td>-1.511154</td>\n",
              "      <td>0.924444</td>\n",
              "      <td>0.705833</td>\n",
              "      <td>1.195637</td>\n",
              "      <td>0.028935</td>\n",
              "      <td>-1.616834</td>\n",
              "      <td>1.437340</td>\n",
              "      <td>1.191933</td>\n",
              "      <td>-0.116108</td>\n",
              "      <td>NaN</td>\n",
              "      <td>-0.284872</td>\n",
              "      <td>-0.24804</td>\n",
              "      <td>1.155604</td>\n",
              "      <td>-0.021801</td>\n",
              "      <td>-0.051183</td>\n",
              "      <td>-0.087517</td>\n",
              "      <td>-0.088884</td>\n",
              "      <td>-0.332457</td>\n",
              "      <td>-0.408087</td>\n",
              "      <td>-0.051183</td>\n",
              "      <td>-0.30857</td>\n",
              "      <td>-0.145263</td>\n",
              "      <td>-0.043633</td>\n",
              "      <td>-0.070803</td>\n",
              "      <td>-1.466267</td>\n",
              "      <td>-0.183402</td>\n",
              "      <td>-0.211955</td>\n",
              "      <td>-0.067331</td>\n",
              "      <td>-0.550110</td>\n",
              "      <td>-0.106254</td>\n",
              "      <td>-0.015414</td>\n",
              "      <td>-0.074116</td>\n",
              "      <td>-0.550110</td>\n",
              "      <td>-0.067331</td>\n",
              "      <td>-0.550110</td>\n",
              "      <td>-0.185468</td>\n",
              "      <td>-0.015414</td>\n",
              "      <td>-0.026704</td>\n",
              "      <td>-0.107392</td>\n",
              "      <td>-0.015414</td>\n",
              "      <td>...</td>\n",
              "      <td>-0.151122</td>\n",
              "      <td>-0.223329</td>\n",
              "      <td>NaN</td>\n",
              "      <td>0.235940</td>\n",
              "      <td>-0.216803</td>\n",
              "      <td>-0.715734</td>\n",
              "      <td>-0.650246</td>\n",
              "      <td>-0.239287</td>\n",
              "      <td>-0.046286</td>\n",
              "      <td>-0.504465</td>\n",
              "      <td>-0.783412</td>\n",
              "      <td>-0.468232</td>\n",
              "      <td>-0.034483</td>\n",
              "      <td>-0.863046</td>\n",
              "      <td>-0.181316</td>\n",
              "      <td>-0.287786</td>\n",
              "      <td>0.187514</td>\n",
              "      <td>0.960051</td>\n",
              "      <td>-1.749861</td>\n",
              "      <td>-0.053465</td>\n",
              "      <td>-0.053465</td>\n",
              "      <td>-0.034483</td>\n",
              "      <td>-0.233688</td>\n",
              "      <td>-0.258659</td>\n",
              "      <td>-0.021801</td>\n",
              "      <td>-0.081825</td>\n",
              "      <td>-0.120241</td>\n",
              "      <td>-0.021801</td>\n",
              "      <td>-0.140062</td>\n",
              "      <td>1.843180</td>\n",
              "      <td>-0.684086</td>\n",
              "      <td>-0.246417</td>\n",
              "      <td>-0.677733</td>\n",
              "      <td>-0.145263</td>\n",
              "      <td>-0.097941</td>\n",
              "      <td>-0.090232</td>\n",
              "      <td>-0.087517</td>\n",
              "      <td>-0.04081</td>\n",
              "      <td>-0.021801</td>\n",
              "      <td>-0.037778</td>\n",
              "    </tr>\n",
              "    <tr>\n",
              "      <th>4208</th>\n",
              "      <td>1.182039</td>\n",
              "      <td>0.924444</td>\n",
              "      <td>-1.312532</td>\n",
              "      <td>-0.528587</td>\n",
              "      <td>0.028935</td>\n",
              "      <td>-1.616834</td>\n",
              "      <td>-0.276766</td>\n",
              "      <td>1.476109</td>\n",
              "      <td>-0.116108</td>\n",
              "      <td>NaN</td>\n",
              "      <td>-0.284872</td>\n",
              "      <td>-0.24804</td>\n",
              "      <td>-0.865143</td>\n",
              "      <td>-0.021801</td>\n",
              "      <td>-0.051183</td>\n",
              "      <td>-0.087517</td>\n",
              "      <td>-0.088884</td>\n",
              "      <td>-0.332457</td>\n",
              "      <td>2.449878</td>\n",
              "      <td>-0.051183</td>\n",
              "      <td>-0.30857</td>\n",
              "      <td>-0.145263</td>\n",
              "      <td>-0.043633</td>\n",
              "      <td>-0.070803</td>\n",
              "      <td>-1.466267</td>\n",
              "      <td>-0.183402</td>\n",
              "      <td>-0.211955</td>\n",
              "      <td>-0.067331</td>\n",
              "      <td>-0.550110</td>\n",
              "      <td>-0.106254</td>\n",
              "      <td>-0.015414</td>\n",
              "      <td>-0.074116</td>\n",
              "      <td>-0.550110</td>\n",
              "      <td>-0.067331</td>\n",
              "      <td>-0.550110</td>\n",
              "      <td>-0.185468</td>\n",
              "      <td>-0.015414</td>\n",
              "      <td>-0.026704</td>\n",
              "      <td>-0.107392</td>\n",
              "      <td>-0.015414</td>\n",
              "      <td>...</td>\n",
              "      <td>-0.151122</td>\n",
              "      <td>-0.223329</td>\n",
              "      <td>NaN</td>\n",
              "      <td>0.235940</td>\n",
              "      <td>-0.216803</td>\n",
              "      <td>1.396835</td>\n",
              "      <td>-0.650246</td>\n",
              "      <td>-0.239287</td>\n",
              "      <td>-0.046286</td>\n",
              "      <td>-0.504465</td>\n",
              "      <td>1.276164</td>\n",
              "      <td>-0.468232</td>\n",
              "      <td>-0.034483</td>\n",
              "      <td>-0.863046</td>\n",
              "      <td>-0.181316</td>\n",
              "      <td>-0.287786</td>\n",
              "      <td>0.187514</td>\n",
              "      <td>0.960051</td>\n",
              "      <td>0.571338</td>\n",
              "      <td>-0.053465</td>\n",
              "      <td>-0.053465</td>\n",
              "      <td>-0.034483</td>\n",
              "      <td>-0.233688</td>\n",
              "      <td>-0.258659</td>\n",
              "      <td>-0.021801</td>\n",
              "      <td>-0.081825</td>\n",
              "      <td>-0.120241</td>\n",
              "      <td>-0.021801</td>\n",
              "      <td>-0.140062</td>\n",
              "      <td>-0.542412</td>\n",
              "      <td>1.461457</td>\n",
              "      <td>-0.246417</td>\n",
              "      <td>-0.677733</td>\n",
              "      <td>-0.145263</td>\n",
              "      <td>-0.097941</td>\n",
              "      <td>-0.090232</td>\n",
              "      <td>-0.087517</td>\n",
              "      <td>-0.04081</td>\n",
              "      <td>-0.021801</td>\n",
              "      <td>-0.037778</td>\n",
              "    </tr>\n",
              "  </tbody>\n",
              "</table>\n",
              "<p>4209 rows × 376 columns</p>\n",
              "</div>"
            ],
            "text/plain": [
              "            X0        X1        X2  ...     X383      X384      X385\n",
              "0     0.162993  1.393322 -0.028118  ... -0.04081 -0.021801 -0.037778\n",
              "1     0.162993  1.158883  0.155369  ... -0.04081 -0.021801 -0.037778\n",
              "2    -0.710475  1.510542  1.531527  ... -0.04081 -0.021801 -0.037778\n",
              "3    -0.710475  1.158883  1.531527  ... -0.04081 -0.021801 -0.037778\n",
              "4    -0.710475  1.393322  1.531527  ... -0.04081 -0.021801 -0.037778\n",
              "...        ...       ...       ...  ...      ...       ...       ...\n",
              "4204 -1.583943  1.041664 -0.119862  ... -0.04081 -0.021801 -0.037778\n",
              "4205  0.090204  0.572786  2.081990  ... -0.04081 -0.021801 -0.037778\n",
              "4206 -1.583943  1.393322  1.898502  ... -0.04081 -0.021801 -0.037778\n",
              "4207 -1.511154  0.924444  0.705833  ... -0.04081 -0.021801 -0.037778\n",
              "4208  1.182039  0.924444 -1.312532  ... -0.04081 -0.021801 -0.037778\n",
              "\n",
              "[4209 rows x 376 columns]"
            ]
          },
          "metadata": {
            "tags": []
          },
          "execution_count": 34
        }
      ]
    },
    {
      "cell_type": "code",
      "metadata": {
        "id": "jnXF4TMu6PsQ",
        "outputId": "a7f84474-532a-4604-97c8-94936adb3017",
        "colab": {
          "base_uri": "https://localhost:8080/",
          "height": 221
        }
      },
      "source": [
        "def check_nans(data):\n",
        "  # массив названий столбцов, в которых одни NaN\n",
        "  nan_cols = []\n",
        "  for col_name, col_info in data.items():\n",
        "    for line_number, line_info in col_info.items():\n",
        "      if math.isnan(line_info):\n",
        "        print(f\"{col_name } is NaNs\")\n",
        "        nan_cols.append(col_name)\n",
        "        break\n",
        "  if nan_cols == []:\n",
        "    print(\"[INFO] THERE IS NO NaNS IN DATA!\")\n",
        "  return nan_cols\n",
        "\n",
        "nan_cols = check_nans(x_norm)"
      ],
      "execution_count": 35,
      "outputs": [
        {
          "output_type": "stream",
          "text": [
            "X11 is NaNs\n",
            "X93 is NaNs\n",
            "X107 is NaNs\n",
            "X233 is NaNs\n",
            "X235 is NaNs\n",
            "X268 is NaNs\n",
            "X289 is NaNs\n",
            "X290 is NaNs\n",
            "X293 is NaNs\n",
            "X297 is NaNs\n",
            "X330 is NaNs\n",
            "X347 is NaNs\n"
          ],
          "name": "stdout"
        }
      ]
    },
    {
      "cell_type": "code",
      "metadata": {
        "id": "44uad-g86SIH"
      },
      "source": [
        "def delete_nans(data, nan_cols):\n",
        "  for col in nan_cols:\n",
        "    try:\n",
        "      x.drop(str(col), axis='columns', inplace=True)\n",
        "    except:\n",
        "      continue\n",
        "\n",
        "delete_nans(x_norm, nan_cols)"
      ],
      "execution_count": 36,
      "outputs": []
    },
    {
      "cell_type": "code",
      "metadata": {
        "id": "-Ssb4r4W6VMx",
        "outputId": "f6cf7206-6ed1-4c6a-d3c2-76bee4e60db6",
        "colab": {
          "base_uri": "https://localhost:8080/",
          "height": 51
        }
      },
      "source": [
        "check_nans(x_norm)"
      ],
      "execution_count": 37,
      "outputs": [
        {
          "output_type": "stream",
          "text": [
            "[INFO] THERE IS NO NaNS IN DATA!\n"
          ],
          "name": "stdout"
        },
        {
          "output_type": "execute_result",
          "data": {
            "text/plain": [
              "[]"
            ]
          },
          "metadata": {
            "tags": []
          },
          "execution_count": 37
        }
      ]
    },
    {
      "cell_type": "code",
      "metadata": {
        "id": "hBFHb1pr6V3w"
      },
      "source": [
        "# делим в соотношении 70 на 30\n",
        "(x_train, x_test) = train_test_split(x_norm, test_size=0.3)\n",
        "(y_train, y_test) = train_test_split(y, test_size=0.3)"
      ],
      "execution_count": 38,
      "outputs": []
    },
    {
      "cell_type": "code",
      "metadata": {
        "id": "IXN1V2bU6X_7"
      },
      "source": [
        "\n",
        "# функция принимает данные, прочитанные из csv файла, переводит их в numpy_array\n",
        "def convert_csv_to_numpy(array):\n",
        "  array_to_convert = []\n",
        "  for col_name, col_info in array.items():\n",
        "    # временный массив создается для каждого СТОЛБЦА\n",
        "    temp_array = []\n",
        "    for line_number, line_info in col_info.items():\n",
        "        temp_array.append(line_info)\n",
        "    # после прохождения всего столбца временный массив добавляется в основной\n",
        "    if temp_array != []:\n",
        "      array_to_convert.append(temp_array)\n",
        "  # в самом конце основном массив конвертируется в numpy_array\n",
        "  return np.array(array_to_convert, dtype=np.float64)\n",
        "\n",
        "\n",
        "x_train = convert_csv_to_numpy(x_train) \n",
        "x_test = convert_csv_to_numpy(x_test)\n"
      ],
      "execution_count": 39,
      "outputs": []
    },
    {
      "cell_type": "code",
      "metadata": {
        "id": "sv4f3NX66aQZ",
        "outputId": "b88d70f6-89a2-4da4-d084-f221ad9ce5c4",
        "colab": {
          "base_uri": "https://localhost:8080/",
          "height": 238
        }
      },
      "source": [
        "x_train"
      ],
      "execution_count": 40,
      "outputs": [
        {
          "output_type": "execute_result",
          "data": {
            "text/plain": [
              "array([[-0.05537429,  0.38135975,  0.09020372, ..., -0.71047536,\n",
              "        -0.78326436,  0.74530478],\n",
              "       [ 0.92444416,  0.22112691, -1.18550759, ...,  1.62776141,\n",
              "        -1.18550759, -0.95106851],\n",
              "       [ 1.07280786, -0.11986205, -1.03730044, ..., -0.30334973,\n",
              "        -0.11986205, -1.31253196],\n",
              "       ...,\n",
              "       [-0.04081026, -0.04081026, -0.04081026, ..., -0.04081026,\n",
              "        -0.04081026, -0.04081026],\n",
              "       [-0.02180104, -0.02180104, -0.02180104, ..., -0.02180104,\n",
              "        -0.02180104, -0.02180104],\n",
              "       [-0.03777847, -0.03777847, -0.03777847, ..., -0.03777847,\n",
              "        -0.03777847, -0.03777847]])"
            ]
          },
          "metadata": {
            "tags": []
          },
          "execution_count": 40
        }
      ]
    },
    {
      "cell_type": "code",
      "metadata": {
        "id": "yjvXujft6cuy",
        "outputId": "9d793e4c-a3c6-4244-aa04-23679d148448",
        "colab": {
          "base_uri": "https://localhost:8080/",
          "height": 238
        }
      },
      "source": [
        "x_test"
      ],
      "execution_count": 41,
      "outputs": [
        {
          "output_type": "execute_result",
          "data": {
            "text/plain": [
              "array([[-0.78326436,  0.38135975, -0.20095231, ...,  1.03646081,\n",
              "         1.10924982, -1.65673245],\n",
              "       [-0.13053172,  1.39332233,  1.0416637 , ...,  1.39332233,\n",
              "         0.92444416,  0.22112691],\n",
              "       [-0.11986205, -0.85381276,  1.43978322, ...,  0.24711331,\n",
              "         0.79757634, -0.11986205],\n",
              "       ...,\n",
              "       [-0.04081026, -0.04081026, -0.04081026, ..., -0.04081026,\n",
              "        -0.04081026, -0.04081026],\n",
              "       [-0.02180104, -0.02180104, -0.02180104, ..., -0.02180104,\n",
              "        -0.02180104, -0.02180104],\n",
              "       [-0.03777847, -0.03777847, -0.03777847, ..., -0.03777847,\n",
              "        -0.03777847, -0.03777847]])"
            ]
          },
          "metadata": {
            "tags": []
          },
          "execution_count": 41
        }
      ]
    },
    {
      "cell_type": "code",
      "metadata": {
        "id": "tJ1TE9rK6d1l",
        "outputId": "169a5449-fe3e-416c-8cda-e7bbf05ed92e",
        "colab": {
          "base_uri": "https://localhost:8080/",
          "height": 136
        }
      },
      "source": [
        "# меняю формы обоих x, чтобы первое измерение совпадало с y\n",
        "x_train = np.reshape(x_train, (x_train.shape[1], x_train.shape[0]))\n",
        "x_test = np.reshape(x_test, (x_test.shape[1], x_test.shape[0]))\n",
        "\n",
        "print(f\"Y_TRAIN SHAPE IS {y_train.shape}\")\n",
        "print(f\"Y_TEST SHAPE IS {y_test.shape}\")\n",
        "print(f\"X_TRAIN SHAPE IS {x_train.shape}\")\n",
        "print(f\"X_TEST SHAPE IS {x_test.shape}\")\n",
        "print(\"\\n\\n\")\n"
      ],
      "execution_count": 42,
      "outputs": [
        {
          "output_type": "stream",
          "text": [
            "Y_TRAIN SHAPE IS (2946, 1)\n",
            "Y_TEST SHAPE IS (1263, 1)\n",
            "X_TRAIN SHAPE IS (2946, 364)\n",
            "X_TEST SHAPE IS (1263, 364)\n",
            "\n",
            "\n",
            "\n"
          ],
          "name": "stdout"
        }
      ]
    },
    {
      "cell_type": "code",
      "metadata": {
        "id": "cwEMIfdW6f20"
      },
      "source": [
        "(x_train_main, x_train_val) = train_test_split(x_train, test_size=0.3)\n",
        "(y_train_main, y_train_val) = train_test_split(y_train, test_size=0.3)"
      ],
      "execution_count": 43,
      "outputs": []
    },
    {
      "cell_type": "code",
      "metadata": {
        "id": "vToLDZ4x6iZu",
        "outputId": "06703601-8e1b-44fe-8596-3ef9726f7c10",
        "colab": {
          "base_uri": "https://localhost:8080/",
          "height": 1000
        }
      },
      "source": [
        "model = Sequential()\n",
        "model.add(Dense(1024, activation=\"relu\", input_shape=(x_train_main.shape[1],)))\n",
        "model.add(Dense(512, activation=\"relu\"))\n",
        "model.add(Dense(1))\n",
        "print(\"[INFO] NN has been created\")\n",
        "model.compile(optimizer=\"rmsprop\", loss=\"mse\", metrics=[\"mae\"])\n",
        "print(\"[INFO] NN has been compiled\")\n",
        "model.summary()\n",
        "# начинаем обучение нейронной сети\n",
        "history = model.fit(x_train_main, y_train_main, epochs=100, batch_size=100, validation_data=(x_train_val, y_train_val))\n",
        "history = history.history\n",
        "print(\"[INFO] Training has been finished\")\n"
      ],
      "execution_count": 44,
      "outputs": [
        {
          "output_type": "stream",
          "text": [
            "[INFO] NN has been created\n",
            "[INFO] NN has been compiled\n",
            "Model: \"sequential_1\"\n",
            "_________________________________________________________________\n",
            "Layer (type)                 Output Shape              Param #   \n",
            "=================================================================\n",
            "dense_4 (Dense)              (None, 1024)              373760    \n",
            "_________________________________________________________________\n",
            "dense_5 (Dense)              (None, 512)               524800    \n",
            "_________________________________________________________________\n",
            "dense_6 (Dense)              (None, 1)                 513       \n",
            "=================================================================\n",
            "Total params: 899,073\n",
            "Trainable params: 899,073\n",
            "Non-trainable params: 0\n",
            "_________________________________________________________________\n",
            "Epoch 1/100\n",
            "21/21 [==============================] - 1s 34ms/step - loss: 2937.9109 - mae: 41.5109 - val_loss: 1637.5646 - val_mae: 27.5914\n",
            "Epoch 2/100\n",
            "21/21 [==============================] - 1s 29ms/step - loss: 1185.6228 - mae: 23.5334 - val_loss: 1366.5118 - val_mae: 26.5886\n",
            "Epoch 3/100\n",
            "21/21 [==============================] - 1s 29ms/step - loss: 931.0445 - mae: 21.2303 - val_loss: 1303.5370 - val_mae: 26.7988\n",
            "Epoch 4/100\n",
            "21/21 [==============================] - 1s 29ms/step - loss: 746.3790 - mae: 18.8789 - val_loss: 1203.1490 - val_mae: 25.5630\n",
            "Epoch 5/100\n",
            "21/21 [==============================] - 1s 25ms/step - loss: 625.0239 - mae: 17.1865 - val_loss: 1123.0637 - val_mae: 24.6029\n",
            "Epoch 6/100\n",
            "21/21 [==============================] - 1s 28ms/step - loss: 497.3093 - mae: 14.9091 - val_loss: 1053.1046 - val_mae: 24.8688\n",
            "Epoch 7/100\n",
            "21/21 [==============================] - 1s 27ms/step - loss: 408.7329 - mae: 13.4944 - val_loss: 945.3965 - val_mae: 22.9008\n",
            "Epoch 8/100\n",
            "21/21 [==============================] - 1s 26ms/step - loss: 345.6056 - mae: 12.3805 - val_loss: 902.1323 - val_mae: 22.0773\n",
            "Epoch 9/100\n",
            "21/21 [==============================] - 1s 27ms/step - loss: 278.5089 - mae: 11.0988 - val_loss: 887.9331 - val_mae: 21.8995\n",
            "Epoch 10/100\n",
            "21/21 [==============================] - 1s 27ms/step - loss: 257.0576 - mae: 10.9488 - val_loss: 786.0149 - val_mae: 20.7064\n",
            "Epoch 11/100\n",
            "21/21 [==============================] - 1s 25ms/step - loss: 234.6572 - mae: 10.6190 - val_loss: 723.7856 - val_mae: 20.5357\n",
            "Epoch 12/100\n",
            "21/21 [==============================] - 1s 25ms/step - loss: 201.3627 - mae: 9.7655 - val_loss: 748.1664 - val_mae: 20.1548\n",
            "Epoch 13/100\n",
            "21/21 [==============================] - 1s 29ms/step - loss: 184.3995 - mae: 9.2640 - val_loss: 721.1381 - val_mae: 19.7552\n",
            "Epoch 14/100\n",
            "21/21 [==============================] - 1s 26ms/step - loss: 171.6763 - mae: 9.2379 - val_loss: 651.1241 - val_mae: 18.8407\n",
            "Epoch 15/100\n",
            "21/21 [==============================] - 1s 27ms/step - loss: 159.4358 - mae: 8.8595 - val_loss: 653.6094 - val_mae: 18.8543\n",
            "Epoch 16/100\n",
            "21/21 [==============================] - 1s 26ms/step - loss: 156.4270 - mae: 8.8039 - val_loss: 640.9626 - val_mae: 18.5031\n",
            "Epoch 17/100\n",
            "21/21 [==============================] - 1s 25ms/step - loss: 155.0513 - mae: 8.9400 - val_loss: 611.6352 - val_mae: 18.0778\n",
            "Epoch 18/100\n",
            "21/21 [==============================] - 1s 25ms/step - loss: 143.2942 - mae: 8.4588 - val_loss: 592.5950 - val_mae: 17.8676\n",
            "Epoch 19/100\n",
            "21/21 [==============================] - 1s 28ms/step - loss: 138.0375 - mae: 8.1952 - val_loss: 710.3789 - val_mae: 19.6919\n",
            "Epoch 20/100\n",
            "21/21 [==============================] - 1s 26ms/step - loss: 134.9536 - mae: 8.2476 - val_loss: 879.4973 - val_mae: 21.3157\n",
            "Epoch 21/100\n",
            "21/21 [==============================] - 1s 27ms/step - loss: 137.4312 - mae: 8.1828 - val_loss: 535.0475 - val_mae: 17.1297\n",
            "Epoch 22/100\n",
            "21/21 [==============================] - 1s 28ms/step - loss: 130.6393 - mae: 8.1793 - val_loss: 699.8599 - val_mae: 19.0412\n",
            "Epoch 23/100\n",
            "21/21 [==============================] - 1s 29ms/step - loss: 134.5493 - mae: 8.4833 - val_loss: 486.9856 - val_mae: 16.3790\n",
            "Epoch 24/100\n",
            "21/21 [==============================] - 1s 27ms/step - loss: 130.6436 - mae: 8.3261 - val_loss: 489.6367 - val_mae: 16.1184\n",
            "Epoch 25/100\n",
            "21/21 [==============================] - 1s 26ms/step - loss: 116.5632 - mae: 7.5863 - val_loss: 511.6059 - val_mae: 16.4792\n",
            "Epoch 26/100\n",
            "21/21 [==============================] - 1s 27ms/step - loss: 114.9963 - mae: 7.7249 - val_loss: 508.3867 - val_mae: 16.6667\n",
            "Epoch 27/100\n",
            "21/21 [==============================] - 1s 27ms/step - loss: 116.7170 - mae: 7.6919 - val_loss: 496.3041 - val_mae: 16.0031\n",
            "Epoch 28/100\n",
            "21/21 [==============================] - 1s 27ms/step - loss: 120.1259 - mae: 7.8757 - val_loss: 514.6912 - val_mae: 16.3081\n",
            "Epoch 29/100\n",
            "21/21 [==============================] - 1s 25ms/step - loss: 104.8708 - mae: 7.2787 - val_loss: 452.1691 - val_mae: 15.6005\n",
            "Epoch 30/100\n",
            "21/21 [==============================] - 1s 26ms/step - loss: 119.0807 - mae: 7.9902 - val_loss: 500.2037 - val_mae: 16.2952\n",
            "Epoch 31/100\n",
            "21/21 [==============================] - 1s 27ms/step - loss: 105.7581 - mae: 7.4108 - val_loss: 480.9023 - val_mae: 15.8312\n",
            "Epoch 32/100\n",
            "21/21 [==============================] - 1s 28ms/step - loss: 108.1141 - mae: 7.4502 - val_loss: 464.4089 - val_mae: 15.6590\n",
            "Epoch 33/100\n",
            "21/21 [==============================] - 1s 25ms/step - loss: 111.1756 - mae: 7.6193 - val_loss: 525.7390 - val_mae: 16.6730\n",
            "Epoch 34/100\n",
            "21/21 [==============================] - 1s 29ms/step - loss: 95.8998 - mae: 6.8846 - val_loss: 596.1326 - val_mae: 17.5020\n",
            "Epoch 35/100\n",
            "21/21 [==============================] - 1s 26ms/step - loss: 99.3493 - mae: 7.1167 - val_loss: 428.9362 - val_mae: 15.1913\n",
            "Epoch 36/100\n",
            "21/21 [==============================] - 1s 30ms/step - loss: 99.3908 - mae: 7.1213 - val_loss: 467.8661 - val_mae: 15.4055\n",
            "Epoch 37/100\n",
            "21/21 [==============================] - 1s 25ms/step - loss: 99.8245 - mae: 7.1157 - val_loss: 735.3599 - val_mae: 20.0375\n",
            "Epoch 38/100\n",
            "21/21 [==============================] - 1s 30ms/step - loss: 103.5605 - mae: 7.3716 - val_loss: 509.6778 - val_mae: 16.0456\n",
            "Epoch 39/100\n",
            "21/21 [==============================] - 1s 27ms/step - loss: 96.7292 - mae: 7.2658 - val_loss: 511.9087 - val_mae: 16.1018\n",
            "Epoch 40/100\n",
            "21/21 [==============================] - 1s 31ms/step - loss: 95.1475 - mae: 6.9768 - val_loss: 472.6018 - val_mae: 15.3984\n",
            "Epoch 41/100\n",
            "21/21 [==============================] - 1s 30ms/step - loss: 90.4538 - mae: 6.7632 - val_loss: 502.9551 - val_mae: 16.1345\n",
            "Epoch 42/100\n",
            "21/21 [==============================] - 1s 26ms/step - loss: 92.6208 - mae: 6.9326 - val_loss: 408.1039 - val_mae: 14.6426\n",
            "Epoch 43/100\n",
            "21/21 [==============================] - 1s 31ms/step - loss: 93.5694 - mae: 6.9171 - val_loss: 442.2673 - val_mae: 15.0625\n",
            "Epoch 44/100\n",
            "21/21 [==============================] - 1s 30ms/step - loss: 87.9838 - mae: 6.7263 - val_loss: 582.7700 - val_mae: 17.2682\n",
            "Epoch 45/100\n",
            "21/21 [==============================] - 1s 28ms/step - loss: 89.7210 - mae: 6.8031 - val_loss: 431.4318 - val_mae: 14.8779\n",
            "Epoch 46/100\n",
            "21/21 [==============================] - 1s 27ms/step - loss: 88.2695 - mae: 6.6812 - val_loss: 403.9510 - val_mae: 14.5406\n",
            "Epoch 47/100\n",
            "21/21 [==============================] - 1s 38ms/step - loss: 87.7200 - mae: 6.7242 - val_loss: 420.1450 - val_mae: 14.8280\n",
            "Epoch 48/100\n",
            "21/21 [==============================] - 1s 32ms/step - loss: 85.7316 - mae: 6.6116 - val_loss: 418.8610 - val_mae: 14.5264\n",
            "Epoch 49/100\n",
            "21/21 [==============================] - 1s 31ms/step - loss: 84.0935 - mae: 6.4843 - val_loss: 416.7686 - val_mae: 14.5205\n",
            "Epoch 50/100\n",
            "21/21 [==============================] - 1s 28ms/step - loss: 82.3697 - mae: 6.4464 - val_loss: 621.4990 - val_mae: 18.3376\n",
            "Epoch 51/100\n",
            "21/21 [==============================] - 1s 28ms/step - loss: 86.5701 - mae: 6.6199 - val_loss: 481.8857 - val_mae: 15.5685\n",
            "Epoch 52/100\n",
            "21/21 [==============================] - 1s 28ms/step - loss: 85.0405 - mae: 6.4682 - val_loss: 415.8635 - val_mae: 14.5497\n",
            "Epoch 53/100\n",
            "21/21 [==============================] - 1s 29ms/step - loss: 81.6795 - mae: 6.3448 - val_loss: 543.8354 - val_mae: 16.3155\n",
            "Epoch 54/100\n",
            "21/21 [==============================] - 1s 27ms/step - loss: 81.2616 - mae: 6.3418 - val_loss: 460.2592 - val_mae: 14.9042\n",
            "Epoch 55/100\n",
            "21/21 [==============================] - 1s 29ms/step - loss: 80.8796 - mae: 6.2510 - val_loss: 418.9927 - val_mae: 14.5516\n",
            "Epoch 56/100\n",
            "21/21 [==============================] - 1s 28ms/step - loss: 74.1399 - mae: 6.0744 - val_loss: 460.4548 - val_mae: 15.0153\n",
            "Epoch 57/100\n",
            "21/21 [==============================] - 1s 27ms/step - loss: 84.4120 - mae: 6.3612 - val_loss: 570.5986 - val_mae: 17.1269\n",
            "Epoch 58/100\n",
            "21/21 [==============================] - 1s 27ms/step - loss: 72.6296 - mae: 5.8619 - val_loss: 404.8085 - val_mae: 14.7051\n",
            "Epoch 59/100\n",
            "21/21 [==============================] - 1s 26ms/step - loss: 82.9677 - mae: 6.3413 - val_loss: 539.4427 - val_mae: 16.3322\n",
            "Epoch 60/100\n",
            "21/21 [==============================] - 1s 27ms/step - loss: 79.7251 - mae: 6.2959 - val_loss: 460.3088 - val_mae: 15.1202\n",
            "Epoch 61/100\n",
            "21/21 [==============================] - 1s 27ms/step - loss: 71.2092 - mae: 5.8189 - val_loss: 405.6079 - val_mae: 14.3495\n",
            "Epoch 62/100\n",
            "21/21 [==============================] - 1s 28ms/step - loss: 75.5547 - mae: 6.1467 - val_loss: 516.4108 - val_mae: 15.7738\n",
            "Epoch 63/100\n",
            "21/21 [==============================] - 1s 27ms/step - loss: 76.6547 - mae: 6.1956 - val_loss: 438.5742 - val_mae: 14.8220\n",
            "Epoch 64/100\n",
            "21/21 [==============================] - 1s 29ms/step - loss: 74.1108 - mae: 5.9691 - val_loss: 459.5401 - val_mae: 15.0095\n",
            "Epoch 65/100\n",
            "21/21 [==============================] - 1s 27ms/step - loss: 74.5816 - mae: 6.1538 - val_loss: 415.6898 - val_mae: 14.4843\n",
            "Epoch 66/100\n",
            "21/21 [==============================] - 1s 25ms/step - loss: 72.2495 - mae: 5.7751 - val_loss: 407.4836 - val_mae: 14.2127\n",
            "Epoch 67/100\n",
            "21/21 [==============================] - 1s 27ms/step - loss: 73.1553 - mae: 5.8770 - val_loss: 403.4074 - val_mae: 14.2546\n",
            "Epoch 68/100\n",
            "21/21 [==============================] - 1s 29ms/step - loss: 71.2122 - mae: 5.7865 - val_loss: 402.6374 - val_mae: 14.3866\n",
            "Epoch 69/100\n",
            "21/21 [==============================] - 1s 28ms/step - loss: 73.7792 - mae: 6.0344 - val_loss: 446.3520 - val_mae: 14.7234\n",
            "Epoch 70/100\n",
            "21/21 [==============================] - 1s 27ms/step - loss: 68.3227 - mae: 5.6169 - val_loss: 415.0577 - val_mae: 14.6148\n",
            "Epoch 71/100\n",
            "21/21 [==============================] - 1s 27ms/step - loss: 71.4535 - mae: 5.8369 - val_loss: 525.3602 - val_mae: 16.0680\n",
            "Epoch 72/100\n",
            "21/21 [==============================] - 1s 28ms/step - loss: 67.9559 - mae: 5.5984 - val_loss: 547.9314 - val_mae: 16.5731\n",
            "Epoch 73/100\n",
            "21/21 [==============================] - 1s 28ms/step - loss: 69.0895 - mae: 5.7833 - val_loss: 438.7185 - val_mae: 14.9053\n",
            "Epoch 74/100\n",
            "21/21 [==============================] - 1s 28ms/step - loss: 70.8852 - mae: 5.7954 - val_loss: 398.4408 - val_mae: 14.4432\n",
            "Epoch 75/100\n",
            "21/21 [==============================] - 1s 28ms/step - loss: 67.5884 - mae: 5.6505 - val_loss: 407.3927 - val_mae: 14.5036\n",
            "Epoch 76/100\n",
            "21/21 [==============================] - 1s 28ms/step - loss: 66.8961 - mae: 5.5649 - val_loss: 606.9024 - val_mae: 17.3671\n",
            "Epoch 77/100\n",
            "21/21 [==============================] - 1s 32ms/step - loss: 70.9925 - mae: 5.7754 - val_loss: 452.3494 - val_mae: 14.7701\n",
            "Epoch 78/100\n",
            "21/21 [==============================] - 1s 31ms/step - loss: 65.5125 - mae: 5.5404 - val_loss: 555.4978 - val_mae: 16.7504\n",
            "Epoch 79/100\n",
            "21/21 [==============================] - 1s 29ms/step - loss: 66.6496 - mae: 5.4166 - val_loss: 522.5034 - val_mae: 16.0043\n",
            "Epoch 80/100\n",
            "21/21 [==============================] - 1s 30ms/step - loss: 70.4219 - mae: 5.7027 - val_loss: 426.3409 - val_mae: 14.4760\n",
            "Epoch 81/100\n",
            "21/21 [==============================] - 1s 29ms/step - loss: 64.6646 - mae: 5.3601 - val_loss: 406.4931 - val_mae: 14.5256\n",
            "Epoch 82/100\n",
            "21/21 [==============================] - 1s 33ms/step - loss: 69.2042 - mae: 5.7180 - val_loss: 485.1839 - val_mae: 15.1656\n",
            "Epoch 83/100\n",
            "21/21 [==============================] - 1s 32ms/step - loss: 65.3512 - mae: 5.3668 - val_loss: 412.5172 - val_mae: 14.7567\n",
            "Epoch 84/100\n",
            "21/21 [==============================] - 1s 31ms/step - loss: 63.2238 - mae: 5.2023 - val_loss: 532.7078 - val_mae: 15.7822\n",
            "Epoch 85/100\n",
            "21/21 [==============================] - 1s 29ms/step - loss: 70.5994 - mae: 5.7900 - val_loss: 518.3885 - val_mae: 15.8760\n",
            "Epoch 86/100\n",
            "21/21 [==============================] - 1s 31ms/step - loss: 68.5752 - mae: 5.7016 - val_loss: 435.3378 - val_mae: 14.6623\n",
            "Epoch 87/100\n",
            "21/21 [==============================] - 1s 36ms/step - loss: 65.1909 - mae: 5.3482 - val_loss: 505.0114 - val_mae: 15.7080\n",
            "Epoch 88/100\n",
            "21/21 [==============================] - 1s 33ms/step - loss: 66.4480 - mae: 5.3991 - val_loss: 460.2566 - val_mae: 14.8840\n",
            "Epoch 89/100\n",
            "21/21 [==============================] - 1s 35ms/step - loss: 63.1290 - mae: 5.3007 - val_loss: 407.7460 - val_mae: 14.6267\n",
            "Epoch 90/100\n",
            "21/21 [==============================] - 1s 40ms/step - loss: 68.3725 - mae: 5.5710 - val_loss: 439.4759 - val_mae: 14.7701\n",
            "Epoch 91/100\n",
            "21/21 [==============================] - 1s 40ms/step - loss: 64.3869 - mae: 5.3389 - val_loss: 469.3988 - val_mae: 15.3124\n",
            "Epoch 92/100\n",
            "21/21 [==============================] - 1s 40ms/step - loss: 61.8918 - mae: 5.0946 - val_loss: 410.2827 - val_mae: 14.3861\n",
            "Epoch 93/100\n",
            "21/21 [==============================] - 1s 37ms/step - loss: 64.4814 - mae: 5.3643 - val_loss: 448.8243 - val_mae: 14.7817\n",
            "Epoch 94/100\n",
            "21/21 [==============================] - 1s 41ms/step - loss: 60.7672 - mae: 5.1155 - val_loss: 424.8918 - val_mae: 14.7125\n",
            "Epoch 95/100\n",
            "21/21 [==============================] - 1s 41ms/step - loss: 63.1807 - mae: 5.2194 - val_loss: 523.2974 - val_mae: 15.8579\n",
            "Epoch 96/100\n",
            "21/21 [==============================] - 1s 39ms/step - loss: 66.6325 - mae: 5.5290 - val_loss: 432.1252 - val_mae: 14.7133\n",
            "Epoch 97/100\n",
            "21/21 [==============================] - 1s 32ms/step - loss: 62.5180 - mae: 5.3162 - val_loss: 404.8042 - val_mae: 14.4251\n",
            "Epoch 98/100\n",
            "21/21 [==============================] - 1s 30ms/step - loss: 64.8665 - mae: 5.4459 - val_loss: 441.2574 - val_mae: 14.7338\n",
            "Epoch 99/100\n",
            "21/21 [==============================] - 1s 32ms/step - loss: 62.3083 - mae: 5.2407 - val_loss: 438.5238 - val_mae: 14.8930\n",
            "Epoch 100/100\n",
            "21/21 [==============================] - 1s 32ms/step - loss: 60.8572 - mae: 5.0200 - val_loss: 456.8728 - val_mae: 14.8586\n",
            "[INFO] Training has been finished\n"
          ],
          "name": "stdout"
        }
      ]
    },
    {
      "cell_type": "code",
      "metadata": {
        "id": "HDka0f1f6lGF",
        "outputId": "0448f7b6-949a-44f9-e545-9d3fb73b2eb1",
        "colab": {
          "base_uri": "https://localhost:8080/",
          "height": 573
        }
      },
      "source": [
        "# функция строит графики после тренировки\n",
        "def draw_graph(history):\n",
        "    loss_values = history[\"loss\"]\n",
        "    validation_loss_values = history[\"val_loss\"]\n",
        "\n",
        "    epochs = range(1, len(history['loss']) + 1)\n",
        "\n",
        "    #               ГРАФИКИ ПОТЕРЬ\n",
        "    # синими точками рисуется график потерь на этапе обучения\n",
        "    plt.plot(epochs, loss_values, 'or', label='Training loss')\n",
        "    # синей линией рисуется график потерь на этапе проверки\n",
        "    plt.plot(epochs, validation_loss_values, 'b', label='Validation loss')\n",
        "    plt.title('Training and validation loss')\n",
        "    plt.xlabel('Epochs')\n",
        "    plt.ylabel('Loss')\n",
        "    plt.legend()\n",
        "    plt.show()\n",
        "\n",
        "    # очищаем рисунок\n",
        "    plt.clf()\n",
        "\n",
        "    #               ГРАФИКИ ОШИБКИ\n",
        "    acc_values = history['mae']\n",
        "    validation_acc_values = history['val_mae']\n",
        "    plt.plot(epochs, acc_values, 'or', label='Training mae')\n",
        "    plt.plot(epochs, validation_acc_values, 'b', label='Validation mae')\n",
        "    plt.title('Training and validation mae')\n",
        "    plt.xlabel('Epochs')\n",
        "    plt.ylabel('mae')\n",
        "    plt.legend()\n",
        "    plt.show()\n",
        "\n",
        "\n",
        "\n",
        "# рисуем все графики\n",
        "draw_graph(history)"
      ],
      "execution_count": 45,
      "outputs": [
        {
          "output_type": "display_data",
          "data": {
            "image/png": "[encoded data removed]",
            "text/plain": [
              "<Figure size 432x288 with 1 Axes>"
            ]
          },
          "metadata": {
            "tags": [],
            "needs_background": "light"
          }
        },
        {
          "output_type": "display_data",
          "data": {
            "image/png": "[encoded data removed]",
            "text/plain": [
              "<Figure size 432x288 with 1 Axes>"
            ]
          },
          "metadata": {
            "tags": [],
            "needs_background": "light"
          }
        }
      ]
    },
    {
      "cell_type": "code",
      "metadata": {
        "id": "t411djcZ6o1B",
        "outputId": "30a7d1eb-cab7-4426-a5ce-21b1fb36afa2",
        "colab": {
          "base_uri": "https://localhost:8080/",
          "height": 102
        }
      },
      "source": [
        "print(\"[INFO] RUNNING ON TEST DATA: \\n\")\n",
        "# вычисляем ошибки и выводим их на экран\n",
        "mse, mae = model.evaluate(x_test, y_test, verbose=1)\n",
        "print(f\"[INFO] Mean squared error is {mse}\")\n",
        "print(f\"[INFO] Mean absolute error is {mae}\")"
      ],
      "execution_count": 46,
      "outputs": [
        {
          "output_type": "stream",
          "text": [
            "[INFO] RUNNING ON TEST DATA: \n",
            "\n",
            "40/40 [==============================] - 0s 6ms/step - loss: 512.2417 - mae: 15.2939\n",
            "[INFO] Mean squared error is 512.24169921875\n",
            "[INFO] Mean absolute error is 15.293922424316406\n"
          ],
          "name": "stdout"
        }
      ]
    },
    {
      "cell_type": "code",
      "metadata": {
        "id": "OQ1CS_7I6r2I",
        "outputId": "7c700fd0-026a-4d77-cd53-f55c0378e1d6",
        "colab": {
          "base_uri": "https://localhost:8080/",
          "height": 1000
        }
      },
      "source": [
        "# функция создание нейронной сети\n",
        "def build_NN(hp):\n",
        "  model = Sequential()\n",
        "  # варианты активационых функций\n",
        "  activation_choice = hp.Choice(\"activation\", values=[\"relu\", \"sigmoid\", \"tanh\", \"elu\", \"selu\"])\n",
        "  # создаем один входной слой\n",
        "  model.add(Dense(units=hp.Int(\"units_input\", min_value=32,max_value=1024, step=32), activation=activation_choice, input_dim=364))\n",
        "  # опционально добавляются еще слои разной конфигурации\n",
        "  for i in range(hp.Int(\"n_layers\", 2, 3)):\n",
        "    model.add(Dense(units=hp.Int(\"units_\"+str(i), min_value=32, max_value=1024, step=32), activation=activation_choice))\n",
        "  # создаем один выходной слой\n",
        "  model.add(Dense(1))\n",
        "  # компиляция сети происходит с выборо одного из оптимизаторов\n",
        "  model.compile(optimizer=hp.Choice(\"optimizer\", values=[\"adam\", \"rmsprop\", \"SGD\"]), loss=\"mse\", metrics=[\"mae\"])\n",
        "  model.summary()\n",
        "  return model\n",
        "\n",
        "\n",
        "def find_best_NN(x_train_norm, y_train):\n",
        "  # создаю тюнер, который сможет подобрать оптимальную архитектуру модели\n",
        "  tuner = RandomSearch(build_NN, objective=\"loss\", max_trials=20, executions_per_trial=1)\n",
        "  print(\"\\n\\n\\n\")\n",
        "  # начинается автоматический подбор гиперпараметров\n",
        "  print('[INFO] start searching')\n",
        "  tuner.search(x_train, y_train, batch_size=100, epochs=10, validation_split=0.3)\n",
        "  # выбираем лучшую модель\n",
        "  print(\"\\n\\n\\nRESULTS SUMMARY\")\n",
        "  tuner.results_summary()\n",
        "  print(\"\\n\\n\\n\")\n",
        "  # получаем лучшую модель\n",
        "  print(\"\\n\\n\\nHERE IS THE BEST MODEL\\n\\n\\n\")\n",
        "  best_model = tuner.get_best_models(num_models=1)[0]\n",
        "\n",
        "  return best_model\n",
        "  \n",
        "\n",
        "best_model = find_best_NN(x_train, y_train)\n"
      ],
      "execution_count": 47,
      "outputs": [
        {
          "output_type": "stream",
          "text": [
            "Model: \"sequential\"\n",
            "_________________________________________________________________\n",
            "Layer (type)                 Output Shape              Param #   \n",
            "=================================================================\n",
            "dense (Dense)                (None, 32)                11680     \n",
            "_________________________________________________________________\n",
            "dense_1 (Dense)              (None, 32)                1056      \n",
            "_________________________________________________________________\n",
            "dense_2 (Dense)              (None, 32)                1056      \n",
            "_________________________________________________________________\n",
            "dense_3 (Dense)              (None, 1)                 33        \n",
            "=================================================================\n",
            "Total params: 13,825\n",
            "Trainable params: 13,825\n",
            "Non-trainable params: 0\n",
            "_________________________________________________________________\n",
            "\n",
            "\n",
            "\n",
            "\n",
            "[INFO] start searching\n",
            "Model: \"sequential\"\n",
            "_________________________________________________________________\n",
            "Layer (type)                 Output Shape              Param #   \n",
            "=================================================================\n",
            "dense (Dense)                (None, 1024)              373760    \n",
            "_________________________________________________________________\n",
            "dense_1 (Dense)              (None, 928)               951200    \n",
            "_________________________________________________________________\n",
            "dense_2 (Dense)              (None, 288)               267552    \n",
            "_________________________________________________________________\n",
            "dense_3 (Dense)              (None, 1)                 289       \n",
            "=================================================================\n",
            "Total params: 1,592,801\n",
            "Trainable params: 1,592,801\n",
            "Non-trainable params: 0\n",
            "_________________________________________________________________\n",
            "Epoch 1/10\n",
            "21/21 [==============================] - 1s 53ms/step - loss: 3723.3901 - mae: 49.6458 - val_loss: 2344.8291 - val_mae: 39.1238\n",
            "Epoch 2/10\n",
            "21/21 [==============================] - 1s 41ms/step - loss: 1502.3549 - mae: 28.0782 - val_loss: 1541.8231 - val_mae: 28.0523\n",
            "Epoch 3/10\n",
            "21/21 [==============================] - 1s 42ms/step - loss: 1028.8804 - mae: 22.6350 - val_loss: 1315.7921 - val_mae: 25.9395\n",
            "Epoch 4/10\n",
            "21/21 [==============================] - 1s 46ms/step - loss: 777.2407 - mae: 19.4023 - val_loss: 1219.1748 - val_mae: 25.1114\n",
            "Epoch 5/10\n",
            "21/21 [==============================] - 1s 44ms/step - loss: 614.5649 - mae: 16.6648 - val_loss: 1109.6145 - val_mae: 24.1331\n",
            "Epoch 6/10\n",
            "21/21 [==============================] - 1s 41ms/step - loss: 468.5443 - mae: 13.7851 - val_loss: 1052.8563 - val_mae: 23.3861\n",
            "Epoch 7/10\n",
            "21/21 [==============================] - 1s 43ms/step - loss: 338.8351 - mae: 10.9896 - val_loss: 953.8286 - val_mae: 21.9437\n",
            "Epoch 8/10\n",
            "21/21 [==============================] - 1s 42ms/step - loss: 242.2962 - mae: 8.7080 - val_loss: 826.8088 - val_mae: 20.3175\n",
            "Epoch 9/10\n",
            "21/21 [==============================] - 1s 42ms/step - loss: 180.2623 - mae: 7.2365 - val_loss: 779.3488 - val_mae: 19.6919\n",
            "Epoch 10/10\n",
            "21/21 [==============================] - 1s 42ms/step - loss: 138.1665 - mae: 6.2217 - val_loss: 690.0876 - val_mae: 18.2878\n"
          ],
          "name": "stdout"
        },
        {
          "output_type": "display_data",
          "data": {
            "text/html": [
              "<span style=\"color:#4527A0\"><h1 style=\"font-size:18px\">Trial complete</h1></span>"
            ],
            "text/plain": [
              "<IPython.core.display.HTML object>"
            ]
          },
          "metadata": {
            "tags": []
          }
        },
        {
          "output_type": "display_data",
          "data": {
            "text/html": [
              "<span style=\"color:#4527A0\"><h1 style=\"font-size:18px\">Trial summary</h1></span>"
            ],
            "text/plain": [
              "<IPython.core.display.HTML object>"
            ]
          },
          "metadata": {
            "tags": []
          }
        },
        {
          "output_type": "display_data",
          "data": {
            "text/html": [
              "<span style=\"color:cyan\"> |-Trial ID: 9eabc3ff53d385084be00c230d4e9bc7</span>"
            ],
            "text/plain": [
              "<IPython.core.display.HTML object>"
            ]
          },
          "metadata": {
            "tags": []
          }
        },
        {
          "output_type": "display_data",
          "data": {
            "text/html": [
              "<span style=\"color:cyan\"> |-Score: 138.1664581298828</span>"
            ],
            "text/plain": [
              "<IPython.core.display.HTML object>"
            ]
          },
          "metadata": {
            "tags": []
          }
        },
        {
          "output_type": "display_data",
          "data": {
            "text/html": [
              "<span style=\"color:cyan\"> |-Best step: 0</span>"
            ],
            "text/plain": [
              "<IPython.core.display.HTML object>"
            ]
          },
          "metadata": {
            "tags": []
          }
        },
        {
          "output_type": "display_data",
          "data": {
            "text/html": [
              "<span style=\"color:#7E57C2\"><h2 style=\"font-size:16px\">Hyperparameters:</h2></span>"
            ],
            "text/plain": [
              "<IPython.core.display.HTML object>"
            ]
          },
          "metadata": {
            "tags": []
          }
        },
        {
          "output_type": "display_data",
          "data": {
            "text/html": [
              "<span style=\"color:cyan\"> |-activation: relu</span>"
            ],
            "text/plain": [
              "<IPython.core.display.HTML object>"
            ]
          },
          "metadata": {
            "tags": []
          }
        },
        {
          "output_type": "display_data",
          "data": {
            "text/html": [
              "<span style=\"color:blue\"> |-n_layers: 2</span>"
            ],
            "text/plain": [
              "<IPython.core.display.HTML object>"
            ]
          },
          "metadata": {
            "tags": []
          }
        },
        {
          "output_type": "display_data",
          "data": {
            "text/html": [
              "<span style=\"color:cyan\"> |-optimizer: adam</span>"
            ],
            "text/plain": [
              "<IPython.core.display.HTML object>"
            ]
          },
          "metadata": {
            "tags": []
          }
        },
        {
          "output_type": "display_data",
          "data": {
            "text/html": [
              "<span style=\"color:blue\"> |-units_0: 928</span>"
            ],
            "text/plain": [
              "<IPython.core.display.HTML object>"
            ]
          },
          "metadata": {
            "tags": []
          }
        },
        {
          "output_type": "display_data",
          "data": {
            "text/html": [
              "<span style=\"color:cyan\"> |-units_1: 288</span>"
            ],
            "text/plain": [
              "<IPython.core.display.HTML object>"
            ]
          },
          "metadata": {
            "tags": []
          }
        },
        {
          "output_type": "display_data",
          "data": {
            "text/html": [
              "<span style=\"color:blue\"> |-units_input: 1024</span>"
            ],
            "text/plain": [
              "<IPython.core.display.HTML object>"
            ]
          },
          "metadata": {
            "tags": []
          }
        },
        {
          "output_type": "stream",
          "text": [
            "Model: \"sequential\"\n",
            "_________________________________________________________________\n",
            "Layer (type)                 Output Shape              Param #   \n",
            "=================================================================\n",
            "dense (Dense)                (None, 256)               93440     \n",
            "_________________________________________________________________\n",
            "dense_1 (Dense)              (None, 864)               222048    \n",
            "_________________________________________________________________\n",
            "dense_2 (Dense)              (None, 800)               692000    \n",
            "_________________________________________________________________\n",
            "dense_3 (Dense)              (None, 32)                25632     \n",
            "_________________________________________________________________\n",
            "dense_4 (Dense)              (None, 1)                 33        \n",
            "=================================================================\n",
            "Total params: 1,033,153\n",
            "Trainable params: 1,033,153\n",
            "Non-trainable params: 0\n",
            "_________________________________________________________________\n",
            "Epoch 1/10\n",
            "21/21 [==============================] - 1s 36ms/step - loss: nan - mae: nan - val_loss: nan - val_mae: nan\n",
            "Epoch 2/10\n",
            "21/21 [==============================] - 1s 29ms/step - loss: nan - mae: nan - val_loss: nan - val_mae: nan\n",
            "Epoch 3/10\n",
            "21/21 [==============================] - 1s 27ms/step - loss: nan - mae: nan - val_loss: nan - val_mae: nan\n",
            "Epoch 4/10\n",
            "21/21 [==============================] - 1s 28ms/step - loss: nan - mae: nan - val_loss: nan - val_mae: nan\n",
            "Epoch 5/10\n",
            "21/21 [==============================] - 1s 27ms/step - loss: nan - mae: nan - val_loss: nan - val_mae: nan\n",
            "Epoch 6/10\n",
            "21/21 [==============================] - 1s 30ms/step - loss: nan - mae: nan - val_loss: nan - val_mae: nan\n",
            "Epoch 7/10\n",
            "21/21 [==============================] - 1s 30ms/step - loss: nan - mae: nan - val_loss: nan - val_mae: nan\n",
            "Epoch 8/10\n",
            "21/21 [==============================] - 1s 29ms/step - loss: nan - mae: nan - val_loss: nan - val_mae: nan\n",
            "Epoch 9/10\n",
            "21/21 [==============================] - 1s 28ms/step - loss: nan - mae: nan - val_loss: nan - val_mae: nan\n",
            "Epoch 10/10\n",
            "21/21 [==============================] - 1s 29ms/step - loss: nan - mae: nan - val_loss: nan - val_mae: nan\n"
          ],
          "name": "stdout"
        },
        {
          "output_type": "stream",
          "text": [
            "/usr/local/lib/python3.6/dist-packages/kerastuner/engine/metrics_tracking.py:92: RuntimeWarning: All-NaN axis encountered\n",
            "  return np.nanmin(values)\n"
          ],
          "name": "stderr"
        },
        {
          "output_type": "display_data",
          "data": {
            "text/html": [
              "<span style=\"color:#4527A0\"><h1 style=\"font-size:18px\">Trial complete</h1></span>"
            ],
            "text/plain": [
              "<IPython.core.display.HTML object>"
            ]
          },
          "metadata": {
            "tags": []
          }
        },
        {
          "output_type": "display_data",
          "data": {
            "text/html": [
              "<span style=\"color:#4527A0\"><h1 style=\"font-size:18px\">Trial summary</h1></span>"
            ],
            "text/plain": [
              "<IPython.core.display.HTML object>"
            ]
          },
          "metadata": {
            "tags": []
          }
        },
        {
          "output_type": "display_data",
          "data": {
            "text/html": [
              "<span style=\"color:cyan\"> |-Trial ID: bda9202be2ade4e0a4f67edbe730cc33</span>"
            ],
            "text/plain": [
              "<IPython.core.display.HTML object>"
            ]
          },
          "metadata": {
            "tags": []
          }
        },
        {
          "output_type": "display_data",
          "data": {
            "text/html": [
              "<span style=\"color:cyan\"> |-Score: nan</span>"
            ],
            "text/plain": [
              "<IPython.core.display.HTML object>"
            ]
          },
          "metadata": {
            "tags": []
          }
        },
        {
          "output_type": "display_data",
          "data": {
            "text/html": [
              "<span style=\"color:cyan\"> |-Best step: None</span>"
            ],
            "text/plain": [
              "<IPython.core.display.HTML object>"
            ]
          },
          "metadata": {
            "tags": []
          }
        },
        {
          "output_type": "display_data",
          "data": {
            "text/html": [
              "<span style=\"color:#7E57C2\"><h2 style=\"font-size:16px\">Hyperparameters:</h2></span>"
            ],
            "text/plain": [
              "<IPython.core.display.HTML object>"
            ]
          },
          "metadata": {
            "tags": []
          }
        },
        {
          "output_type": "display_data",
          "data": {
            "text/html": [
              "<span style=\"color:cyan\"> |-activation: elu</span>"
            ],
            "text/plain": [
              "<IPython.core.display.HTML object>"
            ]
          },
          "metadata": {
            "tags": []
          }
        },
        {
          "output_type": "display_data",
          "data": {
            "text/html": [
              "<span style=\"color:blue\"> |-n_layers: 3</span>"
            ],
            "text/plain": [
              "<IPython.core.display.HTML object>"
            ]
          },
          "metadata": {
            "tags": []
          }
        },
        {
          "output_type": "display_data",
          "data": {
            "text/html": [
              "<span style=\"color:cyan\"> |-optimizer: SGD</span>"
            ],
            "text/plain": [
              "<IPython.core.display.HTML object>"
            ]
          },
          "metadata": {
            "tags": []
          }
        },
        {
          "output_type": "display_data",
          "data": {
            "text/html": [
              "<span style=\"color:blue\"> |-units_0: 864</span>"
            ],
            "text/plain": [
              "<IPython.core.display.HTML object>"
            ]
          },
          "metadata": {
            "tags": []
          }
        },
        {
          "output_type": "display_data",
          "data": {
            "text/html": [
              "<span style=\"color:cyan\"> |-units_1: 800</span>"
            ],
            "text/plain": [
              "<IPython.core.display.HTML object>"
            ]
          },
          "metadata": {
            "tags": []
          }
        },
        {
          "output_type": "display_data",
          "data": {
            "text/html": [
              "<span style=\"color:blue\"> |-units_2: 32</span>"
            ],
            "text/plain": [
              "<IPython.core.display.HTML object>"
            ]
          },
          "metadata": {
            "tags": []
          }
        },
        {
          "output_type": "display_data",
          "data": {
            "text/html": [
              "<span style=\"color:cyan\"> |-units_input: 256</span>"
            ],
            "text/plain": [
              "<IPython.core.display.HTML object>"
            ]
          },
          "metadata": {
            "tags": []
          }
        },
        {
          "output_type": "stream",
          "text": [
            "Model: \"sequential\"\n",
            "_________________________________________________________________\n",
            "Layer (type)                 Output Shape              Param #   \n",
            "=================================================================\n",
            "dense (Dense)                (None, 224)               81760     \n",
            "_________________________________________________________________\n",
            "dense_1 (Dense)              (None, 576)               129600    \n",
            "_________________________________________________________________\n",
            "dense_2 (Dense)              (None, 192)               110784    \n",
            "_________________________________________________________________\n",
            "dense_3 (Dense)              (None, 608)               117344    \n",
            "_________________________________________________________________\n",
            "dense_4 (Dense)              (None, 1)                 609       \n",
            "=================================================================\n",
            "Total params: 440,097\n",
            "Trainable params: 440,097\n",
            "Non-trainable params: 0\n",
            "_________________________________________________________________\n",
            "Epoch 1/10\n",
            "21/21 [==============================] - 0s 21ms/step - loss: 8087.3311 - mae: 79.3180 - val_loss: 1068.4988 - val_mae: 30.4531\n",
            "Epoch 2/10\n",
            "21/21 [==============================] - 0s 15ms/step - loss: 401.5344 - mae: 15.3676 - val_loss: 144.7904 - val_mae: 9.6441\n",
            "Epoch 3/10\n",
            "21/21 [==============================] - 0s 16ms/step - loss: 167.5646 - mae: 10.0524 - val_loss: 141.1081 - val_mae: 9.6865\n",
            "Epoch 4/10\n",
            "21/21 [==============================] - 0s 18ms/step - loss: 166.7641 - mae: 10.1052 - val_loss: 141.1088 - val_mae: 9.6853\n",
            "Epoch 5/10\n",
            "21/21 [==============================] - 0s 15ms/step - loss: 166.8635 - mae: 10.0871 - val_loss: 141.5978 - val_mae: 9.7571\n",
            "Epoch 6/10\n",
            "21/21 [==============================] - 0s 15ms/step - loss: 166.7966 - mae: 10.1235 - val_loss: 141.2310 - val_mae: 9.7205\n",
            "Epoch 7/10\n",
            "21/21 [==============================] - 0s 17ms/step - loss: 166.7293 - mae: 10.1190 - val_loss: 141.1153 - val_mae: 9.6956\n",
            "Epoch 8/10\n",
            "21/21 [==============================] - 0s 15ms/step - loss: 166.7098 - mae: 10.1219 - val_loss: 141.1976 - val_mae: 9.6659\n",
            "Epoch 9/10\n",
            "21/21 [==============================] - 0s 16ms/step - loss: 166.8807 - mae: 10.1030 - val_loss: 141.1289 - val_mae: 9.6764\n",
            "Epoch 10/10\n",
            "21/21 [==============================] - 0s 17ms/step - loss: 166.7679 - mae: 10.0939 - val_loss: 141.1319 - val_mae: 9.7017\n"
          ],
          "name": "stdout"
        },
        {
          "output_type": "display_data",
          "data": {
            "text/html": [
              "<span style=\"color:#4527A0\"><h1 style=\"font-size:18px\">Trial complete</h1></span>"
            ],
            "text/plain": [
              "<IPython.core.display.HTML object>"
            ]
          },
          "metadata": {
            "tags": []
          }
        },
        {
          "output_type": "display_data",
          "data": {
            "text/html": [
              "<span style=\"color:#4527A0\"><h1 style=\"font-size:18px\">Trial summary</h1></span>"
            ],
            "text/plain": [
              "<IPython.core.display.HTML object>"
            ]
          },
          "metadata": {
            "tags": []
          }
        },
        {
          "output_type": "display_data",
          "data": {
            "text/html": [
              "<span style=\"color:cyan\"> |-Trial ID: 68723f62c57c80090f06f9ff66030af1</span>"
            ],
            "text/plain": [
              "<IPython.core.display.HTML object>"
            ]
          },
          "metadata": {
            "tags": []
          }
        },
        {
          "output_type": "display_data",
          "data": {
            "text/html": [
              "<span style=\"color:cyan\"> |-Score: 166.7097625732422</span>"
            ],
            "text/plain": [
              "<IPython.core.display.HTML object>"
            ]
          },
          "metadata": {
            "tags": []
          }
        },
        {
          "output_type": "display_data",
          "data": {
            "text/html": [
              "<span style=\"color:cyan\"> |-Best step: 0</span>"
            ],
            "text/plain": [
              "<IPython.core.display.HTML object>"
            ]
          },
          "metadata": {
            "tags": []
          }
        },
        {
          "output_type": "display_data",
          "data": {
            "text/html": [
              "<span style=\"color:#7E57C2\"><h2 style=\"font-size:16px\">Hyperparameters:</h2></span>"
            ],
            "text/plain": [
              "<IPython.core.display.HTML object>"
            ]
          },
          "metadata": {
            "tags": []
          }
        },
        {
          "output_type": "display_data",
          "data": {
            "text/html": [
              "<span style=\"color:cyan\"> |-activation: sigmoid</span>"
            ],
            "text/plain": [
              "<IPython.core.display.HTML object>"
            ]
          },
          "metadata": {
            "tags": []
          }
        },
        {
          "output_type": "display_data",
          "data": {
            "text/html": [
              "<span style=\"color:blue\"> |-n_layers: 3</span>"
            ],
            "text/plain": [
              "<IPython.core.display.HTML object>"
            ]
          },
          "metadata": {
            "tags": []
          }
        },
        {
          "output_type": "display_data",
          "data": {
            "text/html": [
              "<span style=\"color:cyan\"> |-optimizer: SGD</span>"
            ],
            "text/plain": [
              "<IPython.core.display.HTML object>"
            ]
          },
          "metadata": {
            "tags": []
          }
        },
        {
          "output_type": "display_data",
          "data": {
            "text/html": [
              "<span style=\"color:blue\"> |-units_0: 576</span>"
            ],
            "text/plain": [
              "<IPython.core.display.HTML object>"
            ]
          },
          "metadata": {
            "tags": []
          }
        },
        {
          "output_type": "display_data",
          "data": {
            "text/html": [
              "<span style=\"color:cyan\"> |-units_1: 192</span>"
            ],
            "text/plain": [
              "<IPython.core.display.HTML object>"
            ]
          },
          "metadata": {
            "tags": []
          }
        },
        {
          "output_type": "display_data",
          "data": {
            "text/html": [
              "<span style=\"color:blue\"> |-units_2: 608</span>"
            ],
            "text/plain": [
              "<IPython.core.display.HTML object>"
            ]
          },
          "metadata": {
            "tags": []
          }
        },
        {
          "output_type": "display_data",
          "data": {
            "text/html": [
              "<span style=\"color:cyan\"> |-units_input: 224</span>"
            ],
            "text/plain": [
              "<IPython.core.display.HTML object>"
            ]
          },
          "metadata": {
            "tags": []
          }
        },
        {
          "output_type": "stream",
          "text": [
            "Model: \"sequential\"\n",
            "_________________________________________________________________\n",
            "Layer (type)                 Output Shape              Param #   \n",
            "=================================================================\n",
            "dense (Dense)                (None, 256)               93440     \n",
            "_________________________________________________________________\n",
            "dense_1 (Dense)              (None, 896)               230272    \n",
            "_________________________________________________________________\n",
            "dense_2 (Dense)              (None, 736)               660192    \n",
            "_________________________________________________________________\n",
            "dense_3 (Dense)              (None, 64)                47168     \n",
            "_________________________________________________________________\n",
            "dense_4 (Dense)              (None, 1)                 65        \n",
            "=================================================================\n",
            "Total params: 1,031,137\n",
            "Trainable params: 1,031,137\n",
            "Non-trainable params: 0\n",
            "_________________________________________________________________\n",
            "Epoch 1/10\n",
            "21/21 [==============================] - 1s 34ms/step - loss: 9906.9277 - mae: 98.5103 - val_loss: 9504.0244 - val_mae: 96.3766\n",
            "Epoch 2/10\n",
            "21/21 [==============================] - 1s 30ms/step - loss: 8794.2588 - mae: 92.6256 - val_loss: 8877.2666 - val_mae: 93.0291\n",
            "Epoch 3/10\n",
            "21/21 [==============================] - 1s 32ms/step - loss: 8181.8916 - mae: 89.3041 - val_loss: 8246.0068 - val_mae: 89.6637\n",
            "Epoch 4/10\n",
            "21/21 [==============================] - 1s 35ms/step - loss: 7694.1597 - mae: 86.5986 - val_loss: 7706.8540 - val_mae: 86.7125\n",
            "Epoch 5/10\n",
            "21/21 [==============================] - 1s 39ms/step - loss: 7316.7397 - mae: 84.4440 - val_loss: 7286.6226 - val_mae: 84.3502\n",
            "Epoch 6/10\n",
            "21/21 [==============================] - 1s 34ms/step - loss: 7011.2559 - mae: 82.6462 - val_loss: 6919.6704 - val_mae: 82.2072\n",
            "Epoch 7/10\n",
            "21/21 [==============================] - 1s 33ms/step - loss: 6711.0254 - mae: 80.8598 - val_loss: 6606.5542 - val_mae: 80.3309\n",
            "Epoch 8/10\n",
            "21/21 [==============================] - 1s 38ms/step - loss: 6440.7886 - mae: 79.1950 - val_loss: 6416.6855 - val_mae: 79.0717\n",
            "Epoch 9/10\n",
            "21/21 [==============================] - 1s 35ms/step - loss: 6235.6816 - mae: 77.8521 - val_loss: 6199.0938 - val_mae: 77.6288\n",
            "Epoch 10/10\n",
            "21/21 [==============================] - 1s 31ms/step - loss: 6020.3296 - mae: 76.4575 - val_loss: 6058.4800 - val_mae: 76.5548\n"
          ],
          "name": "stdout"
        },
        {
          "output_type": "display_data",
          "data": {
            "text/html": [
              "<span style=\"color:#4527A0\"><h1 style=\"font-size:18px\">Trial complete</h1></span>"
            ],
            "text/plain": [
              "<IPython.core.display.HTML object>"
            ]
          },
          "metadata": {
            "tags": []
          }
        },
        {
          "output_type": "display_data",
          "data": {
            "text/html": [
              "<span style=\"color:#4527A0\"><h1 style=\"font-size:18px\">Trial summary</h1></span>"
            ],
            "text/plain": [
              "<IPython.core.display.HTML object>"
            ]
          },
          "metadata": {
            "tags": []
          }
        },
        {
          "output_type": "display_data",
          "data": {
            "text/html": [
              "<span style=\"color:cyan\"> |-Trial ID: c1062fc63da5e250d677dab2a55be4e1</span>"
            ],
            "text/plain": [
              "<IPython.core.display.HTML object>"
            ]
          },
          "metadata": {
            "tags": []
          }
        },
        {
          "output_type": "display_data",
          "data": {
            "text/html": [
              "<span style=\"color:cyan\"> |-Score: 6020.32958984375</span>"
            ],
            "text/plain": [
              "<IPython.core.display.HTML object>"
            ]
          },
          "metadata": {
            "tags": []
          }
        },
        {
          "output_type": "display_data",
          "data": {
            "text/html": [
              "<span style=\"color:cyan\"> |-Best step: 0</span>"
            ],
            "text/plain": [
              "<IPython.core.display.HTML object>"
            ]
          },
          "metadata": {
            "tags": []
          }
        },
        {
          "output_type": "display_data",
          "data": {
            "text/html": [
              "<span style=\"color:#7E57C2\"><h2 style=\"font-size:16px\">Hyperparameters:</h2></span>"
            ],
            "text/plain": [
              "<IPython.core.display.HTML object>"
            ]
          },
          "metadata": {
            "tags": []
          }
        },
        {
          "output_type": "display_data",
          "data": {
            "text/html": [
              "<span style=\"color:cyan\"> |-activation: tanh</span>"
            ],
            "text/plain": [
              "<IPython.core.display.HTML object>"
            ]
          },
          "metadata": {
            "tags": []
          }
        },
        {
          "output_type": "display_data",
          "data": {
            "text/html": [
              "<span style=\"color:blue\"> |-n_layers: 3</span>"
            ],
            "text/plain": [
              "<IPython.core.display.HTML object>"
            ]
          },
          "metadata": {
            "tags": []
          }
        },
        {
          "output_type": "display_data",
          "data": {
            "text/html": [
              "<span style=\"color:cyan\"> |-optimizer: adam</span>"
            ],
            "text/plain": [
              "<IPython.core.display.HTML object>"
            ]
          },
          "metadata": {
            "tags": []
          }
        },
        {
          "output_type": "display_data",
          "data": {
            "text/html": [
              "<span style=\"color:blue\"> |-units_0: 896</span>"
            ],
            "text/plain": [
              "<IPython.core.display.HTML object>"
            ]
          },
          "metadata": {
            "tags": []
          }
        },
        {
          "output_type": "display_data",
          "data": {
            "text/html": [
              "<span style=\"color:cyan\"> |-units_1: 736</span>"
            ],
            "text/plain": [
              "<IPython.core.display.HTML object>"
            ]
          },
          "metadata": {
            "tags": []
          }
        },
        {
          "output_type": "display_data",
          "data": {
            "text/html": [
              "<span style=\"color:blue\"> |-units_2: 64</span>"
            ],
            "text/plain": [
              "<IPython.core.display.HTML object>"
            ]
          },
          "metadata": {
            "tags": []
          }
        },
        {
          "output_type": "display_data",
          "data": {
            "text/html": [
              "<span style=\"color:cyan\"> |-units_input: 256</span>"
            ],
            "text/plain": [
              "<IPython.core.display.HTML object>"
            ]
          },
          "metadata": {
            "tags": []
          }
        },
        {
          "output_type": "stream",
          "text": [
            "Model: \"sequential\"\n",
            "_________________________________________________________________\n",
            "Layer (type)                 Output Shape              Param #   \n",
            "=================================================================\n",
            "dense (Dense)                (None, 160)               58400     \n",
            "_________________________________________________________________\n",
            "dense_1 (Dense)              (None, 160)               25760     \n",
            "_________________________________________________________________\n",
            "dense_2 (Dense)              (None, 800)               128800    \n",
            "_________________________________________________________________\n",
            "dense_3 (Dense)              (None, 1)                 801       \n",
            "=================================================================\n",
            "Total params: 213,761\n",
            "Trainable params: 213,761\n",
            "Non-trainable params: 0\n",
            "_________________________________________________________________\n",
            "Epoch 1/10\n",
            "21/21 [==============================] - 0s 18ms/step - loss: 9620.6211 - mae: 96.7601 - val_loss: 8446.3945 - val_mae: 89.0395\n",
            "Epoch 2/10\n",
            "21/21 [==============================] - 0s 13ms/step - loss: 5924.7163 - mae: 70.2661 - val_loss: 6339.5117 - val_mae: 68.3325\n",
            "Epoch 3/10\n",
            "21/21 [==============================] - 0s 13ms/step - loss: 2626.5322 - mae: 40.5842 - val_loss: 4182.5361 - val_mae: 46.3258\n",
            "Epoch 4/10\n",
            "21/21 [==============================] - 0s 12ms/step - loss: 743.2949 - mae: 18.3422 - val_loss: 2652.9429 - val_mae: 31.6704\n",
            "Epoch 5/10\n",
            "21/21 [==============================] - 0s 12ms/step - loss: 233.2305 - mae: 11.0899 - val_loss: 2080.1045 - val_mae: 26.8270\n",
            "Epoch 6/10\n",
            "21/21 [==============================] - 0s 11ms/step - loss: 167.9625 - mae: 10.0189 - val_loss: 1621.4484 - val_mae: 23.2895\n",
            "Epoch 7/10\n",
            "21/21 [==============================] - 0s 15ms/step - loss: 159.4572 - mae: 9.7812 - val_loss: 1540.4355 - val_mae: 22.1048\n",
            "Epoch 8/10\n",
            "21/21 [==============================] - 0s 11ms/step - loss: 166.0391 - mae: 9.9231 - val_loss: 1254.5288 - val_mae: 19.6429\n",
            "Epoch 9/10\n",
            "21/21 [==============================] - 0s 12ms/step - loss: 192.3716 - mae: 10.2394 - val_loss: 1795.5376 - val_mae: 22.8536\n",
            "Epoch 10/10\n",
            "21/21 [==============================] - 0s 12ms/step - loss: 188.3429 - mae: 10.3007 - val_loss: 1195.1577 - val_mae: 18.8565\n"
          ],
          "name": "stdout"
        },
        {
          "output_type": "display_data",
          "data": {
            "text/html": [
              "<span style=\"color:#4527A0\"><h1 style=\"font-size:18px\">Trial complete</h1></span>"
            ],
            "text/plain": [
              "<IPython.core.display.HTML object>"
            ]
          },
          "metadata": {
            "tags": []
          }
        },
        {
          "output_type": "display_data",
          "data": {
            "text/html": [
              "<span style=\"color:#4527A0\"><h1 style=\"font-size:18px\">Trial summary</h1></span>"
            ],
            "text/plain": [
              "<IPython.core.display.HTML object>"
            ]
          },
          "metadata": {
            "tags": []
          }
        },
        {
          "output_type": "display_data",
          "data": {
            "text/html": [
              "<span style=\"color:cyan\"> |-Trial ID: e255302210957df4c8c0f9ba7df12fed</span>"
            ],
            "text/plain": [
              "<IPython.core.display.HTML object>"
            ]
          },
          "metadata": {
            "tags": []
          }
        },
        {
          "output_type": "display_data",
          "data": {
            "text/html": [
              "<span style=\"color:cyan\"> |-Score: 159.4571533203125</span>"
            ],
            "text/plain": [
              "<IPython.core.display.HTML object>"
            ]
          },
          "metadata": {
            "tags": []
          }
        },
        {
          "output_type": "display_data",
          "data": {
            "text/html": [
              "<span style=\"color:cyan\"> |-Best step: 0</span>"
            ],
            "text/plain": [
              "<IPython.core.display.HTML object>"
            ]
          },
          "metadata": {
            "tags": []
          }
        },
        {
          "output_type": "display_data",
          "data": {
            "text/html": [
              "<span style=\"color:#7E57C2\"><h2 style=\"font-size:16px\">Hyperparameters:</h2></span>"
            ],
            "text/plain": [
              "<IPython.core.display.HTML object>"
            ]
          },
          "metadata": {
            "tags": []
          }
        },
        {
          "output_type": "display_data",
          "data": {
            "text/html": [
              "<span style=\"color:cyan\"> |-activation: tanh</span>"
            ],
            "text/plain": [
              "<IPython.core.display.HTML object>"
            ]
          },
          "metadata": {
            "tags": []
          }
        },
        {
          "output_type": "display_data",
          "data": {
            "text/html": [
              "<span style=\"color:blue\"> |-n_layers: 2</span>"
            ],
            "text/plain": [
              "<IPython.core.display.HTML object>"
            ]
          },
          "metadata": {
            "tags": []
          }
        },
        {
          "output_type": "display_data",
          "data": {
            "text/html": [
              "<span style=\"color:cyan\"> |-optimizer: rmsprop</span>"
            ],
            "text/plain": [
              "<IPython.core.display.HTML object>"
            ]
          },
          "metadata": {
            "tags": []
          }
        },
        {
          "output_type": "display_data",
          "data": {
            "text/html": [
              "<span style=\"color:blue\"> |-units_0: 160</span>"
            ],
            "text/plain": [
              "<IPython.core.display.HTML object>"
            ]
          },
          "metadata": {
            "tags": []
          }
        },
        {
          "output_type": "display_data",
          "data": {
            "text/html": [
              "<span style=\"color:cyan\"> |-units_1: 800</span>"
            ],
            "text/plain": [
              "<IPython.core.display.HTML object>"
            ]
          },
          "metadata": {
            "tags": []
          }
        },
        {
          "output_type": "display_data",
          "data": {
            "text/html": [
              "<span style=\"color:blue\"> |-units_2: 960</span>"
            ],
            "text/plain": [
              "<IPython.core.display.HTML object>"
            ]
          },
          "metadata": {
            "tags": []
          }
        },
        {
          "output_type": "display_data",
          "data": {
            "text/html": [
              "<span style=\"color:cyan\"> |-units_input: 160</span>"
            ],
            "text/plain": [
              "<IPython.core.display.HTML object>"
            ]
          },
          "metadata": {
            "tags": []
          }
        },
        {
          "output_type": "stream",
          "text": [
            "Model: \"sequential\"\n",
            "_________________________________________________________________\n",
            "Layer (type)                 Output Shape              Param #   \n",
            "=================================================================\n",
            "dense (Dense)                (None, 128)               46720     \n",
            "_________________________________________________________________\n",
            "dense_1 (Dense)              (None, 992)               127968    \n",
            "_________________________________________________________________\n",
            "dense_2 (Dense)              (None, 640)               635520    \n",
            "_________________________________________________________________\n",
            "dense_3 (Dense)              (None, 1)                 641       \n",
            "=================================================================\n",
            "Total params: 810,849\n",
            "Trainable params: 810,849\n",
            "Non-trainable params: 0\n",
            "_________________________________________________________________\n",
            "Epoch 1/10\n",
            "21/21 [==============================] - 1s 28ms/step - loss: nan - mae: nan - val_loss: nan - val_mae: nan\n",
            "Epoch 2/10\n",
            "21/21 [==============================] - 1s 25ms/step - loss: nan - mae: nan - val_loss: nan - val_mae: nan\n",
            "Epoch 3/10\n",
            "21/21 [==============================] - 0s 23ms/step - loss: nan - mae: nan - val_loss: nan - val_mae: nan\n",
            "Epoch 4/10\n",
            "21/21 [==============================] - 0s 23ms/step - loss: nan - mae: nan - val_loss: nan - val_mae: nan\n",
            "Epoch 5/10\n",
            "21/21 [==============================] - 0s 24ms/step - loss: nan - mae: nan - val_loss: nan - val_mae: nan\n",
            "Epoch 6/10\n",
            "21/21 [==============================] - 1s 25ms/step - loss: nan - mae: nan - val_loss: nan - val_mae: nan\n",
            "Epoch 7/10\n",
            "21/21 [==============================] - 1s 25ms/step - loss: nan - mae: nan - val_loss: nan - val_mae: nan\n",
            "Epoch 8/10\n",
            "21/21 [==============================] - 1s 26ms/step - loss: nan - mae: nan - val_loss: nan - val_mae: nan\n",
            "Epoch 9/10\n",
            "21/21 [==============================] - 1s 24ms/step - loss: nan - mae: nan - val_loss: nan - val_mae: nan\n",
            "Epoch 10/10\n",
            "21/21 [==============================] - 0s 23ms/step - loss: nan - mae: nan - val_loss: nan - val_mae: nan\n"
          ],
          "name": "stdout"
        },
        {
          "output_type": "display_data",
          "data": {
            "text/html": [
              "<span style=\"color:#4527A0\"><h1 style=\"font-size:18px\">Trial complete</h1></span>"
            ],
            "text/plain": [
              "<IPython.core.display.HTML object>"
            ]
          },
          "metadata": {
            "tags": []
          }
        },
        {
          "output_type": "display_data",
          "data": {
            "text/html": [
              "<span style=\"color:#4527A0\"><h1 style=\"font-size:18px\">Trial summary</h1></span>"
            ],
            "text/plain": [
              "<IPython.core.display.HTML object>"
            ]
          },
          "metadata": {
            "tags": []
          }
        },
        {
          "output_type": "display_data",
          "data": {
            "text/html": [
              "<span style=\"color:cyan\"> |-Trial ID: 854d07b55aa5b7e7920d0c20478e050c</span>"
            ],
            "text/plain": [
              "<IPython.core.display.HTML object>"
            ]
          },
          "metadata": {
            "tags": []
          }
        },
        {
          "output_type": "display_data",
          "data": {
            "text/html": [
              "<span style=\"color:cyan\"> |-Score: nan</span>"
            ],
            "text/plain": [
              "<IPython.core.display.HTML object>"
            ]
          },
          "metadata": {
            "tags": []
          }
        },
        {
          "output_type": "display_data",
          "data": {
            "text/html": [
              "<span style=\"color:cyan\"> |-Best step: None</span>"
            ],
            "text/plain": [
              "<IPython.core.display.HTML object>"
            ]
          },
          "metadata": {
            "tags": []
          }
        },
        {
          "output_type": "display_data",
          "data": {
            "text/html": [
              "<span style=\"color:#7E57C2\"><h2 style=\"font-size:16px\">Hyperparameters:</h2></span>"
            ],
            "text/plain": [
              "<IPython.core.display.HTML object>"
            ]
          },
          "metadata": {
            "tags": []
          }
        },
        {
          "output_type": "display_data",
          "data": {
            "text/html": [
              "<span style=\"color:cyan\"> |-activation: relu</span>"
            ],
            "text/plain": [
              "<IPython.core.display.HTML object>"
            ]
          },
          "metadata": {
            "tags": []
          }
        },
        {
          "output_type": "display_data",
          "data": {
            "text/html": [
              "<span style=\"color:blue\"> |-n_layers: 2</span>"
            ],
            "text/plain": [
              "<IPython.core.display.HTML object>"
            ]
          },
          "metadata": {
            "tags": []
          }
        },
        {
          "output_type": "display_data",
          "data": {
            "text/html": [
              "<span style=\"color:cyan\"> |-optimizer: SGD</span>"
            ],
            "text/plain": [
              "<IPython.core.display.HTML object>"
            ]
          },
          "metadata": {
            "tags": []
          }
        },
        {
          "output_type": "display_data",
          "data": {
            "text/html": [
              "<span style=\"color:blue\"> |-units_0: 992</span>"
            ],
            "text/plain": [
              "<IPython.core.display.HTML object>"
            ]
          },
          "metadata": {
            "tags": []
          }
        },
        {
          "output_type": "display_data",
          "data": {
            "text/html": [
              "<span style=\"color:cyan\"> |-units_1: 640</span>"
            ],
            "text/plain": [
              "<IPython.core.display.HTML object>"
            ]
          },
          "metadata": {
            "tags": []
          }
        },
        {
          "output_type": "display_data",
          "data": {
            "text/html": [
              "<span style=\"color:blue\"> |-units_2: 960</span>"
            ],
            "text/plain": [
              "<IPython.core.display.HTML object>"
            ]
          },
          "metadata": {
            "tags": []
          }
        },
        {
          "output_type": "display_data",
          "data": {
            "text/html": [
              "<span style=\"color:cyan\"> |-units_input: 128</span>"
            ],
            "text/plain": [
              "<IPython.core.display.HTML object>"
            ]
          },
          "metadata": {
            "tags": []
          }
        },
        {
          "output_type": "stream",
          "text": [
            "Model: \"sequential\"\n",
            "_________________________________________________________________\n",
            "Layer (type)                 Output Shape              Param #   \n",
            "=================================================================\n",
            "dense (Dense)                (None, 480)               175200    \n",
            "_________________________________________________________________\n",
            "dense_1 (Dense)              (None, 320)               153920    \n",
            "_________________________________________________________________\n",
            "dense_2 (Dense)              (None, 384)               123264    \n",
            "_________________________________________________________________\n",
            "dense_3 (Dense)              (None, 416)               160160    \n",
            "_________________________________________________________________\n",
            "dense_4 (Dense)              (None, 1)                 417       \n",
            "=================================================================\n",
            "Total params: 612,961\n",
            "Trainable params: 612,961\n",
            "Non-trainable params: 0\n",
            "_________________________________________________________________\n",
            "Epoch 1/10\n",
            "21/21 [==============================] - 1s 28ms/step - loss: 2469.0537 - mae: 37.3078 - val_loss: 764.9885 - val_mae: 22.0703\n",
            "Epoch 2/10\n",
            "21/21 [==============================] - 0s 23ms/step - loss: 378.1096 - mae: 14.3274 - val_loss: 231.1431 - val_mae: 11.8951\n",
            "Epoch 3/10\n",
            "21/21 [==============================] - 0s 22ms/step - loss: 222.7492 - mae: 11.3575 - val_loss: 170.2996 - val_mae: 10.4338\n",
            "Epoch 4/10\n",
            "21/21 [==============================] - 0s 23ms/step - loss: 182.8746 - mae: 10.2471 - val_loss: 179.0989 - val_mae: 10.7572\n",
            "Epoch 5/10\n",
            "21/21 [==============================] - 0s 22ms/step - loss: 234.7460 - mae: 10.0211 - val_loss: 216.9757 - val_mae: 11.5728\n",
            "Epoch 6/10\n",
            "21/21 [==============================] - 0s 22ms/step - loss: 157.2607 - mae: 9.5103 - val_loss: 189.0181 - val_mae: 10.9100\n",
            "Epoch 7/10\n",
            "21/21 [==============================] - 0s 24ms/step - loss: 149.5137 - mae: 9.3376 - val_loss: 175.8717 - val_mae: 10.6187\n",
            "Epoch 8/10\n",
            "21/21 [==============================] - 1s 24ms/step - loss: 169.3736 - mae: 9.4517 - val_loss: 251.1601 - val_mae: 11.9553\n",
            "Epoch 9/10\n",
            "21/21 [==============================] - 1s 25ms/step - loss: 136.0421 - mae: 8.9243 - val_loss: 209.4115 - val_mae: 10.8273\n",
            "Epoch 10/10\n",
            "21/21 [==============================] - 0s 22ms/step - loss: 138.0427 - mae: 8.8348 - val_loss: 301.8596 - val_mae: 11.8321\n"
          ],
          "name": "stdout"
        },
        {
          "output_type": "display_data",
          "data": {
            "text/html": [
              "<span style=\"color:#4527A0\"><h1 style=\"font-size:18px\">Trial complete</h1></span>"
            ],
            "text/plain": [
              "<IPython.core.display.HTML object>"
            ]
          },
          "metadata": {
            "tags": []
          }
        },
        {
          "output_type": "display_data",
          "data": {
            "text/html": [
              "<span style=\"color:#4527A0\"><h1 style=\"font-size:18px\">Trial summary</h1></span>"
            ],
            "text/plain": [
              "<IPython.core.display.HTML object>"
            ]
          },
          "metadata": {
            "tags": []
          }
        },
        {
          "output_type": "display_data",
          "data": {
            "text/html": [
              "<span style=\"color:cyan\"> |-Trial ID: 5d4a6dd8c9ad70aa05836022ebf625c8</span>"
            ],
            "text/plain": [
              "<IPython.core.display.HTML object>"
            ]
          },
          "metadata": {
            "tags": []
          }
        },
        {
          "output_type": "display_data",
          "data": {
            "text/html": [
              "<span style=\"color:cyan\"> |-Score: 136.04209899902344</span>"
            ],
            "text/plain": [
              "<IPython.core.display.HTML object>"
            ]
          },
          "metadata": {
            "tags": []
          }
        },
        {
          "output_type": "display_data",
          "data": {
            "text/html": [
              "<span style=\"color:cyan\"> |-Best step: 0</span>"
            ],
            "text/plain": [
              "<IPython.core.display.HTML object>"
            ]
          },
          "metadata": {
            "tags": []
          }
        },
        {
          "output_type": "display_data",
          "data": {
            "text/html": [
              "<span style=\"color:#7E57C2\"><h2 style=\"font-size:16px\">Hyperparameters:</h2></span>"
            ],
            "text/plain": [
              "<IPython.core.display.HTML object>"
            ]
          },
          "metadata": {
            "tags": []
          }
        },
        {
          "output_type": "display_data",
          "data": {
            "text/html": [
              "<span style=\"color:cyan\"> |-activation: elu</span>"
            ],
            "text/plain": [
              "<IPython.core.display.HTML object>"
            ]
          },
          "metadata": {
            "tags": []
          }
        },
        {
          "output_type": "display_data",
          "data": {
            "text/html": [
              "<span style=\"color:blue\"> |-n_layers: 3</span>"
            ],
            "text/plain": [
              "<IPython.core.display.HTML object>"
            ]
          },
          "metadata": {
            "tags": []
          }
        },
        {
          "output_type": "display_data",
          "data": {
            "text/html": [
              "<span style=\"color:cyan\"> |-optimizer: rmsprop</span>"
            ],
            "text/plain": [
              "<IPython.core.display.HTML object>"
            ]
          },
          "metadata": {
            "tags": []
          }
        },
        {
          "output_type": "display_data",
          "data": {
            "text/html": [
              "<span style=\"color:blue\"> |-units_0: 320</span>"
            ],
            "text/plain": [
              "<IPython.core.display.HTML object>"
            ]
          },
          "metadata": {
            "tags": []
          }
        },
        {
          "output_type": "display_data",
          "data": {
            "text/html": [
              "<span style=\"color:cyan\"> |-units_1: 384</span>"
            ],
            "text/plain": [
              "<IPython.core.display.HTML object>"
            ]
          },
          "metadata": {
            "tags": []
          }
        },
        {
          "output_type": "display_data",
          "data": {
            "text/html": [
              "<span style=\"color:blue\"> |-units_2: 416</span>"
            ],
            "text/plain": [
              "<IPython.core.display.HTML object>"
            ]
          },
          "metadata": {
            "tags": []
          }
        },
        {
          "output_type": "display_data",
          "data": {
            "text/html": [
              "<span style=\"color:cyan\"> |-units_input: 480</span>"
            ],
            "text/plain": [
              "<IPython.core.display.HTML object>"
            ]
          },
          "metadata": {
            "tags": []
          }
        },
        {
          "output_type": "stream",
          "text": [
            "Model: \"sequential\"\n",
            "_________________________________________________________________\n",
            "Layer (type)                 Output Shape              Param #   \n",
            "=================================================================\n",
            "dense (Dense)                (None, 704)               256960    \n",
            "_________________________________________________________________\n",
            "dense_1 (Dense)              (None, 928)               654240    \n",
            "_________________________________________________________________\n",
            "dense_2 (Dense)              (None, 96)                89184     \n",
            "_________________________________________________________________\n",
            "dense_3 (Dense)              (None, 1)                 97        \n",
            "=================================================================\n",
            "Total params: 1,000,481\n",
            "Trainable params: 1,000,481\n",
            "Non-trainable params: 0\n",
            "_________________________________________________________________\n",
            "Epoch 1/10\n",
            "21/21 [==============================] - 1s 33ms/step - loss: 4317.8833 - mae: 54.4784 - val_loss: 2291.2854 - val_mae: 35.5461\n",
            "Epoch 2/10\n",
            "21/21 [==============================] - 1s 28ms/step - loss: 1709.6587 - mae: 30.1209 - val_loss: 1762.3390 - val_mae: 28.6991\n",
            "Epoch 3/10\n",
            "21/21 [==============================] - 1s 29ms/step - loss: 1133.3883 - mae: 22.9073 - val_loss: 1393.8740 - val_mae: 26.4580\n",
            "Epoch 4/10\n",
            "21/21 [==============================] - 1s 31ms/step - loss: 901.4103 - mae: 20.6383 - val_loss: 1270.2217 - val_mae: 25.7318\n",
            "Epoch 5/10\n",
            "21/21 [==============================] - 1s 32ms/step - loss: 742.4923 - mae: 18.5609 - val_loss: 1175.3646 - val_mae: 25.0793\n",
            "Epoch 6/10\n",
            "21/21 [==============================] - 1s 33ms/step - loss: 635.7409 - mae: 16.8235 - val_loss: 1143.0890 - val_mae: 24.8012\n",
            "Epoch 7/10\n",
            "21/21 [==============================] - 1s 31ms/step - loss: 544.8876 - mae: 15.5016 - val_loss: 1153.2443 - val_mae: 24.9838\n",
            "Epoch 8/10\n",
            "21/21 [==============================] - 1s 30ms/step - loss: 455.3412 - mae: 13.4138 - val_loss: 1049.2145 - val_mae: 23.9224\n",
            "Epoch 9/10\n",
            "21/21 [==============================] - 1s 30ms/step - loss: 376.3973 - mae: 11.8278 - val_loss: 1012.4545 - val_mae: 23.3414\n",
            "Epoch 10/10\n",
            "21/21 [==============================] - 1s 29ms/step - loss: 303.0234 - mae: 10.1786 - val_loss: 932.3954 - val_mae: 22.3025\n"
          ],
          "name": "stdout"
        },
        {
          "output_type": "display_data",
          "data": {
            "text/html": [
              "<span style=\"color:#4527A0\"><h1 style=\"font-size:18px\">Trial complete</h1></span>"
            ],
            "text/plain": [
              "<IPython.core.display.HTML object>"
            ]
          },
          "metadata": {
            "tags": []
          }
        },
        {
          "output_type": "display_data",
          "data": {
            "text/html": [
              "<span style=\"color:#4527A0\"><h1 style=\"font-size:18px\">Trial summary</h1></span>"
            ],
            "text/plain": [
              "<IPython.core.display.HTML object>"
            ]
          },
          "metadata": {
            "tags": []
          }
        },
        {
          "output_type": "display_data",
          "data": {
            "text/html": [
              "<span style=\"color:cyan\"> |-Trial ID: 582c9bc9a208b07504c7b7e666049b7d</span>"
            ],
            "text/plain": [
              "<IPython.core.display.HTML object>"
            ]
          },
          "metadata": {
            "tags": []
          }
        },
        {
          "output_type": "display_data",
          "data": {
            "text/html": [
              "<span style=\"color:cyan\"> |-Score: 303.02337646484375</span>"
            ],
            "text/plain": [
              "<IPython.core.display.HTML object>"
            ]
          },
          "metadata": {
            "tags": []
          }
        },
        {
          "output_type": "display_data",
          "data": {
            "text/html": [
              "<span style=\"color:cyan\"> |-Best step: 0</span>"
            ],
            "text/plain": [
              "<IPython.core.display.HTML object>"
            ]
          },
          "metadata": {
            "tags": []
          }
        },
        {
          "output_type": "display_data",
          "data": {
            "text/html": [
              "<span style=\"color:#7E57C2\"><h2 style=\"font-size:16px\">Hyperparameters:</h2></span>"
            ],
            "text/plain": [
              "<IPython.core.display.HTML object>"
            ]
          },
          "metadata": {
            "tags": []
          }
        },
        {
          "output_type": "display_data",
          "data": {
            "text/html": [
              "<span style=\"color:cyan\"> |-activation: relu</span>"
            ],
            "text/plain": [
              "<IPython.core.display.HTML object>"
            ]
          },
          "metadata": {
            "tags": []
          }
        },
        {
          "output_type": "display_data",
          "data": {
            "text/html": [
              "<span style=\"color:blue\"> |-n_layers: 2</span>"
            ],
            "text/plain": [
              "<IPython.core.display.HTML object>"
            ]
          },
          "metadata": {
            "tags": []
          }
        },
        {
          "output_type": "display_data",
          "data": {
            "text/html": [
              "<span style=\"color:cyan\"> |-optimizer: adam</span>"
            ],
            "text/plain": [
              "<IPython.core.display.HTML object>"
            ]
          },
          "metadata": {
            "tags": []
          }
        },
        {
          "output_type": "display_data",
          "data": {
            "text/html": [
              "<span style=\"color:blue\"> |-units_0: 928</span>"
            ],
            "text/plain": [
              "<IPython.core.display.HTML object>"
            ]
          },
          "metadata": {
            "tags": []
          }
        },
        {
          "output_type": "display_data",
          "data": {
            "text/html": [
              "<span style=\"color:cyan\"> |-units_1: 96</span>"
            ],
            "text/plain": [
              "<IPython.core.display.HTML object>"
            ]
          },
          "metadata": {
            "tags": []
          }
        },
        {
          "output_type": "display_data",
          "data": {
            "text/html": [
              "<span style=\"color:blue\"> |-units_2: 736</span>"
            ],
            "text/plain": [
              "<IPython.core.display.HTML object>"
            ]
          },
          "metadata": {
            "tags": []
          }
        },
        {
          "output_type": "display_data",
          "data": {
            "text/html": [
              "<span style=\"color:cyan\"> |-units_input: 704</span>"
            ],
            "text/plain": [
              "<IPython.core.display.HTML object>"
            ]
          },
          "metadata": {
            "tags": []
          }
        },
        {
          "output_type": "stream",
          "text": [
            "Model: \"sequential\"\n",
            "_________________________________________________________________\n",
            "Layer (type)                 Output Shape              Param #   \n",
            "=================================================================\n",
            "dense (Dense)                (None, 256)               93440     \n",
            "_________________________________________________________________\n",
            "dense_1 (Dense)              (None, 192)               49344     \n",
            "_________________________________________________________________\n",
            "dense_2 (Dense)              (None, 768)               148224    \n",
            "_________________________________________________________________\n",
            "dense_3 (Dense)              (None, 1)                 769       \n",
            "=================================================================\n",
            "Total params: 291,777\n",
            "Trainable params: 291,777\n",
            "Non-trainable params: 0\n",
            "_________________________________________________________________\n",
            "Epoch 1/10\n",
            "21/21 [==============================] - 0s 21ms/step - loss: 5780.7710 - mae: 68.0757 - val_loss: 3697.0752 - val_mae: 44.0541\n",
            "Epoch 2/10\n",
            "21/21 [==============================] - 0s 15ms/step - loss: 1958.1577 - mae: 32.2800 - val_loss: 1873.8920 - val_mae: 29.0295\n",
            "Epoch 3/10\n",
            "21/21 [==============================] - 0s 16ms/step - loss: 1259.6122 - mae: 24.0558 - val_loss: 1452.9744 - val_mae: 26.4487\n",
            "Epoch 4/10\n",
            "21/21 [==============================] - 0s 14ms/step - loss: 957.9433 - mae: 21.1759 - val_loss: 1257.5166 - val_mae: 25.2554\n",
            "Epoch 5/10\n",
            "21/21 [==============================] - 0s 18ms/step - loss: 795.9818 - mae: 19.4253 - val_loss: 1167.4381 - val_mae: 24.7743\n",
            "Epoch 6/10\n",
            "21/21 [==============================] - 0s 14ms/step - loss: 666.1965 - mae: 17.7464 - val_loss: 1128.8657 - val_mae: 24.6252\n",
            "Epoch 7/10\n",
            "21/21 [==============================] - 0s 13ms/step - loss: 548.9042 - mae: 15.8497 - val_loss: 1007.5776 - val_mae: 23.4838\n",
            "Epoch 8/10\n",
            "21/21 [==============================] - 0s 15ms/step - loss: 436.7317 - mae: 13.7235 - val_loss: 940.5888 - val_mae: 22.6750\n",
            "Epoch 9/10\n",
            "21/21 [==============================] - 0s 12ms/step - loss: 327.0838 - mae: 11.2427 - val_loss: 859.8715 - val_mae: 21.6498\n",
            "Epoch 10/10\n",
            "21/21 [==============================] - 0s 13ms/step - loss: 234.3184 - mae: 8.8305 - val_loss: 782.0930 - val_mae: 20.6008\n"
          ],
          "name": "stdout"
        },
        {
          "output_type": "display_data",
          "data": {
            "text/html": [
              "<span style=\"color:#4527A0\"><h1 style=\"font-size:18px\">Trial complete</h1></span>"
            ],
            "text/plain": [
              "<IPython.core.display.HTML object>"
            ]
          },
          "metadata": {
            "tags": []
          }
        },
        {
          "output_type": "display_data",
          "data": {
            "text/html": [
              "<span style=\"color:#4527A0\"><h1 style=\"font-size:18px\">Trial summary</h1></span>"
            ],
            "text/plain": [
              "<IPython.core.display.HTML object>"
            ]
          },
          "metadata": {
            "tags": []
          }
        },
        {
          "output_type": "display_data",
          "data": {
            "text/html": [
              "<span style=\"color:cyan\"> |-Trial ID: 318076d28f2321ee5129ec8d9b90a927</span>"
            ],
            "text/plain": [
              "<IPython.core.display.HTML object>"
            ]
          },
          "metadata": {
            "tags": []
          }
        },
        {
          "output_type": "display_data",
          "data": {
            "text/html": [
              "<span style=\"color:cyan\"> |-Score: 234.31837463378906</span>"
            ],
            "text/plain": [
              "<IPython.core.display.HTML object>"
            ]
          },
          "metadata": {
            "tags": []
          }
        },
        {
          "output_type": "display_data",
          "data": {
            "text/html": [
              "<span style=\"color:cyan\"> |-Best step: 0</span>"
            ],
            "text/plain": [
              "<IPython.core.display.HTML object>"
            ]
          },
          "metadata": {
            "tags": []
          }
        },
        {
          "output_type": "display_data",
          "data": {
            "text/html": [
              "<span style=\"color:#7E57C2\"><h2 style=\"font-size:16px\">Hyperparameters:</h2></span>"
            ],
            "text/plain": [
              "<IPython.core.display.HTML object>"
            ]
          },
          "metadata": {
            "tags": []
          }
        },
        {
          "output_type": "display_data",
          "data": {
            "text/html": [
              "<span style=\"color:cyan\"> |-activation: relu</span>"
            ],
            "text/plain": [
              "<IPython.core.display.HTML object>"
            ]
          },
          "metadata": {
            "tags": []
          }
        },
        {
          "output_type": "display_data",
          "data": {
            "text/html": [
              "<span style=\"color:blue\"> |-n_layers: 2</span>"
            ],
            "text/plain": [
              "<IPython.core.display.HTML object>"
            ]
          },
          "metadata": {
            "tags": []
          }
        },
        {
          "output_type": "display_data",
          "data": {
            "text/html": [
              "<span style=\"color:cyan\"> |-optimizer: adam</span>"
            ],
            "text/plain": [
              "<IPython.core.display.HTML object>"
            ]
          },
          "metadata": {
            "tags": []
          }
        },
        {
          "output_type": "display_data",
          "data": {
            "text/html": [
              "<span style=\"color:blue\"> |-units_0: 192</span>"
            ],
            "text/plain": [
              "<IPython.core.display.HTML object>"
            ]
          },
          "metadata": {
            "tags": []
          }
        },
        {
          "output_type": "display_data",
          "data": {
            "text/html": [
              "<span style=\"color:cyan\"> |-units_1: 768</span>"
            ],
            "text/plain": [
              "<IPython.core.display.HTML object>"
            ]
          },
          "metadata": {
            "tags": []
          }
        },
        {
          "output_type": "display_data",
          "data": {
            "text/html": [
              "<span style=\"color:blue\"> |-units_2: 352</span>"
            ],
            "text/plain": [
              "<IPython.core.display.HTML object>"
            ]
          },
          "metadata": {
            "tags": []
          }
        },
        {
          "output_type": "display_data",
          "data": {
            "text/html": [
              "<span style=\"color:cyan\"> |-units_input: 256</span>"
            ],
            "text/plain": [
              "<IPython.core.display.HTML object>"
            ]
          },
          "metadata": {
            "tags": []
          }
        },
        {
          "output_type": "stream",
          "text": [
            "Model: \"sequential\"\n",
            "_________________________________________________________________\n",
            "Layer (type)                 Output Shape              Param #   \n",
            "=================================================================\n",
            "dense (Dense)                (None, 992)               362080    \n",
            "_________________________________________________________________\n",
            "dense_1 (Dense)              (None, 736)               730848    \n",
            "_________________________________________________________________\n",
            "dense_2 (Dense)              (None, 480)               353760    \n",
            "_________________________________________________________________\n",
            "dense_3 (Dense)              (None, 32)                15392     \n",
            "_________________________________________________________________\n",
            "dense_4 (Dense)              (None, 1)                 33        \n",
            "=================================================================\n",
            "Total params: 1,462,113\n",
            "Trainable params: 1,462,113\n",
            "Non-trainable params: 0\n",
            "_________________________________________________________________\n",
            "Epoch 1/10\n",
            "21/21 [==============================] - 1s 45ms/step - loss: 4225.4590 - mae: 54.5388 - val_loss: 2039.6466 - val_mae: 38.2355\n",
            "Epoch 2/10\n",
            "21/21 [==============================] - 1s 39ms/step - loss: 1309.2631 - mae: 28.6243 - val_loss: 813.0906 - val_mae: 21.5520\n",
            "Epoch 3/10\n",
            "21/21 [==============================] - 1s 42ms/step - loss: 436.7284 - mae: 16.0237 - val_loss: 407.4263 - val_mae: 15.3465\n",
            "Epoch 4/10\n",
            "21/21 [==============================] - 1s 42ms/step - loss: 241.1103 - mae: 11.7320 - val_loss: 269.2567 - val_mae: 12.8327\n",
            "Epoch 5/10\n",
            "21/21 [==============================] - 1s 42ms/step - loss: 190.5414 - mae: 10.4436 - val_loss: 221.9052 - val_mae: 11.7754\n",
            "Epoch 6/10\n",
            "21/21 [==============================] - 1s 40ms/step - loss: 170.1477 - mae: 9.9046 - val_loss: 196.1882 - val_mae: 11.1905\n",
            "Epoch 7/10\n",
            "21/21 [==============================] - 1s 43ms/step - loss: 156.6331 - mae: 9.4913 - val_loss: 185.0426 - val_mae: 10.8780\n",
            "Epoch 8/10\n",
            "21/21 [==============================] - 1s 41ms/step - loss: 147.8427 - mae: 9.1628 - val_loss: 184.8468 - val_mae: 10.8529\n",
            "Epoch 9/10\n",
            "21/21 [==============================] - 1s 40ms/step - loss: 139.4141 - mae: 8.9279 - val_loss: 183.2818 - val_mae: 10.8270\n",
            "Epoch 10/10\n",
            "21/21 [==============================] - 1s 43ms/step - loss: 133.4933 - mae: 8.6655 - val_loss: 185.7785 - val_mae: 10.9684\n"
          ],
          "name": "stdout"
        },
        {
          "output_type": "display_data",
          "data": {
            "text/html": [
              "<span style=\"color:#4527A0\"><h1 style=\"font-size:18px\">Trial complete</h1></span>"
            ],
            "text/plain": [
              "<IPython.core.display.HTML object>"
            ]
          },
          "metadata": {
            "tags": []
          }
        },
        {
          "output_type": "display_data",
          "data": {
            "text/html": [
              "<span style=\"color:#4527A0\"><h1 style=\"font-size:18px\">Trial summary</h1></span>"
            ],
            "text/plain": [
              "<IPython.core.display.HTML object>"
            ]
          },
          "metadata": {
            "tags": []
          }
        },
        {
          "output_type": "display_data",
          "data": {
            "text/html": [
              "<span style=\"color:cyan\"> |-Trial ID: 411732ef7229ebc864ebb1e94fd82e3a</span>"
            ],
            "text/plain": [
              "<IPython.core.display.HTML object>"
            ]
          },
          "metadata": {
            "tags": []
          }
        },
        {
          "output_type": "display_data",
          "data": {
            "text/html": [
              "<span style=\"color:cyan\"> |-Score: 133.4932861328125</span>"
            ],
            "text/plain": [
              "<IPython.core.display.HTML object>"
            ]
          },
          "metadata": {
            "tags": []
          }
        },
        {
          "output_type": "display_data",
          "data": {
            "text/html": [
              "<span style=\"color:cyan\"> |-Best step: 0</span>"
            ],
            "text/plain": [
              "<IPython.core.display.HTML object>"
            ]
          },
          "metadata": {
            "tags": []
          }
        },
        {
          "output_type": "display_data",
          "data": {
            "text/html": [
              "<span style=\"color:#7E57C2\"><h2 style=\"font-size:16px\">Hyperparameters:</h2></span>"
            ],
            "text/plain": [
              "<IPython.core.display.HTML object>"
            ]
          },
          "metadata": {
            "tags": []
          }
        },
        {
          "output_type": "display_data",
          "data": {
            "text/html": [
              "<span style=\"color:cyan\"> |-activation: elu</span>"
            ],
            "text/plain": [
              "<IPython.core.display.HTML object>"
            ]
          },
          "metadata": {
            "tags": []
          }
        },
        {
          "output_type": "display_data",
          "data": {
            "text/html": [
              "<span style=\"color:blue\"> |-n_layers: 3</span>"
            ],
            "text/plain": [
              "<IPython.core.display.HTML object>"
            ]
          },
          "metadata": {
            "tags": []
          }
        },
        {
          "output_type": "display_data",
          "data": {
            "text/html": [
              "<span style=\"color:cyan\"> |-optimizer: adam</span>"
            ],
            "text/plain": [
              "<IPython.core.display.HTML object>"
            ]
          },
          "metadata": {
            "tags": []
          }
        },
        {
          "output_type": "display_data",
          "data": {
            "text/html": [
              "<span style=\"color:blue\"> |-units_0: 736</span>"
            ],
            "text/plain": [
              "<IPython.core.display.HTML object>"
            ]
          },
          "metadata": {
            "tags": []
          }
        },
        {
          "output_type": "display_data",
          "data": {
            "text/html": [
              "<span style=\"color:cyan\"> |-units_1: 480</span>"
            ],
            "text/plain": [
              "<IPython.core.display.HTML object>"
            ]
          },
          "metadata": {
            "tags": []
          }
        },
        {
          "output_type": "display_data",
          "data": {
            "text/html": [
              "<span style=\"color:blue\"> |-units_2: 32</span>"
            ],
            "text/plain": [
              "<IPython.core.display.HTML object>"
            ]
          },
          "metadata": {
            "tags": []
          }
        },
        {
          "output_type": "display_data",
          "data": {
            "text/html": [
              "<span style=\"color:cyan\"> |-units_input: 992</span>"
            ],
            "text/plain": [
              "<IPython.core.display.HTML object>"
            ]
          },
          "metadata": {
            "tags": []
          }
        },
        {
          "output_type": "stream",
          "text": [
            "Model: \"sequential\"\n",
            "_________________________________________________________________\n",
            "Layer (type)                 Output Shape              Param #   \n",
            "=================================================================\n",
            "dense (Dense)                (None, 736)               268640    \n",
            "_________________________________________________________________\n",
            "dense_1 (Dense)              (None, 704)               518848    \n",
            "_________________________________________________________________\n",
            "dense_2 (Dense)              (None, 384)               270720    \n",
            "_________________________________________________________________\n",
            "dense_3 (Dense)              (None, 1)                 385       \n",
            "=================================================================\n",
            "Total params: 1,058,593\n",
            "Trainable params: 1,058,593\n",
            "Non-trainable params: 0\n",
            "_________________________________________________________________\n",
            "Epoch 1/10\n",
            "21/21 [==============================] - 1s 40ms/step - loss: 7092.0449 - mae: 75.7950 - val_loss: 4831.5342 - val_mae: 57.8621\n",
            "Epoch 2/10\n",
            "21/21 [==============================] - 1s 36ms/step - loss: 2915.2031 - mae: 43.3515 - val_loss: 2798.5906 - val_mae: 43.2802\n",
            "Epoch 3/10\n",
            "21/21 [==============================] - 1s 33ms/step - loss: 1380.2749 - mae: 29.4630 - val_loss: 1607.2511 - val_mae: 29.2532\n",
            "Epoch 4/10\n",
            "21/21 [==============================] - 1s 32ms/step - loss: 743.3190 - mae: 21.4214 - val_loss: 1192.4235 - val_mae: 24.9421\n",
            "Epoch 5/10\n",
            "21/21 [==============================] - 1s 35ms/step - loss: 472.9645 - mae: 17.0441 - val_loss: 1007.6227 - val_mae: 22.2985\n",
            "Epoch 6/10\n",
            "21/21 [==============================] - 1s 34ms/step - loss: 374.7769 - mae: 14.9886 - val_loss: 894.4152 - val_mae: 20.8556\n",
            "Epoch 7/10\n",
            "21/21 [==============================] - 1s 34ms/step - loss: 329.2133 - mae: 14.1677 - val_loss: 991.8677 - val_mae: 22.6752\n",
            "Epoch 8/10\n",
            "21/21 [==============================] - 1s 33ms/step - loss: 273.5222 - mae: 12.9200 - val_loss: 931.5058 - val_mae: 21.7436\n",
            "Epoch 9/10\n",
            "21/21 [==============================] - 1s 33ms/step - loss: 270.8553 - mae: 12.9027 - val_loss: 975.7799 - val_mae: 21.9876\n",
            "Epoch 10/10\n",
            "21/21 [==============================] - 1s 32ms/step - loss: 196.6364 - mae: 10.8979 - val_loss: 921.8965 - val_mae: 21.9652\n"
          ],
          "name": "stdout"
        },
        {
          "output_type": "display_data",
          "data": {
            "text/html": [
              "<span style=\"color:#4527A0\"><h1 style=\"font-size:18px\">Trial complete</h1></span>"
            ],
            "text/plain": [
              "<IPython.core.display.HTML object>"
            ]
          },
          "metadata": {
            "tags": []
          }
        },
        {
          "output_type": "display_data",
          "data": {
            "text/html": [
              "<span style=\"color:#4527A0\"><h1 style=\"font-size:18px\">Trial summary</h1></span>"
            ],
            "text/plain": [
              "<IPython.core.display.HTML object>"
            ]
          },
          "metadata": {
            "tags": []
          }
        },
        {
          "output_type": "display_data",
          "data": {
            "text/html": [
              "<span style=\"color:cyan\"> |-Trial ID: 5b2c72c5f6dc1573a8c096e15e8918c8</span>"
            ],
            "text/plain": [
              "<IPython.core.display.HTML object>"
            ]
          },
          "metadata": {
            "tags": []
          }
        },
        {
          "output_type": "display_data",
          "data": {
            "text/html": [
              "<span style=\"color:cyan\"> |-Score: 196.6363983154297</span>"
            ],
            "text/plain": [
              "<IPython.core.display.HTML object>"
            ]
          },
          "metadata": {
            "tags": []
          }
        },
        {
          "output_type": "display_data",
          "data": {
            "text/html": [
              "<span style=\"color:cyan\"> |-Best step: 0</span>"
            ],
            "text/plain": [
              "<IPython.core.display.HTML object>"
            ]
          },
          "metadata": {
            "tags": []
          }
        },
        {
          "output_type": "display_data",
          "data": {
            "text/html": [
              "<span style=\"color:#7E57C2\"><h2 style=\"font-size:16px\">Hyperparameters:</h2></span>"
            ],
            "text/plain": [
              "<IPython.core.display.HTML object>"
            ]
          },
          "metadata": {
            "tags": []
          }
        },
        {
          "output_type": "display_data",
          "data": {
            "text/html": [
              "<span style=\"color:cyan\"> |-activation: selu</span>"
            ],
            "text/plain": [
              "<IPython.core.display.HTML object>"
            ]
          },
          "metadata": {
            "tags": []
          }
        },
        {
          "output_type": "display_data",
          "data": {
            "text/html": [
              "<span style=\"color:blue\"> |-n_layers: 2</span>"
            ],
            "text/plain": [
              "<IPython.core.display.HTML object>"
            ]
          },
          "metadata": {
            "tags": []
          }
        },
        {
          "output_type": "display_data",
          "data": {
            "text/html": [
              "<span style=\"color:cyan\"> |-optimizer: rmsprop</span>"
            ],
            "text/plain": [
              "<IPython.core.display.HTML object>"
            ]
          },
          "metadata": {
            "tags": []
          }
        },
        {
          "output_type": "display_data",
          "data": {
            "text/html": [
              "<span style=\"color:blue\"> |-units_0: 704</span>"
            ],
            "text/plain": [
              "<IPython.core.display.HTML object>"
            ]
          },
          "metadata": {
            "tags": []
          }
        },
        {
          "output_type": "display_data",
          "data": {
            "text/html": [
              "<span style=\"color:cyan\"> |-units_1: 384</span>"
            ],
            "text/plain": [
              "<IPython.core.display.HTML object>"
            ]
          },
          "metadata": {
            "tags": []
          }
        },
        {
          "output_type": "display_data",
          "data": {
            "text/html": [
              "<span style=\"color:blue\"> |-units_2: 768</span>"
            ],
            "text/plain": [
              "<IPython.core.display.HTML object>"
            ]
          },
          "metadata": {
            "tags": []
          }
        },
        {
          "output_type": "display_data",
          "data": {
            "text/html": [
              "<span style=\"color:cyan\"> |-units_input: 736</span>"
            ],
            "text/plain": [
              "<IPython.core.display.HTML object>"
            ]
          },
          "metadata": {
            "tags": []
          }
        },
        {
          "output_type": "stream",
          "text": [
            "Model: \"sequential\"\n",
            "_________________________________________________________________\n",
            "Layer (type)                 Output Shape              Param #   \n",
            "=================================================================\n",
            "dense (Dense)                (None, 640)               233600    \n",
            "_________________________________________________________________\n",
            "dense_1 (Dense)              (None, 288)               184608    \n",
            "_________________________________________________________________\n",
            "dense_2 (Dense)              (None, 992)               286688    \n",
            "_________________________________________________________________\n",
            "dense_3 (Dense)              (None, 704)               699072    \n",
            "_________________________________________________________________\n",
            "dense_4 (Dense)              (None, 1)                 705       \n",
            "=================================================================\n",
            "Total params: 1,404,673\n",
            "Trainable params: 1,404,673\n",
            "Non-trainable params: 0\n",
            "_________________________________________________________________\n",
            "Epoch 1/10\n",
            "21/21 [==============================] - 1s 44ms/step - loss: 6981.7773 - mae: 82.3036 - val_loss: 5852.4219 - val_mae: 75.5732\n",
            "Epoch 2/10\n",
            "21/21 [==============================] - 1s 40ms/step - loss: 5352.0781 - mae: 71.9756 - val_loss: 4734.9951 - val_mae: 67.7782\n",
            "Epoch 3/10\n",
            "21/21 [==============================] - 1s 45ms/step - loss: 4312.2593 - mae: 64.3733 - val_loss: 3791.3381 - val_mae: 60.4171\n",
            "Epoch 4/10\n",
            "21/21 [==============================] - 1s 43ms/step - loss: 3444.4592 - mae: 57.2268 - val_loss: 3006.1772 - val_mae: 53.5263\n",
            "Epoch 5/10\n",
            "21/21 [==============================] - 1s 42ms/step - loss: 2725.9592 - mae: 50.5782 - val_loss: 2363.2114 - val_mae: 47.1392\n",
            "Epoch 6/10\n",
            "21/21 [==============================] - 1s 41ms/step - loss: 2136.9570 - mae: 44.3587 - val_loss: 1832.1202 - val_mae: 41.1219\n",
            "Epoch 7/10\n",
            "21/21 [==============================] - 1s 54ms/step - loss: 1656.8750 - mae: 38.5657 - val_loss: 1407.9834 - val_mae: 35.5932\n",
            "Epoch 8/10\n",
            "21/21 [==============================] - 1s 41ms/step - loss: 1276.2496 - mae: 33.2974 - val_loss: 1077.8425 - val_mae: 30.6061\n",
            "Epoch 9/10\n",
            "21/21 [==============================] - 1s 45ms/step - loss: 982.1056 - mae: 28.5283 - val_loss: 822.3287 - val_mae: 26.1026\n",
            "Epoch 10/10\n",
            "21/21 [==============================] - 1s 41ms/step - loss: 756.0837 - mae: 24.3291 - val_loss: 628.9246 - val_mae: 22.1833\n"
          ],
          "name": "stdout"
        },
        {
          "output_type": "display_data",
          "data": {
            "text/html": [
              "<span style=\"color:#4527A0\"><h1 style=\"font-size:18px\">Trial complete</h1></span>"
            ],
            "text/plain": [
              "<IPython.core.display.HTML object>"
            ]
          },
          "metadata": {
            "tags": []
          }
        },
        {
          "output_type": "display_data",
          "data": {
            "text/html": [
              "<span style=\"color:#4527A0\"><h1 style=\"font-size:18px\">Trial summary</h1></span>"
            ],
            "text/plain": [
              "<IPython.core.display.HTML object>"
            ]
          },
          "metadata": {
            "tags": []
          }
        },
        {
          "output_type": "display_data",
          "data": {
            "text/html": [
              "<span style=\"color:cyan\"> |-Trial ID: 9f4ddffd413d5f6683ea954e09a9063a</span>"
            ],
            "text/plain": [
              "<IPython.core.display.HTML object>"
            ]
          },
          "metadata": {
            "tags": []
          }
        },
        {
          "output_type": "display_data",
          "data": {
            "text/html": [
              "<span style=\"color:cyan\"> |-Score: 756.0836791992188</span>"
            ],
            "text/plain": [
              "<IPython.core.display.HTML object>"
            ]
          },
          "metadata": {
            "tags": []
          }
        },
        {
          "output_type": "display_data",
          "data": {
            "text/html": [
              "<span style=\"color:cyan\"> |-Best step: 0</span>"
            ],
            "text/plain": [
              "<IPython.core.display.HTML object>"
            ]
          },
          "metadata": {
            "tags": []
          }
        },
        {
          "output_type": "display_data",
          "data": {
            "text/html": [
              "<span style=\"color:#7E57C2\"><h2 style=\"font-size:16px\">Hyperparameters:</h2></span>"
            ],
            "text/plain": [
              "<IPython.core.display.HTML object>"
            ]
          },
          "metadata": {
            "tags": []
          }
        },
        {
          "output_type": "display_data",
          "data": {
            "text/html": [
              "<span style=\"color:cyan\"> |-activation: sigmoid</span>"
            ],
            "text/plain": [
              "<IPython.core.display.HTML object>"
            ]
          },
          "metadata": {
            "tags": []
          }
        },
        {
          "output_type": "display_data",
          "data": {
            "text/html": [
              "<span style=\"color:blue\"> |-n_layers: 3</span>"
            ],
            "text/plain": [
              "<IPython.core.display.HTML object>"
            ]
          },
          "metadata": {
            "tags": []
          }
        },
        {
          "output_type": "display_data",
          "data": {
            "text/html": [
              "<span style=\"color:cyan\"> |-optimizer: adam</span>"
            ],
            "text/plain": [
              "<IPython.core.display.HTML object>"
            ]
          },
          "metadata": {
            "tags": []
          }
        },
        {
          "output_type": "display_data",
          "data": {
            "text/html": [
              "<span style=\"color:blue\"> |-units_0: 288</span>"
            ],
            "text/plain": [
              "<IPython.core.display.HTML object>"
            ]
          },
          "metadata": {
            "tags": []
          }
        },
        {
          "output_type": "display_data",
          "data": {
            "text/html": [
              "<span style=\"color:cyan\"> |-units_1: 992</span>"
            ],
            "text/plain": [
              "<IPython.core.display.HTML object>"
            ]
          },
          "metadata": {
            "tags": []
          }
        },
        {
          "output_type": "display_data",
          "data": {
            "text/html": [
              "<span style=\"color:blue\"> |-units_2: 704</span>"
            ],
            "text/plain": [
              "<IPython.core.display.HTML object>"
            ]
          },
          "metadata": {
            "tags": []
          }
        },
        {
          "output_type": "display_data",
          "data": {
            "text/html": [
              "<span style=\"color:cyan\"> |-units_input: 640</span>"
            ],
            "text/plain": [
              "<IPython.core.display.HTML object>"
            ]
          },
          "metadata": {
            "tags": []
          }
        },
        {
          "output_type": "stream",
          "text": [
            "Model: \"sequential\"\n",
            "_________________________________________________________________\n",
            "Layer (type)                 Output Shape              Param #   \n",
            "=================================================================\n",
            "dense (Dense)                (None, 864)               315360    \n",
            "_________________________________________________________________\n",
            "dense_1 (Dense)              (None, 1024)              885760    \n",
            "_________________________________________________________________\n",
            "dense_2 (Dense)              (None, 288)               295200    \n",
            "_________________________________________________________________\n",
            "dense_3 (Dense)              (None, 1)                 289       \n",
            "=================================================================\n",
            "Total params: 1,496,609\n",
            "Trainable params: 1,496,609\n",
            "Non-trainable params: 0\n",
            "_________________________________________________________________\n",
            "Epoch 1/10\n",
            "21/21 [==============================] - 1s 51ms/step - loss: 9514.6729 - mae: 95.1846 - val_loss: 8904.8203 - val_mae: 91.0533\n",
            "Epoch 2/10\n",
            "21/21 [==============================] - 1s 47ms/step - loss: 7210.7642 - mae: 81.0132 - val_loss: 7818.1816 - val_mae: 82.9618\n",
            "Epoch 3/10\n",
            "21/21 [==============================] - 1s 46ms/step - loss: 5604.1665 - mae: 70.3644 - val_loss: 6687.8760 - val_mae: 74.8189\n",
            "Epoch 4/10\n",
            "21/21 [==============================] - 1s 46ms/step - loss: 4313.0913 - mae: 61.0826 - val_loss: 5214.1460 - val_mae: 64.7231\n",
            "Epoch 5/10\n",
            "21/21 [==============================] - 1s 47ms/step - loss: 3234.2590 - mae: 52.5935 - val_loss: 4048.3103 - val_mae: 55.6945\n",
            "Epoch 6/10\n",
            "21/21 [==============================] - 1s 48ms/step - loss: 2263.0986 - mae: 44.3672 - val_loss: 3137.2815 - val_mae: 47.5700\n",
            "Epoch 7/10\n",
            "21/21 [==============================] - 1s 51ms/step - loss: 1721.6128 - mae: 38.1314 - val_loss: 1756.4060 - val_mae: 36.8467\n",
            "Epoch 8/10\n",
            "21/21 [==============================] - 1s 51ms/step - loss: 1197.7874 - mae: 31.4440 - val_loss: 1419.2814 - val_mae: 31.2315\n",
            "Epoch 9/10\n",
            "21/21 [==============================] - 1s 51ms/step - loss: 846.8063 - mae: 25.7008 - val_loss: 971.5697 - val_mae: 24.7279\n",
            "Epoch 10/10\n",
            "21/21 [==============================] - 1s 51ms/step - loss: 1003.0742 - mae: 23.1057 - val_loss: 1630.9524 - val_mae: 24.7052\n"
          ],
          "name": "stdout"
        },
        {
          "output_type": "display_data",
          "data": {
            "text/html": [
              "<span style=\"color:#4527A0\"><h1 style=\"font-size:18px\">Trial complete</h1></span>"
            ],
            "text/plain": [
              "<IPython.core.display.HTML object>"
            ]
          },
          "metadata": {
            "tags": []
          }
        },
        {
          "output_type": "display_data",
          "data": {
            "text/html": [
              "<span style=\"color:#4527A0\"><h1 style=\"font-size:18px\">Trial summary</h1></span>"
            ],
            "text/plain": [
              "<IPython.core.display.HTML object>"
            ]
          },
          "metadata": {
            "tags": []
          }
        },
        {
          "output_type": "display_data",
          "data": {
            "text/html": [
              "<span style=\"color:cyan\"> |-Trial ID: 856bfb79895a879ec28ffa36cd6af0aa</span>"
            ],
            "text/plain": [
              "<IPython.core.display.HTML object>"
            ]
          },
          "metadata": {
            "tags": []
          }
        },
        {
          "output_type": "display_data",
          "data": {
            "text/html": [
              "<span style=\"color:cyan\"> |-Score: 846.8062744140625</span>"
            ],
            "text/plain": [
              "<IPython.core.display.HTML object>"
            ]
          },
          "metadata": {
            "tags": []
          }
        },
        {
          "output_type": "display_data",
          "data": {
            "text/html": [
              "<span style=\"color:cyan\"> |-Best step: 0</span>"
            ],
            "text/plain": [
              "<IPython.core.display.HTML object>"
            ]
          },
          "metadata": {
            "tags": []
          }
        },
        {
          "output_type": "display_data",
          "data": {
            "text/html": [
              "<span style=\"color:#7E57C2\"><h2 style=\"font-size:16px\">Hyperparameters:</h2></span>"
            ],
            "text/plain": [
              "<IPython.core.display.HTML object>"
            ]
          },
          "metadata": {
            "tags": []
          }
        },
        {
          "output_type": "display_data",
          "data": {
            "text/html": [
              "<span style=\"color:cyan\"> |-activation: tanh</span>"
            ],
            "text/plain": [
              "<IPython.core.display.HTML object>"
            ]
          },
          "metadata": {
            "tags": []
          }
        },
        {
          "output_type": "display_data",
          "data": {
            "text/html": [
              "<span style=\"color:blue\"> |-n_layers: 2</span>"
            ],
            "text/plain": [
              "<IPython.core.display.HTML object>"
            ]
          },
          "metadata": {
            "tags": []
          }
        },
        {
          "output_type": "display_data",
          "data": {
            "text/html": [
              "<span style=\"color:cyan\"> |-optimizer: rmsprop</span>"
            ],
            "text/plain": [
              "<IPython.core.display.HTML object>"
            ]
          },
          "metadata": {
            "tags": []
          }
        },
        {
          "output_type": "display_data",
          "data": {
            "text/html": [
              "<span style=\"color:blue\"> |-units_0: 1024</span>"
            ],
            "text/plain": [
              "<IPython.core.display.HTML object>"
            ]
          },
          "metadata": {
            "tags": []
          }
        },
        {
          "output_type": "display_data",
          "data": {
            "text/html": [
              "<span style=\"color:cyan\"> |-units_1: 288</span>"
            ],
            "text/plain": [
              "<IPython.core.display.HTML object>"
            ]
          },
          "metadata": {
            "tags": []
          }
        },
        {
          "output_type": "display_data",
          "data": {
            "text/html": [
              "<span style=\"color:blue\"> |-units_2: 1024</span>"
            ],
            "text/plain": [
              "<IPython.core.display.HTML object>"
            ]
          },
          "metadata": {
            "tags": []
          }
        },
        {
          "output_type": "display_data",
          "data": {
            "text/html": [
              "<span style=\"color:cyan\"> |-units_input: 864</span>"
            ],
            "text/plain": [
              "<IPython.core.display.HTML object>"
            ]
          },
          "metadata": {
            "tags": []
          }
        },
        {
          "output_type": "stream",
          "text": [
            "Model: \"sequential\"\n",
            "_________________________________________________________________\n",
            "Layer (type)                 Output Shape              Param #   \n",
            "=================================================================\n",
            "dense (Dense)                (None, 576)               210240    \n",
            "_________________________________________________________________\n",
            "dense_1 (Dense)              (None, 832)               480064    \n",
            "_________________________________________________________________\n",
            "dense_2 (Dense)              (None, 768)               639744    \n",
            "_________________________________________________________________\n",
            "dense_3 (Dense)              (None, 1)                 769       \n",
            "=================================================================\n",
            "Total params: 1,330,817\n",
            "Trainable params: 1,330,817\n",
            "Non-trainable params: 0\n",
            "_________________________________________________________________\n",
            "Epoch 1/10\n",
            "21/21 [==============================] - 1s 47ms/step - loss: 9735.5693 - mae: 96.8753 - val_loss: 9018.6162 - val_mae: 90.7253\n",
            "Epoch 2/10\n",
            "21/21 [==============================] - 1s 38ms/step - loss: 6134.4277 - mae: 71.0732 - val_loss: 7546.3809 - val_mae: 72.7149\n",
            "Epoch 3/10\n",
            "21/21 [==============================] - 1s 40ms/step - loss: 3345.2102 - mae: 44.8104 - val_loss: 5487.5229 - val_mae: 51.8735\n",
            "Epoch 4/10\n",
            "21/21 [==============================] - 1s 40ms/step - loss: 1512.4464 - mae: 24.0355 - val_loss: 3088.5310 - val_mae: 31.9358\n",
            "Epoch 5/10\n",
            "21/21 [==============================] - 1s 38ms/step - loss: 543.0693 - mae: 13.5800 - val_loss: 1813.9816 - val_mae: 21.8117\n",
            "Epoch 6/10\n",
            "21/21 [==============================] - 1s 38ms/step - loss: 240.8340 - mae: 11.0092 - val_loss: 1189.4392 - val_mae: 18.0481\n",
            "Epoch 7/10\n",
            "21/21 [==============================] - 1s 39ms/step - loss: 208.5650 - mae: 10.6681 - val_loss: 1137.4697 - val_mae: 16.7087\n",
            "Epoch 8/10\n",
            "21/21 [==============================] - 1s 39ms/step - loss: 173.0847 - mae: 10.2938 - val_loss: 1108.4255 - val_mae: 16.3281\n",
            "Epoch 9/10\n",
            "21/21 [==============================] - 1s 37ms/step - loss: 165.8835 - mae: 10.0999 - val_loss: 1065.4677 - val_mae: 16.0237\n",
            "Epoch 10/10\n",
            "21/21 [==============================] - 1s 38ms/step - loss: 164.4520 - mae: 10.0351 - val_loss: 1057.9789 - val_mae: 15.9462\n"
          ],
          "name": "stdout"
        },
        {
          "output_type": "display_data",
          "data": {
            "text/html": [
              "<span style=\"color:#4527A0\"><h1 style=\"font-size:18px\">Trial complete</h1></span>"
            ],
            "text/plain": [
              "<IPython.core.display.HTML object>"
            ]
          },
          "metadata": {
            "tags": []
          }
        },
        {
          "output_type": "display_data",
          "data": {
            "text/html": [
              "<span style=\"color:#4527A0\"><h1 style=\"font-size:18px\">Trial summary</h1></span>"
            ],
            "text/plain": [
              "<IPython.core.display.HTML object>"
            ]
          },
          "metadata": {
            "tags": []
          }
        },
        {
          "output_type": "display_data",
          "data": {
            "text/html": [
              "<span style=\"color:cyan\"> |-Trial ID: 3d00a1bf65eb0f546d66b2995d9aeaf0</span>"
            ],
            "text/plain": [
              "<IPython.core.display.HTML object>"
            ]
          },
          "metadata": {
            "tags": []
          }
        },
        {
          "output_type": "display_data",
          "data": {
            "text/html": [
              "<span style=\"color:cyan\"> |-Score: 164.4519805908203</span>"
            ],
            "text/plain": [
              "<IPython.core.display.HTML object>"
            ]
          },
          "metadata": {
            "tags": []
          }
        },
        {
          "output_type": "display_data",
          "data": {
            "text/html": [
              "<span style=\"color:cyan\"> |-Best step: 0</span>"
            ],
            "text/plain": [
              "<IPython.core.display.HTML object>"
            ]
          },
          "metadata": {
            "tags": []
          }
        },
        {
          "output_type": "display_data",
          "data": {
            "text/html": [
              "<span style=\"color:#7E57C2\"><h2 style=\"font-size:16px\">Hyperparameters:</h2></span>"
            ],
            "text/plain": [
              "<IPython.core.display.HTML object>"
            ]
          },
          "metadata": {
            "tags": []
          }
        },
        {
          "output_type": "display_data",
          "data": {
            "text/html": [
              "<span style=\"color:cyan\"> |-activation: tanh</span>"
            ],
            "text/plain": [
              "<IPython.core.display.HTML object>"
            ]
          },
          "metadata": {
            "tags": []
          }
        },
        {
          "output_type": "display_data",
          "data": {
            "text/html": [
              "<span style=\"color:blue\"> |-n_layers: 2</span>"
            ],
            "text/plain": [
              "<IPython.core.display.HTML object>"
            ]
          },
          "metadata": {
            "tags": []
          }
        },
        {
          "output_type": "display_data",
          "data": {
            "text/html": [
              "<span style=\"color:cyan\"> |-optimizer: adam</span>"
            ],
            "text/plain": [
              "<IPython.core.display.HTML object>"
            ]
          },
          "metadata": {
            "tags": []
          }
        },
        {
          "output_type": "display_data",
          "data": {
            "text/html": [
              "<span style=\"color:blue\"> |-units_0: 832</span>"
            ],
            "text/plain": [
              "<IPython.core.display.HTML object>"
            ]
          },
          "metadata": {
            "tags": []
          }
        },
        {
          "output_type": "display_data",
          "data": {
            "text/html": [
              "<span style=\"color:cyan\"> |-units_1: 768</span>"
            ],
            "text/plain": [
              "<IPython.core.display.HTML object>"
            ]
          },
          "metadata": {
            "tags": []
          }
        },
        {
          "output_type": "display_data",
          "data": {
            "text/html": [
              "<span style=\"color:blue\"> |-units_2: 480</span>"
            ],
            "text/plain": [
              "<IPython.core.display.HTML object>"
            ]
          },
          "metadata": {
            "tags": []
          }
        },
        {
          "output_type": "display_data",
          "data": {
            "text/html": [
              "<span style=\"color:cyan\"> |-units_input: 576</span>"
            ],
            "text/plain": [
              "<IPython.core.display.HTML object>"
            ]
          },
          "metadata": {
            "tags": []
          }
        },
        {
          "output_type": "stream",
          "text": [
            "Model: \"sequential\"\n",
            "_________________________________________________________________\n",
            "Layer (type)                 Output Shape              Param #   \n",
            "=================================================================\n",
            "dense (Dense)                (None, 736)               268640    \n",
            "_________________________________________________________________\n",
            "dense_1 (Dense)              (None, 1024)              754688    \n",
            "_________________________________________________________________\n",
            "dense_2 (Dense)              (None, 608)               623200    \n",
            "_________________________________________________________________\n",
            "dense_3 (Dense)              (None, 1)                 609       \n",
            "=================================================================\n",
            "Total params: 1,647,137\n",
            "Trainable params: 1,647,137\n",
            "Non-trainable params: 0\n",
            "_________________________________________________________________\n",
            "Epoch 1/10\n",
            "21/21 [==============================] - 1s 53ms/step - loss: 8202.1914 - mae: 83.5085 - val_loss: 6213.7749 - val_mae: 61.1138\n",
            "Epoch 2/10\n",
            "21/21 [==============================] - 1s 50ms/step - loss: 3286.6252 - mae: 44.4109 - val_loss: 3270.3789 - val_mae: 43.7294\n",
            "Epoch 3/10\n",
            "21/21 [==============================] - 1s 50ms/step - loss: 1312.6683 - mae: 27.2779 - val_loss: 1355.4988 - val_mae: 26.2974\n",
            "Epoch 4/10\n",
            "21/21 [==============================] - 1s 48ms/step - loss: 657.4225 - mae: 18.8522 - val_loss: 1143.3601 - val_mae: 23.5970\n",
            "Epoch 5/10\n",
            "21/21 [==============================] - 1s 48ms/step - loss: 411.7283 - mae: 15.1450 - val_loss: 970.1242 - val_mae: 21.2128\n",
            "Epoch 6/10\n",
            "21/21 [==============================] - 1s 47ms/step - loss: 293.3351 - mae: 12.9995 - val_loss: 832.4390 - val_mae: 19.2083\n",
            "Epoch 7/10\n",
            "21/21 [==============================] - 1s 53ms/step - loss: 239.4502 - mae: 11.7367 - val_loss: 807.5585 - val_mae: 18.6612\n",
            "Epoch 8/10\n",
            "21/21 [==============================] - 1s 47ms/step - loss: 187.1289 - mae: 10.5660 - val_loss: 823.9434 - val_mae: 19.2094\n",
            "Epoch 9/10\n",
            "21/21 [==============================] - 1s 49ms/step - loss: 157.5345 - mae: 9.7470 - val_loss: 761.2341 - val_mae: 18.0751\n",
            "Epoch 10/10\n",
            "21/21 [==============================] - 1s 50ms/step - loss: 138.3726 - mae: 9.0823 - val_loss: 766.8731 - val_mae: 17.9288\n"
          ],
          "name": "stdout"
        },
        {
          "output_type": "display_data",
          "data": {
            "text/html": [
              "<span style=\"color:#4527A0\"><h1 style=\"font-size:18px\">Trial complete</h1></span>"
            ],
            "text/plain": [
              "<IPython.core.display.HTML object>"
            ]
          },
          "metadata": {
            "tags": []
          }
        },
        {
          "output_type": "display_data",
          "data": {
            "text/html": [
              "<span style=\"color:#4527A0\"><h1 style=\"font-size:18px\">Trial summary</h1></span>"
            ],
            "text/plain": [
              "<IPython.core.display.HTML object>"
            ]
          },
          "metadata": {
            "tags": []
          }
        },
        {
          "output_type": "display_data",
          "data": {
            "text/html": [
              "<span style=\"color:cyan\"> |-Trial ID: eaff723db62c7a09791cb95c4e64b212</span>"
            ],
            "text/plain": [
              "<IPython.core.display.HTML object>"
            ]
          },
          "metadata": {
            "tags": []
          }
        },
        {
          "output_type": "display_data",
          "data": {
            "text/html": [
              "<span style=\"color:cyan\"> |-Score: 138.3726043701172</span>"
            ],
            "text/plain": [
              "<IPython.core.display.HTML object>"
            ]
          },
          "metadata": {
            "tags": []
          }
        },
        {
          "output_type": "display_data",
          "data": {
            "text/html": [
              "<span style=\"color:cyan\"> |-Best step: 0</span>"
            ],
            "text/plain": [
              "<IPython.core.display.HTML object>"
            ]
          },
          "metadata": {
            "tags": []
          }
        },
        {
          "output_type": "display_data",
          "data": {
            "text/html": [
              "<span style=\"color:#7E57C2\"><h2 style=\"font-size:16px\">Hyperparameters:</h2></span>"
            ],
            "text/plain": [
              "<IPython.core.display.HTML object>"
            ]
          },
          "metadata": {
            "tags": []
          }
        },
        {
          "output_type": "display_data",
          "data": {
            "text/html": [
              "<span style=\"color:cyan\"> |-activation: selu</span>"
            ],
            "text/plain": [
              "<IPython.core.display.HTML object>"
            ]
          },
          "metadata": {
            "tags": []
          }
        },
        {
          "output_type": "display_data",
          "data": {
            "text/html": [
              "<span style=\"color:blue\"> |-n_layers: 2</span>"
            ],
            "text/plain": [
              "<IPython.core.display.HTML object>"
            ]
          },
          "metadata": {
            "tags": []
          }
        },
        {
          "output_type": "display_data",
          "data": {
            "text/html": [
              "<span style=\"color:cyan\"> |-optimizer: adam</span>"
            ],
            "text/plain": [
              "<IPython.core.display.HTML object>"
            ]
          },
          "metadata": {
            "tags": []
          }
        },
        {
          "output_type": "display_data",
          "data": {
            "text/html": [
              "<span style=\"color:blue\"> |-units_0: 1024</span>"
            ],
            "text/plain": [
              "<IPython.core.display.HTML object>"
            ]
          },
          "metadata": {
            "tags": []
          }
        },
        {
          "output_type": "display_data",
          "data": {
            "text/html": [
              "<span style=\"color:cyan\"> |-units_1: 608</span>"
            ],
            "text/plain": [
              "<IPython.core.display.HTML object>"
            ]
          },
          "metadata": {
            "tags": []
          }
        },
        {
          "output_type": "display_data",
          "data": {
            "text/html": [
              "<span style=\"color:blue\"> |-units_2: 832</span>"
            ],
            "text/plain": [
              "<IPython.core.display.HTML object>"
            ]
          },
          "metadata": {
            "tags": []
          }
        },
        {
          "output_type": "display_data",
          "data": {
            "text/html": [
              "<span style=\"color:cyan\"> |-units_input: 736</span>"
            ],
            "text/plain": [
              "<IPython.core.display.HTML object>"
            ]
          },
          "metadata": {
            "tags": []
          }
        },
        {
          "output_type": "stream",
          "text": [
            "Model: \"sequential\"\n",
            "_________________________________________________________________\n",
            "Layer (type)                 Output Shape              Param #   \n",
            "=================================================================\n",
            "dense (Dense)                (None, 384)               140160    \n",
            "_________________________________________________________________\n",
            "dense_1 (Dense)              (None, 384)               147840    \n",
            "_________________________________________________________________\n",
            "dense_2 (Dense)              (None, 640)               246400    \n",
            "_________________________________________________________________\n",
            "dense_3 (Dense)              (None, 384)               246144    \n",
            "_________________________________________________________________\n",
            "dense_4 (Dense)              (None, 1)                 385       \n",
            "=================================================================\n",
            "Total params: 780,929\n",
            "Trainable params: 780,929\n",
            "Non-trainable params: 0\n",
            "_________________________________________________________________\n",
            "Epoch 1/10\n",
            "21/21 [==============================] - 1s 35ms/step - loss: 2915.1975 - mae: 40.2916 - val_loss: 2212.5693 - val_mae: 32.4079\n",
            "Epoch 2/10\n",
            "21/21 [==============================] - 1s 28ms/step - loss: 1593.1875 - mae: 29.7545 - val_loss: 1998.3848 - val_mae: 33.5552\n",
            "Epoch 3/10\n",
            "21/21 [==============================] - 1s 25ms/step - loss: 1213.3094 - mae: 26.2638 - val_loss: 2045.1029 - val_mae: 40.4940\n",
            "Epoch 4/10\n",
            "21/21 [==============================] - 1s 25ms/step - loss: 946.6951 - mae: 24.3000 - val_loss: 1379.3976 - val_mae: 27.6463\n",
            "Epoch 5/10\n",
            "21/21 [==============================] - 1s 25ms/step - loss: 710.8527 - mae: 21.1665 - val_loss: 1303.0966 - val_mae: 31.1715\n",
            "Epoch 6/10\n",
            "21/21 [==============================] - 1s 27ms/step - loss: 626.6797 - mae: 19.8004 - val_loss: 1027.3291 - val_mae: 22.2251\n",
            "Epoch 7/10\n",
            "21/21 [==============================] - 1s 26ms/step - loss: 500.3740 - mae: 17.8436 - val_loss: 857.7611 - val_mae: 23.9541\n",
            "Epoch 8/10\n",
            "21/21 [==============================] - 1s 26ms/step - loss: 411.8366 - mae: 16.3160 - val_loss: 1224.9338 - val_mae: 23.6313\n",
            "Epoch 9/10\n",
            "21/21 [==============================] - 1s 25ms/step - loss: 404.4076 - mae: 16.6309 - val_loss: 820.6611 - val_mae: 22.7018\n",
            "Epoch 10/10\n",
            "21/21 [==============================] - 1s 52ms/step - loss: 309.4201 - mae: 14.2406 - val_loss: 906.1001 - val_mae: 19.7101\n"
          ],
          "name": "stdout"
        },
        {
          "output_type": "display_data",
          "data": {
            "text/html": [
              "<span style=\"color:#4527A0\"><h1 style=\"font-size:18px\">Trial complete</h1></span>"
            ],
            "text/plain": [
              "<IPython.core.display.HTML object>"
            ]
          },
          "metadata": {
            "tags": []
          }
        },
        {
          "output_type": "display_data",
          "data": {
            "text/html": [
              "<span style=\"color:#4527A0\"><h1 style=\"font-size:18px\">Trial summary</h1></span>"
            ],
            "text/plain": [
              "<IPython.core.display.HTML object>"
            ]
          },
          "metadata": {
            "tags": []
          }
        },
        {
          "output_type": "display_data",
          "data": {
            "text/html": [
              "<span style=\"color:cyan\"> |-Trial ID: 687cee3c6b206c861840ce7392cb70dc</span>"
            ],
            "text/plain": [
              "<IPython.core.display.HTML object>"
            ]
          },
          "metadata": {
            "tags": []
          }
        },
        {
          "output_type": "display_data",
          "data": {
            "text/html": [
              "<span style=\"color:cyan\"> |-Score: 309.4201354980469</span>"
            ],
            "text/plain": [
              "<IPython.core.display.HTML object>"
            ]
          },
          "metadata": {
            "tags": []
          }
        },
        {
          "output_type": "display_data",
          "data": {
            "text/html": [
              "<span style=\"color:cyan\"> |-Best step: 0</span>"
            ],
            "text/plain": [
              "<IPython.core.display.HTML object>"
            ]
          },
          "metadata": {
            "tags": []
          }
        },
        {
          "output_type": "display_data",
          "data": {
            "text/html": [
              "<span style=\"color:#7E57C2\"><h2 style=\"font-size:16px\">Hyperparameters:</h2></span>"
            ],
            "text/plain": [
              "<IPython.core.display.HTML object>"
            ]
          },
          "metadata": {
            "tags": []
          }
        },
        {
          "output_type": "display_data",
          "data": {
            "text/html": [
              "<span style=\"color:cyan\"> |-activation: relu</span>"
            ],
            "text/plain": [
              "<IPython.core.display.HTML object>"
            ]
          },
          "metadata": {
            "tags": []
          }
        },
        {
          "output_type": "display_data",
          "data": {
            "text/html": [
              "<span style=\"color:blue\"> |-n_layers: 3</span>"
            ],
            "text/plain": [
              "<IPython.core.display.HTML object>"
            ]
          },
          "metadata": {
            "tags": []
          }
        },
        {
          "output_type": "display_data",
          "data": {
            "text/html": [
              "<span style=\"color:cyan\"> |-optimizer: rmsprop</span>"
            ],
            "text/plain": [
              "<IPython.core.display.HTML object>"
            ]
          },
          "metadata": {
            "tags": []
          }
        },
        {
          "output_type": "display_data",
          "data": {
            "text/html": [
              "<span style=\"color:blue\"> |-units_0: 384</span>"
            ],
            "text/plain": [
              "<IPython.core.display.HTML object>"
            ]
          },
          "metadata": {
            "tags": []
          }
        },
        {
          "output_type": "display_data",
          "data": {
            "text/html": [
              "<span style=\"color:cyan\"> |-units_1: 640</span>"
            ],
            "text/plain": [
              "<IPython.core.display.HTML object>"
            ]
          },
          "metadata": {
            "tags": []
          }
        },
        {
          "output_type": "display_data",
          "data": {
            "text/html": [
              "<span style=\"color:blue\"> |-units_2: 384</span>"
            ],
            "text/plain": [
              "<IPython.core.display.HTML object>"
            ]
          },
          "metadata": {
            "tags": []
          }
        },
        {
          "output_type": "display_data",
          "data": {
            "text/html": [
              "<span style=\"color:cyan\"> |-units_input: 384</span>"
            ],
            "text/plain": [
              "<IPython.core.display.HTML object>"
            ]
          },
          "metadata": {
            "tags": []
          }
        },
        {
          "output_type": "stream",
          "text": [
            "Model: \"sequential\"\n",
            "_________________________________________________________________\n",
            "Layer (type)                 Output Shape              Param #   \n",
            "=================================================================\n",
            "dense (Dense)                (None, 736)               268640    \n",
            "_________________________________________________________________\n",
            "dense_1 (Dense)              (None, 608)               448096    \n",
            "_________________________________________________________________\n",
            "dense_2 (Dense)              (None, 416)               253344    \n",
            "_________________________________________________________________\n",
            "dense_3 (Dense)              (None, 1)                 417       \n",
            "=================================================================\n",
            "Total params: 970,497\n",
            "Trainable params: 970,497\n",
            "Non-trainable params: 0\n",
            "_________________________________________________________________\n",
            "Epoch 1/10\n",
            "21/21 [==============================] - 1s 62ms/step - loss: nan - mae: nan - val_loss: nan - val_mae: nan\n",
            "Epoch 2/10\n",
            "21/21 [==============================] - 1s 52ms/step - loss: nan - mae: nan - val_loss: nan - val_mae: nan\n",
            "Epoch 3/10\n",
            "21/21 [==============================] - 1s 49ms/step - loss: nan - mae: nan - val_loss: nan - val_mae: nan\n",
            "Epoch 4/10\n",
            "21/21 [==============================] - 1s 53ms/step - loss: nan - mae: nan - val_loss: nan - val_mae: nan\n",
            "Epoch 5/10\n",
            "21/21 [==============================] - 1s 25ms/step - loss: nan - mae: nan - val_loss: nan - val_mae: nan\n",
            "Epoch 6/10\n",
            "21/21 [==============================] - 1s 27ms/step - loss: nan - mae: nan - val_loss: nan - val_mae: nan\n",
            "Epoch 7/10\n",
            "21/21 [==============================] - 1s 25ms/step - loss: nan - mae: nan - val_loss: nan - val_mae: nan\n",
            "Epoch 8/10\n",
            "21/21 [==============================] - 1s 30ms/step - loss: nan - mae: nan - val_loss: nan - val_mae: nan\n",
            "Epoch 9/10\n",
            "21/21 [==============================] - 1s 29ms/step - loss: nan - mae: nan - val_loss: nan - val_mae: nan\n",
            "Epoch 10/10\n",
            "21/21 [==============================] - 1s 30ms/step - loss: nan - mae: nan - val_loss: nan - val_mae: nan\n"
          ],
          "name": "stdout"
        },
        {
          "output_type": "display_data",
          "data": {
            "text/html": [
              "<span style=\"color:#4527A0\"><h1 style=\"font-size:18px\">Trial complete</h1></span>"
            ],
            "text/plain": [
              "<IPython.core.display.HTML object>"
            ]
          },
          "metadata": {
            "tags": []
          }
        },
        {
          "output_type": "display_data",
          "data": {
            "text/html": [
              "<span style=\"color:#4527A0\"><h1 style=\"font-size:18px\">Trial summary</h1></span>"
            ],
            "text/plain": [
              "<IPython.core.display.HTML object>"
            ]
          },
          "metadata": {
            "tags": []
          }
        },
        {
          "output_type": "display_data",
          "data": {
            "text/html": [
              "<span style=\"color:cyan\"> |-Trial ID: 4f6841c59c2a492b4468c4ab2cdc7f07</span>"
            ],
            "text/plain": [
              "<IPython.core.display.HTML object>"
            ]
          },
          "metadata": {
            "tags": []
          }
        },
        {
          "output_type": "display_data",
          "data": {
            "text/html": [
              "<span style=\"color:cyan\"> |-Score: nan</span>"
            ],
            "text/plain": [
              "<IPython.core.display.HTML object>"
            ]
          },
          "metadata": {
            "tags": []
          }
        },
        {
          "output_type": "display_data",
          "data": {
            "text/html": [
              "<span style=\"color:cyan\"> |-Best step: None</span>"
            ],
            "text/plain": [
              "<IPython.core.display.HTML object>"
            ]
          },
          "metadata": {
            "tags": []
          }
        },
        {
          "output_type": "display_data",
          "data": {
            "text/html": [
              "<span style=\"color:#7E57C2\"><h2 style=\"font-size:16px\">Hyperparameters:</h2></span>"
            ],
            "text/plain": [
              "<IPython.core.display.HTML object>"
            ]
          },
          "metadata": {
            "tags": []
          }
        },
        {
          "output_type": "display_data",
          "data": {
            "text/html": [
              "<span style=\"color:cyan\"> |-activation: selu</span>"
            ],
            "text/plain": [
              "<IPython.core.display.HTML object>"
            ]
          },
          "metadata": {
            "tags": []
          }
        },
        {
          "output_type": "display_data",
          "data": {
            "text/html": [
              "<span style=\"color:blue\"> |-n_layers: 2</span>"
            ],
            "text/plain": [
              "<IPython.core.display.HTML object>"
            ]
          },
          "metadata": {
            "tags": []
          }
        },
        {
          "output_type": "display_data",
          "data": {
            "text/html": [
              "<span style=\"color:cyan\"> |-optimizer: SGD</span>"
            ],
            "text/plain": [
              "<IPython.core.display.HTML object>"
            ]
          },
          "metadata": {
            "tags": []
          }
        },
        {
          "output_type": "display_data",
          "data": {
            "text/html": [
              "<span style=\"color:blue\"> |-units_0: 608</span>"
            ],
            "text/plain": [
              "<IPython.core.display.HTML object>"
            ]
          },
          "metadata": {
            "tags": []
          }
        },
        {
          "output_type": "display_data",
          "data": {
            "text/html": [
              "<span style=\"color:cyan\"> |-units_1: 416</span>"
            ],
            "text/plain": [
              "<IPython.core.display.HTML object>"
            ]
          },
          "metadata": {
            "tags": []
          }
        },
        {
          "output_type": "display_data",
          "data": {
            "text/html": [
              "<span style=\"color:blue\"> |-units_2: 160</span>"
            ],
            "text/plain": [
              "<IPython.core.display.HTML object>"
            ]
          },
          "metadata": {
            "tags": []
          }
        },
        {
          "output_type": "display_data",
          "data": {
            "text/html": [
              "<span style=\"color:cyan\"> |-units_input: 736</span>"
            ],
            "text/plain": [
              "<IPython.core.display.HTML object>"
            ]
          },
          "metadata": {
            "tags": []
          }
        },
        {
          "output_type": "stream",
          "text": [
            "Model: \"sequential\"\n",
            "_________________________________________________________________\n",
            "Layer (type)                 Output Shape              Param #   \n",
            "=================================================================\n",
            "dense (Dense)                (None, 992)               362080    \n",
            "_________________________________________________________________\n",
            "dense_1 (Dense)              (None, 640)               635520    \n",
            "_________________________________________________________________\n",
            "dense_2 (Dense)              (None, 128)               82048     \n",
            "_________________________________________________________________\n",
            "dense_3 (Dense)              (None, 1)                 129       \n",
            "=================================================================\n",
            "Total params: 1,079,777\n",
            "Trainable params: 1,079,777\n",
            "Non-trainable params: 0\n",
            "_________________________________________________________________\n",
            "Epoch 1/10\n",
            "21/21 [==============================] - 1s 37ms/step - loss: 5168.6064 - mae: 63.8111 - val_loss: 3465.1204 - val_mae: 40.0529\n",
            "Epoch 2/10\n",
            "21/21 [==============================] - 1s 38ms/step - loss: 1689.2898 - mae: 31.4684 - val_loss: 1350.5861 - val_mae: 27.1492\n",
            "Epoch 3/10\n",
            "21/21 [==============================] - 1s 32ms/step - loss: 663.3102 - mae: 19.8518 - val_loss: 821.1418 - val_mae: 20.7372\n",
            "Epoch 4/10\n",
            "21/21 [==============================] - 1s 32ms/step - loss: 392.6970 - mae: 15.0604 - val_loss: 573.8720 - val_mae: 16.9694\n",
            "Epoch 5/10\n",
            "21/21 [==============================] - 1s 32ms/step - loss: 271.4433 - mae: 12.4138 - val_loss: 446.4196 - val_mae: 15.2709\n",
            "Epoch 6/10\n",
            "21/21 [==============================] - 1s 40ms/step - loss: 221.9353 - mae: 11.2787 - val_loss: 365.3101 - val_mae: 14.0983\n",
            "Epoch 7/10\n",
            "21/21 [==============================] - 1s 30ms/step - loss: 191.1783 - mae: 10.4136 - val_loss: 316.0793 - val_mae: 13.2942\n",
            "Epoch 8/10\n",
            "21/21 [==============================] - 1s 31ms/step - loss: 172.8595 - mae: 9.8894 - val_loss: 278.9978 - val_mae: 12.6595\n",
            "Epoch 9/10\n",
            "21/21 [==============================] - 1s 32ms/step - loss: 159.7052 - mae: 9.4860 - val_loss: 264.3923 - val_mae: 12.3890\n",
            "Epoch 10/10\n",
            "21/21 [==============================] - 1s 28ms/step - loss: 151.0071 - mae: 9.1945 - val_loss: 240.6334 - val_mae: 11.9575\n"
          ],
          "name": "stdout"
        },
        {
          "output_type": "display_data",
          "data": {
            "text/html": [
              "<span style=\"color:#4527A0\"><h1 style=\"font-size:18px\">Trial complete</h1></span>"
            ],
            "text/plain": [
              "<IPython.core.display.HTML object>"
            ]
          },
          "metadata": {
            "tags": []
          }
        },
        {
          "output_type": "display_data",
          "data": {
            "text/html": [
              "<span style=\"color:#4527A0\"><h1 style=\"font-size:18px\">Trial summary</h1></span>"
            ],
            "text/plain": [
              "<IPython.core.display.HTML object>"
            ]
          },
          "metadata": {
            "tags": []
          }
        },
        {
          "output_type": "display_data",
          "data": {
            "text/html": [
              "<span style=\"color:cyan\"> |-Trial ID: c7daaf0882bbbca224c4245a772cac69</span>"
            ],
            "text/plain": [
              "<IPython.core.display.HTML object>"
            ]
          },
          "metadata": {
            "tags": []
          }
        },
        {
          "output_type": "display_data",
          "data": {
            "text/html": [
              "<span style=\"color:cyan\"> |-Score: 151.00706481933594</span>"
            ],
            "text/plain": [
              "<IPython.core.display.HTML object>"
            ]
          },
          "metadata": {
            "tags": []
          }
        },
        {
          "output_type": "display_data",
          "data": {
            "text/html": [
              "<span style=\"color:cyan\"> |-Best step: 0</span>"
            ],
            "text/plain": [
              "<IPython.core.display.HTML object>"
            ]
          },
          "metadata": {
            "tags": []
          }
        },
        {
          "output_type": "display_data",
          "data": {
            "text/html": [
              "<span style=\"color:#7E57C2\"><h2 style=\"font-size:16px\">Hyperparameters:</h2></span>"
            ],
            "text/plain": [
              "<IPython.core.display.HTML object>"
            ]
          },
          "metadata": {
            "tags": []
          }
        },
        {
          "output_type": "display_data",
          "data": {
            "text/html": [
              "<span style=\"color:cyan\"> |-activation: elu</span>"
            ],
            "text/plain": [
              "<IPython.core.display.HTML object>"
            ]
          },
          "metadata": {
            "tags": []
          }
        },
        {
          "output_type": "display_data",
          "data": {
            "text/html": [
              "<span style=\"color:blue\"> |-n_layers: 2</span>"
            ],
            "text/plain": [
              "<IPython.core.display.HTML object>"
            ]
          },
          "metadata": {
            "tags": []
          }
        },
        {
          "output_type": "display_data",
          "data": {
            "text/html": [
              "<span style=\"color:cyan\"> |-optimizer: adam</span>"
            ],
            "text/plain": [
              "<IPython.core.display.HTML object>"
            ]
          },
          "metadata": {
            "tags": []
          }
        },
        {
          "output_type": "display_data",
          "data": {
            "text/html": [
              "<span style=\"color:blue\"> |-units_0: 640</span>"
            ],
            "text/plain": [
              "<IPython.core.display.HTML object>"
            ]
          },
          "metadata": {
            "tags": []
          }
        },
        {
          "output_type": "display_data",
          "data": {
            "text/html": [
              "<span style=\"color:cyan\"> |-units_1: 128</span>"
            ],
            "text/plain": [
              "<IPython.core.display.HTML object>"
            ]
          },
          "metadata": {
            "tags": []
          }
        },
        {
          "output_type": "display_data",
          "data": {
            "text/html": [
              "<span style=\"color:blue\"> |-units_2: 544</span>"
            ],
            "text/plain": [
              "<IPython.core.display.HTML object>"
            ]
          },
          "metadata": {
            "tags": []
          }
        },
        {
          "output_type": "display_data",
          "data": {
            "text/html": [
              "<span style=\"color:cyan\"> |-units_input: 992</span>"
            ],
            "text/plain": [
              "<IPython.core.display.HTML object>"
            ]
          },
          "metadata": {
            "tags": []
          }
        },
        {
          "output_type": "stream",
          "text": [
            "Model: \"sequential\"\n",
            "_________________________________________________________________\n",
            "Layer (type)                 Output Shape              Param #   \n",
            "=================================================================\n",
            "dense (Dense)                (None, 896)               327040    \n",
            "_________________________________________________________________\n",
            "dense_1 (Dense)              (None, 512)               459264    \n",
            "_________________________________________________________________\n",
            "dense_2 (Dense)              (None, 768)               393984    \n",
            "_________________________________________________________________\n",
            "dense_3 (Dense)              (None, 1)                 769       \n",
            "=================================================================\n",
            "Total params: 1,181,057\n",
            "Trainable params: 1,181,057\n",
            "Non-trainable params: 0\n",
            "_________________________________________________________________\n",
            "Epoch 1/10\n",
            "21/21 [==============================] - 1s 35ms/step - loss: nan - mae: nan - val_loss: nan - val_mae: nan\n",
            "Epoch 2/10\n",
            "21/21 [==============================] - 1s 30ms/step - loss: nan - mae: nan - val_loss: nan - val_mae: nan\n",
            "Epoch 3/10\n",
            "21/21 [==============================] - 1s 31ms/step - loss: nan - mae: nan - val_loss: nan - val_mae: nan\n",
            "Epoch 4/10\n",
            "21/21 [==============================] - 1s 31ms/step - loss: nan - mae: nan - val_loss: nan - val_mae: nan\n",
            "Epoch 5/10\n",
            "21/21 [==============================] - 1s 33ms/step - loss: nan - mae: nan - val_loss: nan - val_mae: nan\n",
            "Epoch 6/10\n",
            "21/21 [==============================] - 1s 33ms/step - loss: nan - mae: nan - val_loss: nan - val_mae: nan\n",
            "Epoch 7/10\n",
            "21/21 [==============================] - 1s 33ms/step - loss: nan - mae: nan - val_loss: nan - val_mae: nan\n",
            "Epoch 8/10\n",
            "21/21 [==============================] - 1s 33ms/step - loss: nan - mae: nan - val_loss: nan - val_mae: nan\n",
            "Epoch 9/10\n",
            "21/21 [==============================] - 1s 32ms/step - loss: nan - mae: nan - val_loss: nan - val_mae: nan\n",
            "Epoch 10/10\n",
            "21/21 [==============================] - 1s 30ms/step - loss: nan - mae: nan - val_loss: nan - val_mae: nan\n"
          ],
          "name": "stdout"
        },
        {
          "output_type": "display_data",
          "data": {
            "text/html": [
              "<span style=\"color:#4527A0\"><h1 style=\"font-size:18px\">Trial complete</h1></span>"
            ],
            "text/plain": [
              "<IPython.core.display.HTML object>"
            ]
          },
          "metadata": {
            "tags": []
          }
        },
        {
          "output_type": "display_data",
          "data": {
            "text/html": [
              "<span style=\"color:#4527A0\"><h1 style=\"font-size:18px\">Trial summary</h1></span>"
            ],
            "text/plain": [
              "<IPython.core.display.HTML object>"
            ]
          },
          "metadata": {
            "tags": []
          }
        },
        {
          "output_type": "display_data",
          "data": {
            "text/html": [
              "<span style=\"color:cyan\"> |-Trial ID: 90cc0f2d5ddfc61c88ffe761a6b02da5</span>"
            ],
            "text/plain": [
              "<IPython.core.display.HTML object>"
            ]
          },
          "metadata": {
            "tags": []
          }
        },
        {
          "output_type": "display_data",
          "data": {
            "text/html": [
              "<span style=\"color:cyan\"> |-Score: nan</span>"
            ],
            "text/plain": [
              "<IPython.core.display.HTML object>"
            ]
          },
          "metadata": {
            "tags": []
          }
        },
        {
          "output_type": "display_data",
          "data": {
            "text/html": [
              "<span style=\"color:cyan\"> |-Best step: None</span>"
            ],
            "text/plain": [
              "<IPython.core.display.HTML object>"
            ]
          },
          "metadata": {
            "tags": []
          }
        },
        {
          "output_type": "display_data",
          "data": {
            "text/html": [
              "<span style=\"color:#7E57C2\"><h2 style=\"font-size:16px\">Hyperparameters:</h2></span>"
            ],
            "text/plain": [
              "<IPython.core.display.HTML object>"
            ]
          },
          "metadata": {
            "tags": []
          }
        },
        {
          "output_type": "display_data",
          "data": {
            "text/html": [
              "<span style=\"color:cyan\"> |-activation: elu</span>"
            ],
            "text/plain": [
              "<IPython.core.display.HTML object>"
            ]
          },
          "metadata": {
            "tags": []
          }
        },
        {
          "output_type": "display_data",
          "data": {
            "text/html": [
              "<span style=\"color:blue\"> |-n_layers: 2</span>"
            ],
            "text/plain": [
              "<IPython.core.display.HTML object>"
            ]
          },
          "metadata": {
            "tags": []
          }
        },
        {
          "output_type": "display_data",
          "data": {
            "text/html": [
              "<span style=\"color:cyan\"> |-optimizer: SGD</span>"
            ],
            "text/plain": [
              "<IPython.core.display.HTML object>"
            ]
          },
          "metadata": {
            "tags": []
          }
        },
        {
          "output_type": "display_data",
          "data": {
            "text/html": [
              "<span style=\"color:blue\"> |-units_0: 512</span>"
            ],
            "text/plain": [
              "<IPython.core.display.HTML object>"
            ]
          },
          "metadata": {
            "tags": []
          }
        },
        {
          "output_type": "display_data",
          "data": {
            "text/html": [
              "<span style=\"color:cyan\"> |-units_1: 768</span>"
            ],
            "text/plain": [
              "<IPython.core.display.HTML object>"
            ]
          },
          "metadata": {
            "tags": []
          }
        },
        {
          "output_type": "display_data",
          "data": {
            "text/html": [
              "<span style=\"color:blue\"> |-units_2: 320</span>"
            ],
            "text/plain": [
              "<IPython.core.display.HTML object>"
            ]
          },
          "metadata": {
            "tags": []
          }
        },
        {
          "output_type": "display_data",
          "data": {
            "text/html": [
              "<span style=\"color:cyan\"> |-units_input: 896</span>"
            ],
            "text/plain": [
              "<IPython.core.display.HTML object>"
            ]
          },
          "metadata": {
            "tags": []
          }
        },
        {
          "output_type": "stream",
          "text": [
            "Model: \"sequential\"\n",
            "_________________________________________________________________\n",
            "Layer (type)                 Output Shape              Param #   \n",
            "=================================================================\n",
            "dense (Dense)                (None, 224)               81760     \n",
            "_________________________________________________________________\n",
            "dense_1 (Dense)              (None, 896)               201600    \n",
            "_________________________________________________________________\n",
            "dense_2 (Dense)              (None, 896)               803712    \n",
            "_________________________________________________________________\n",
            "dense_3 (Dense)              (None, 1)                 897       \n",
            "=================================================================\n",
            "Total params: 1,087,969\n",
            "Trainable params: 1,087,969\n",
            "Non-trainable params: 0\n",
            "_________________________________________________________________\n",
            "Epoch 1/10\n",
            "21/21 [==============================] - 1s 34ms/step - loss: nan - mae: nan - val_loss: nan - val_mae: nan\n",
            "Epoch 2/10\n",
            "21/21 [==============================] - 1s 30ms/step - loss: nan - mae: nan - val_loss: nan - val_mae: nan\n",
            "Epoch 3/10\n",
            "21/21 [==============================] - 1s 29ms/step - loss: nan - mae: nan - val_loss: nan - val_mae: nan\n",
            "Epoch 4/10\n",
            "21/21 [==============================] - 1s 30ms/step - loss: nan - mae: nan - val_loss: nan - val_mae: nan\n",
            "Epoch 5/10\n",
            "21/21 [==============================] - 1s 32ms/step - loss: nan - mae: nan - val_loss: nan - val_mae: nan\n",
            "Epoch 6/10\n",
            "21/21 [==============================] - 1s 31ms/step - loss: nan - mae: nan - val_loss: nan - val_mae: nan\n",
            "Epoch 7/10\n",
            "21/21 [==============================] - 1s 29ms/step - loss: nan - mae: nan - val_loss: nan - val_mae: nan\n",
            "Epoch 8/10\n",
            "21/21 [==============================] - 1s 28ms/step - loss: nan - mae: nan - val_loss: nan - val_mae: nan\n",
            "Epoch 9/10\n",
            "21/21 [==============================] - 1s 31ms/step - loss: nan - mae: nan - val_loss: nan - val_mae: nan\n",
            "Epoch 10/10\n",
            "21/21 [==============================] - 1s 29ms/step - loss: nan - mae: nan - val_loss: nan - val_mae: nan\n"
          ],
          "name": "stdout"
        },
        {
          "output_type": "display_data",
          "data": {
            "text/html": [
              "<span style=\"color:#4527A0\"><h1 style=\"font-size:18px\">Trial complete</h1></span>"
            ],
            "text/plain": [
              "<IPython.core.display.HTML object>"
            ]
          },
          "metadata": {
            "tags": []
          }
        },
        {
          "output_type": "display_data",
          "data": {
            "text/html": [
              "<span style=\"color:#4527A0\"><h1 style=\"font-size:18px\">Trial summary</h1></span>"
            ],
            "text/plain": [
              "<IPython.core.display.HTML object>"
            ]
          },
          "metadata": {
            "tags": []
          }
        },
        {
          "output_type": "display_data",
          "data": {
            "text/html": [
              "<span style=\"color:cyan\"> |-Trial ID: 185ff01beee665c0e2ceb30817a739e9</span>"
            ],
            "text/plain": [
              "<IPython.core.display.HTML object>"
            ]
          },
          "metadata": {
            "tags": []
          }
        },
        {
          "output_type": "display_data",
          "data": {
            "text/html": [
              "<span style=\"color:cyan\"> |-Score: nan</span>"
            ],
            "text/plain": [
              "<IPython.core.display.HTML object>"
            ]
          },
          "metadata": {
            "tags": []
          }
        },
        {
          "output_type": "display_data",
          "data": {
            "text/html": [
              "<span style=\"color:cyan\"> |-Best step: None</span>"
            ],
            "text/plain": [
              "<IPython.core.display.HTML object>"
            ]
          },
          "metadata": {
            "tags": []
          }
        },
        {
          "output_type": "display_data",
          "data": {
            "text/html": [
              "<span style=\"color:#7E57C2\"><h2 style=\"font-size:16px\">Hyperparameters:</h2></span>"
            ],
            "text/plain": [
              "<IPython.core.display.HTML object>"
            ]
          },
          "metadata": {
            "tags": []
          }
        },
        {
          "output_type": "display_data",
          "data": {
            "text/html": [
              "<span style=\"color:cyan\"> |-activation: elu</span>"
            ],
            "text/plain": [
              "<IPython.core.display.HTML object>"
            ]
          },
          "metadata": {
            "tags": []
          }
        },
        {
          "output_type": "display_data",
          "data": {
            "text/html": [
              "<span style=\"color:blue\"> |-n_layers: 2</span>"
            ],
            "text/plain": [
              "<IPython.core.display.HTML object>"
            ]
          },
          "metadata": {
            "tags": []
          }
        },
        {
          "output_type": "display_data",
          "data": {
            "text/html": [
              "<span style=\"color:cyan\"> |-optimizer: SGD</span>"
            ],
            "text/plain": [
              "<IPython.core.display.HTML object>"
            ]
          },
          "metadata": {
            "tags": []
          }
        },
        {
          "output_type": "display_data",
          "data": {
            "text/html": [
              "<span style=\"color:blue\"> |-units_0: 896</span>"
            ],
            "text/plain": [
              "<IPython.core.display.HTML object>"
            ]
          },
          "metadata": {
            "tags": []
          }
        },
        {
          "output_type": "display_data",
          "data": {
            "text/html": [
              "<span style=\"color:cyan\"> |-units_1: 896</span>"
            ],
            "text/plain": [
              "<IPython.core.display.HTML object>"
            ]
          },
          "metadata": {
            "tags": []
          }
        },
        {
          "output_type": "display_data",
          "data": {
            "text/html": [
              "<span style=\"color:blue\"> |-units_2: 416</span>"
            ],
            "text/plain": [
              "<IPython.core.display.HTML object>"
            ]
          },
          "metadata": {
            "tags": []
          }
        },
        {
          "output_type": "display_data",
          "data": {
            "text/html": [
              "<span style=\"color:cyan\"> |-units_input: 224</span>"
            ],
            "text/plain": [
              "<IPython.core.display.HTML object>"
            ]
          },
          "metadata": {
            "tags": []
          }
        },
        {
          "output_type": "stream",
          "text": [
            "INFO:tensorflow:Oracle triggered exit\n",
            "\n",
            "\n",
            "\n",
            "RESULTS SUMMARY\n"
          ],
          "name": "stdout"
        },
        {
          "output_type": "display_data",
          "data": {
            "text/html": [
              "<span style=\"color:#4527A0\"><h1 style=\"font-size:18px\">Results summary</h1></span>"
            ],
            "text/plain": [
              "<IPython.core.display.HTML object>"
            ]
          },
          "metadata": {
            "tags": []
          }
        },
        {
          "output_type": "display_data",
          "data": {
            "text/html": [
              "<span style=\"color:cyan\"> |-Results in ./untitled_project</span>"
            ],
            "text/plain": [
              "<IPython.core.display.HTML object>"
            ]
          },
          "metadata": {
            "tags": []
          }
        },
        {
          "output_type": "display_data",
          "data": {
            "text/html": [
              "<span style=\"color:cyan\"> |-Showing 10 best trials</span>"
            ],
            "text/plain": [
              "<IPython.core.display.HTML object>"
            ]
          },
          "metadata": {
            "tags": []
          }
        },
        {
          "output_type": "display_data",
          "data": {
            "text/html": [
              "<span style=\"color:cyan\"> |-Objective(name='loss', direction='min')</span>"
            ],
            "text/plain": [
              "<IPython.core.display.HTML object>"
            ]
          },
          "metadata": {
            "tags": []
          }
        },
        {
          "output_type": "display_data",
          "data": {
            "text/html": [
              "<span style=\"color:#4527A0\"><h1 style=\"font-size:18px\">Trial summary</h1></span>"
            ],
            "text/plain": [
              "<IPython.core.display.HTML object>"
            ]
          },
          "metadata": {
            "tags": []
          }
        },
        {
          "output_type": "display_data",
          "data": {
            "text/html": [
              "<span style=\"color:cyan\"> |-Trial ID: 9eabc3ff53d385084be00c230d4e9bc7</span>"
            ],
            "text/plain": [
              "<IPython.core.display.HTML object>"
            ]
          },
          "metadata": {
            "tags": []
          }
        },
        {
          "output_type": "display_data",
          "data": {
            "text/html": [
              "<span style=\"color:cyan\"> |-Score: 138.1664581298828</span>"
            ],
            "text/plain": [
              "<IPython.core.display.HTML object>"
            ]
          },
          "metadata": {
            "tags": []
          }
        },
        {
          "output_type": "display_data",
          "data": {
            "text/html": [
              "<span style=\"color:cyan\"> |-Best step: 0</span>"
            ],
            "text/plain": [
              "<IPython.core.display.HTML object>"
            ]
          },
          "metadata": {
            "tags": []
          }
        },
        {
          "output_type": "display_data",
          "data": {
            "text/html": [
              "<span style=\"color:#7E57C2\"><h2 style=\"font-size:16px\">Hyperparameters:</h2></span>"
            ],
            "text/plain": [
              "<IPython.core.display.HTML object>"
            ]
          },
          "metadata": {
            "tags": []
          }
        },
        {
          "output_type": "display_data",
          "data": {
            "text/html": [
              "<span style=\"color:cyan\"> |-activation: relu</span>"
            ],
            "text/plain": [
              "<IPython.core.display.HTML object>"
            ]
          },
          "metadata": {
            "tags": []
          }
        },
        {
          "output_type": "display_data",
          "data": {
            "text/html": [
              "<span style=\"color:blue\"> |-n_layers: 2</span>"
            ],
            "text/plain": [
              "<IPython.core.display.HTML object>"
            ]
          },
          "metadata": {
            "tags": []
          }
        },
        {
          "output_type": "display_data",
          "data": {
            "text/html": [
              "<span style=\"color:cyan\"> |-optimizer: adam</span>"
            ],
            "text/plain": [
              "<IPython.core.display.HTML object>"
            ]
          },
          "metadata": {
            "tags": []
          }
        },
        {
          "output_type": "display_data",
          "data": {
            "text/html": [
              "<span style=\"color:blue\"> |-units_0: 928</span>"
            ],
            "text/plain": [
              "<IPython.core.display.HTML object>"
            ]
          },
          "metadata": {
            "tags": []
          }
        },
        {
          "output_type": "display_data",
          "data": {
            "text/html": [
              "<span style=\"color:cyan\"> |-units_1: 288</span>"
            ],
            "text/plain": [
              "<IPython.core.display.HTML object>"
            ]
          },
          "metadata": {
            "tags": []
          }
        },
        {
          "output_type": "display_data",
          "data": {
            "text/html": [
              "<span style=\"color:blue\"> |-units_input: 1024</span>"
            ],
            "text/plain": [
              "<IPython.core.display.HTML object>"
            ]
          },
          "metadata": {
            "tags": []
          }
        },
        {
          "output_type": "display_data",
          "data": {
            "text/html": [
              "<span style=\"color:#4527A0\"><h1 style=\"font-size:18px\">Trial summary</h1></span>"
            ],
            "text/plain": [
              "<IPython.core.display.HTML object>"
            ]
          },
          "metadata": {
            "tags": []
          }
        },
        {
          "output_type": "display_data",
          "data": {
            "text/html": [
              "<span style=\"color:cyan\"> |-Trial ID: bda9202be2ade4e0a4f67edbe730cc33</span>"
            ],
            "text/plain": [
              "<IPython.core.display.HTML object>"
            ]
          },
          "metadata": {
            "tags": []
          }
        },
        {
          "output_type": "display_data",
          "data": {
            "text/html": [
              "<span style=\"color:cyan\"> |-Score: nan</span>"
            ],
            "text/plain": [
              "<IPython.core.display.HTML object>"
            ]
          },
          "metadata": {
            "tags": []
          }
        },
        {
          "output_type": "display_data",
          "data": {
            "text/html": [
              "<span style=\"color:cyan\"> |-Best step: None</span>"
            ],
            "text/plain": [
              "<IPython.core.display.HTML object>"
            ]
          },
          "metadata": {
            "tags": []
          }
        },
        {
          "output_type": "display_data",
          "data": {
            "text/html": [
              "<span style=\"color:#7E57C2\"><h2 style=\"font-size:16px\">Hyperparameters:</h2></span>"
            ],
            "text/plain": [
              "<IPython.core.display.HTML object>"
            ]
          },
          "metadata": {
            "tags": []
          }
        },
        {
          "output_type": "display_data",
          "data": {
            "text/html": [
              "<span style=\"color:cyan\"> |-activation: elu</span>"
            ],
            "text/plain": [
              "<IPython.core.display.HTML object>"
            ]
          },
          "metadata": {
            "tags": []
          }
        },
        {
          "output_type": "display_data",
          "data": {
            "text/html": [
              "<span style=\"color:blue\"> |-n_layers: 3</span>"
            ],
            "text/plain": [
              "<IPython.core.display.HTML object>"
            ]
          },
          "metadata": {
            "tags": []
          }
        },
        {
          "output_type": "display_data",
          "data": {
            "text/html": [
              "<span style=\"color:cyan\"> |-optimizer: SGD</span>"
            ],
            "text/plain": [
              "<IPython.core.display.HTML object>"
            ]
          },
          "metadata": {
            "tags": []
          }
        },
        {
          "output_type": "display_data",
          "data": {
            "text/html": [
              "<span style=\"color:blue\"> |-units_0: 864</span>"
            ],
            "text/plain": [
              "<IPython.core.display.HTML object>"
            ]
          },
          "metadata": {
            "tags": []
          }
        },
        {
          "output_type": "display_data",
          "data": {
            "text/html": [
              "<span style=\"color:cyan\"> |-units_1: 800</span>"
            ],
            "text/plain": [
              "<IPython.core.display.HTML object>"
            ]
          },
          "metadata": {
            "tags": []
          }
        },
        {
          "output_type": "display_data",
          "data": {
            "text/html": [
              "<span style=\"color:blue\"> |-units_2: 32</span>"
            ],
            "text/plain": [
              "<IPython.core.display.HTML object>"
            ]
          },
          "metadata": {
            "tags": []
          }
        },
        {
          "output_type": "display_data",
          "data": {
            "text/html": [
              "<span style=\"color:cyan\"> |-units_input: 256</span>"
            ],
            "text/plain": [
              "<IPython.core.display.HTML object>"
            ]
          },
          "metadata": {
            "tags": []
          }
        },
        {
          "output_type": "display_data",
          "data": {
            "text/html": [
              "<span style=\"color:#4527A0\"><h1 style=\"font-size:18px\">Trial summary</h1></span>"
            ],
            "text/plain": [
              "<IPython.core.display.HTML object>"
            ]
          },
          "metadata": {
            "tags": []
          }
        },
        {
          "output_type": "display_data",
          "data": {
            "text/html": [
              "<span style=\"color:cyan\"> |-Trial ID: 411732ef7229ebc864ebb1e94fd82e3a</span>"
            ],
            "text/plain": [
              "<IPython.core.display.HTML object>"
            ]
          },
          "metadata": {
            "tags": []
          }
        },
        {
          "output_type": "display_data",
          "data": {
            "text/html": [
              "<span style=\"color:cyan\"> |-Score: 133.4932861328125</span>"
            ],
            "text/plain": [
              "<IPython.core.display.HTML object>"
            ]
          },
          "metadata": {
            "tags": []
          }
        },
        {
          "output_type": "display_data",
          "data": {
            "text/html": [
              "<span style=\"color:cyan\"> |-Best step: 0</span>"
            ],
            "text/plain": [
              "<IPython.core.display.HTML object>"
            ]
          },
          "metadata": {
            "tags": []
          }
        },
        {
          "output_type": "display_data",
          "data": {
            "text/html": [
              "<span style=\"color:#7E57C2\"><h2 style=\"font-size:16px\">Hyperparameters:</h2></span>"
            ],
            "text/plain": [
              "<IPython.core.display.HTML object>"
            ]
          },
          "metadata": {
            "tags": []
          }
        },
        {
          "output_type": "display_data",
          "data": {
            "text/html": [
              "<span style=\"color:cyan\"> |-activation: elu</span>"
            ],
            "text/plain": [
              "<IPython.core.display.HTML object>"
            ]
          },
          "metadata": {
            "tags": []
          }
        },
        {
          "output_type": "display_data",
          "data": {
            "text/html": [
              "<span style=\"color:blue\"> |-n_layers: 3</span>"
            ],
            "text/plain": [
              "<IPython.core.display.HTML object>"
            ]
          },
          "metadata": {
            "tags": []
          }
        },
        {
          "output_type": "display_data",
          "data": {
            "text/html": [
              "<span style=\"color:cyan\"> |-optimizer: adam</span>"
            ],
            "text/plain": [
              "<IPython.core.display.HTML object>"
            ]
          },
          "metadata": {
            "tags": []
          }
        },
        {
          "output_type": "display_data",
          "data": {
            "text/html": [
              "<span style=\"color:blue\"> |-units_0: 736</span>"
            ],
            "text/plain": [
              "<IPython.core.display.HTML object>"
            ]
          },
          "metadata": {
            "tags": []
          }
        },
        {
          "output_type": "display_data",
          "data": {
            "text/html": [
              "<span style=\"color:cyan\"> |-units_1: 480</span>"
            ],
            "text/plain": [
              "<IPython.core.display.HTML object>"
            ]
          },
          "metadata": {
            "tags": []
          }
        },
        {
          "output_type": "display_data",
          "data": {
            "text/html": [
              "<span style=\"color:blue\"> |-units_2: 32</span>"
            ],
            "text/plain": [
              "<IPython.core.display.HTML object>"
            ]
          },
          "metadata": {
            "tags": []
          }
        },
        {
          "output_type": "display_data",
          "data": {
            "text/html": [
              "<span style=\"color:cyan\"> |-units_input: 992</span>"
            ],
            "text/plain": [
              "<IPython.core.display.HTML object>"
            ]
          },
          "metadata": {
            "tags": []
          }
        },
        {
          "output_type": "display_data",
          "data": {
            "text/html": [
              "<span style=\"color:#4527A0\"><h1 style=\"font-size:18px\">Trial summary</h1></span>"
            ],
            "text/plain": [
              "<IPython.core.display.HTML object>"
            ]
          },
          "metadata": {
            "tags": []
          }
        },
        {
          "output_type": "display_data",
          "data": {
            "text/html": [
              "<span style=\"color:cyan\"> |-Trial ID: 5d4a6dd8c9ad70aa05836022ebf625c8</span>"
            ],
            "text/plain": [
              "<IPython.core.display.HTML object>"
            ]
          },
          "metadata": {
            "tags": []
          }
        },
        {
          "output_type": "display_data",
          "data": {
            "text/html": [
              "<span style=\"color:cyan\"> |-Score: 136.04209899902344</span>"
            ],
            "text/plain": [
              "<IPython.core.display.HTML object>"
            ]
          },
          "metadata": {
            "tags": []
          }
        },
        {
          "output_type": "display_data",
          "data": {
            "text/html": [
              "<span style=\"color:cyan\"> |-Best step: 0</span>"
            ],
            "text/plain": [
              "<IPython.core.display.HTML object>"
            ]
          },
          "metadata": {
            "tags": []
          }
        },
        {
          "output_type": "display_data",
          "data": {
            "text/html": [
              "<span style=\"color:#7E57C2\"><h2 style=\"font-size:16px\">Hyperparameters:</h2></span>"
            ],
            "text/plain": [
              "<IPython.core.display.HTML object>"
            ]
          },
          "metadata": {
            "tags": []
          }
        },
        {
          "output_type": "display_data",
          "data": {
            "text/html": [
              "<span style=\"color:cyan\"> |-activation: elu</span>"
            ],
            "text/plain": [
              "<IPython.core.display.HTML object>"
            ]
          },
          "metadata": {
            "tags": []
          }
        },
        {
          "output_type": "display_data",
          "data": {
            "text/html": [
              "<span style=\"color:blue\"> |-n_layers: 3</span>"
            ],
            "text/plain": [
              "<IPython.core.display.HTML object>"
            ]
          },
          "metadata": {
            "tags": []
          }
        },
        {
          "output_type": "display_data",
          "data": {
            "text/html": [
              "<span style=\"color:cyan\"> |-optimizer: rmsprop</span>"
            ],
            "text/plain": [
              "<IPython.core.display.HTML object>"
            ]
          },
          "metadata": {
            "tags": []
          }
        },
        {
          "output_type": "display_data",
          "data": {
            "text/html": [
              "<span style=\"color:blue\"> |-units_0: 320</span>"
            ],
            "text/plain": [
              "<IPython.core.display.HTML object>"
            ]
          },
          "metadata": {
            "tags": []
          }
        },
        {
          "output_type": "display_data",
          "data": {
            "text/html": [
              "<span style=\"color:cyan\"> |-units_1: 384</span>"
            ],
            "text/plain": [
              "<IPython.core.display.HTML object>"
            ]
          },
          "metadata": {
            "tags": []
          }
        },
        {
          "output_type": "display_data",
          "data": {
            "text/html": [
              "<span style=\"color:blue\"> |-units_2: 416</span>"
            ],
            "text/plain": [
              "<IPython.core.display.HTML object>"
            ]
          },
          "metadata": {
            "tags": []
          }
        },
        {
          "output_type": "display_data",
          "data": {
            "text/html": [
              "<span style=\"color:cyan\"> |-units_input: 480</span>"
            ],
            "text/plain": [
              "<IPython.core.display.HTML object>"
            ]
          },
          "metadata": {
            "tags": []
          }
        },
        {
          "output_type": "display_data",
          "data": {
            "text/html": [
              "<span style=\"color:#4527A0\"><h1 style=\"font-size:18px\">Trial summary</h1></span>"
            ],
            "text/plain": [
              "<IPython.core.display.HTML object>"
            ]
          },
          "metadata": {
            "tags": []
          }
        },
        {
          "output_type": "display_data",
          "data": {
            "text/html": [
              "<span style=\"color:cyan\"> |-Trial ID: eaff723db62c7a09791cb95c4e64b212</span>"
            ],
            "text/plain": [
              "<IPython.core.display.HTML object>"
            ]
          },
          "metadata": {
            "tags": []
          }
        },
        {
          "output_type": "display_data",
          "data": {
            "text/html": [
              "<span style=\"color:cyan\"> |-Score: 138.3726043701172</span>"
            ],
            "text/plain": [
              "<IPython.core.display.HTML object>"
            ]
          },
          "metadata": {
            "tags": []
          }
        },
        {
          "output_type": "display_data",
          "data": {
            "text/html": [
              "<span style=\"color:cyan\"> |-Best step: 0</span>"
            ],
            "text/plain": [
              "<IPython.core.display.HTML object>"
            ]
          },
          "metadata": {
            "tags": []
          }
        },
        {
          "output_type": "display_data",
          "data": {
            "text/html": [
              "<span style=\"color:#7E57C2\"><h2 style=\"font-size:16px\">Hyperparameters:</h2></span>"
            ],
            "text/plain": [
              "<IPython.core.display.HTML object>"
            ]
          },
          "metadata": {
            "tags": []
          }
        },
        {
          "output_type": "display_data",
          "data": {
            "text/html": [
              "<span style=\"color:cyan\"> |-activation: selu</span>"
            ],
            "text/plain": [
              "<IPython.core.display.HTML object>"
            ]
          },
          "metadata": {
            "tags": []
          }
        },
        {
          "output_type": "display_data",
          "data": {
            "text/html": [
              "<span style=\"color:blue\"> |-n_layers: 2</span>"
            ],
            "text/plain": [
              "<IPython.core.display.HTML object>"
            ]
          },
          "metadata": {
            "tags": []
          }
        },
        {
          "output_type": "display_data",
          "data": {
            "text/html": [
              "<span style=\"color:cyan\"> |-optimizer: adam</span>"
            ],
            "text/plain": [
              "<IPython.core.display.HTML object>"
            ]
          },
          "metadata": {
            "tags": []
          }
        },
        {
          "output_type": "display_data",
          "data": {
            "text/html": [
              "<span style=\"color:blue\"> |-units_0: 1024</span>"
            ],
            "text/plain": [
              "<IPython.core.display.HTML object>"
            ]
          },
          "metadata": {
            "tags": []
          }
        },
        {
          "output_type": "display_data",
          "data": {
            "text/html": [
              "<span style=\"color:cyan\"> |-units_1: 608</span>"
            ],
            "text/plain": [
              "<IPython.core.display.HTML object>"
            ]
          },
          "metadata": {
            "tags": []
          }
        },
        {
          "output_type": "display_data",
          "data": {
            "text/html": [
              "<span style=\"color:blue\"> |-units_2: 832</span>"
            ],
            "text/plain": [
              "<IPython.core.display.HTML object>"
            ]
          },
          "metadata": {
            "tags": []
          }
        },
        {
          "output_type": "display_data",
          "data": {
            "text/html": [
              "<span style=\"color:cyan\"> |-units_input: 736</span>"
            ],
            "text/plain": [
              "<IPython.core.display.HTML object>"
            ]
          },
          "metadata": {
            "tags": []
          }
        },
        {
          "output_type": "display_data",
          "data": {
            "text/html": [
              "<span style=\"color:#4527A0\"><h1 style=\"font-size:18px\">Trial summary</h1></span>"
            ],
            "text/plain": [
              "<IPython.core.display.HTML object>"
            ]
          },
          "metadata": {
            "tags": []
          }
        },
        {
          "output_type": "display_data",
          "data": {
            "text/html": [
              "<span style=\"color:cyan\"> |-Trial ID: c7daaf0882bbbca224c4245a772cac69</span>"
            ],
            "text/plain": [
              "<IPython.core.display.HTML object>"
            ]
          },
          "metadata": {
            "tags": []
          }
        },
        {
          "output_type": "display_data",
          "data": {
            "text/html": [
              "<span style=\"color:cyan\"> |-Score: 151.00706481933594</span>"
            ],
            "text/plain": [
              "<IPython.core.display.HTML object>"
            ]
          },
          "metadata": {
            "tags": []
          }
        },
        {
          "output_type": "display_data",
          "data": {
            "text/html": [
              "<span style=\"color:cyan\"> |-Best step: 0</span>"
            ],
            "text/plain": [
              "<IPython.core.display.HTML object>"
            ]
          },
          "metadata": {
            "tags": []
          }
        },
        {
          "output_type": "display_data",
          "data": {
            "text/html": [
              "<span style=\"color:#7E57C2\"><h2 style=\"font-size:16px\">Hyperparameters:</h2></span>"
            ],
            "text/plain": [
              "<IPython.core.display.HTML object>"
            ]
          },
          "metadata": {
            "tags": []
          }
        },
        {
          "output_type": "display_data",
          "data": {
            "text/html": [
              "<span style=\"color:cyan\"> |-activation: elu</span>"
            ],
            "text/plain": [
              "<IPython.core.display.HTML object>"
            ]
          },
          "metadata": {
            "tags": []
          }
        },
        {
          "output_type": "display_data",
          "data": {
            "text/html": [
              "<span style=\"color:blue\"> |-n_layers: 2</span>"
            ],
            "text/plain": [
              "<IPython.core.display.HTML object>"
            ]
          },
          "metadata": {
            "tags": []
          }
        },
        {
          "output_type": "display_data",
          "data": {
            "text/html": [
              "<span style=\"color:cyan\"> |-optimizer: adam</span>"
            ],
            "text/plain": [
              "<IPython.core.display.HTML object>"
            ]
          },
          "metadata": {
            "tags": []
          }
        },
        {
          "output_type": "display_data",
          "data": {
            "text/html": [
              "<span style=\"color:blue\"> |-units_0: 640</span>"
            ],
            "text/plain": [
              "<IPython.core.display.HTML object>"
            ]
          },
          "metadata": {
            "tags": []
          }
        },
        {
          "output_type": "display_data",
          "data": {
            "text/html": [
              "<span style=\"color:cyan\"> |-units_1: 128</span>"
            ],
            "text/plain": [
              "<IPython.core.display.HTML object>"
            ]
          },
          "metadata": {
            "tags": []
          }
        },
        {
          "output_type": "display_data",
          "data": {
            "text/html": [
              "<span style=\"color:blue\"> |-units_2: 544</span>"
            ],
            "text/plain": [
              "<IPython.core.display.HTML object>"
            ]
          },
          "metadata": {
            "tags": []
          }
        },
        {
          "output_type": "display_data",
          "data": {
            "text/html": [
              "<span style=\"color:cyan\"> |-units_input: 992</span>"
            ],
            "text/plain": [
              "<IPython.core.display.HTML object>"
            ]
          },
          "metadata": {
            "tags": []
          }
        },
        {
          "output_type": "display_data",
          "data": {
            "text/html": [
              "<span style=\"color:#4527A0\"><h1 style=\"font-size:18px\">Trial summary</h1></span>"
            ],
            "text/plain": [
              "<IPython.core.display.HTML object>"
            ]
          },
          "metadata": {
            "tags": []
          }
        },
        {
          "output_type": "display_data",
          "data": {
            "text/html": [
              "<span style=\"color:cyan\"> |-Trial ID: e255302210957df4c8c0f9ba7df12fed</span>"
            ],
            "text/plain": [
              "<IPython.core.display.HTML object>"
            ]
          },
          "metadata": {
            "tags": []
          }
        },
        {
          "output_type": "display_data",
          "data": {
            "text/html": [
              "<span style=\"color:cyan\"> |-Score: 159.4571533203125</span>"
            ],
            "text/plain": [
              "<IPython.core.display.HTML object>"
            ]
          },
          "metadata": {
            "tags": []
          }
        },
        {
          "output_type": "display_data",
          "data": {
            "text/html": [
              "<span style=\"color:cyan\"> |-Best step: 0</span>"
            ],
            "text/plain": [
              "<IPython.core.display.HTML object>"
            ]
          },
          "metadata": {
            "tags": []
          }
        },
        {
          "output_type": "display_data",
          "data": {
            "text/html": [
              "<span style=\"color:#7E57C2\"><h2 style=\"font-size:16px\">Hyperparameters:</h2></span>"
            ],
            "text/plain": [
              "<IPython.core.display.HTML object>"
            ]
          },
          "metadata": {
            "tags": []
          }
        },
        {
          "output_type": "display_data",
          "data": {
            "text/html": [
              "<span style=\"color:cyan\"> |-activation: tanh</span>"
            ],
            "text/plain": [
              "<IPython.core.display.HTML object>"
            ]
          },
          "metadata": {
            "tags": []
          }
        },
        {
          "output_type": "display_data",
          "data": {
            "text/html": [
              "<span style=\"color:blue\"> |-n_layers: 2</span>"
            ],
            "text/plain": [
              "<IPython.core.display.HTML object>"
            ]
          },
          "metadata": {
            "tags": []
          }
        },
        {
          "output_type": "display_data",
          "data": {
            "text/html": [
              "<span style=\"color:cyan\"> |-optimizer: rmsprop</span>"
            ],
            "text/plain": [
              "<IPython.core.display.HTML object>"
            ]
          },
          "metadata": {
            "tags": []
          }
        },
        {
          "output_type": "display_data",
          "data": {
            "text/html": [
              "<span style=\"color:blue\"> |-units_0: 160</span>"
            ],
            "text/plain": [
              "<IPython.core.display.HTML object>"
            ]
          },
          "metadata": {
            "tags": []
          }
        },
        {
          "output_type": "display_data",
          "data": {
            "text/html": [
              "<span style=\"color:cyan\"> |-units_1: 800</span>"
            ],
            "text/plain": [
              "<IPython.core.display.HTML object>"
            ]
          },
          "metadata": {
            "tags": []
          }
        },
        {
          "output_type": "display_data",
          "data": {
            "text/html": [
              "<span style=\"color:blue\"> |-units_2: 960</span>"
            ],
            "text/plain": [
              "<IPython.core.display.HTML object>"
            ]
          },
          "metadata": {
            "tags": []
          }
        },
        {
          "output_type": "display_data",
          "data": {
            "text/html": [
              "<span style=\"color:cyan\"> |-units_input: 160</span>"
            ],
            "text/plain": [
              "<IPython.core.display.HTML object>"
            ]
          },
          "metadata": {
            "tags": []
          }
        },
        {
          "output_type": "display_data",
          "data": {
            "text/html": [
              "<span style=\"color:#4527A0\"><h1 style=\"font-size:18px\">Trial summary</h1></span>"
            ],
            "text/plain": [
              "<IPython.core.display.HTML object>"
            ]
          },
          "metadata": {
            "tags": []
          }
        },
        {
          "output_type": "display_data",
          "data": {
            "text/html": [
              "<span style=\"color:cyan\"> |-Trial ID: 3d00a1bf65eb0f546d66b2995d9aeaf0</span>"
            ],
            "text/plain": [
              "<IPython.core.display.HTML object>"
            ]
          },
          "metadata": {
            "tags": []
          }
        },
        {
          "output_type": "display_data",
          "data": {
            "text/html": [
              "<span style=\"color:cyan\"> |-Score: 164.4519805908203</span>"
            ],
            "text/plain": [
              "<IPython.core.display.HTML object>"
            ]
          },
          "metadata": {
            "tags": []
          }
        },
        {
          "output_type": "display_data",
          "data": {
            "text/html": [
              "<span style=\"color:cyan\"> |-Best step: 0</span>"
            ],
            "text/plain": [
              "<IPython.core.display.HTML object>"
            ]
          },
          "metadata": {
            "tags": []
          }
        },
        {
          "output_type": "display_data",
          "data": {
            "text/html": [
              "<span style=\"color:#7E57C2\"><h2 style=\"font-size:16px\">Hyperparameters:</h2></span>"
            ],
            "text/plain": [
              "<IPython.core.display.HTML object>"
            ]
          },
          "metadata": {
            "tags": []
          }
        },
        {
          "output_type": "display_data",
          "data": {
            "text/html": [
              "<span style=\"color:cyan\"> |-activation: tanh</span>"
            ],
            "text/plain": [
              "<IPython.core.display.HTML object>"
            ]
          },
          "metadata": {
            "tags": []
          }
        },
        {
          "output_type": "display_data",
          "data": {
            "text/html": [
              "<span style=\"color:blue\"> |-n_layers: 2</span>"
            ],
            "text/plain": [
              "<IPython.core.display.HTML object>"
            ]
          },
          "metadata": {
            "tags": []
          }
        },
        {
          "output_type": "display_data",
          "data": {
            "text/html": [
              "<span style=\"color:cyan\"> |-optimizer: adam</span>"
            ],
            "text/plain": [
              "<IPython.core.display.HTML object>"
            ]
          },
          "metadata": {
            "tags": []
          }
        },
        {
          "output_type": "display_data",
          "data": {
            "text/html": [
              "<span style=\"color:blue\"> |-units_0: 832</span>"
            ],
            "text/plain": [
              "<IPython.core.display.HTML object>"
            ]
          },
          "metadata": {
            "tags": []
          }
        },
        {
          "output_type": "display_data",
          "data": {
            "text/html": [
              "<span style=\"color:cyan\"> |-units_1: 768</span>"
            ],
            "text/plain": [
              "<IPython.core.display.HTML object>"
            ]
          },
          "metadata": {
            "tags": []
          }
        },
        {
          "output_type": "display_data",
          "data": {
            "text/html": [
              "<span style=\"color:blue\"> |-units_2: 480</span>"
            ],
            "text/plain": [
              "<IPython.core.display.HTML object>"
            ]
          },
          "metadata": {
            "tags": []
          }
        },
        {
          "output_type": "display_data",
          "data": {
            "text/html": [
              "<span style=\"color:cyan\"> |-units_input: 576</span>"
            ],
            "text/plain": [
              "<IPython.core.display.HTML object>"
            ]
          },
          "metadata": {
            "tags": []
          }
        },
        {
          "output_type": "display_data",
          "data": {
            "text/html": [
              "<span style=\"color:#4527A0\"><h1 style=\"font-size:18px\">Trial summary</h1></span>"
            ],
            "text/plain": [
              "<IPython.core.display.HTML object>"
            ]
          },
          "metadata": {
            "tags": []
          }
        },
        {
          "output_type": "display_data",
          "data": {
            "text/html": [
              "<span style=\"color:cyan\"> |-Trial ID: 68723f62c57c80090f06f9ff66030af1</span>"
            ],
            "text/plain": [
              "<IPython.core.display.HTML object>"
            ]
          },
          "metadata": {
            "tags": []
          }
        },
        {
          "output_type": "display_data",
          "data": {
            "text/html": [
              "<span style=\"color:cyan\"> |-Score: 166.7097625732422</span>"
            ],
            "text/plain": [
              "<IPython.core.display.HTML object>"
            ]
          },
          "metadata": {
            "tags": []
          }
        },
        {
          "output_type": "display_data",
          "data": {
            "text/html": [
              "<span style=\"color:cyan\"> |-Best step: 0</span>"
            ],
            "text/plain": [
              "<IPython.core.display.HTML object>"
            ]
          },
          "metadata": {
            "tags": []
          }
        },
        {
          "output_type": "display_data",
          "data": {
            "text/html": [
              "<span style=\"color:#7E57C2\"><h2 style=\"font-size:16px\">Hyperparameters:</h2></span>"
            ],
            "text/plain": [
              "<IPython.core.display.HTML object>"
            ]
          },
          "metadata": {
            "tags": []
          }
        },
        {
          "output_type": "display_data",
          "data": {
            "text/html": [
              "<span style=\"color:cyan\"> |-activation: sigmoid</span>"
            ],
            "text/plain": [
              "<IPython.core.display.HTML object>"
            ]
          },
          "metadata": {
            "tags": []
          }
        },
        {
          "output_type": "display_data",
          "data": {
            "text/html": [
              "<span style=\"color:blue\"> |-n_layers: 3</span>"
            ],
            "text/plain": [
              "<IPython.core.display.HTML object>"
            ]
          },
          "metadata": {
            "tags": []
          }
        },
        {
          "output_type": "display_data",
          "data": {
            "text/html": [
              "<span style=\"color:cyan\"> |-optimizer: SGD</span>"
            ],
            "text/plain": [
              "<IPython.core.display.HTML object>"
            ]
          },
          "metadata": {
            "tags": []
          }
        },
        {
          "output_type": "display_data",
          "data": {
            "text/html": [
              "<span style=\"color:blue\"> |-units_0: 576</span>"
            ],
            "text/plain": [
              "<IPython.core.display.HTML object>"
            ]
          },
          "metadata": {
            "tags": []
          }
        },
        {
          "output_type": "display_data",
          "data": {
            "text/html": [
              "<span style=\"color:cyan\"> |-units_1: 192</span>"
            ],
            "text/plain": [
              "<IPython.core.display.HTML object>"
            ]
          },
          "metadata": {
            "tags": []
          }
        },
        {
          "output_type": "display_data",
          "data": {
            "text/html": [
              "<span style=\"color:blue\"> |-units_2: 608</span>"
            ],
            "text/plain": [
              "<IPython.core.display.HTML object>"
            ]
          },
          "metadata": {
            "tags": []
          }
        },
        {
          "output_type": "display_data",
          "data": {
            "text/html": [
              "<span style=\"color:cyan\"> |-units_input: 224</span>"
            ],
            "text/plain": [
              "<IPython.core.display.HTML object>"
            ]
          },
          "metadata": {
            "tags": []
          }
        },
        {
          "output_type": "display_data",
          "data": {
            "text/html": [
              "<span style=\"color:#4527A0\"><h1 style=\"font-size:18px\">Trial summary</h1></span>"
            ],
            "text/plain": [
              "<IPython.core.display.HTML object>"
            ]
          },
          "metadata": {
            "tags": []
          }
        },
        {
          "output_type": "display_data",
          "data": {
            "text/html": [
              "<span style=\"color:cyan\"> |-Trial ID: 5b2c72c5f6dc1573a8c096e15e8918c8</span>"
            ],
            "text/plain": [
              "<IPython.core.display.HTML object>"
            ]
          },
          "metadata": {
            "tags": []
          }
        },
        {
          "output_type": "display_data",
          "data": {
            "text/html": [
              "<span style=\"color:cyan\"> |-Score: 196.6363983154297</span>"
            ],
            "text/plain": [
              "<IPython.core.display.HTML object>"
            ]
          },
          "metadata": {
            "tags": []
          }
        },
        {
          "output_type": "display_data",
          "data": {
            "text/html": [
              "<span style=\"color:cyan\"> |-Best step: 0</span>"
            ],
            "text/plain": [
              "<IPython.core.display.HTML object>"
            ]
          },
          "metadata": {
            "tags": []
          }
        },
        {
          "output_type": "display_data",
          "data": {
            "text/html": [
              "<span style=\"color:#7E57C2\"><h2 style=\"font-size:16px\">Hyperparameters:</h2></span>"
            ],
            "text/plain": [
              "<IPython.core.display.HTML object>"
            ]
          },
          "metadata": {
            "tags": []
          }
        },
        {
          "output_type": "display_data",
          "data": {
            "text/html": [
              "<span style=\"color:cyan\"> |-activation: selu</span>"
            ],
            "text/plain": [
              "<IPython.core.display.HTML object>"
            ]
          },
          "metadata": {
            "tags": []
          }
        },
        {
          "output_type": "display_data",
          "data": {
            "text/html": [
              "<span style=\"color:blue\"> |-n_layers: 2</span>"
            ],
            "text/plain": [
              "<IPython.core.display.HTML object>"
            ]
          },
          "metadata": {
            "tags": []
          }
        },
        {
          "output_type": "display_data",
          "data": {
            "text/html": [
              "<span style=\"color:cyan\"> |-optimizer: rmsprop</span>"
            ],
            "text/plain": [
              "<IPython.core.display.HTML object>"
            ]
          },
          "metadata": {
            "tags": []
          }
        },
        {
          "output_type": "display_data",
          "data": {
            "text/html": [
              "<span style=\"color:blue\"> |-units_0: 704</span>"
            ],
            "text/plain": [
              "<IPython.core.display.HTML object>"
            ]
          },
          "metadata": {
            "tags": []
          }
        },
        {
          "output_type": "display_data",
          "data": {
            "text/html": [
              "<span style=\"color:cyan\"> |-units_1: 384</span>"
            ],
            "text/plain": [
              "<IPython.core.display.HTML object>"
            ]
          },
          "metadata": {
            "tags": []
          }
        },
        {
          "output_type": "display_data",
          "data": {
            "text/html": [
              "<span style=\"color:blue\"> |-units_2: 768</span>"
            ],
            "text/plain": [
              "<IPython.core.display.HTML object>"
            ]
          },
          "metadata": {
            "tags": []
          }
        },
        {
          "output_type": "display_data",
          "data": {
            "text/html": [
              "<span style=\"color:cyan\"> |-units_input: 736</span>"
            ],
            "text/plain": [
              "<IPython.core.display.HTML object>"
            ]
          },
          "metadata": {
            "tags": []
          }
        },
        {
          "output_type": "stream",
          "text": [
            "\n",
            "\n",
            "\n",
            "\n",
            "\n",
            "\n",
            "\n",
            "HERE IS THE BEST MODEL\n",
            "\n",
            "\n",
            "\n",
            "Model: \"sequential\"\n",
            "_________________________________________________________________\n",
            "Layer (type)                 Output Shape              Param #   \n",
            "=================================================================\n",
            "dense (Dense)                (None, 1024)              373760    \n",
            "_________________________________________________________________\n",
            "dense_1 (Dense)              (None, 928)               951200    \n",
            "_________________________________________________________________\n",
            "dense_2 (Dense)              (None, 288)               267552    \n",
            "_________________________________________________________________\n",
            "dense_3 (Dense)              (None, 1)                 289       \n",
            "=================================================================\n",
            "Total params: 1,592,801\n",
            "Trainable params: 1,592,801\n",
            "Non-trainable params: 0\n",
            "_________________________________________________________________\n"
          ],
          "name": "stdout"
        }
      ]
    },
    {
      "cell_type": "code",
      "metadata": {
        "id": "OQMMaQ2k6uZ0",
        "outputId": "60f2b1e5-856e-403b-eca6-304f01b62412",
        "colab": {
          "base_uri": "https://localhost:8080/",
          "height": 1000
        }
      },
      "source": [
        "# примерно на 13 эпохе переобучение\n",
        "history = best_model.fit(x_train_main, y_train_main, epochs=100, batch_size=100, validation_data=(x_train_val, y_train_val))\n",
        "best_history = history.history\n",
        "print(\"[INFO] Training has been finished\")"
      ],
      "execution_count": 48,
      "outputs": [
        {
          "output_type": "stream",
          "text": [
            "Epoch 1/100\n",
            "21/21 [==============================] - 1s 44ms/step - loss: 469.1878 - mae: 15.8626 - val_loss: 587.4328 - val_mae: 17.6244\n",
            "Epoch 2/100\n",
            "21/21 [==============================] - 1s 39ms/step - loss: 234.5002 - mae: 11.3284 - val_loss: 494.2942 - val_mae: 16.0972\n",
            "Epoch 3/100\n",
            "21/21 [==============================] - 1s 40ms/step - loss: 135.9267 - mae: 8.0376 - val_loss: 477.3976 - val_mae: 15.7261\n",
            "Epoch 4/100\n",
            "21/21 [==============================] - 1s 39ms/step - loss: 93.1871 - mae: 6.2060 - val_loss: 440.3978 - val_mae: 15.1712\n",
            "Epoch 5/100\n",
            "21/21 [==============================] - 1s 42ms/step - loss: 76.7292 - mae: 5.3307 - val_loss: 429.5936 - val_mae: 15.1162\n",
            "Epoch 6/100\n",
            "21/21 [==============================] - 1s 37ms/step - loss: 68.0996 - mae: 4.8359 - val_loss: 465.4979 - val_mae: 15.3928\n",
            "Epoch 7/100\n",
            "21/21 [==============================] - 1s 37ms/step - loss: 64.5351 - mae: 4.6840 - val_loss: 433.2828 - val_mae: 15.1357\n",
            "Epoch 8/100\n",
            "21/21 [==============================] - 1s 39ms/step - loss: 59.7022 - mae: 4.3889 - val_loss: 434.5368 - val_mae: 15.0653\n",
            "Epoch 9/100\n",
            "21/21 [==============================] - 1s 42ms/step - loss: 58.4984 - mae: 4.3504 - val_loss: 415.7603 - val_mae: 14.9873\n",
            "Epoch 10/100\n",
            "21/21 [==============================] - 1s 42ms/step - loss: 60.7371 - mae: 4.4950 - val_loss: 429.7664 - val_mae: 15.1348\n",
            "Epoch 11/100\n",
            "21/21 [==============================] - 1s 46ms/step - loss: 57.1380 - mae: 4.3638 - val_loss: 417.8534 - val_mae: 14.9319\n",
            "Epoch 12/100\n",
            "21/21 [==============================] - 1s 47ms/step - loss: 53.4693 - mae: 4.1566 - val_loss: 414.4695 - val_mae: 14.8388\n",
            "Epoch 13/100\n",
            "21/21 [==============================] - 1s 54ms/step - loss: 52.4994 - mae: 4.0147 - val_loss: 431.4337 - val_mae: 15.0650\n",
            "Epoch 14/100\n",
            "21/21 [==============================] - 1s 50ms/step - loss: 51.7421 - mae: 3.9162 - val_loss: 396.6910 - val_mae: 14.7498\n",
            "Epoch 15/100\n",
            "21/21 [==============================] - 1s 46ms/step - loss: 50.4433 - mae: 3.9736 - val_loss: 436.2261 - val_mae: 15.1364\n",
            "Epoch 16/100\n",
            "21/21 [==============================] - 1s 44ms/step - loss: 50.9139 - mae: 4.0802 - val_loss: 416.2267 - val_mae: 14.8447\n",
            "Epoch 17/100\n",
            "21/21 [==============================] - 1s 43ms/step - loss: 49.9249 - mae: 4.0947 - val_loss: 418.8133 - val_mae: 14.9123\n",
            "Epoch 18/100\n",
            "21/21 [==============================] - 1s 50ms/step - loss: 51.2593 - mae: 4.1682 - val_loss: 391.5446 - val_mae: 14.7306\n",
            "Epoch 19/100\n",
            "21/21 [==============================] - 1s 53ms/step - loss: 52.5040 - mae: 4.3067 - val_loss: 419.3656 - val_mae: 14.9014\n",
            "Epoch 20/100\n",
            "21/21 [==============================] - 1s 44ms/step - loss: 50.6501 - mae: 4.1610 - val_loss: 407.3162 - val_mae: 14.8069\n",
            "Epoch 21/100\n",
            "21/21 [==============================] - 1s 39ms/step - loss: 47.8693 - mae: 4.0133 - val_loss: 417.9510 - val_mae: 14.8820\n",
            "Epoch 22/100\n",
            "21/21 [==============================] - 1s 42ms/step - loss: 47.3850 - mae: 3.8741 - val_loss: 409.9145 - val_mae: 14.6719\n",
            "Epoch 23/100\n",
            "21/21 [==============================] - 1s 39ms/step - loss: 45.6529 - mae: 3.6038 - val_loss: 429.1389 - val_mae: 15.0671\n",
            "Epoch 24/100\n",
            "21/21 [==============================] - 1s 42ms/step - loss: 44.4805 - mae: 3.5310 - val_loss: 408.4578 - val_mae: 14.6535\n",
            "Epoch 25/100\n",
            "21/21 [==============================] - 1s 40ms/step - loss: 46.6018 - mae: 3.6646 - val_loss: 420.5897 - val_mae: 14.8153\n",
            "Epoch 26/100\n",
            "21/21 [==============================] - 1s 42ms/step - loss: 45.4819 - mae: 3.5632 - val_loss: 413.3772 - val_mae: 14.8468\n",
            "Epoch 27/100\n",
            "21/21 [==============================] - 1s 39ms/step - loss: 46.7378 - mae: 3.7083 - val_loss: 448.8872 - val_mae: 15.2629\n",
            "Epoch 28/100\n",
            "21/21 [==============================] - 1s 40ms/step - loss: 47.8568 - mae: 3.9034 - val_loss: 430.5049 - val_mae: 14.9066\n",
            "Epoch 29/100\n",
            "21/21 [==============================] - 1s 39ms/step - loss: 47.2171 - mae: 3.9281 - val_loss: 404.6339 - val_mae: 14.7003\n",
            "Epoch 30/100\n",
            "21/21 [==============================] - 1s 44ms/step - loss: 47.6057 - mae: 3.9173 - val_loss: 411.8278 - val_mae: 14.7598\n",
            "Epoch 31/100\n",
            "21/21 [==============================] - 1s 39ms/step - loss: 46.9481 - mae: 3.7560 - val_loss: 434.9828 - val_mae: 15.1109\n",
            "Epoch 32/100\n",
            "21/21 [==============================] - 1s 39ms/step - loss: 49.6142 - mae: 3.8921 - val_loss: 399.3170 - val_mae: 14.7594\n",
            "Epoch 33/100\n",
            "21/21 [==============================] - 1s 44ms/step - loss: 47.0184 - mae: 3.8833 - val_loss: 414.4467 - val_mae: 14.6658\n",
            "Epoch 34/100\n",
            "21/21 [==============================] - 1s 37ms/step - loss: 45.7231 - mae: 3.7831 - val_loss: 405.2197 - val_mae: 14.8096\n",
            "Epoch 35/100\n",
            "21/21 [==============================] - 1s 38ms/step - loss: 46.1730 - mae: 3.8504 - val_loss: 404.3963 - val_mae: 14.5978\n",
            "Epoch 36/100\n",
            "21/21 [==============================] - 1s 37ms/step - loss: 46.0621 - mae: 3.7682 - val_loss: 419.2229 - val_mae: 14.8360\n",
            "Epoch 37/100\n",
            "21/21 [==============================] - 1s 37ms/step - loss: 48.0765 - mae: 4.0343 - val_loss: 434.5470 - val_mae: 14.9349\n",
            "Epoch 38/100\n",
            "21/21 [==============================] - 1s 37ms/step - loss: 48.3315 - mae: 4.0628 - val_loss: 416.4338 - val_mae: 14.8246\n",
            "Epoch 39/100\n",
            "21/21 [==============================] - 1s 36ms/step - loss: 47.8010 - mae: 3.9015 - val_loss: 413.0000 - val_mae: 14.5469\n",
            "Epoch 40/100\n",
            "21/21 [==============================] - 1s 38ms/step - loss: 47.8872 - mae: 3.8822 - val_loss: 426.2424 - val_mae: 15.0255\n",
            "Epoch 41/100\n",
            "21/21 [==============================] - 1s 36ms/step - loss: 45.7327 - mae: 3.7012 - val_loss: 421.8351 - val_mae: 14.6597\n",
            "Epoch 42/100\n",
            "21/21 [==============================] - 1s 36ms/step - loss: 43.9798 - mae: 3.5203 - val_loss: 414.0994 - val_mae: 14.7306\n",
            "Epoch 43/100\n",
            "21/21 [==============================] - 1s 36ms/step - loss: 42.4706 - mae: 3.4143 - val_loss: 433.3703 - val_mae: 15.1493\n",
            "Epoch 44/100\n",
            "21/21 [==============================] - 1s 38ms/step - loss: 45.7793 - mae: 3.5751 - val_loss: 400.9788 - val_mae: 14.9327\n",
            "Epoch 45/100\n",
            "21/21 [==============================] - 1s 38ms/step - loss: 43.9047 - mae: 3.4977 - val_loss: 448.1635 - val_mae: 15.2926\n",
            "Epoch 46/100\n",
            "21/21 [==============================] - 1s 36ms/step - loss: 49.0927 - mae: 4.1574 - val_loss: 421.4203 - val_mae: 14.9683\n",
            "Epoch 47/100\n",
            "21/21 [==============================] - 1s 37ms/step - loss: 48.9488 - mae: 4.0415 - val_loss: 401.5333 - val_mae: 14.6674\n",
            "Epoch 48/100\n",
            "21/21 [==============================] - 1s 38ms/step - loss: 47.2699 - mae: 3.8788 - val_loss: 419.9361 - val_mae: 14.9399\n",
            "Epoch 49/100\n",
            "21/21 [==============================] - 1s 39ms/step - loss: 49.8549 - mae: 4.0111 - val_loss: 400.0818 - val_mae: 14.4982\n",
            "Epoch 50/100\n",
            "21/21 [==============================] - 1s 37ms/step - loss: 46.4320 - mae: 3.7390 - val_loss: 422.1824 - val_mae: 14.7146\n",
            "Epoch 51/100\n",
            "21/21 [==============================] - 1s 38ms/step - loss: 45.4881 - mae: 3.6230 - val_loss: 405.1014 - val_mae: 14.6214\n",
            "Epoch 52/100\n",
            "21/21 [==============================] - 1s 36ms/step - loss: 44.5220 - mae: 3.5195 - val_loss: 413.9779 - val_mae: 14.7214\n",
            "Epoch 53/100\n",
            "21/21 [==============================] - 1s 37ms/step - loss: 45.1737 - mae: 3.5470 - val_loss: 417.9650 - val_mae: 14.9432\n",
            "Epoch 54/100\n",
            "21/21 [==============================] - 1s 35ms/step - loss: 45.9484 - mae: 3.7260 - val_loss: 421.8149 - val_mae: 14.7837\n",
            "Epoch 55/100\n",
            "21/21 [==============================] - 1s 37ms/step - loss: 46.8436 - mae: 3.7171 - val_loss: 408.9933 - val_mae: 14.7029\n",
            "Epoch 56/100\n",
            "21/21 [==============================] - 1s 36ms/step - loss: 43.2904 - mae: 3.5205 - val_loss: 405.7978 - val_mae: 14.5647\n",
            "Epoch 57/100\n",
            "21/21 [==============================] - 1s 35ms/step - loss: 43.0930 - mae: 3.4114 - val_loss: 412.8743 - val_mae: 14.6543\n",
            "Epoch 58/100\n",
            "21/21 [==============================] - 1s 35ms/step - loss: 43.4642 - mae: 3.3776 - val_loss: 405.6793 - val_mae: 14.7425\n",
            "Epoch 59/100\n",
            "21/21 [==============================] - 1s 36ms/step - loss: 42.4198 - mae: 3.3047 - val_loss: 417.8869 - val_mae: 14.6907\n",
            "Epoch 60/100\n",
            "21/21 [==============================] - 1s 37ms/step - loss: 41.4961 - mae: 3.3112 - val_loss: 423.6458 - val_mae: 14.9701\n",
            "Epoch 61/100\n",
            "21/21 [==============================] - 1s 38ms/step - loss: 42.5966 - mae: 3.4139 - val_loss: 400.3101 - val_mae: 14.5881\n",
            "Epoch 62/100\n",
            "21/21 [==============================] - 1s 36ms/step - loss: 41.8101 - mae: 3.2611 - val_loss: 410.0316 - val_mae: 14.7198\n",
            "Epoch 63/100\n",
            "21/21 [==============================] - 1s 37ms/step - loss: 44.9604 - mae: 3.6582 - val_loss: 406.5038 - val_mae: 14.6009\n",
            "Epoch 64/100\n",
            "21/21 [==============================] - 1s 37ms/step - loss: 42.9411 - mae: 3.4912 - val_loss: 412.0982 - val_mae: 14.5906\n",
            "Epoch 65/100\n",
            "21/21 [==============================] - 1s 37ms/step - loss: 48.0949 - mae: 4.0044 - val_loss: 446.8658 - val_mae: 15.1449\n",
            "Epoch 66/100\n",
            "21/21 [==============================] - 1s 37ms/step - loss: 55.2841 - mae: 4.6734 - val_loss: 414.4632 - val_mae: 14.6006\n",
            "Epoch 67/100\n",
            "21/21 [==============================] - 1s 35ms/step - loss: 50.1198 - mae: 4.2393 - val_loss: 407.1719 - val_mae: 14.7856\n",
            "Epoch 68/100\n",
            "21/21 [==============================] - 1s 38ms/step - loss: 46.9575 - mae: 3.9026 - val_loss: 442.2156 - val_mae: 15.2040\n",
            "Epoch 69/100\n",
            "21/21 [==============================] - 1s 36ms/step - loss: 51.8243 - mae: 4.2907 - val_loss: 406.7729 - val_mae: 14.8368\n",
            "Epoch 70/100\n",
            "21/21 [==============================] - 1s 37ms/step - loss: 50.7518 - mae: 4.1389 - val_loss: 411.3137 - val_mae: 14.7049\n",
            "Epoch 71/100\n",
            "21/21 [==============================] - 1s 37ms/step - loss: 48.9198 - mae: 4.1632 - val_loss: 408.1075 - val_mae: 14.5446\n",
            "Epoch 72/100\n",
            "21/21 [==============================] - 1s 37ms/step - loss: 51.5605 - mae: 4.2740 - val_loss: 434.6456 - val_mae: 14.7330\n",
            "Epoch 73/100\n",
            "21/21 [==============================] - 1s 37ms/step - loss: 50.6905 - mae: 4.3459 - val_loss: 420.8364 - val_mae: 14.7792\n",
            "Epoch 74/100\n",
            "21/21 [==============================] - 1s 36ms/step - loss: 48.5978 - mae: 4.0959 - val_loss: 407.3810 - val_mae: 14.7110\n",
            "Epoch 75/100\n",
            "21/21 [==============================] - 1s 37ms/step - loss: 47.9053 - mae: 3.9388 - val_loss: 437.8711 - val_mae: 15.1719\n",
            "Epoch 76/100\n",
            "21/21 [==============================] - 1s 37ms/step - loss: 50.5325 - mae: 4.2818 - val_loss: 452.5774 - val_mae: 15.5341\n",
            "Epoch 77/100\n",
            "21/21 [==============================] - 1s 35ms/step - loss: 55.5509 - mae: 4.5130 - val_loss: 406.4036 - val_mae: 14.8209\n",
            "Epoch 78/100\n",
            "21/21 [==============================] - 1s 36ms/step - loss: 49.8623 - mae: 4.1579 - val_loss: 430.9036 - val_mae: 14.8923\n",
            "Epoch 79/100\n",
            "21/21 [==============================] - 1s 37ms/step - loss: 45.0487 - mae: 3.7613 - val_loss: 417.8718 - val_mae: 14.7805\n",
            "Epoch 80/100\n",
            "21/21 [==============================] - 1s 35ms/step - loss: 47.1794 - mae: 3.7265 - val_loss: 400.4985 - val_mae: 14.6636\n",
            "Epoch 81/100\n",
            "21/21 [==============================] - 1s 37ms/step - loss: 46.7697 - mae: 3.8174 - val_loss: 402.6288 - val_mae: 14.7442\n",
            "Epoch 82/100\n",
            "21/21 [==============================] - 1s 36ms/step - loss: 49.8540 - mae: 4.0546 - val_loss: 422.3105 - val_mae: 14.6571\n",
            "Epoch 83/100\n",
            "21/21 [==============================] - 1s 37ms/step - loss: 45.5076 - mae: 3.7832 - val_loss: 430.4750 - val_mae: 14.7270\n",
            "Epoch 84/100\n",
            "21/21 [==============================] - 1s 36ms/step - loss: 50.1898 - mae: 4.0537 - val_loss: 454.5007 - val_mae: 14.9775\n",
            "Epoch 85/100\n",
            "21/21 [==============================] - 1s 39ms/step - loss: 46.6643 - mae: 3.9316 - val_loss: 404.4210 - val_mae: 14.3987\n",
            "Epoch 86/100\n",
            "21/21 [==============================] - 1s 37ms/step - loss: 47.0700 - mae: 3.9029 - val_loss: 442.7332 - val_mae: 15.0509\n",
            "Epoch 87/100\n",
            "21/21 [==============================] - 1s 40ms/step - loss: 46.3457 - mae: 3.7858 - val_loss: 432.7458 - val_mae: 14.9649\n",
            "Epoch 88/100\n",
            "21/21 [==============================] - 1s 43ms/step - loss: 48.0741 - mae: 3.9615 - val_loss: 403.8235 - val_mae: 14.5535\n",
            "Epoch 89/100\n",
            "21/21 [==============================] - 1s 40ms/step - loss: 48.8935 - mae: 4.1330 - val_loss: 407.9464 - val_mae: 14.7154\n",
            "Epoch 90/100\n",
            "21/21 [==============================] - 1s 42ms/step - loss: 50.3434 - mae: 4.3573 - val_loss: 438.1056 - val_mae: 14.8675\n",
            "Epoch 91/100\n",
            "21/21 [==============================] - 1s 39ms/step - loss: 51.9533 - mae: 4.4868 - val_loss: 415.8996 - val_mae: 14.6219\n",
            "Epoch 92/100\n",
            "21/21 [==============================] - 1s 40ms/step - loss: 49.2714 - mae: 4.1882 - val_loss: 433.8791 - val_mae: 14.7246\n",
            "Epoch 93/100\n",
            "21/21 [==============================] - 1s 38ms/step - loss: 46.5026 - mae: 3.8159 - val_loss: 414.0647 - val_mae: 14.5934\n",
            "Epoch 94/100\n",
            "21/21 [==============================] - 1s 37ms/step - loss: 43.7866 - mae: 3.6549 - val_loss: 438.4510 - val_mae: 14.9557\n",
            "Epoch 95/100\n",
            "21/21 [==============================] - 1s 37ms/step - loss: 43.8695 - mae: 3.6173 - val_loss: 398.2416 - val_mae: 14.5192\n",
            "Epoch 96/100\n",
            "21/21 [==============================] - 1s 37ms/step - loss: 48.5394 - mae: 3.9813 - val_loss: 448.7361 - val_mae: 15.0950\n",
            "Epoch 97/100\n",
            "21/21 [==============================] - 1s 38ms/step - loss: 47.5631 - mae: 3.9452 - val_loss: 423.9217 - val_mae: 14.5709\n",
            "Epoch 98/100\n",
            "21/21 [==============================] - 1s 36ms/step - loss: 48.1060 - mae: 4.0307 - val_loss: 404.6768 - val_mae: 14.7389\n",
            "Epoch 99/100\n",
            "21/21 [==============================] - 1s 39ms/step - loss: 49.2994 - mae: 4.0791 - val_loss: 431.5607 - val_mae: 14.7843\n",
            "Epoch 100/100\n",
            "21/21 [==============================] - 1s 40ms/step - loss: 44.4690 - mae: 3.6659 - val_loss: 424.3358 - val_mae: 14.7241\n",
            "[INFO] Training has been finished\n"
          ],
          "name": "stdout"
        }
      ]
    },
    {
      "cell_type": "code",
      "metadata": {
        "id": "7mIDWHMc6wz9",
        "outputId": "12f7aba5-ec30-4476-8981-1ece238bbec3",
        "colab": {
          "base_uri": "https://localhost:8080/",
          "height": 573
        }
      },
      "source": [
        "# рисуем все графики\n",
        "draw_graph(best_history)"
      ],
      "execution_count": 49,
      "outputs": [
        {
          "output_type": "display_data",
          "data": {
            "image/png": "[encoded data removed]",
            "text/plain": [
              "<Figure size 432x288 with 1 Axes>"
            ]
          },
          "metadata": {
            "tags": [],
            "needs_background": "light"
          }
        },
        {
          "output_type": "display_data",
          "data": {
            "image/png": "[encoded data removed]",
            "text/plain": [
              "<Figure size 432x288 with 1 Axes>"
            ]
          },
          "metadata": {
            "tags": [],
            "needs_background": "light"
          }
        }
      ]
    },
    {
      "cell_type": "code",
      "metadata": {
        "id": "2-UlFjW06y6d",
        "outputId": "45838e29-70d5-46f1-9eb6-11393c53712f",
        "colab": {
          "base_uri": "https://localhost:8080/",
          "height": 51
        }
      },
      "source": [
        "best_model.evaluate(x_test, y_test, verbose=1)"
      ],
      "execution_count": 50,
      "outputs": [
        {
          "output_type": "stream",
          "text": [
            "40/40 [==============================] - 0s 8ms/step - loss: 647.4559 - mae: 16.4585\n"
          ],
          "name": "stdout"
        },
        {
          "output_type": "execute_result",
          "data": {
            "text/plain": [
              "[647.4559326171875, 16.45853042602539]"
            ]
          },
          "metadata": {
            "tags": []
          },
          "execution_count": 50
        }
      ]
    }
  ]
}