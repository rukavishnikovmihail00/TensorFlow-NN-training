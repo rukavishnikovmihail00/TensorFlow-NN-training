{
  "nbformat": 4,
  "nbformat_minor": 0,
  "metadata": {
    "colab": {
      "name": "LR2.ipynb",
      "provenance": [],
      "collapsed_sections": []
    },
    "kernelspec": {
      "name": "python3",
      "display_name": "Python 3"
    },
    "accelerator": "TPU"
  },
  "cells": [
    {
      "cell_type": "code",
      "metadata": {
        "id": "DKVLQZShPKAb",
        "outputId": "19d457bb-f709-4c33-fa91-8c080bde95ae",
        "colab": {
          "base_uri": "https://localhost:8080/",
          "height": 54
        }
      },
      "source": [
        "import os\n",
        "import cv2\n",
        "from PIL import Image\n",
        "import numpy as np\n",
        "from google.colab import drive\n",
        "import keras\n",
        "from keras.utils import np_utils\n",
        "from keras.models import Sequential\n",
        "from keras.layers import Conv2D,MaxPooling2D,Dense,Flatten,Dropout\n",
        "drive.mount(\"/content/drive\")\n",
        "from matplotlib import pyplot as plt"
      ],
      "execution_count": 12,
      "outputs": [
        {
          "output_type": "stream",
          "text": [
            "Drive already mounted at /content/drive; to attempt to forcibly remount, call drive.mount(\"/content/drive\", force_remount=True).\n"
          ],
          "name": "stdout"
        }
      ]
    },
    {
      "cell_type": "code",
      "metadata": {
        "id": "on65I01_PRXI"
      },
      "source": [
        "#infected = os.listdir(\"/content/drive/My Drive/ИАД/LR2/DATA/Parasitized/Parasitized.zip (Unzipped Files)/Parasitized\")\n",
        "#uninfected = os.listdir(\"/content/drive/My Drive/ИАД/LR2/DATA/Uninfected/Uninfected.zip (Unzipped Files)/Uninfected\")\n",
        "labels_path = \"/content/drive/My Drive/ИАД/LR2/Temp/labels.npy\"\n",
        "cells_path = \"/content/drive/My Drive/ИАД/LR2/Temp/Cells.npy\""
      ],
      "execution_count": 13,
      "outputs": []
    },
    {
      "cell_type": "code",
      "metadata": {
        "id": "hwld3F6MPfya"
      },
      "source": [
        "data = [] # общий список картинок\n",
        "labels = [] # метки\n",
        "\n",
        "count = 0\n",
        "\n",
        "for i in infected:\n",
        "  count += 1\n",
        "  image = cv2.imread(\"/content/drive/My Drive/ИАД/LR2/DATA/Parasitized/Parasitized.zip (Unzipped Files)/Parasitized/\"+i)\n",
        "  image_from_array = Image.fromarray(image, 'RGB')\n",
        "  size_image = image_from_array.resize((50, 50))\n",
        "  data.append(np.array(size_image))\n",
        "  labels.append(1)\n",
        "  print(count)"
      ],
      "execution_count": null,
      "outputs": []
    },
    {
      "cell_type": "code",
      "metadata": {
        "id": "NNuQCUMox5C-"
      },
      "source": [
        "count = 0\n",
        "labels1 = []\n",
        "for j in uninfected:\n",
        "  count += 1\n",
        "  image=cv2.imread(\"/content/drive/My Drive/ИАД/LR2/DATA/Uninfected/Uninfected.zip (Unzipped Files)/Uninfected/\"+j)\n",
        "  image_from_array = Image.fromarray(image, 'RGB')\n",
        "  size_image = image_from_array.resize((50, 50))\n",
        "  data.append(np.array(size_image))\n",
        "  labels1.append(0)\n",
        "  print(count)"
      ],
      "execution_count": null,
      "outputs": []
    },
    {
      "cell_type": "code",
      "metadata": {
        "id": "yeL1klIsGLvV",
        "outputId": "d8f01650-2733-41d3-dbd5-9ecbe43f9c6d",
        "colab": {
          "base_uri": "https://localhost:8080/",
          "height": 51
        }
      },
      "source": [
        "test = []\n",
        "test = np.stack((labels, labels1))\n",
        "print(test)"
      ],
      "execution_count": null,
      "outputs": [
        {
          "output_type": "stream",
          "text": [
            "[[1 1 1 ... 1 1 1]\n",
            " [0 0 0 ... 0 0 0]]\n"
          ],
          "name": "stdout"
        }
      ]
    },
    {
      "cell_type": "code",
      "metadata": {
        "id": "QJ3sGZ2sR6Te"
      },
      "source": [
        "Cells=np.array(data) \n",
        "labels=np.array(labels)\n",
        "np.save(\"/content/drive/My Drive/ИАД/LR2/Temp/labels1.npy\", labels1)\n",
        "np.save(cells_path ,Cells)\n",
        "np.save(labels_path ,labels)"
      ],
      "execution_count": null,
      "outputs": []
    },
    {
      "cell_type": "markdown",
      "metadata": {
        "id": "UoAIFtgngXMw"
      },
      "source": [
        "Начинать тут"
      ]
    },
    {
      "cell_type": "code",
      "metadata": {
        "id": "jD1BXQ-WhrNL"
      },
      "source": [
        "Cells=np.load(cells_path)\n",
        "labels=np.load(\"/content/drive/My Drive/ИАД/LR2/Temp/labels_final.npy\")\n",
        "\n"
      ],
      "execution_count": 14,
      "outputs": []
    },
    {
      "cell_type": "code",
      "metadata": {
        "id": "7k7FLSiFdfuk"
      },
      "source": [
        "s=np.arange(Cells.shape[0])\n",
        "np.random.shuffle(s)\n",
        "Cells=Cells[s]\n",
        "labels=labels[s]"
      ],
      "execution_count": 15,
      "outputs": []
    },
    {
      "cell_type": "code",
      "metadata": {
        "id": "apPts-_bgdDl",
        "outputId": "f5ba63a4-d8b9-478b-ac0c-01bb34b2d4df",
        "colab": {
          "base_uri": "https://localhost:8080/",
          "height": 51
        }
      },
      "source": [
        "num_classes=len(np.unique(labels))\n",
        "len_data=len(Cells)\n",
        "print(num_classes)\n",
        "print(len_data)"
      ],
      "execution_count": 16,
      "outputs": [
        {
          "output_type": "stream",
          "text": [
            "2\n",
            "27560\n"
          ],
          "name": "stdout"
        }
      ]
    },
    {
      "cell_type": "code",
      "metadata": {
        "id": "_p5fQtM5gsLu"
      },
      "source": [
        "(x_train,x_test)=Cells[(int)(0.2*len_data):],Cells[:(int)(0.2*len_data)]\n",
        "x_train = x_train.astype('float32')/255 # As we are working on image data we are normalizing data by divinding 255.\n",
        "x_test = x_test.astype('float32')/255\n",
        "train_len=len(x_train)\n",
        "test_len=len(x_test)\n",
        "(y_train,y_test)=labels[(int)(0.2*len_data):],labels[:(int)(0.2*len_data)]"
      ],
      "execution_count": 17,
      "outputs": []
    },
    {
      "cell_type": "code",
      "metadata": {
        "id": "7mKhDqhrhG41",
        "outputId": "c4f90d28-edc1-4ffe-c030-bc9a676fd9e1",
        "colab": {
          "base_uri": "https://localhost:8080/",
          "height": 51
        }
      },
      "source": [
        "print(train_len)\n",
        "print(test_len)"
      ],
      "execution_count": 18,
      "outputs": [
        {
          "output_type": "stream",
          "text": [
            "22048\n",
            "5512\n"
          ],
          "name": "stdout"
        }
      ]
    },
    {
      "cell_type": "markdown",
      "metadata": {
        "id": "ljFVUwraFyY9"
      },
      "source": [
        "One hot encoding"
      ]
    },
    {
      "cell_type": "code",
      "metadata": {
        "id": "jKjKz5VVhIEy"
      },
      "source": [
        "y_train=keras.utils.to_categorical(y_train,num_classes)\n",
        "y_test=keras.utils.to_categorical(y_test,num_classes)"
      ],
      "execution_count": 19,
      "outputs": []
    },
    {
      "cell_type": "code",
      "metadata": {
        "id": "4wZfodkZhec5",
        "outputId": "05647904-8c73-45be-e9d8-4b94c8b7a396",
        "colab": {
          "base_uri": "https://localhost:8080/",
          "height": 527
        }
      },
      "source": [
        "model=Sequential()\n",
        "model.add(Conv2D(filters=16,kernel_size=2,padding=\"same\",activation=\"relu\",input_shape=(50,50,3)))\n",
        "model.add(MaxPooling2D(pool_size=2))\n",
        "model.add(Conv2D(filters=32,kernel_size=2,padding=\"same\",activation=\"relu\"))\n",
        "model.add(MaxPooling2D(pool_size=2))\n",
        "model.add(Conv2D(filters=64,kernel_size=2,padding=\"same\",activation=\"relu\"))\n",
        "model.add(MaxPooling2D(pool_size=2))\n",
        "model.add(Dropout(0.2))\n",
        "model.add(Flatten())\n",
        "model.add(Dense(500,activation=\"relu\"))\n",
        "model.add(Dropout(0.2))\n",
        "model.add(Dense(2,activation=\"softmax\"))#2 represent output layer neurons \n",
        "model.summary()"
      ],
      "execution_count": 20,
      "outputs": [
        {
          "output_type": "stream",
          "text": [
            "Model: \"sequential_1\"\n",
            "_________________________________________________________________\n",
            "Layer (type)                 Output Shape              Param #   \n",
            "=================================================================\n",
            "conv2d_3 (Conv2D)            (None, 50, 50, 16)        208       \n",
            "_________________________________________________________________\n",
            "max_pooling2d_3 (MaxPooling2 (None, 25, 25, 16)        0         \n",
            "_________________________________________________________________\n",
            "conv2d_4 (Conv2D)            (None, 25, 25, 32)        2080      \n",
            "_________________________________________________________________\n",
            "max_pooling2d_4 (MaxPooling2 (None, 12, 12, 32)        0         \n",
            "_________________________________________________________________\n",
            "conv2d_5 (Conv2D)            (None, 12, 12, 64)        8256      \n",
            "_________________________________________________________________\n",
            "max_pooling2d_5 (MaxPooling2 (None, 6, 6, 64)          0         \n",
            "_________________________________________________________________\n",
            "dropout_2 (Dropout)          (None, 6, 6, 64)          0         \n",
            "_________________________________________________________________\n",
            "flatten_1 (Flatten)          (None, 2304)              0         \n",
            "_________________________________________________________________\n",
            "dense_2 (Dense)              (None, 500)               1152500   \n",
            "_________________________________________________________________\n",
            "dropout_3 (Dropout)          (None, 500)               0         \n",
            "_________________________________________________________________\n",
            "dense_3 (Dense)              (None, 2)                 1002      \n",
            "=================================================================\n",
            "Total params: 1,164,046\n",
            "Trainable params: 1,164,046\n",
            "Non-trainable params: 0\n",
            "_________________________________________________________________\n"
          ],
          "name": "stdout"
        }
      ]
    },
    {
      "cell_type": "code",
      "metadata": {
        "id": "vjaB3gU7hjoe",
        "outputId": "37624827-863f-4872-993a-119c3897ae35",
        "colab": {
          "base_uri": "https://localhost:8080/",
          "height": 697
        }
      },
      "source": [
        "model.compile(loss='categorical_crossentropy', optimizer='adam', metrics=['accuracy'])\n",
        "history = model.fit(x_train,y_train,batch_size=50,epochs=20,verbose=1)"
      ],
      "execution_count": 21,
      "outputs": [
        {
          "output_type": "stream",
          "text": [
            "Epoch 1/20\n",
            "441/441 [==============================] - 40s 90ms/step - loss: 0.3662 - accuracy: 0.8243\n",
            "Epoch 2/20\n",
            "441/441 [==============================] - 40s 90ms/step - loss: 0.1623 - accuracy: 0.9478\n",
            "Epoch 3/20\n",
            "441/441 [==============================] - 40s 90ms/step - loss: 0.1413 - accuracy: 0.9545\n",
            "Epoch 4/20\n",
            "441/441 [==============================] - 40s 91ms/step - loss: 0.1299 - accuracy: 0.9580\n",
            "Epoch 5/20\n",
            "441/441 [==============================] - 40s 91ms/step - loss: 0.1223 - accuracy: 0.9595\n",
            "Epoch 6/20\n",
            "441/441 [==============================] - 40s 91ms/step - loss: 0.1147 - accuracy: 0.9616\n",
            "Epoch 7/20\n",
            "441/441 [==============================] - 41s 92ms/step - loss: 0.1073 - accuracy: 0.9631\n",
            "Epoch 8/20\n",
            "441/441 [==============================] - 40s 91ms/step - loss: 0.1020 - accuracy: 0.9634\n",
            "Epoch 9/20\n",
            "441/441 [==============================] - 41s 92ms/step - loss: 0.0960 - accuracy: 0.9663\n",
            "Epoch 10/20\n",
            "441/441 [==============================] - 40s 91ms/step - loss: 0.0893 - accuracy: 0.9688\n",
            "Epoch 11/20\n",
            "441/441 [==============================] - 41s 92ms/step - loss: 0.0826 - accuracy: 0.9710\n",
            "Epoch 12/20\n",
            "441/441 [==============================] - 40s 92ms/step - loss: 0.0774 - accuracy: 0.9730\n",
            "Epoch 13/20\n",
            "441/441 [==============================] - 40s 92ms/step - loss: 0.0719 - accuracy: 0.9745\n",
            "Epoch 14/20\n",
            "441/441 [==============================] - 44s 100ms/step - loss: 0.0632 - accuracy: 0.9774\n",
            "Epoch 15/20\n",
            "441/441 [==============================] - 40s 92ms/step - loss: 0.0575 - accuracy: 0.9797\n",
            "Epoch 16/20\n",
            "441/441 [==============================] - 40s 91ms/step - loss: 0.0526 - accuracy: 0.9818\n",
            "Epoch 17/20\n",
            "441/441 [==============================] - 40s 91ms/step - loss: 0.0514 - accuracy: 0.9810\n",
            "Epoch 18/20\n",
            "441/441 [==============================] - 40s 91ms/step - loss: 0.0466 - accuracy: 0.9843\n",
            "Epoch 19/20\n",
            "441/441 [==============================] - 40s 92ms/step - loss: 0.0372 - accuracy: 0.9868\n",
            "Epoch 20/20\n",
            "441/441 [==============================] - 40s 91ms/step - loss: 0.0352 - accuracy: 0.9878\n"
          ],
          "name": "stdout"
        }
      ]
    },
    {
      "cell_type": "code",
      "metadata": {
        "id": "x_wBN6lVkyyn",
        "outputId": "f2695695-593e-431b-8872-b5870b66eef1",
        "colab": {
          "base_uri": "https://localhost:8080/",
          "height": 68
        }
      },
      "source": [
        "accuracy = model.evaluate(x_test, y_test, verbose=1)\n",
        "print('\\n', 'Test_Accuracy:-', accuracy[1])"
      ],
      "execution_count": 22,
      "outputs": [
        {
          "output_type": "stream",
          "text": [
            "173/173 [==============================] - 4s 22ms/step - loss: 0.1919 - accuracy: 0.9541\n",
            "\n",
            " Test_Accuracy:- 0.9541001319885254\n"
          ],
          "name": "stdout"
        }
      ]
    },
    {
      "cell_type": "code",
      "metadata": {
        "id": "Jeiks0tFxqBa",
        "outputId": "7594604f-98fe-4a1d-83d4-2522c98172c1",
        "colab": {
          "base_uri": "https://localhost:8080/",
          "height": 295
        }
      },
      "source": [
        "def draw_graph(history):\n",
        "    loss_values = history[\"loss\"]\n",
        "    accuracy_values = history[\"accuracy\"]\n",
        "\n",
        "    epochs = range(1, len(history['loss']) + 1)\n",
        "\n",
        "    plt.plot(epochs, loss_values, 'b', label='Training loss')\n",
        "    plt.plot(epochs, accuracy_values, 'r', label='Accuracy')\n",
        "    plt.title('Training loss and accuracy')\n",
        "    plt.xlabel('Epochs')\n",
        "    plt.ylabel('Value')\n",
        "    plt.legend()\n",
        "    plt.show()\n",
        "\n",
        "draw_graph(history.history)\n"
      ],
      "execution_count": 23,
      "outputs": [
        {
          "output_type": "display_data",
          "data": {
            "image/png": "[encoded data removed]",
            "text/plain": [
              "<Figure size 432x288 with 1 Axes>"
            ]
          },
          "metadata": {
            "tags": [],
            "needs_background": "light"
          }
        }
      ]
    },
    {
      "cell_type": "code",
      "metadata": {
        "id": "hMeZ9hlek8cc"
      },
      "source": [
        "from keras.models import load_model\n",
        "model.save('/content/drive/My Drive/ИАД/LR2/cells.h5')"
      ],
      "execution_count": 24,
      "outputs": []
    },
    {
      "cell_type": "code",
      "metadata": {
        "id": "MKz0ErO6lRNa",
        "outputId": "4fd356d7-91e9-49ed-918c-cf443e2aea6e",
        "colab": {
          "base_uri": "https://localhost:8080/",
          "height": 318
        }
      },
      "source": [
        "import os\n",
        "\n",
        "def convert_to_array(img):\n",
        "    im = cv2.imread(img)\n",
        "    img_ = Image.fromarray(im, 'RGB')\n",
        "    image = img_.resize((50, 50))\n",
        "    return np.array(image)\n",
        "\n",
        "def get_cell_name(label):\n",
        "    if label==1:\n",
        "        return \"Paracitized\"\n",
        "    if label==0:\n",
        "        return \"Uninfected\"\n",
        "\n",
        "model = load_model('/content/drive/My Drive/ИАД/LR2/cells.h5')\n",
        "\n",
        "PICTURE_NUMBER = 100\n",
        "img = plt.imshow(x_test[PICTURE_NUMBER], cmap=plt.get_cmap('gray'))\n",
        "img = img.get_figure()\n",
        "img.savefig(\"/content/drive/My Drive/ИАД/test1.png\")\n",
        "PATH = \"/content/drive/My Drive/ИАД/test1.png\"\n",
        "\n",
        "ar=convert_to_array(PATH)\n",
        "os.remove(PATH)\n",
        "ar=ar/255\n",
        "label=1\n",
        "a=[]\n",
        "a.append(ar)\n",
        "a=np.array(a)\n",
        "score=model.predict(a,verbose=1)\n",
        "label_index=np.argmax(score)\n",
        "acc=np.max(score)\n",
        "Cell=get_cell_name(label_index)\n",
        "print(Cell,\"\\nAccuracy =  \"+ str(acc))"
      ],
      "execution_count": 63,
      "outputs": [
        {
          "output_type": "stream",
          "text": [
            "1/1 [==============================] - 0s 2ms/step\n",
            "Paracitized \n",
            "Accuracy =  1.0\n"
          ],
          "name": "stdout"
        },
        {
          "output_type": "display_data",
          "data": {
            "image/png": "[encoded data removed]",
            "text/plain": [
              "<Figure size 432x288 with 1 Axes>"
            ]
          },
          "metadata": {
            "tags": [],
            "needs_background": "light"
          }
        }
      ]
    }
  ]
}